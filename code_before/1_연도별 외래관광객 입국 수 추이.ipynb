{
 "cells": [
  {
   "cell_type": "markdown",
   "id": "9a6fa679",
   "metadata": {},
   "source": [
    "# 1_연도별 외래관광객 입국 수 추이"
   ]
  },
  {
   "cell_type": "markdown",
   "id": "cb1934f4",
   "metadata": {},
   "source": [
    "### 순서\n",
    "1. 데이터 불러오기\n",
    "    - excel파일을 데이터프레임 형식으로 불러오기\n",
    "    \n",
    "    \n",
    "2. 데이터 정리\n",
    "    - 필요한 데이터만 추출\n",
    "    - 한눈에 보기 쉽게 정리\n",
    "    \n",
    "    \n",
    "3. 그래프 생성\n",
    "    - x축을 년도, y축을 인원으로 선 그래프 생성"
   ]
  },
  {
   "cell_type": "markdown",
   "id": "8101427c",
   "metadata": {},
   "source": [
    "### 필요한 모듈 import"
   ]
  },
  {
   "cell_type": "code",
   "execution_count": 28,
   "id": "bc51b9bb",
   "metadata": {},
   "outputs": [],
   "source": [
    "import numpy as np\n",
    "import pandas as pd\n",
    "import matplotlib.pyplot as plt"
   ]
  },
  {
   "cell_type": "code",
   "execution_count": 29,
   "id": "2d78b895",
   "metadata": {},
   "outputs": [],
   "source": [
    "# 시각화\n",
    "import platform\n",
    "\n",
    "from matplotlib import font_manager, rc\n",
    "plt.rcParams['axes.unicode_minus'] = False\n",
    "\n",
    "if platform.system() == 'Darwin':  # 맥OS \n",
    "    rc('font', family='AppleGothic')\n",
    "elif platform.system() == 'Windows':  # 윈도우\n",
    "    path = \"c:/Windows/Fonts/malgun.ttf\"\n",
    "    font_name = font_manager.FontProperties(fname=path).get_name()\n",
    "    rc('font', family=font_name)\n",
    "else:\n",
    "    print('Unknown system...  sorry~~~')"
   ]
  },
  {
   "cell_type": "markdown",
   "id": "d48ac203",
   "metadata": {},
   "source": [
    "## 1. 데이터 불러오기"
   ]
  },
  {
   "cell_type": "markdown",
   "id": "618c0611",
   "metadata": {},
   "source": [
    "### 엑셀파일 불러오기 "
   ]
  },
  {
   "cell_type": "code",
   "execution_count": 30,
   "id": "190b256d",
   "metadata": {
    "scrolled": true
   },
   "outputs": [
    {
     "data": {
      "text/html": [
       "<div>\n",
       "<style scoped>\n",
       "    .dataframe tbody tr th:only-of-type {\n",
       "        vertical-align: middle;\n",
       "    }\n",
       "\n",
       "    .dataframe tbody tr th {\n",
       "        vertical-align: top;\n",
       "    }\n",
       "\n",
       "    .dataframe thead th {\n",
       "        text-align: right;\n",
       "    }\n",
       "</style>\n",
       "<table border=\"1\" class=\"dataframe\">\n",
       "  <thead>\n",
       "    <tr style=\"text-align: right;\">\n",
       "      <th></th>\n",
       "      <th>해외여행객</th>\n",
       "      <th>2007년</th>\n",
       "      <th>2008년</th>\n",
       "      <th>2009년</th>\n",
       "      <th>2010년</th>\n",
       "      <th>2011년</th>\n",
       "      <th>2012년</th>\n",
       "      <th>2013년</th>\n",
       "      <th>2014년</th>\n",
       "      <th>2015년</th>\n",
       "      <th>2016년</th>\n",
       "      <th>2017년</th>\n",
       "      <th>2018년</th>\n",
       "      <th>2019년</th>\n",
       "      <th>2020년</th>\n",
       "      <th>2021년</th>\n",
       "      <th>2022년</th>\n",
       "      <th>계</th>\n",
       "    </tr>\n",
       "  </thead>\n",
       "  <tbody>\n",
       "    <tr>\n",
       "      <th>0</th>\n",
       "      <td>NaN</td>\n",
       "      <td>인원(명)</td>\n",
       "      <td>인원(명)</td>\n",
       "      <td>인원(명)</td>\n",
       "      <td>인원(명)</td>\n",
       "      <td>인원(명)</td>\n",
       "      <td>인원(명)</td>\n",
       "      <td>인원(명)</td>\n",
       "      <td>인원(명)</td>\n",
       "      <td>인원(명)</td>\n",
       "      <td>인원(명)</td>\n",
       "      <td>인원(명)</td>\n",
       "      <td>인원(명)</td>\n",
       "      <td>인원(명)</td>\n",
       "      <td>인원(명)</td>\n",
       "      <td>인원(명)</td>\n",
       "      <td>인원(명)</td>\n",
       "      <td>인원(명)</td>\n",
       "    </tr>\n",
       "    <tr>\n",
       "      <th>1</th>\n",
       "      <td>계</td>\n",
       "      <td>6448240</td>\n",
       "      <td>6890841</td>\n",
       "      <td>7817533</td>\n",
       "      <td>8797658</td>\n",
       "      <td>9794796</td>\n",
       "      <td>11140028</td>\n",
       "      <td>12175550</td>\n",
       "      <td>14201516</td>\n",
       "      <td>13231651</td>\n",
       "      <td>17241823</td>\n",
       "      <td>13335758</td>\n",
       "      <td>15346879</td>\n",
       "      <td>17502756</td>\n",
       "      <td>2519118</td>\n",
       "      <td>967003</td>\n",
       "      <td>3198017</td>\n",
       "      <td>160609167</td>\n",
       "    </tr>\n",
       "  </tbody>\n",
       "</table>\n",
       "</div>"
      ],
      "text/plain": [
       "  해외여행객    2007년    2008년    2009년    2010년    2011년     2012년     2013년  \\\n",
       "0   NaN    인원(명)    인원(명)    인원(명)    인원(명)    인원(명)     인원(명)     인원(명)   \n",
       "1     계  6448240  6890841  7817533  8797658  9794796  11140028  12175550   \n",
       "\n",
       "      2014년     2015년     2016년     2017년     2018년     2019년    2020년  \\\n",
       "0     인원(명)     인원(명)     인원(명)     인원(명)     인원(명)     인원(명)    인원(명)   \n",
       "1  14201516  13231651  17241823  13335758  15346879  17502756  2519118   \n",
       "\n",
       "    2021년    2022년          계  \n",
       "0   인원(명)    인원(명)      인원(명)  \n",
       "1  967003  3198017  160609167  "
      ]
     },
     "execution_count": 30,
     "metadata": {},
     "output_type": "execute_result"
    }
   ],
   "source": [
    "df = pd.read_excel('data/1/1_입국_20072022.xls')\n",
    "df"
   ]
  },
  {
   "cell_type": "markdown",
   "id": "d96d6cf8",
   "metadata": {},
   "source": [
    "- 데이터 확인하기"
   ]
  },
  {
   "cell_type": "code",
   "execution_count": 31,
   "id": "72bddc46",
   "metadata": {
    "scrolled": true
   },
   "outputs": [
    {
     "name": "stdout",
     "output_type": "stream",
     "text": [
      "<class 'pandas.core.frame.DataFrame'>\n",
      "RangeIndex: 2 entries, 0 to 1\n",
      "Data columns (total 18 columns):\n",
      " #   Column  Non-Null Count  Dtype \n",
      "---  ------  --------------  ----- \n",
      " 0   해외여행객   1 non-null      object\n",
      " 1   2007년   2 non-null      object\n",
      " 2   2008년   2 non-null      object\n",
      " 3   2009년   2 non-null      object\n",
      " 4   2010년   2 non-null      object\n",
      " 5   2011년   2 non-null      object\n",
      " 6   2012년   2 non-null      object\n",
      " 7   2013년   2 non-null      object\n",
      " 8   2014년   2 non-null      object\n",
      " 9   2015년   2 non-null      object\n",
      " 10  2016년   2 non-null      object\n",
      " 11  2017년   2 non-null      object\n",
      " 12  2018년   2 non-null      object\n",
      " 13  2019년   2 non-null      object\n",
      " 14  2020년   2 non-null      object\n",
      " 15  2021년   2 non-null      object\n",
      " 16  2022년   2 non-null      object\n",
      " 17  계       2 non-null      object\n",
      "dtypes: object(18)\n",
      "memory usage: 416.0+ bytes\n"
     ]
    }
   ],
   "source": [
    "# 데이터 정보\n",
    "df.info()"
   ]
  },
  {
   "cell_type": "code",
   "execution_count": 32,
   "id": "a5820ee6",
   "metadata": {},
   "outputs": [
    {
     "data": {
      "text/plain": [
       "해외여행객    1\n",
       "2007년    0\n",
       "2008년    0\n",
       "2009년    0\n",
       "2010년    0\n",
       "2011년    0\n",
       "2012년    0\n",
       "2013년    0\n",
       "2014년    0\n",
       "2015년    0\n",
       "2016년    0\n",
       "2017년    0\n",
       "2018년    0\n",
       "2019년    0\n",
       "2020년    0\n",
       "2021년    0\n",
       "2022년    0\n",
       "계        0\n",
       "dtype: int64"
      ]
     },
     "execution_count": 32,
     "metadata": {},
     "output_type": "execute_result"
    }
   ],
   "source": [
    "# null값 확인하기\n",
    "df.isnull().sum()"
   ]
  },
  {
   "cell_type": "markdown",
   "id": "feb6f6f4",
   "metadata": {},
   "source": [
    "---------"
   ]
  },
  {
   "cell_type": "markdown",
   "id": "9ebf7a82",
   "metadata": {},
   "source": [
    "## 2. 데이터 정리"
   ]
  },
  {
   "cell_type": "markdown",
   "id": "5fe9b53b",
   "metadata": {},
   "source": [
    "### 필요한 데이터만 추출"
   ]
  },
  {
   "cell_type": "markdown",
   "id": "608454b4",
   "metadata": {},
   "source": [
    " - 불필요한 행 삭제"
   ]
  },
  {
   "cell_type": "code",
   "execution_count": 33,
   "id": "0f18c6e6",
   "metadata": {},
   "outputs": [
    {
     "data": {
      "text/html": [
       "<div>\n",
       "<style scoped>\n",
       "    .dataframe tbody tr th:only-of-type {\n",
       "        vertical-align: middle;\n",
       "    }\n",
       "\n",
       "    .dataframe tbody tr th {\n",
       "        vertical-align: top;\n",
       "    }\n",
       "\n",
       "    .dataframe thead th {\n",
       "        text-align: right;\n",
       "    }\n",
       "</style>\n",
       "<table border=\"1\" class=\"dataframe\">\n",
       "  <thead>\n",
       "    <tr style=\"text-align: right;\">\n",
       "      <th></th>\n",
       "      <th>해외여행객</th>\n",
       "      <th>2007년</th>\n",
       "      <th>2008년</th>\n",
       "      <th>2009년</th>\n",
       "      <th>2010년</th>\n",
       "      <th>2011년</th>\n",
       "      <th>2012년</th>\n",
       "      <th>2013년</th>\n",
       "      <th>2014년</th>\n",
       "      <th>2015년</th>\n",
       "      <th>2016년</th>\n",
       "      <th>2017년</th>\n",
       "      <th>2018년</th>\n",
       "      <th>2019년</th>\n",
       "      <th>2020년</th>\n",
       "      <th>2021년</th>\n",
       "      <th>2022년</th>\n",
       "      <th>계</th>\n",
       "    </tr>\n",
       "  </thead>\n",
       "  <tbody>\n",
       "    <tr>\n",
       "      <th>1</th>\n",
       "      <td>계</td>\n",
       "      <td>6448240</td>\n",
       "      <td>6890841</td>\n",
       "      <td>7817533</td>\n",
       "      <td>8797658</td>\n",
       "      <td>9794796</td>\n",
       "      <td>11140028</td>\n",
       "      <td>12175550</td>\n",
       "      <td>14201516</td>\n",
       "      <td>13231651</td>\n",
       "      <td>17241823</td>\n",
       "      <td>13335758</td>\n",
       "      <td>15346879</td>\n",
       "      <td>17502756</td>\n",
       "      <td>2519118</td>\n",
       "      <td>967003</td>\n",
       "      <td>3198017</td>\n",
       "      <td>160609167</td>\n",
       "    </tr>\n",
       "  </tbody>\n",
       "</table>\n",
       "</div>"
      ],
      "text/plain": [
       "  해외여행객    2007년    2008년    2009년    2010년    2011년     2012년     2013년  \\\n",
       "1     계  6448240  6890841  7817533  8797658  9794796  11140028  12175550   \n",
       "\n",
       "      2014년     2015년     2016년     2017년     2018년     2019년    2020년  \\\n",
       "1  14201516  13231651  17241823  13335758  15346879  17502756  2519118   \n",
       "\n",
       "    2021년    2022년          계  \n",
       "1  967003  3198017  160609167  "
      ]
     },
     "execution_count": 33,
     "metadata": {},
     "output_type": "execute_result"
    }
   ],
   "source": [
    "# 필요없는 행 삭제 (0번행)\n",
    "df = df.drop(index=0, axis=0)\n",
    "df"
   ]
  },
  {
   "cell_type": "markdown",
   "id": "fc0b563e",
   "metadata": {},
   "source": [
    " - 불필요한 열 삭제"
   ]
  },
  {
   "cell_type": "code",
   "execution_count": 34,
   "id": "8f8e7879",
   "metadata": {},
   "outputs": [
    {
     "data": {
      "text/html": [
       "<div>\n",
       "<style scoped>\n",
       "    .dataframe tbody tr th:only-of-type {\n",
       "        vertical-align: middle;\n",
       "    }\n",
       "\n",
       "    .dataframe tbody tr th {\n",
       "        vertical-align: top;\n",
       "    }\n",
       "\n",
       "    .dataframe thead th {\n",
       "        text-align: right;\n",
       "    }\n",
       "</style>\n",
       "<table border=\"1\" class=\"dataframe\">\n",
       "  <thead>\n",
       "    <tr style=\"text-align: right;\">\n",
       "      <th></th>\n",
       "      <th>2007년</th>\n",
       "      <th>2008년</th>\n",
       "      <th>2009년</th>\n",
       "      <th>2010년</th>\n",
       "      <th>2011년</th>\n",
       "      <th>2012년</th>\n",
       "      <th>2013년</th>\n",
       "      <th>2014년</th>\n",
       "      <th>2015년</th>\n",
       "      <th>2016년</th>\n",
       "      <th>2017년</th>\n",
       "      <th>2018년</th>\n",
       "      <th>2019년</th>\n",
       "      <th>2020년</th>\n",
       "      <th>2021년</th>\n",
       "      <th>2022년</th>\n",
       "    </tr>\n",
       "  </thead>\n",
       "  <tbody>\n",
       "    <tr>\n",
       "      <th>1</th>\n",
       "      <td>6448240</td>\n",
       "      <td>6890841</td>\n",
       "      <td>7817533</td>\n",
       "      <td>8797658</td>\n",
       "      <td>9794796</td>\n",
       "      <td>11140028</td>\n",
       "      <td>12175550</td>\n",
       "      <td>14201516</td>\n",
       "      <td>13231651</td>\n",
       "      <td>17241823</td>\n",
       "      <td>13335758</td>\n",
       "      <td>15346879</td>\n",
       "      <td>17502756</td>\n",
       "      <td>2519118</td>\n",
       "      <td>967003</td>\n",
       "      <td>3198017</td>\n",
       "    </tr>\n",
       "  </tbody>\n",
       "</table>\n",
       "</div>"
      ],
      "text/plain": [
       "     2007년    2008년    2009년    2010년    2011년     2012년     2013년     2014년  \\\n",
       "1  6448240  6890841  7817533  8797658  9794796  11140028  12175550  14201516   \n",
       "\n",
       "      2015년     2016년     2017년     2018년     2019년    2020년   2021년    2022년  \n",
       "1  13231651  17241823  13335758  15346879  17502756  2519118  967003  3198017  "
      ]
     },
     "execution_count": 34,
     "metadata": {},
     "output_type": "execute_result"
    }
   ],
   "source": [
    "# 필요없는 열 삭제 (총계 컬럼 삭제)\n",
    "df = df.drop(['해외여행객','계'], axis=1)\n",
    "df"
   ]
  },
  {
   "cell_type": "markdown",
   "id": "edff5edd",
   "metadata": {},
   "source": [
    "### 한 눈에 보기 쉽게 정리"
   ]
  },
  {
   "cell_type": "markdown",
   "id": "528397d5",
   "metadata": {},
   "source": [
    "- 인덱스명 변경"
   ]
  },
  {
   "cell_type": "code",
   "execution_count": 35,
   "id": "2258e898",
   "metadata": {},
   "outputs": [
    {
     "data": {
      "text/html": [
       "<div>\n",
       "<style scoped>\n",
       "    .dataframe tbody tr th:only-of-type {\n",
       "        vertical-align: middle;\n",
       "    }\n",
       "\n",
       "    .dataframe tbody tr th {\n",
       "        vertical-align: top;\n",
       "    }\n",
       "\n",
       "    .dataframe thead th {\n",
       "        text-align: right;\n",
       "    }\n",
       "</style>\n",
       "<table border=\"1\" class=\"dataframe\">\n",
       "  <thead>\n",
       "    <tr style=\"text-align: right;\">\n",
       "      <th></th>\n",
       "      <th>2007년</th>\n",
       "      <th>2008년</th>\n",
       "      <th>2009년</th>\n",
       "      <th>2010년</th>\n",
       "      <th>2011년</th>\n",
       "      <th>2012년</th>\n",
       "      <th>2013년</th>\n",
       "      <th>2014년</th>\n",
       "      <th>2015년</th>\n",
       "      <th>2016년</th>\n",
       "      <th>2017년</th>\n",
       "      <th>2018년</th>\n",
       "      <th>2019년</th>\n",
       "      <th>2020년</th>\n",
       "      <th>2021년</th>\n",
       "      <th>2022년</th>\n",
       "    </tr>\n",
       "  </thead>\n",
       "  <tbody>\n",
       "    <tr>\n",
       "      <th>인원(명)</th>\n",
       "      <td>6448240</td>\n",
       "      <td>6890841</td>\n",
       "      <td>7817533</td>\n",
       "      <td>8797658</td>\n",
       "      <td>9794796</td>\n",
       "      <td>11140028</td>\n",
       "      <td>12175550</td>\n",
       "      <td>14201516</td>\n",
       "      <td>13231651</td>\n",
       "      <td>17241823</td>\n",
       "      <td>13335758</td>\n",
       "      <td>15346879</td>\n",
       "      <td>17502756</td>\n",
       "      <td>2519118</td>\n",
       "      <td>967003</td>\n",
       "      <td>3198017</td>\n",
       "    </tr>\n",
       "  </tbody>\n",
       "</table>\n",
       "</div>"
      ],
      "text/plain": [
       "         2007년    2008년    2009년    2010년    2011년     2012년     2013년  \\\n",
       "인원(명)  6448240  6890841  7817533  8797658  9794796  11140028  12175550   \n",
       "\n",
       "          2014년     2015년     2016년     2017년     2018년     2019년    2020년  \\\n",
       "인원(명)  14201516  13231651  17241823  13335758  15346879  17502756  2519118   \n",
       "\n",
       "        2021년    2022년  \n",
       "인원(명)  967003  3198017  "
      ]
     },
     "execution_count": 35,
     "metadata": {},
     "output_type": "execute_result"
    }
   ],
   "source": [
    "# 인덱스명 변경 (1 -> 인원(명))\n",
    "df= df.rename(index={1:'인원(명)'})\n",
    "df"
   ]
  },
  {
   "cell_type": "markdown",
   "id": "8daf41a0",
   "metadata": {},
   "source": [
    "- 행,열 전환"
   ]
  },
  {
   "cell_type": "code",
   "execution_count": 36,
   "id": "32499fb7",
   "metadata": {},
   "outputs": [
    {
     "data": {
      "text/html": [
       "<div>\n",
       "<style scoped>\n",
       "    .dataframe tbody tr th:only-of-type {\n",
       "        vertical-align: middle;\n",
       "    }\n",
       "\n",
       "    .dataframe tbody tr th {\n",
       "        vertical-align: top;\n",
       "    }\n",
       "\n",
       "    .dataframe thead th {\n",
       "        text-align: right;\n",
       "    }\n",
       "</style>\n",
       "<table border=\"1\" class=\"dataframe\">\n",
       "  <thead>\n",
       "    <tr style=\"text-align: right;\">\n",
       "      <th></th>\n",
       "      <th>인원(명)</th>\n",
       "    </tr>\n",
       "  </thead>\n",
       "  <tbody>\n",
       "    <tr>\n",
       "      <th>2007년</th>\n",
       "      <td>6448240</td>\n",
       "    </tr>\n",
       "    <tr>\n",
       "      <th>2008년</th>\n",
       "      <td>6890841</td>\n",
       "    </tr>\n",
       "    <tr>\n",
       "      <th>2009년</th>\n",
       "      <td>7817533</td>\n",
       "    </tr>\n",
       "    <tr>\n",
       "      <th>2010년</th>\n",
       "      <td>8797658</td>\n",
       "    </tr>\n",
       "    <tr>\n",
       "      <th>2011년</th>\n",
       "      <td>9794796</td>\n",
       "    </tr>\n",
       "    <tr>\n",
       "      <th>2012년</th>\n",
       "      <td>11140028</td>\n",
       "    </tr>\n",
       "    <tr>\n",
       "      <th>2013년</th>\n",
       "      <td>12175550</td>\n",
       "    </tr>\n",
       "    <tr>\n",
       "      <th>2014년</th>\n",
       "      <td>14201516</td>\n",
       "    </tr>\n",
       "    <tr>\n",
       "      <th>2015년</th>\n",
       "      <td>13231651</td>\n",
       "    </tr>\n",
       "    <tr>\n",
       "      <th>2016년</th>\n",
       "      <td>17241823</td>\n",
       "    </tr>\n",
       "    <tr>\n",
       "      <th>2017년</th>\n",
       "      <td>13335758</td>\n",
       "    </tr>\n",
       "    <tr>\n",
       "      <th>2018년</th>\n",
       "      <td>15346879</td>\n",
       "    </tr>\n",
       "    <tr>\n",
       "      <th>2019년</th>\n",
       "      <td>17502756</td>\n",
       "    </tr>\n",
       "    <tr>\n",
       "      <th>2020년</th>\n",
       "      <td>2519118</td>\n",
       "    </tr>\n",
       "    <tr>\n",
       "      <th>2021년</th>\n",
       "      <td>967003</td>\n",
       "    </tr>\n",
       "    <tr>\n",
       "      <th>2022년</th>\n",
       "      <td>3198017</td>\n",
       "    </tr>\n",
       "  </tbody>\n",
       "</table>\n",
       "</div>"
      ],
      "text/plain": [
       "          인원(명)\n",
       "2007년   6448240\n",
       "2008년   6890841\n",
       "2009년   7817533\n",
       "2010년   8797658\n",
       "2011년   9794796\n",
       "2012년  11140028\n",
       "2013년  12175550\n",
       "2014년  14201516\n",
       "2015년  13231651\n",
       "2016년  17241823\n",
       "2017년  13335758\n",
       "2018년  15346879\n",
       "2019년  17502756\n",
       "2020년   2519118\n",
       "2021년    967003\n",
       "2022년   3198017"
      ]
     },
     "execution_count": 36,
     "metadata": {},
     "output_type": "execute_result"
    }
   ],
   "source": [
    "# 행과열을 Trans하여 그래프로 보기 쉽게 나타냄\n",
    "df = df.T\n",
    "df"
   ]
  },
  {
   "cell_type": "markdown",
   "id": "11481b77",
   "metadata": {},
   "source": [
    "---------"
   ]
  },
  {
   "cell_type": "markdown",
   "id": "2be667d6",
   "metadata": {},
   "source": [
    "## 3. 그래프 생성"
   ]
  },
  {
   "cell_type": "markdown",
   "id": "ed20a621",
   "metadata": {},
   "source": [
    "### x축: 년도, y축: 인원\n",
    "- format함수를 이용해 값의 추이를 보기 쉽게 나타냄\n",
    "- y축의 최솟값 최대값 지정"
   ]
  },
  {
   "cell_type": "code",
   "execution_count": 37,
   "id": "b441bcbe",
   "metadata": {},
   "outputs": [
    {
     "data": {
      "image/png": "[encoded data removed]",
      "text/plain": [
       "<Figure size 600x400 with 1 Axes>"
      ]
     },
     "metadata": {},
     "output_type": "display_data"
    }
   ],
   "source": [
    "# 그래프 생성\n",
    "df.plot(figsize=(6,4),title = '연도별 외래관광객 입국 수 추이 분석', color='burlywood')\n",
    "plt.ticklabel_format(axis='y',useOffset=False, style='plain')\n",
    "plt.ylim([100000,18000000])\n",
    "pd.options.display.float_format = '{:.8f}'.format"
   ]
  },
  {
   "cell_type": "markdown",
   "id": "16566bf1",
   "metadata": {},
   "source": [
    "---------"
   ]
  }
 ],
 "metadata": {
  "kernelspec": {
   "display_name": "Python 3 (ipykernel)",
   "language": "python",
   "name": "python3"
  },
  "language_info": {
   "codemirror_mode": {
    "name": "ipython",
    "version": 3
   },
   "file_extension": ".py",
   "mimetype": "text/x-python",
   "name": "python",
   "nbconvert_exporter": "python",
   "pygments_lexer": "ipython3",
   "version": "3.9.13"
  }
 },
 "nbformat": 4,
 "nbformat_minor": 5
}
