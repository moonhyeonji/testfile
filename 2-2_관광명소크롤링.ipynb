{
 "cells": [
  {
   "cell_type": "markdown",
   "id": "57a2dba9",
   "metadata": {},
   "source": [
    "# 관광명소 크롤링 "
   ]
  },
  {
   "cell_type": "markdown",
   "id": "5f3abb61",
   "metadata": {},
   "source": [
    "## 순서\n",
    "1. 한국관광데이터랩에서 관광명소 데이터 크롤링하기 \n",
    "2. 데이터 합치기 \n",
    "3. 데이터 저장하기"
   ]
  },
  {
   "cell_type": "markdown",
   "id": "5448fdb9",
   "metadata": {},
   "source": [
    "## 주의! \n",
    "- 크롤링 재실행 하지 않기 \n",
    "- 2번부터 실행가능"
   ]
  },
  {
   "cell_type": "markdown",
   "id": "dd63a730",
   "metadata": {},
   "source": [
    "## 1. 한국관광데이터랩에서 관광명소 데이터 크롤링하기"
   ]
  },
  {
   "cell_type": "code",
   "execution_count": 1,
   "id": "f5e54f9c",
   "metadata": {},
   "outputs": [],
   "source": [
    "import requests\n",
    "import numpy as np\n",
    "import pandas as pd\n",
    "from bs4 import BeautifulSoup\n",
    "import selenium\n",
    "from selenium import webdriver\n",
    "from selenium.webdriver.common.by import By\n",
    "import time\n",
    "from glob import glob\n",
    "import tqdm # 상태바\n",
    "from tqdm.notebook import tqdm"
   ]
  },
  {
   "cell_type": "code",
   "execution_count": 31,
   "id": "de023913",
   "metadata": {},
   "outputs": [],
   "source": [
    "from selenium.webdriver.chrome.service import Service as ChromeService\n",
    "from webdriver_manager.chrome import ChromeDriverManager"
   ]
  },
  {
   "cell_type": "code",
   "execution_count": 32,
   "id": "7d09aa8f",
   "metadata": {},
   "outputs": [],
   "source": [
    "service = ChromeService(executable_path=ChromeDriverManager().install())"
   ]
  },
  {
   "cell_type": "code",
   "execution_count": 106,
   "id": "9ce098f5",
   "metadata": {},
   "outputs": [],
   "source": [
    "driver= webdriver.Chrome(service=service)"
   ]
  },
  {
   "cell_type": "code",
   "execution_count": 107,
   "id": "78154343",
   "metadata": {},
   "outputs": [],
   "source": [
    "driver.implicitly_wait(3)"
   ]
  },
  {
   "cell_type": "code",
   "execution_count": 108,
   "id": "374c8631",
   "metadata": {},
   "outputs": [],
   "source": [
    "url='https://datalab.visitkorea.or.kr/datalab/portal/loc/getTourDataForm.do#tab2'\n",
    "driver.get(url)\n",
    "# 시간필요"
   ]
  },
  {
   "cell_type": "code",
   "execution_count": 109,
   "id": "5fa5017b",
   "metadata": {},
   "outputs": [],
   "source": [
    "#카테고리선택\n",
    "xpath='//*[@id=\"tgtTypeCd\"]'\n",
    "driver.find_element(By.XPATH, xpath).click()\n",
    "xpath='//*[@id=\"tgtTypeCd\"]/option[2]'\n",
    "driver.find_element(By.XPATH, xpath).click()"
   ]
  },
  {
   "cell_type": "code",
   "execution_count": 110,
   "id": "3d39577e",
   "metadata": {},
   "outputs": [],
   "source": [
    "# 지역선택\n",
    "xpath='//*[@id=\"searchKey2\"]'\n",
    "driver.find_element(By.XPATH, xpath).click()\n",
    "xpath='//*[@id=\"searchKey2\"]/option[2]'\n",
    "driver.find_element(By.XPATH, xpath).click()"
   ]
  },
  {
   "cell_type": "code",
   "execution_count": 111,
   "id": "d4486038",
   "metadata": {},
   "outputs": [],
   "source": [
    "#조회버튼\n",
    "xpath='//*[@id=\"searchBox\"]/div/div/input[2]'\n",
    "driver.find_element(By.XPATH, xpath).click()"
   ]
  },
  {
   "cell_type": "code",
   "execution_count": 143,
   "id": "689b0657",
   "metadata": {
    "collapsed": true
   },
   "outputs": [
    {
     "data": {
      "application/vnd.jupyter.widget-view+json": {
       "model_id": "7d0198825ddf41b9bac8b64454038cc2",
       "version_major": 2,
       "version_minor": 0
      },
      "text/plain": [
       "  0%|          | 0/10 [00:00<?, ?it/s]"
      ]
     },
     "metadata": {},
     "output_type": "display_data"
    },
    {
     "data": {
      "application/vnd.jupyter.widget-view+json": {
       "model_id": "48def515391443b0951e34e316bd94f6",
       "version_major": 2,
       "version_minor": 0
      },
      "text/plain": [
       "  0%|          | 0/10 [00:00<?, ?it/s]"
      ]
     },
     "metadata": {},
     "output_type": "display_data"
    },
    {
     "data": {
      "application/vnd.jupyter.widget-view+json": {
       "model_id": "37fbc8be31614dc6881e50d58d4de31f",
       "version_major": 2,
       "version_minor": 0
      },
      "text/plain": [
       "  0%|          | 0/10 [00:00<?, ?it/s]"
      ]
     },
     "metadata": {},
     "output_type": "display_data"
    },
    {
     "data": {
      "application/vnd.jupyter.widget-view+json": {
       "model_id": "95f37f0aee564dd2956b68111f8e1602",
       "version_major": 2,
       "version_minor": 0
      },
      "text/plain": [
       "  0%|          | 0/10 [00:00<?, ?it/s]"
      ]
     },
     "metadata": {},
     "output_type": "display_data"
    },
    {
     "data": {
      "application/vnd.jupyter.widget-view+json": {
       "model_id": "73d36a6e590b4668bc6eae1cafc398ac",
       "version_major": 2,
       "version_minor": 0
      },
      "text/plain": [
       "  0%|          | 0/10 [00:00<?, ?it/s]"
      ]
     },
     "metadata": {},
     "output_type": "display_data"
    },
    {
     "data": {
      "application/vnd.jupyter.widget-view+json": {
       "model_id": "3273a0912a424ce5b4e668db39b700e9",
       "version_major": 2,
       "version_minor": 0
      },
      "text/plain": [
       "  0%|          | 0/10 [00:00<?, ?it/s]"
      ]
     },
     "metadata": {},
     "output_type": "display_data"
    },
    {
     "data": {
      "application/vnd.jupyter.widget-view+json": {
       "model_id": "535039fd9a194794ad5da0cb06a21adb",
       "version_major": 2,
       "version_minor": 0
      },
      "text/plain": [
       "  0%|          | 0/10 [00:00<?, ?it/s]"
      ]
     },
     "metadata": {},
     "output_type": "display_data"
    },
    {
     "data": {
      "application/vnd.jupyter.widget-view+json": {
       "model_id": "16108e96098841548a932218f6630032",
       "version_major": 2,
       "version_minor": 0
      },
      "text/plain": [
       "  0%|          | 0/10 [00:00<?, ?it/s]"
      ]
     },
     "metadata": {},
     "output_type": "display_data"
    },
    {
     "data": {
      "application/vnd.jupyter.widget-view+json": {
       "model_id": "61b0f1f1636d4a819039cda7c0cc459e",
       "version_major": 2,
       "version_minor": 0
      },
      "text/plain": [
       "  0%|          | 0/10 [00:00<?, ?it/s]"
      ]
     },
     "metadata": {},
     "output_type": "display_data"
    },
    {
     "data": {
      "application/vnd.jupyter.widget-view+json": {
       "model_id": "89244495d2fb410dbaaeeaad8aeba18f",
       "version_major": 2,
       "version_minor": 0
      },
      "text/plain": [
       "  0%|          | 0/10 [00:00<?, ?it/s]"
      ]
     },
     "metadata": {},
     "output_type": "display_data"
    },
    {
     "name": "stdout",
     "output_type": "stream",
     "text": [
      "끝\n"
     ]
    }
   ],
   "source": [
    "#서울\n",
    "item_list1=[]\n",
    "for j in range(1,11):\n",
    "    for i in tqdm(range(1,11)):\n",
    "        xpath='//*[@id=\"tabCon2\"]/ul/li['+str(i)+']/div[1]'\n",
    "        item_list1.append(driver.find_element(By.XPATH, xpath).text)\n",
    "    xpath='//*[@id=\"tabCon2\"]/div[2]/a['+str(j+3)+']'\n",
    "    driver.find_element(By.XPATH, xpath).click()\n",
    "    time.sleep(1)\n",
    "print('끝')"
   ]
  },
  {
   "cell_type": "code",
   "execution_count": 144,
   "id": "a6be5c6c",
   "metadata": {},
   "outputs": [
    {
     "data": {
      "text/plain": [
       "100"
      ]
     },
     "execution_count": 144,
     "metadata": {},
     "output_type": "execute_result"
    }
   ],
   "source": [
    "len(item_list1)"
   ]
  },
  {
   "cell_type": "code",
   "execution_count": 145,
   "id": "9fbaf5d1",
   "metadata": {
    "collapsed": true
   },
   "outputs": [
    {
     "data": {
      "application/vnd.jupyter.widget-view+json": {
       "model_id": "31da6ef3a74a4814b57781d3b6f7c304",
       "version_major": 2,
       "version_minor": 0
      },
      "text/plain": [
       "  0%|          | 0/10 [00:00<?, ?it/s]"
      ]
     },
     "metadata": {},
     "output_type": "display_data"
    },
    {
     "data": {
      "application/vnd.jupyter.widget-view+json": {
       "model_id": "84b27d7f25584986882776f42d9274f2",
       "version_major": 2,
       "version_minor": 0
      },
      "text/plain": [
       "  0%|          | 0/10 [00:00<?, ?it/s]"
      ]
     },
     "metadata": {},
     "output_type": "display_data"
    },
    {
     "data": {
      "application/vnd.jupyter.widget-view+json": {
       "model_id": "9e02f62769d040998287e2804483cf7d",
       "version_major": 2,
       "version_minor": 0
      },
      "text/plain": [
       "  0%|          | 0/10 [00:00<?, ?it/s]"
      ]
     },
     "metadata": {},
     "output_type": "display_data"
    },
    {
     "data": {
      "application/vnd.jupyter.widget-view+json": {
       "model_id": "964605db609d4472b014968267936333",
       "version_major": 2,
       "version_minor": 0
      },
      "text/plain": [
       "  0%|          | 0/10 [00:00<?, ?it/s]"
      ]
     },
     "metadata": {},
     "output_type": "display_data"
    },
    {
     "name": "stdout",
     "output_type": "stream",
     "text": [
      "끝\n"
     ]
    }
   ],
   "source": [
    "for j in range(1,5):\n",
    "    for i in tqdm(range(1,11)):\n",
    "        xpath='//*[@id=\"tabCon2\"]/ul/li['+str(i)+']/div[1]'\n",
    "        item_list1.append(driver.find_element(By.XPATH, xpath).text)\n",
    "    xpath='//*[@id=\"tabCon2\"]/div[2]/a['+str(j+3)+']'\n",
    "    driver.find_element(By.XPATH, xpath).click()\n",
    "    time.sleep(1)\n",
    "print('끝')"
   ]
  },
  {
   "cell_type": "code",
   "execution_count": 146,
   "id": "1a544047",
   "metadata": {},
   "outputs": [
    {
     "data": {
      "text/plain": [
       "140"
      ]
     },
     "execution_count": 146,
     "metadata": {},
     "output_type": "execute_result"
    }
   ],
   "source": [
    "len(item_list1)"
   ]
  },
  {
   "cell_type": "code",
   "execution_count": 200,
   "id": "b06c503f",
   "metadata": {},
   "outputs": [
    {
     "data": {
      "text/plain": [
       "['서울풍물시장전통문화체험관\\n서울특별시 동대문구',\n",
       " '양재시민의숲\\n서울특별시 서초구',\n",
       " '봉화산(서울)\\n서울특별시 중랑구',\n",
       " '파리공원\\n서울특별시 양천구',\n",
       " '한강시민공원 망원지구(망원한강공원)\\n서울특별시 마포구',\n",
       " '한강시민공원여의도지구(여의도한강공원)\\n서울특별시 영등포구',\n",
       " '한강시민공원뚝섬지구(뚝섬한강공원)\\n서울특별시 광진구',\n",
       " '서래마을\\n서울특별시 서초구',\n",
       " '이태원 앤틱 가구 거리\\n서울특별시 용산구',\n",
       " '와룡공원\\n서울특별시 종로구',\n",
       " '홍릉수목원\\n서울특별시 동대문구',\n",
       " '롯데월드\\n서울특별시 송파구',\n",
       " '서울어린이대공원\\n서울특별시 광진구',\n",
       " '도산공원\\n서울특별시 강남구',\n",
       " '경희궁\\n서울특별시 종로구',\n",
       " '수락산\\n서울특별시 노원구',\n",
       " '불암산\\n서울특별시 노원구',\n",
       " '관악산\\n서울특별시 관악구',\n",
       " '청계산\\n서울특별시 서초구',\n",
       " '서울트릭아이미술관\\n서울특별시 마포구',\n",
       " '서울선릉(성종과정현왕후)과정릉(중종)[유네스코세계문화유산]\\n서울특별시 강남구',\n",
       " '국립4.19민주묘지\\n서울특별시 강북구',\n",
       " '국립서울현충원\\n서울특별시 동작구',\n",
       " '서울암사동유적\\n서울특별시 강동구',\n",
       " '서울 방이동 고분군\\n서울특별시 송파구',\n",
       " '종묘\\n서울특별시 종로구',\n",
       " '덕수궁\\n서울특별시 중구',\n",
       " '경복궁\\n서울특별시 종로구',\n",
       " '봉원사(서울)\\n서울특별시 서대문구',\n",
       " '도선사(서울)\\n서울특별시 강북구',\n",
       " '남산골한옥마을\\n서울특별시 중구',\n",
       " '서서울호수공원\\n서울특별시 양천구',\n",
       " '북촌한옥마을\\n서울특별시 종로구',\n",
       " '남산서울타워\\n서울특별시 용산구',\n",
       " '대학로\\n서울특별시 종로구',\n",
       " '청와대앞길\\n서울특별시 종로구',\n",
       " '올림픽공원\\n서울특별시 송파구',\n",
       " '서울 헌릉(태종,원경왕후)과 인릉(순조,순원왕후) [유네스코 세계문화유산]\\n서울특별시 서초구',\n",
       " '새남터기념성당\\n서울특별시 용산구',\n",
       " '서울태릉(문정왕후)과강릉(인순왕후)[유네스코세계문화유산]\\n서울특별시 노원구',\n",
       " '서울정릉(신덕왕후)[유네스코세계문화유산]\\n서울특별시 성북구',\n",
       " '서울몽촌토성\\n서울특별시 송파구',\n",
       " '서울 석촌동 고분군\\n서울특별시 송파구',\n",
       " '천호공원\\n서울특별시 강동구',\n",
       " '길동생태공원\\n서울특별시 강동구',\n",
       " '북한산국립공원\\n서울특별시 은평구',\n",
       " '이태원관광특구\\n서울특별시 용산구',\n",
       " '성락원(서울)\\n서울특별시 성북구',\n",
       " '구암공원\\n서울특별시 강서구',\n",
       " '압구정로데오거리\\n서울특별시 강남구',\n",
       " '서대문독립공원\\n서울특별시 서대문구',\n",
       " '서울숲\\n서울특별시 성동구',\n",
       " '백련사(서울)\\n서울특별시 서대문구',\n",
       " '월드컵공원\\n서울특별시 마포구',\n",
       " '서울신림동민속순대타운\\n서울특별시 관악구',\n",
       " '여의도공원\\n서울특별시 영등포구',\n",
       " '보라매공원\\n서울특별시 동작구',\n",
       " '난지한강공원\\n서울특별시 마포구',\n",
       " '63스퀘어\\n서울특별시 영등포구',\n",
       " '창덕궁과후원[유네스코세계문화유산]\\n서울특별시 종로구',\n",
       " '노량진수산물도매시장\\n서울특별시 동작구',\n",
       " '광장시장\\n서울특별시 종로구',\n",
       " '남대문시장\\n서울특별시 중구',\n",
       " '평강성서유물박물관\\n서울특별시 구로구',\n",
       " '서대문자연사박물관\\n서울특별시 서대문구',\n",
       " '전쟁기념관\\n서울특별시 용산구',\n",
       " '서울역사박물관\\n서울특별시 종로구',\n",
       " '국립중앙박물관\\n서울특별시 용산구',\n",
       " '아차산\\n서울특별시 광진구',\n",
       " '남산케이블카\\n서울특별시 중구',\n",
       " '둘리뮤지엄\\n서울특별시 도봉구',\n",
       " '신영시장\\n서울특별시 양천구',\n",
       " '동대문역사문화공원\\n서울특별시 중구',\n",
       " '응봉산(서울)\\n서울특별시 성동구',\n",
       " '서울시립북서울미술관\\n서울특별시 노원구',\n",
       " '남산 야외식물원\\n서울특별시 용산구',\n",
       " '능인선원\\n서울특별시 강남구',\n",
       " '만해한용운심우장\\n서울특별시 성북구',\n",
       " '광진교8번가\\n서울특별시 강동구',\n",
       " '서울마리나 요트&클럽\\n서울특별시 영등포구',\n",
       " '홍대 벽화거리\\n서울특별시 마포구',\n",
       " '서울망원시장\\n서울특별시 마포구',\n",
       " '헬로우뮤지움\\n서울특별시 성동구',\n",
       " '동대문디자인플라자(DDP)\\n서울특별시 중구',\n",
       " '자양동양꼬치거리(중국음식문화거리)\\n서울특별시 광진구',\n",
       " '구룡산(서울)\\n서울특별시 서초구',\n",
       " '한국종합무역센터(코엑스)\\n서울특별시 강남구',\n",
       " '대림중앙시장\\n서울특별시 영등포구',\n",
       " '서촌마을\\n서울특별시 종로구',\n",
       " '동진시장\\n서울특별시 마포구',\n",
       " '서울식물원\\n서울특별시 강서구',\n",
       " '금천예술공장\\n서울특별시 금천구',\n",
       " '챔피언1250\\n서울특별시 용산구',\n",
       " '근현대사기념관\\n서울특별시 강북구',\n",
       " '피노파밀리아\\n서울특별시 노원구',\n",
       " '서울의릉(경종,선의왕후)[유네스코세계문화유산]\\n서울특별시 성북구',\n",
       " '문화역서울284\\n서울특별시 중구',\n",
       " '한강시민공원광나루지구(광나루한강공원)\\n서울특별시 강동구',\n",
       " '삼청동\\n서울특별시 종로구',\n",
       " '상수동 카페거리\\n서울특별시 마포구',\n",
       " '인사동\\n서울특별시 종로구',\n",
       " '명동\\n서울특별시 중구',\n",
       " '무중력지대양천\\n서울특별시 양천구',\n",
       " '식민지역사박물관\\n서울특별시 용산구',\n",
       " 'K-Taekwon school 태권도체험\\n서울특별시 강동구',\n",
       " '문화철도 959\\n서울특별시 구로구',\n",
       " '고척 스카이돔\\n서울특별시 구로구',\n",
       " '궁동저수지 생태공원\\n서울특별시 구로구',\n",
       " '국제음식문화거리(INTERNATIONALFOODSTREET)\\n서울특별시 구로구',\n",
       " '한방스파여용국\\n서울특별시 송파구',\n",
       " '공덕동 족발 골목\\n서울특별시 마포구',\n",
       " '아차산생태공원\\n서울특별시 광진구',\n",
       " '응암동 감자국 거리\\n서울특별시 은평구',\n",
       " '호압사(서울)\\n서울특별시 관악구',\n",
       " '황학동 벼룩시장 (도깨비시장 / 만물시장)\\n서울특별시 중구',\n",
       " '서울함공원\\n서울특별시 마포구',\n",
       " '선유도공원\\n서울특별시 영등포구',\n",
       " '하늘공원\\n서울특별시 마포구',\n",
       " '녹사평지하예술정원\\n서울특별시 용산구',\n",
       " '망우리공원\\n서울특별시 중랑구',\n",
       " '여의도샛강생태공원\\n서울특별시 영등포구',\n",
       " '강서습지생태공원\\n서울특별시 강서구',\n",
       " '백사실계곡\\n서울특별시 종로구',\n",
       " '홍대\\n서울특별시 마포구',\n",
       " '겸재정선미술관\\n서울특별시 강서구',\n",
       " '삼성산성지\\n서울특별시 관악구',\n",
       " '관악산공원야외식물원\\n서울특별시 관악구',\n",
       " '살곶이체육공원\\n서울특별시 성동구',\n",
       " '몽마르뜨공원\\n서울특별시 서초구',\n",
       " '영등포신길동홍어거리\\n서울특별시 영등포구',\n",
       " '신사동가로수길\\n서울특별시 강남구',\n",
       " '한강시민공원 잠실지구(잠실한강공원)\\n서울특별시 송파구',\n",
       " '한강시민공원잠원지구(잠원한강공원)\\n서울특별시 서초구',\n",
       " '세빛섬\\n서울특별시 서초구',\n",
       " '경동시장\\n서울특별시 동대문구',\n",
       " '오동근린공원\\n서울특별시 강북구',\n",
       " '양재천 생태공원\\n서울특별시 서초구',\n",
       " '북서울꿈의숲\\n서울특별시 강북구',\n",
       " '온수공원\\n서울특별시 구로구',\n",
       " '용마산\\n서울특별시 중랑구']"
      ]
     },
     "execution_count": 200,
     "metadata": {},
     "output_type": "execute_result"
    }
   ],
   "source": [
    "item_list1"
   ]
  },
  {
   "cell_type": "code",
   "execution_count": 116,
   "id": "60c62fb5",
   "metadata": {
    "collapsed": true
   },
   "outputs": [
    {
     "data": {
      "application/vnd.jupyter.widget-view+json": {
       "model_id": "e1fb2830beda49498c00616c8fde383e",
       "version_major": 2,
       "version_minor": 0
      },
      "text/plain": [
       "  0%|          | 0/10 [00:00<?, ?it/s]"
      ]
     },
     "metadata": {},
     "output_type": "display_data"
    },
    {
     "data": {
      "application/vnd.jupyter.widget-view+json": {
       "model_id": "85febf5f4ff64083ac5f6562924a6b2e",
       "version_major": 2,
       "version_minor": 0
      },
      "text/plain": [
       "  0%|          | 0/10 [00:00<?, ?it/s]"
      ]
     },
     "metadata": {},
     "output_type": "display_data"
    },
    {
     "data": {
      "application/vnd.jupyter.widget-view+json": {
       "model_id": "085c1e62daec469199d439f37ebccd5b",
       "version_major": 2,
       "version_minor": 0
      },
      "text/plain": [
       "  0%|          | 0/10 [00:00<?, ?it/s]"
      ]
     },
     "metadata": {},
     "output_type": "display_data"
    },
    {
     "data": {
      "application/vnd.jupyter.widget-view+json": {
       "model_id": "e609e4ece5d7451c9ce47f4c2b291997",
       "version_major": 2,
       "version_minor": 0
      },
      "text/plain": [
       "  0%|          | 0/10 [00:00<?, ?it/s]"
      ]
     },
     "metadata": {},
     "output_type": "display_data"
    },
    {
     "data": {
      "application/vnd.jupyter.widget-view+json": {
       "model_id": "70f741e17076488bba581240d2cf7993",
       "version_major": 2,
       "version_minor": 0
      },
      "text/plain": [
       "  0%|          | 0/10 [00:00<?, ?it/s]"
      ]
     },
     "metadata": {},
     "output_type": "display_data"
    },
    {
     "data": {
      "application/vnd.jupyter.widget-view+json": {
       "model_id": "3363169b51b145e186115b72df306864",
       "version_major": 2,
       "version_minor": 0
      },
      "text/plain": [
       "  0%|          | 0/10 [00:00<?, ?it/s]"
      ]
     },
     "metadata": {},
     "output_type": "display_data"
    },
    {
     "data": {
      "application/vnd.jupyter.widget-view+json": {
       "model_id": "7185b23285c940d4a280c35a1bb2145e",
       "version_major": 2,
       "version_minor": 0
      },
      "text/plain": [
       "  0%|          | 0/10 [00:00<?, ?it/s]"
      ]
     },
     "metadata": {},
     "output_type": "display_data"
    },
    {
     "ename": "NoSuchElementException",
     "evalue": "Message: no such element: Unable to locate element: {\"method\":\"xpath\",\"selector\":\"//*[@id=\"tabCon2\"]/ul/li[2]/div[1]\"}\n  (Session info: chrome=111.0.5563.65)\nStacktrace:\nBacktrace:\n\t(No symbol) [0x0051DCE3]\n\t(No symbol) [0x004B39D1]\n\t(No symbol) [0x003C4DA8]\n\t(No symbol) [0x003F019F]\n\t(No symbol) [0x003F03AB]\n\t(No symbol) [0x0041EE62]\n\t(No symbol) [0x0040AF14]\n\t(No symbol) [0x0041D57C]\n\t(No symbol) [0x0040ACC6]\n\t(No symbol) [0x003E6F68]\n\t(No symbol) [0x003E80CD]\n\tGetHandleVerifier [0x00793832+2506274]\n\tGetHandleVerifier [0x007C9794+2727300]\n\tGetHandleVerifier [0x007CE36C+2746716]\n\tGetHandleVerifier [0x005C6690+617600]\n\t(No symbol) [0x004BC712]\n\t(No symbol) [0x004C1FF8]\n\t(No symbol) [0x004C20DB]\n\t(No symbol) [0x004CC63B]\n\tBaseThreadInitThunk [0x75887D69+25]\n\tRtlInitializeExceptionChain [0x773CB74B+107]\n\tRtlClearBits [0x773CB6CF+191]\n",
     "output_type": "error",
     "traceback": [
      "\u001b[1;31m---------------------------------------------------------------------------\u001b[0m",
      "\u001b[1;31mNoSuchElementException\u001b[0m                    Traceback (most recent call last)",
      "\u001b[1;32m~\\AppData\\Local\\Temp\\ipykernel_19340\\3254382801.py\u001b[0m in \u001b[0;36m<module>\u001b[1;34m\u001b[0m\n\u001b[0;32m      3\u001b[0m     \u001b[1;32mfor\u001b[0m \u001b[0mi\u001b[0m \u001b[1;32min\u001b[0m \u001b[0mtqdm\u001b[0m\u001b[1;33m(\u001b[0m\u001b[0mrange\u001b[0m\u001b[1;33m(\u001b[0m\u001b[1;36m1\u001b[0m\u001b[1;33m,\u001b[0m\u001b[1;36m11\u001b[0m\u001b[1;33m)\u001b[0m\u001b[1;33m)\u001b[0m\u001b[1;33m:\u001b[0m\u001b[1;33m\u001b[0m\u001b[1;33m\u001b[0m\u001b[0m\n\u001b[0;32m      4\u001b[0m         \u001b[0mxpath\u001b[0m\u001b[1;33m=\u001b[0m\u001b[1;34m'//*[@id=\"tabCon2\"]/ul/li['\u001b[0m\u001b[1;33m+\u001b[0m\u001b[0mstr\u001b[0m\u001b[1;33m(\u001b[0m\u001b[0mi\u001b[0m\u001b[1;33m)\u001b[0m\u001b[1;33m+\u001b[0m\u001b[1;34m']/div[1]'\u001b[0m\u001b[1;33m\u001b[0m\u001b[1;33m\u001b[0m\u001b[0m\n\u001b[1;32m----> 5\u001b[1;33m         \u001b[0mitem_list2\u001b[0m\u001b[1;33m.\u001b[0m\u001b[0mappend\u001b[0m\u001b[1;33m(\u001b[0m\u001b[0mdriver\u001b[0m\u001b[1;33m.\u001b[0m\u001b[0mfind_element\u001b[0m\u001b[1;33m(\u001b[0m\u001b[0mBy\u001b[0m\u001b[1;33m.\u001b[0m\u001b[0mXPATH\u001b[0m\u001b[1;33m,\u001b[0m \u001b[0mxpath\u001b[0m\u001b[1;33m)\u001b[0m\u001b[1;33m.\u001b[0m\u001b[0mtext\u001b[0m\u001b[1;33m)\u001b[0m\u001b[1;33m\u001b[0m\u001b[1;33m\u001b[0m\u001b[0m\n\u001b[0m\u001b[0;32m      6\u001b[0m     \u001b[0mxpath\u001b[0m\u001b[1;33m=\u001b[0m\u001b[1;34m'//*[@id=\"tabCon2\"]/div[2]/a['\u001b[0m\u001b[1;33m+\u001b[0m\u001b[0mstr\u001b[0m\u001b[1;33m(\u001b[0m\u001b[0mj\u001b[0m\u001b[1;33m+\u001b[0m\u001b[1;36m1\u001b[0m\u001b[1;33m)\u001b[0m\u001b[1;33m+\u001b[0m\u001b[1;34m']'\u001b[0m\u001b[1;33m\u001b[0m\u001b[1;33m\u001b[0m\u001b[0m\n\u001b[0;32m      7\u001b[0m     \u001b[0mdriver\u001b[0m\u001b[1;33m.\u001b[0m\u001b[0mfind_element\u001b[0m\u001b[1;33m(\u001b[0m\u001b[0mBy\u001b[0m\u001b[1;33m.\u001b[0m\u001b[0mXPATH\u001b[0m\u001b[1;33m,\u001b[0m \u001b[0mxpath\u001b[0m\u001b[1;33m)\u001b[0m\u001b[1;33m.\u001b[0m\u001b[0mclick\u001b[0m\u001b[1;33m(\u001b[0m\u001b[1;33m)\u001b[0m\u001b[1;33m\u001b[0m\u001b[1;33m\u001b[0m\u001b[0m\n",
      "\u001b[1;32m~\\AppData\\Roaming\\Python\\Python39\\site-packages\\selenium\\webdriver\\remote\\webdriver.py\u001b[0m in \u001b[0;36mfind_element\u001b[1;34m(self, by, value)\u001b[0m\n\u001b[0;32m    828\u001b[0m             \u001b[0mvalue\u001b[0m \u001b[1;33m=\u001b[0m \u001b[1;34mf'[name=\"{value}\"]'\u001b[0m\u001b[1;33m\u001b[0m\u001b[1;33m\u001b[0m\u001b[0m\n\u001b[0;32m    829\u001b[0m \u001b[1;33m\u001b[0m\u001b[0m\n\u001b[1;32m--> 830\u001b[1;33m         \u001b[1;32mreturn\u001b[0m \u001b[0mself\u001b[0m\u001b[1;33m.\u001b[0m\u001b[0mexecute\u001b[0m\u001b[1;33m(\u001b[0m\u001b[0mCommand\u001b[0m\u001b[1;33m.\u001b[0m\u001b[0mFIND_ELEMENT\u001b[0m\u001b[1;33m,\u001b[0m \u001b[1;33m{\u001b[0m\u001b[1;34m\"using\"\u001b[0m\u001b[1;33m:\u001b[0m \u001b[0mby\u001b[0m\u001b[1;33m,\u001b[0m \u001b[1;34m\"value\"\u001b[0m\u001b[1;33m:\u001b[0m \u001b[0mvalue\u001b[0m\u001b[1;33m}\u001b[0m\u001b[1;33m)\u001b[0m\u001b[1;33m[\u001b[0m\u001b[1;34m\"value\"\u001b[0m\u001b[1;33m]\u001b[0m\u001b[1;33m\u001b[0m\u001b[1;33m\u001b[0m\u001b[0m\n\u001b[0m\u001b[0;32m    831\u001b[0m \u001b[1;33m\u001b[0m\u001b[0m\n\u001b[0;32m    832\u001b[0m     \u001b[1;32mdef\u001b[0m \u001b[0mfind_elements\u001b[0m\u001b[1;33m(\u001b[0m\u001b[0mself\u001b[0m\u001b[1;33m,\u001b[0m \u001b[0mby\u001b[0m\u001b[1;33m=\u001b[0m\u001b[0mBy\u001b[0m\u001b[1;33m.\u001b[0m\u001b[0mID\u001b[0m\u001b[1;33m,\u001b[0m \u001b[0mvalue\u001b[0m\u001b[1;33m:\u001b[0m \u001b[0mOptional\u001b[0m\u001b[1;33m[\u001b[0m\u001b[0mstr\u001b[0m\u001b[1;33m]\u001b[0m \u001b[1;33m=\u001b[0m \u001b[1;32mNone\u001b[0m\u001b[1;33m)\u001b[0m \u001b[1;33m->\u001b[0m \u001b[0mList\u001b[0m\u001b[1;33m[\u001b[0m\u001b[0mWebElement\u001b[0m\u001b[1;33m]\u001b[0m\u001b[1;33m:\u001b[0m\u001b[1;33m\u001b[0m\u001b[1;33m\u001b[0m\u001b[0m\n",
      "\u001b[1;32m~\\AppData\\Roaming\\Python\\Python39\\site-packages\\selenium\\webdriver\\remote\\webdriver.py\u001b[0m in \u001b[0;36mexecute\u001b[1;34m(self, driver_command, params)\u001b[0m\n\u001b[0;32m    438\u001b[0m         \u001b[0mresponse\u001b[0m \u001b[1;33m=\u001b[0m \u001b[0mself\u001b[0m\u001b[1;33m.\u001b[0m\u001b[0mcommand_executor\u001b[0m\u001b[1;33m.\u001b[0m\u001b[0mexecute\u001b[0m\u001b[1;33m(\u001b[0m\u001b[0mdriver_command\u001b[0m\u001b[1;33m,\u001b[0m \u001b[0mparams\u001b[0m\u001b[1;33m)\u001b[0m\u001b[1;33m\u001b[0m\u001b[1;33m\u001b[0m\u001b[0m\n\u001b[0;32m    439\u001b[0m         \u001b[1;32mif\u001b[0m \u001b[0mresponse\u001b[0m\u001b[1;33m:\u001b[0m\u001b[1;33m\u001b[0m\u001b[1;33m\u001b[0m\u001b[0m\n\u001b[1;32m--> 440\u001b[1;33m             \u001b[0mself\u001b[0m\u001b[1;33m.\u001b[0m\u001b[0merror_handler\u001b[0m\u001b[1;33m.\u001b[0m\u001b[0mcheck_response\u001b[0m\u001b[1;33m(\u001b[0m\u001b[0mresponse\u001b[0m\u001b[1;33m)\u001b[0m\u001b[1;33m\u001b[0m\u001b[1;33m\u001b[0m\u001b[0m\n\u001b[0m\u001b[0;32m    441\u001b[0m             \u001b[0mresponse\u001b[0m\u001b[1;33m[\u001b[0m\u001b[1;34m\"value\"\u001b[0m\u001b[1;33m]\u001b[0m \u001b[1;33m=\u001b[0m \u001b[0mself\u001b[0m\u001b[1;33m.\u001b[0m\u001b[0m_unwrap_value\u001b[0m\u001b[1;33m(\u001b[0m\u001b[0mresponse\u001b[0m\u001b[1;33m.\u001b[0m\u001b[0mget\u001b[0m\u001b[1;33m(\u001b[0m\u001b[1;34m\"value\"\u001b[0m\u001b[1;33m,\u001b[0m \u001b[1;32mNone\u001b[0m\u001b[1;33m)\u001b[0m\u001b[1;33m)\u001b[0m\u001b[1;33m\u001b[0m\u001b[1;33m\u001b[0m\u001b[0m\n\u001b[0;32m    442\u001b[0m             \u001b[1;32mreturn\u001b[0m \u001b[0mresponse\u001b[0m\u001b[1;33m\u001b[0m\u001b[1;33m\u001b[0m\u001b[0m\n",
      "\u001b[1;32m~\\AppData\\Roaming\\Python\\Python39\\site-packages\\selenium\\webdriver\\remote\\errorhandler.py\u001b[0m in \u001b[0;36mcheck_response\u001b[1;34m(self, response)\u001b[0m\n\u001b[0;32m    243\u001b[0m                 \u001b[0malert_text\u001b[0m \u001b[1;33m=\u001b[0m \u001b[0mvalue\u001b[0m\u001b[1;33m[\u001b[0m\u001b[1;34m\"alert\"\u001b[0m\u001b[1;33m]\u001b[0m\u001b[1;33m.\u001b[0m\u001b[0mget\u001b[0m\u001b[1;33m(\u001b[0m\u001b[1;34m\"text\"\u001b[0m\u001b[1;33m)\u001b[0m\u001b[1;33m\u001b[0m\u001b[1;33m\u001b[0m\u001b[0m\n\u001b[0;32m    244\u001b[0m             \u001b[1;32mraise\u001b[0m \u001b[0mexception_class\u001b[0m\u001b[1;33m(\u001b[0m\u001b[0mmessage\u001b[0m\u001b[1;33m,\u001b[0m \u001b[0mscreen\u001b[0m\u001b[1;33m,\u001b[0m \u001b[0mstacktrace\u001b[0m\u001b[1;33m,\u001b[0m \u001b[0malert_text\u001b[0m\u001b[1;33m)\u001b[0m  \u001b[1;31m# type: ignore[call-arg]  # mypy is not smart enough here\u001b[0m\u001b[1;33m\u001b[0m\u001b[1;33m\u001b[0m\u001b[0m\n\u001b[1;32m--> 245\u001b[1;33m         \u001b[1;32mraise\u001b[0m \u001b[0mexception_class\u001b[0m\u001b[1;33m(\u001b[0m\u001b[0mmessage\u001b[0m\u001b[1;33m,\u001b[0m \u001b[0mscreen\u001b[0m\u001b[1;33m,\u001b[0m \u001b[0mstacktrace\u001b[0m\u001b[1;33m)\u001b[0m\u001b[1;33m\u001b[0m\u001b[1;33m\u001b[0m\u001b[0m\n\u001b[0m",
      "\u001b[1;31mNoSuchElementException\u001b[0m: Message: no such element: Unable to locate element: {\"method\":\"xpath\",\"selector\":\"//*[@id=\"tabCon2\"]/ul/li[2]/div[1]\"}\n  (Session info: chrome=111.0.5563.65)\nStacktrace:\nBacktrace:\n\t(No symbol) [0x0051DCE3]\n\t(No symbol) [0x004B39D1]\n\t(No symbol) [0x003C4DA8]\n\t(No symbol) [0x003F019F]\n\t(No symbol) [0x003F03AB]\n\t(No symbol) [0x0041EE62]\n\t(No symbol) [0x0040AF14]\n\t(No symbol) [0x0041D57C]\n\t(No symbol) [0x0040ACC6]\n\t(No symbol) [0x003E6F68]\n\t(No symbol) [0x003E80CD]\n\tGetHandleVerifier [0x00793832+2506274]\n\tGetHandleVerifier [0x007C9794+2727300]\n\tGetHandleVerifier [0x007CE36C+2746716]\n\tGetHandleVerifier [0x005C6690+617600]\n\t(No symbol) [0x004BC712]\n\t(No symbol) [0x004C1FF8]\n\t(No symbol) [0x004C20DB]\n\t(No symbol) [0x004CC63B]\n\tBaseThreadInitThunk [0x75887D69+25]\n\tRtlInitializeExceptionChain [0x773CB74B+107]\n\tRtlClearBits [0x773CB6CF+191]\n"
     ]
    }
   ],
   "source": [
    "#부산\n",
    "item_list2=[]\n",
    "for j in range(1,8):\n",
    "    for i in tqdm(range(1,11)):\n",
    "        xpath='//*[@id=\"tabCon2\"]/ul/li['+str(i)+']/div[1]'\n",
    "        item_list2.append(driver.find_element(By.XPATH, xpath).text)\n",
    "    xpath='//*[@id=\"tabCon2\"]/div[2]/a['+str(j+1)+']'\n",
    "    driver.find_element(By.XPATH, xpath).click()\n",
    "    time.sleep(1)\n",
    "print('끝')"
   ]
  },
  {
   "cell_type": "code",
   "execution_count": 147,
   "id": "24eec4a6",
   "metadata": {},
   "outputs": [
    {
     "data": {
      "text/plain": [
       "61"
      ]
     },
     "execution_count": 147,
     "metadata": {},
     "output_type": "execute_result"
    }
   ],
   "source": [
    "len(item_list2)"
   ]
  },
  {
   "cell_type": "code",
   "execution_count": 118,
   "id": "2043bda5",
   "metadata": {
    "scrolled": true
   },
   "outputs": [
    {
     "data": {
      "text/plain": [
       "['범어사(부산)\\n부산광역시 금정구',\n",
       " '부산송도해수욕장\\n부산광역시 서구',\n",
       " '용두산공원\\n부산광역시 중구',\n",
       " '부산어린이대공원\\n부산광역시 부산진구',\n",
       " '일광해수욕장\\n부산광역시 기장군',\n",
       " '해운대해수욕장\\n부산광역시 해운대구',\n",
       " '송정해수욕장\\n부산광역시 해운대구',\n",
       " '광안리해수욕장\\n부산광역시 수영구',\n",
       " '부산어촌민속관\\n부산광역시 북구',\n",
       " '서면1번가\\n부산광역시 부산진구',\n",
       " '대항어촌체험휴양마을\\n부산광역시 강서구',\n",
       " '황령산\\n부산광역시 부산진구',\n",
       " '선암사(부산)\\n부산광역시 부산진구',\n",
       " '수영사적공원\\n부산광역시 수영구',\n",
       " '부산차이나타운특구(상해문.상해거리)\\n부산광역시 동구',\n",
       " '삼광사\\n부산광역시 부산진구',\n",
       " '해동용궁사(부산)\\n부산광역시 기장군',\n",
       " '충렬사\\n부산광역시 동래구',\n",
       " '태종대(부산국가지질공원)\\n부산광역시 영도구',\n",
       " 'UN기념공원\\n부산광역시 남구',\n",
       " '부산진시장\\n부산광역시 동구',\n",
       " '동삼동패총전시관\\n부산광역시 영도구',\n",
       " '부산근대역사관\\n부산광역시 중구',\n",
       " '남천 해변시장\\n부산광역시 수영구',\n",
       " '부산해양자연사박물관\\n부산광역시 동래구',\n",
       " '청사포\\n부산광역시 해운대구',\n",
       " '송정 죽도공원\\n부산광역시 해운대구',\n",
       " '대변항\\n부산광역시 기장군',\n",
       " '금강식물원\\n부산광역시 금정구',\n",
       " '40계단문화관광테마거리\\n부산광역시 중구',\n",
       " '168계단\\n부산광역시 동구',\n",
       " '수리조선소길\\n부산광역시 영도구',\n",
       " '임랑해수욕장\\n부산광역시 기장군',\n",
       " '부평시장(깡통시장)\\n부산광역시 중구',\n",
       " '국립해양박물관\\n부산광역시 영도구',\n",
       " '우장춘기념관\\n부산광역시 동래구',\n",
       " '임시수도기념관\\n부산광역시 서구',\n",
       " '삼락생태공원\\n부산광역시 사상구',\n",
       " '국제시장\\n부산광역시 중구',\n",
       " '부산자갈치시장\\n부산광역시 중구',\n",
       " '국립일제강제동원역사관\\n부산광역시 남구',\n",
       " '절영해안산책로\\n부산광역시 영도구',\n",
       " '부산송도해상케이블카\\n부산광역시 서구',\n",
       " '화명생태공원\\n부산광역시 북구',\n",
       " '대저생태공원\\n부산광역시 강서구',\n",
       " '아홉산숲\\n부산광역시 기장군',\n",
       " '국립부산과학관\\n부산광역시 기장군',\n",
       " '부산감천문화마을\\n부산광역시 사하구',\n",
       " '이기대(부산국가지질공원)\\n부산광역시 남구',\n",
       " '유치환 우체통 전망대\\n부산광역시 동구',\n",
       " '다대포꿈의낙조분수\\n부산광역시 사하구',\n",
       " '마린시티\\n부산광역시 해운대구',\n",
       " '장산 (부산 국가지질공원)\\n부산광역시 해운대구',\n",
       " '몰운대 (부산 국가지질공원)\\n부산광역시 사하구',\n",
       " '국립 달음산자연휴양림\\n부산광역시 기장군',\n",
       " '흰여울문화마을\\n부산광역시 영도구',\n",
       " '장림포구\\n부산광역시 사하구',\n",
       " '초량이바구길\\n부산광역시 동구',\n",
       " '부산현대미술관\\n부산광역시 사하구',\n",
       " '정관박물관\\n부산광역시 기장군',\n",
       " '해운대동백섬\\n부산광역시 해운대구']"
      ]
     },
     "execution_count": 118,
     "metadata": {},
     "output_type": "execute_result"
    }
   ],
   "source": [
    "item_list2"
   ]
  },
  {
   "cell_type": "code",
   "execution_count": 124,
   "id": "6244e916",
   "metadata": {
    "collapsed": true
   },
   "outputs": [
    {
     "data": {
      "application/vnd.jupyter.widget-view+json": {
       "model_id": "82df853699994bf992f62bec3555e0c9",
       "version_major": 2,
       "version_minor": 0
      },
      "text/plain": [
       "  0%|          | 0/10 [00:00<?, ?it/s]"
      ]
     },
     "metadata": {},
     "output_type": "display_data"
    },
    {
     "data": {
      "application/vnd.jupyter.widget-view+json": {
       "model_id": "eaacd387d8f24c5683a89c88826f7197",
       "version_major": 2,
       "version_minor": 0
      },
      "text/plain": [
       "  0%|          | 0/10 [00:00<?, ?it/s]"
      ]
     },
     "metadata": {},
     "output_type": "display_data"
    },
    {
     "data": {
      "application/vnd.jupyter.widget-view+json": {
       "model_id": "7de8ca1a729a46e893dfca87e02456a3",
       "version_major": 2,
       "version_minor": 0
      },
      "text/plain": [
       "  0%|          | 0/10 [00:00<?, ?it/s]"
      ]
     },
     "metadata": {},
     "output_type": "display_data"
    },
    {
     "data": {
      "application/vnd.jupyter.widget-view+json": {
       "model_id": "e4afd3cd863c490faafad9bab85a1b94",
       "version_major": 2,
       "version_minor": 0
      },
      "text/plain": [
       "  0%|          | 0/10 [00:00<?, ?it/s]"
      ]
     },
     "metadata": {},
     "output_type": "display_data"
    },
    {
     "data": {
      "application/vnd.jupyter.widget-view+json": {
       "model_id": "79606706772e4c53bc83fbdc08da3ea1",
       "version_major": 2,
       "version_minor": 0
      },
      "text/plain": [
       "  0%|          | 0/10 [00:00<?, ?it/s]"
      ]
     },
     "metadata": {},
     "output_type": "display_data"
    },
    {
     "data": {
      "application/vnd.jupyter.widget-view+json": {
       "model_id": "e09dd1ae9d58486bb216184e02a20927",
       "version_major": 2,
       "version_minor": 0
      },
      "text/plain": [
       "  0%|          | 0/10 [00:00<?, ?it/s]"
      ]
     },
     "metadata": {},
     "output_type": "display_data"
    },
    {
     "ename": "NoSuchElementException",
     "evalue": "Message: no such element: Unable to locate element: {\"method\":\"xpath\",\"selector\":\"//*[@id=\"tabCon2\"]/ul/li[4]/div[1]\"}\n  (Session info: chrome=111.0.5563.65)\nStacktrace:\nBacktrace:\n\t(No symbol) [0x0051DCE3]\n\t(No symbol) [0x004B39D1]\n\t(No symbol) [0x003C4DA8]\n\t(No symbol) [0x003F019F]\n\t(No symbol) [0x003F03AB]\n\t(No symbol) [0x0041EE62]\n\t(No symbol) [0x0040AF14]\n\t(No symbol) [0x0041D57C]\n\t(No symbol) [0x0040ACC6]\n\t(No symbol) [0x003E6F68]\n\t(No symbol) [0x003E80CD]\n\tGetHandleVerifier [0x00793832+2506274]\n\tGetHandleVerifier [0x007C9794+2727300]\n\tGetHandleVerifier [0x007CE36C+2746716]\n\tGetHandleVerifier [0x005C6690+617600]\n\t(No symbol) [0x004BC712]\n\t(No symbol) [0x004C1FF8]\n\t(No symbol) [0x004C20DB]\n\t(No symbol) [0x004CC63B]\n\tBaseThreadInitThunk [0x75887D69+25]\n\tRtlInitializeExceptionChain [0x773CB74B+107]\n\tRtlClearBits [0x773CB6CF+191]\n",
     "output_type": "error",
     "traceback": [
      "\u001b[1;31m---------------------------------------------------------------------------\u001b[0m",
      "\u001b[1;31mNoSuchElementException\u001b[0m                    Traceback (most recent call last)",
      "\u001b[1;32m~\\AppData\\Local\\Temp\\ipykernel_19340\\3650811966.py\u001b[0m in \u001b[0;36m<module>\u001b[1;34m\u001b[0m\n\u001b[0;32m      3\u001b[0m     \u001b[1;32mfor\u001b[0m \u001b[0mi\u001b[0m \u001b[1;32min\u001b[0m \u001b[0mtqdm\u001b[0m\u001b[1;33m(\u001b[0m\u001b[0mrange\u001b[0m\u001b[1;33m(\u001b[0m\u001b[1;36m1\u001b[0m\u001b[1;33m,\u001b[0m\u001b[1;36m11\u001b[0m\u001b[1;33m)\u001b[0m\u001b[1;33m)\u001b[0m\u001b[1;33m:\u001b[0m\u001b[1;33m\u001b[0m\u001b[1;33m\u001b[0m\u001b[0m\n\u001b[0;32m      4\u001b[0m         \u001b[0mxpath\u001b[0m\u001b[1;33m=\u001b[0m\u001b[1;34m'//*[@id=\"tabCon2\"]/ul/li['\u001b[0m\u001b[1;33m+\u001b[0m\u001b[0mstr\u001b[0m\u001b[1;33m(\u001b[0m\u001b[0mi\u001b[0m\u001b[1;33m)\u001b[0m\u001b[1;33m+\u001b[0m\u001b[1;34m']/div[1]'\u001b[0m\u001b[1;33m\u001b[0m\u001b[1;33m\u001b[0m\u001b[0m\n\u001b[1;32m----> 5\u001b[1;33m         \u001b[0mitem_list3\u001b[0m\u001b[1;33m.\u001b[0m\u001b[0mappend\u001b[0m\u001b[1;33m(\u001b[0m\u001b[0mdriver\u001b[0m\u001b[1;33m.\u001b[0m\u001b[0mfind_element\u001b[0m\u001b[1;33m(\u001b[0m\u001b[0mBy\u001b[0m\u001b[1;33m.\u001b[0m\u001b[0mXPATH\u001b[0m\u001b[1;33m,\u001b[0m \u001b[0mxpath\u001b[0m\u001b[1;33m)\u001b[0m\u001b[1;33m.\u001b[0m\u001b[0mtext\u001b[0m\u001b[1;33m)\u001b[0m\u001b[1;33m\u001b[0m\u001b[1;33m\u001b[0m\u001b[0m\n\u001b[0m\u001b[0;32m      6\u001b[0m     \u001b[0mxpath\u001b[0m\u001b[1;33m=\u001b[0m\u001b[1;34m'//*[@id=\"tabCon2\"]/div[2]/a['\u001b[0m\u001b[1;33m+\u001b[0m\u001b[0mstr\u001b[0m\u001b[1;33m(\u001b[0m\u001b[0mj\u001b[0m\u001b[1;33m+\u001b[0m\u001b[1;36m1\u001b[0m\u001b[1;33m)\u001b[0m\u001b[1;33m+\u001b[0m\u001b[1;34m']'\u001b[0m\u001b[1;33m\u001b[0m\u001b[1;33m\u001b[0m\u001b[0m\n\u001b[0;32m      7\u001b[0m     \u001b[0mdriver\u001b[0m\u001b[1;33m.\u001b[0m\u001b[0mfind_element\u001b[0m\u001b[1;33m(\u001b[0m\u001b[0mBy\u001b[0m\u001b[1;33m.\u001b[0m\u001b[0mXPATH\u001b[0m\u001b[1;33m,\u001b[0m \u001b[0mxpath\u001b[0m\u001b[1;33m)\u001b[0m\u001b[1;33m.\u001b[0m\u001b[0mclick\u001b[0m\u001b[1;33m(\u001b[0m\u001b[1;33m)\u001b[0m\u001b[1;33m\u001b[0m\u001b[1;33m\u001b[0m\u001b[0m\n",
      "\u001b[1;32m~\\AppData\\Roaming\\Python\\Python39\\site-packages\\selenium\\webdriver\\remote\\webdriver.py\u001b[0m in \u001b[0;36mfind_element\u001b[1;34m(self, by, value)\u001b[0m\n\u001b[0;32m    828\u001b[0m             \u001b[0mvalue\u001b[0m \u001b[1;33m=\u001b[0m \u001b[1;34mf'[name=\"{value}\"]'\u001b[0m\u001b[1;33m\u001b[0m\u001b[1;33m\u001b[0m\u001b[0m\n\u001b[0;32m    829\u001b[0m \u001b[1;33m\u001b[0m\u001b[0m\n\u001b[1;32m--> 830\u001b[1;33m         \u001b[1;32mreturn\u001b[0m \u001b[0mself\u001b[0m\u001b[1;33m.\u001b[0m\u001b[0mexecute\u001b[0m\u001b[1;33m(\u001b[0m\u001b[0mCommand\u001b[0m\u001b[1;33m.\u001b[0m\u001b[0mFIND_ELEMENT\u001b[0m\u001b[1;33m,\u001b[0m \u001b[1;33m{\u001b[0m\u001b[1;34m\"using\"\u001b[0m\u001b[1;33m:\u001b[0m \u001b[0mby\u001b[0m\u001b[1;33m,\u001b[0m \u001b[1;34m\"value\"\u001b[0m\u001b[1;33m:\u001b[0m \u001b[0mvalue\u001b[0m\u001b[1;33m}\u001b[0m\u001b[1;33m)\u001b[0m\u001b[1;33m[\u001b[0m\u001b[1;34m\"value\"\u001b[0m\u001b[1;33m]\u001b[0m\u001b[1;33m\u001b[0m\u001b[1;33m\u001b[0m\u001b[0m\n\u001b[0m\u001b[0;32m    831\u001b[0m \u001b[1;33m\u001b[0m\u001b[0m\n\u001b[0;32m    832\u001b[0m     \u001b[1;32mdef\u001b[0m \u001b[0mfind_elements\u001b[0m\u001b[1;33m(\u001b[0m\u001b[0mself\u001b[0m\u001b[1;33m,\u001b[0m \u001b[0mby\u001b[0m\u001b[1;33m=\u001b[0m\u001b[0mBy\u001b[0m\u001b[1;33m.\u001b[0m\u001b[0mID\u001b[0m\u001b[1;33m,\u001b[0m \u001b[0mvalue\u001b[0m\u001b[1;33m:\u001b[0m \u001b[0mOptional\u001b[0m\u001b[1;33m[\u001b[0m\u001b[0mstr\u001b[0m\u001b[1;33m]\u001b[0m \u001b[1;33m=\u001b[0m \u001b[1;32mNone\u001b[0m\u001b[1;33m)\u001b[0m \u001b[1;33m->\u001b[0m \u001b[0mList\u001b[0m\u001b[1;33m[\u001b[0m\u001b[0mWebElement\u001b[0m\u001b[1;33m]\u001b[0m\u001b[1;33m:\u001b[0m\u001b[1;33m\u001b[0m\u001b[1;33m\u001b[0m\u001b[0m\n",
      "\u001b[1;32m~\\AppData\\Roaming\\Python\\Python39\\site-packages\\selenium\\webdriver\\remote\\webdriver.py\u001b[0m in \u001b[0;36mexecute\u001b[1;34m(self, driver_command, params)\u001b[0m\n\u001b[0;32m    438\u001b[0m         \u001b[0mresponse\u001b[0m \u001b[1;33m=\u001b[0m \u001b[0mself\u001b[0m\u001b[1;33m.\u001b[0m\u001b[0mcommand_executor\u001b[0m\u001b[1;33m.\u001b[0m\u001b[0mexecute\u001b[0m\u001b[1;33m(\u001b[0m\u001b[0mdriver_command\u001b[0m\u001b[1;33m,\u001b[0m \u001b[0mparams\u001b[0m\u001b[1;33m)\u001b[0m\u001b[1;33m\u001b[0m\u001b[1;33m\u001b[0m\u001b[0m\n\u001b[0;32m    439\u001b[0m         \u001b[1;32mif\u001b[0m \u001b[0mresponse\u001b[0m\u001b[1;33m:\u001b[0m\u001b[1;33m\u001b[0m\u001b[1;33m\u001b[0m\u001b[0m\n\u001b[1;32m--> 440\u001b[1;33m             \u001b[0mself\u001b[0m\u001b[1;33m.\u001b[0m\u001b[0merror_handler\u001b[0m\u001b[1;33m.\u001b[0m\u001b[0mcheck_response\u001b[0m\u001b[1;33m(\u001b[0m\u001b[0mresponse\u001b[0m\u001b[1;33m)\u001b[0m\u001b[1;33m\u001b[0m\u001b[1;33m\u001b[0m\u001b[0m\n\u001b[0m\u001b[0;32m    441\u001b[0m             \u001b[0mresponse\u001b[0m\u001b[1;33m[\u001b[0m\u001b[1;34m\"value\"\u001b[0m\u001b[1;33m]\u001b[0m \u001b[1;33m=\u001b[0m \u001b[0mself\u001b[0m\u001b[1;33m.\u001b[0m\u001b[0m_unwrap_value\u001b[0m\u001b[1;33m(\u001b[0m\u001b[0mresponse\u001b[0m\u001b[1;33m.\u001b[0m\u001b[0mget\u001b[0m\u001b[1;33m(\u001b[0m\u001b[1;34m\"value\"\u001b[0m\u001b[1;33m,\u001b[0m \u001b[1;32mNone\u001b[0m\u001b[1;33m)\u001b[0m\u001b[1;33m)\u001b[0m\u001b[1;33m\u001b[0m\u001b[1;33m\u001b[0m\u001b[0m\n\u001b[0;32m    442\u001b[0m             \u001b[1;32mreturn\u001b[0m \u001b[0mresponse\u001b[0m\u001b[1;33m\u001b[0m\u001b[1;33m\u001b[0m\u001b[0m\n",
      "\u001b[1;32m~\\AppData\\Roaming\\Python\\Python39\\site-packages\\selenium\\webdriver\\remote\\errorhandler.py\u001b[0m in \u001b[0;36mcheck_response\u001b[1;34m(self, response)\u001b[0m\n\u001b[0;32m    243\u001b[0m                 \u001b[0malert_text\u001b[0m \u001b[1;33m=\u001b[0m \u001b[0mvalue\u001b[0m\u001b[1;33m[\u001b[0m\u001b[1;34m\"alert\"\u001b[0m\u001b[1;33m]\u001b[0m\u001b[1;33m.\u001b[0m\u001b[0mget\u001b[0m\u001b[1;33m(\u001b[0m\u001b[1;34m\"text\"\u001b[0m\u001b[1;33m)\u001b[0m\u001b[1;33m\u001b[0m\u001b[1;33m\u001b[0m\u001b[0m\n\u001b[0;32m    244\u001b[0m             \u001b[1;32mraise\u001b[0m \u001b[0mexception_class\u001b[0m\u001b[1;33m(\u001b[0m\u001b[0mmessage\u001b[0m\u001b[1;33m,\u001b[0m \u001b[0mscreen\u001b[0m\u001b[1;33m,\u001b[0m \u001b[0mstacktrace\u001b[0m\u001b[1;33m,\u001b[0m \u001b[0malert_text\u001b[0m\u001b[1;33m)\u001b[0m  \u001b[1;31m# type: ignore[call-arg]  # mypy is not smart enough here\u001b[0m\u001b[1;33m\u001b[0m\u001b[1;33m\u001b[0m\u001b[0m\n\u001b[1;32m--> 245\u001b[1;33m         \u001b[1;32mraise\u001b[0m \u001b[0mexception_class\u001b[0m\u001b[1;33m(\u001b[0m\u001b[0mmessage\u001b[0m\u001b[1;33m,\u001b[0m \u001b[0mscreen\u001b[0m\u001b[1;33m,\u001b[0m \u001b[0mstacktrace\u001b[0m\u001b[1;33m)\u001b[0m\u001b[1;33m\u001b[0m\u001b[1;33m\u001b[0m\u001b[0m\n\u001b[0m",
      "\u001b[1;31mNoSuchElementException\u001b[0m: Message: no such element: Unable to locate element: {\"method\":\"xpath\",\"selector\":\"//*[@id=\"tabCon2\"]/ul/li[4]/div[1]\"}\n  (Session info: chrome=111.0.5563.65)\nStacktrace:\nBacktrace:\n\t(No symbol) [0x0051DCE3]\n\t(No symbol) [0x004B39D1]\n\t(No symbol) [0x003C4DA8]\n\t(No symbol) [0x003F019F]\n\t(No symbol) [0x003F03AB]\n\t(No symbol) [0x0041EE62]\n\t(No symbol) [0x0040AF14]\n\t(No symbol) [0x0041D57C]\n\t(No symbol) [0x0040ACC6]\n\t(No symbol) [0x003E6F68]\n\t(No symbol) [0x003E80CD]\n\tGetHandleVerifier [0x00793832+2506274]\n\tGetHandleVerifier [0x007C9794+2727300]\n\tGetHandleVerifier [0x007CE36C+2746716]\n\tGetHandleVerifier [0x005C6690+617600]\n\t(No symbol) [0x004BC712]\n\t(No symbol) [0x004C1FF8]\n\t(No symbol) [0x004C20DB]\n\t(No symbol) [0x004CC63B]\n\tBaseThreadInitThunk [0x75887D69+25]\n\tRtlInitializeExceptionChain [0x773CB74B+107]\n\tRtlClearBits [0x773CB6CF+191]\n"
     ]
    }
   ],
   "source": [
    "#대구\n",
    "item_list3=[]\n",
    "for j in range(1,7):\n",
    "    for i in tqdm(range(1,11)):\n",
    "        xpath='//*[@id=\"tabCon2\"]/ul/li['+str(i)+']/div[1]'\n",
    "        item_list3.append(driver.find_element(By.XPATH, xpath).text)\n",
    "    xpath='//*[@id=\"tabCon2\"]/div[2]/a['+str(j+1)+']'\n",
    "    driver.find_element(By.XPATH, xpath).click()\n",
    "    time.sleep(1)\n",
    "print('끝')"
   ]
  },
  {
   "cell_type": "code",
   "execution_count": 201,
   "id": "084ae2e4",
   "metadata": {},
   "outputs": [
    {
     "data": {
      "text/plain": [
       "53"
      ]
     },
     "execution_count": 201,
     "metadata": {},
     "output_type": "execute_result"
    }
   ],
   "source": [
    "len(item_list3)"
   ]
  },
  {
   "cell_type": "code",
   "execution_count": 202,
   "id": "40f848a2",
   "metadata": {
    "scrolled": true
   },
   "outputs": [
    {
     "data": {
      "text/plain": [
       "['비슬산 군립공원\\n대구광역시 달성군',\n",
       " '파계사\\n대구광역시 동구',\n",
       " '동화사(대구)\\n대구광역시 동구',\n",
       " '대구앞산공원\\n대구광역시 남구',\n",
       " '대구두류공원\\n대구광역시 달서구',\n",
       " '동촌유원지\\n대구광역시 동구',\n",
       " '비슬산자연휴양림\\n대구광역시 달성군',\n",
       " '대구 오토바이골목\\n대구광역시 중구',\n",
       " '수성못유원지\\n대구광역시 수성구',\n",
       " '녹동서원\\n대구광역시 달성군',\n",
       " '봉무정\\n대구광역시 동구',\n",
       " '남평문씨본리세거지\\n대구광역시 달성군',\n",
       " '달성하목정\\n대구광역시 달성군',\n",
       " '대구서문시장&서문시장야시장\\n대구광역시 중구',\n",
       " '국립대구박물관\\n대구광역시 수성구',\n",
       " '도동서원 [유네스코 세계문화유산]\\n대구광역시 달성군',\n",
       " '현풍석빙고(상리석빙고)\\n대구광역시 달성군',\n",
       " '용연사(대구)\\n대구광역시 달성군',\n",
       " '이월드\\n대구광역시 달서구',\n",
       " '대구수목원\\n대구광역시 달서구',\n",
       " '마비정 벽화마을\\n대구광역시 달성군',\n",
       " '국립대구과학관\\n대구광역시 달성군',\n",
       " '중리동곱창골목\\n대구광역시 서구',\n",
       " '남산동 가톨릭타운(대구)\\n대구광역시 중구',\n",
       " '옹기종기행복마을\\n대구광역시 동구',\n",
       " '김광석길(김광석다시그리기길)\\n대구광역시 중구',\n",
       " '대구미술관\\n대구광역시 수성구',\n",
       " '달성 한일우호관\\n대구광역시 달성군',\n",
       " '대구 달성습지\\n대구광역시 달성군',\n",
       " '모명재\\n대구광역시 수성구',\n",
       " '공룡공원\\n대구광역시 남구',\n",
       " '앞산전망대(앞산케이블카)\\n대구광역시 남구',\n",
       " '이천동 99계단 벽화마을\\n대구광역시 남구',\n",
       " '고산골 (사진찍기 좋은 녹색명소)\\n대구광역시 남구',\n",
       " '반고개 무침회 골목\\n대구광역시 서구',\n",
       " '서부오미(味)가미(味)거리\\n대구광역시 서구',\n",
       " '와룡산(대구)\\n대구광역시 달서구',\n",
       " '대구근대골목(근대로의여행)\\n대구광역시 중구',\n",
       " '가창 찐빵 골목\\n대구광역시 달성군',\n",
       " '사문진주막촌\\n대구광역시 달성군',\n",
       " '국채보상운동기념공원\\n대구광역시 중구',\n",
       " '부인사(대구)\\n대구광역시 동구',\n",
       " '방천시장\\n대구광역시 중구',\n",
       " '앞산카페거리\\n대구광역시 남구',\n",
       " '동산청라언덕\\n대구광역시 중구',\n",
       " '옥연지송해공원\\n대구광역시 달성군',\n",
       " '수창청춘맨숀\\n대구광역시 중구',\n",
       " '동성로\\n대구광역시 중구',\n",
       " '대구하중도\\n대구광역시 북구',\n",
       " '아이니테마파크(대구스타디움점)\\n대구광역시 수성구',\n",
       " '대구평화시장\\n대구광역시 동구',\n",
       " '대구칠성시장\\n대구광역시 북구',\n",
       " '안지랑곱창골목\\n대구광역시 남구']"
      ]
     },
     "execution_count": 202,
     "metadata": {},
     "output_type": "execute_result"
    }
   ],
   "source": [
    "item_list3"
   ]
  },
  {
   "cell_type": "code",
   "execution_count": 127,
   "id": "ceceeb29",
   "metadata": {
    "collapsed": true
   },
   "outputs": [
    {
     "data": {
      "application/vnd.jupyter.widget-view+json": {
       "model_id": "5d6ff76c7f3443a190348bde31d743b0",
       "version_major": 2,
       "version_minor": 0
      },
      "text/plain": [
       "  0%|          | 0/10 [00:00<?, ?it/s]"
      ]
     },
     "metadata": {},
     "output_type": "display_data"
    },
    {
     "data": {
      "application/vnd.jupyter.widget-view+json": {
       "model_id": "131a0e7b55424acd81e3c3a5fd03f0f8",
       "version_major": 2,
       "version_minor": 0
      },
      "text/plain": [
       "  0%|          | 0/10 [00:00<?, ?it/s]"
      ]
     },
     "metadata": {},
     "output_type": "display_data"
    },
    {
     "data": {
      "application/vnd.jupyter.widget-view+json": {
       "model_id": "df3eff0ad57b4998b089546b59710d61",
       "version_major": 2,
       "version_minor": 0
      },
      "text/plain": [
       "  0%|          | 0/10 [00:00<?, ?it/s]"
      ]
     },
     "metadata": {},
     "output_type": "display_data"
    },
    {
     "data": {
      "application/vnd.jupyter.widget-view+json": {
       "model_id": "c34f7fc653164c249cdc5f53ca3303a0",
       "version_major": 2,
       "version_minor": 0
      },
      "text/plain": [
       "  0%|          | 0/10 [00:00<?, ?it/s]"
      ]
     },
     "metadata": {},
     "output_type": "display_data"
    },
    {
     "data": {
      "application/vnd.jupyter.widget-view+json": {
       "model_id": "43f38e8b56c6409a840feb4fdf1b4b75",
       "version_major": 2,
       "version_minor": 0
      },
      "text/plain": [
       "  0%|          | 0/10 [00:00<?, ?it/s]"
      ]
     },
     "metadata": {},
     "output_type": "display_data"
    },
    {
     "data": {
      "application/vnd.jupyter.widget-view+json": {
       "model_id": "7ec942aad01d41deb44d6b3ddd11a1d6",
       "version_major": 2,
       "version_minor": 0
      },
      "text/plain": [
       "  0%|          | 0/10 [00:00<?, ?it/s]"
      ]
     },
     "metadata": {},
     "output_type": "display_data"
    },
    {
     "data": {
      "application/vnd.jupyter.widget-view+json": {
       "model_id": "297b67f1e4034fceb0d36808b300fb86",
       "version_major": 2,
       "version_minor": 0
      },
      "text/plain": [
       "  0%|          | 0/10 [00:00<?, ?it/s]"
      ]
     },
     "metadata": {},
     "output_type": "display_data"
    },
    {
     "data": {
      "application/vnd.jupyter.widget-view+json": {
       "model_id": "3da07d09931c463391bda0ed1d2f0fae",
       "version_major": 2,
       "version_minor": 0
      },
      "text/plain": [
       "  0%|          | 0/10 [00:00<?, ?it/s]"
      ]
     },
     "metadata": {},
     "output_type": "display_data"
    },
    {
     "data": {
      "application/vnd.jupyter.widget-view+json": {
       "model_id": "8841797899c1493683a554b716b17ebb",
       "version_major": 2,
       "version_minor": 0
      },
      "text/plain": [
       "  0%|          | 0/10 [00:00<?, ?it/s]"
      ]
     },
     "metadata": {},
     "output_type": "display_data"
    },
    {
     "ename": "NoSuchElementException",
     "evalue": "Message: no such element: Unable to locate element: {\"method\":\"xpath\",\"selector\":\"//*[@id=\"tabCon2\"]/ul/li[4]/div[1]\"}\n  (Session info: chrome=111.0.5563.65)\nStacktrace:\nBacktrace:\n\t(No symbol) [0x0051DCE3]\n\t(No symbol) [0x004B39D1]\n\t(No symbol) [0x003C4DA8]\n\t(No symbol) [0x003F019F]\n\t(No symbol) [0x003F03AB]\n\t(No symbol) [0x0041EE62]\n\t(No symbol) [0x0040AF14]\n\t(No symbol) [0x0041D57C]\n\t(No symbol) [0x0040ACC6]\n\t(No symbol) [0x003E6F68]\n\t(No symbol) [0x003E80CD]\n\tGetHandleVerifier [0x00793832+2506274]\n\tGetHandleVerifier [0x007C9794+2727300]\n\tGetHandleVerifier [0x007CE36C+2746716]\n\tGetHandleVerifier [0x005C6690+617600]\n\t(No symbol) [0x004BC712]\n\t(No symbol) [0x004C1FF8]\n\t(No symbol) [0x004C20DB]\n\t(No symbol) [0x004CC63B]\n\tBaseThreadInitThunk [0x75887D69+25]\n\tRtlInitializeExceptionChain [0x773CB74B+107]\n\tRtlClearBits [0x773CB6CF+191]\n",
     "output_type": "error",
     "traceback": [
      "\u001b[1;31m---------------------------------------------------------------------------\u001b[0m",
      "\u001b[1;31mNoSuchElementException\u001b[0m                    Traceback (most recent call last)",
      "\u001b[1;32m~\\AppData\\Local\\Temp\\ipykernel_19340\\4146302392.py\u001b[0m in \u001b[0;36m<module>\u001b[1;34m\u001b[0m\n\u001b[0;32m      3\u001b[0m     \u001b[1;32mfor\u001b[0m \u001b[0mi\u001b[0m \u001b[1;32min\u001b[0m \u001b[0mtqdm\u001b[0m\u001b[1;33m(\u001b[0m\u001b[0mrange\u001b[0m\u001b[1;33m(\u001b[0m\u001b[1;36m1\u001b[0m\u001b[1;33m,\u001b[0m\u001b[1;36m11\u001b[0m\u001b[1;33m)\u001b[0m\u001b[1;33m)\u001b[0m\u001b[1;33m:\u001b[0m\u001b[1;33m\u001b[0m\u001b[1;33m\u001b[0m\u001b[0m\n\u001b[0;32m      4\u001b[0m         \u001b[0mxpath\u001b[0m\u001b[1;33m=\u001b[0m\u001b[1;34m'//*[@id=\"tabCon2\"]/ul/li['\u001b[0m\u001b[1;33m+\u001b[0m\u001b[0mstr\u001b[0m\u001b[1;33m(\u001b[0m\u001b[0mi\u001b[0m\u001b[1;33m)\u001b[0m\u001b[1;33m+\u001b[0m\u001b[1;34m']/div[1]'\u001b[0m\u001b[1;33m\u001b[0m\u001b[1;33m\u001b[0m\u001b[0m\n\u001b[1;32m----> 5\u001b[1;33m         \u001b[0mitem_list4\u001b[0m\u001b[1;33m.\u001b[0m\u001b[0mappend\u001b[0m\u001b[1;33m(\u001b[0m\u001b[0mdriver\u001b[0m\u001b[1;33m.\u001b[0m\u001b[0mfind_element\u001b[0m\u001b[1;33m(\u001b[0m\u001b[0mBy\u001b[0m\u001b[1;33m.\u001b[0m\u001b[0mXPATH\u001b[0m\u001b[1;33m,\u001b[0m \u001b[0mxpath\u001b[0m\u001b[1;33m)\u001b[0m\u001b[1;33m.\u001b[0m\u001b[0mtext\u001b[0m\u001b[1;33m)\u001b[0m\u001b[1;33m\u001b[0m\u001b[1;33m\u001b[0m\u001b[0m\n\u001b[0m\u001b[0;32m      6\u001b[0m     \u001b[0mxpath\u001b[0m\u001b[1;33m=\u001b[0m\u001b[1;34m'//*[@id=\"tabCon2\"]/div[2]/a['\u001b[0m\u001b[1;33m+\u001b[0m\u001b[0mstr\u001b[0m\u001b[1;33m(\u001b[0m\u001b[0mj\u001b[0m\u001b[1;33m+\u001b[0m\u001b[1;36m1\u001b[0m\u001b[1;33m)\u001b[0m\u001b[1;33m+\u001b[0m\u001b[1;34m']'\u001b[0m\u001b[1;33m\u001b[0m\u001b[1;33m\u001b[0m\u001b[0m\n\u001b[0;32m      7\u001b[0m     \u001b[0mdriver\u001b[0m\u001b[1;33m.\u001b[0m\u001b[0mfind_element\u001b[0m\u001b[1;33m(\u001b[0m\u001b[0mBy\u001b[0m\u001b[1;33m.\u001b[0m\u001b[0mXPATH\u001b[0m\u001b[1;33m,\u001b[0m \u001b[0mxpath\u001b[0m\u001b[1;33m)\u001b[0m\u001b[1;33m.\u001b[0m\u001b[0mclick\u001b[0m\u001b[1;33m(\u001b[0m\u001b[1;33m)\u001b[0m\u001b[1;33m\u001b[0m\u001b[1;33m\u001b[0m\u001b[0m\n",
      "\u001b[1;32m~\\AppData\\Roaming\\Python\\Python39\\site-packages\\selenium\\webdriver\\remote\\webdriver.py\u001b[0m in \u001b[0;36mfind_element\u001b[1;34m(self, by, value)\u001b[0m\n\u001b[0;32m    828\u001b[0m             \u001b[0mvalue\u001b[0m \u001b[1;33m=\u001b[0m \u001b[1;34mf'[name=\"{value}\"]'\u001b[0m\u001b[1;33m\u001b[0m\u001b[1;33m\u001b[0m\u001b[0m\n\u001b[0;32m    829\u001b[0m \u001b[1;33m\u001b[0m\u001b[0m\n\u001b[1;32m--> 830\u001b[1;33m         \u001b[1;32mreturn\u001b[0m \u001b[0mself\u001b[0m\u001b[1;33m.\u001b[0m\u001b[0mexecute\u001b[0m\u001b[1;33m(\u001b[0m\u001b[0mCommand\u001b[0m\u001b[1;33m.\u001b[0m\u001b[0mFIND_ELEMENT\u001b[0m\u001b[1;33m,\u001b[0m \u001b[1;33m{\u001b[0m\u001b[1;34m\"using\"\u001b[0m\u001b[1;33m:\u001b[0m \u001b[0mby\u001b[0m\u001b[1;33m,\u001b[0m \u001b[1;34m\"value\"\u001b[0m\u001b[1;33m:\u001b[0m \u001b[0mvalue\u001b[0m\u001b[1;33m}\u001b[0m\u001b[1;33m)\u001b[0m\u001b[1;33m[\u001b[0m\u001b[1;34m\"value\"\u001b[0m\u001b[1;33m]\u001b[0m\u001b[1;33m\u001b[0m\u001b[1;33m\u001b[0m\u001b[0m\n\u001b[0m\u001b[0;32m    831\u001b[0m \u001b[1;33m\u001b[0m\u001b[0m\n\u001b[0;32m    832\u001b[0m     \u001b[1;32mdef\u001b[0m \u001b[0mfind_elements\u001b[0m\u001b[1;33m(\u001b[0m\u001b[0mself\u001b[0m\u001b[1;33m,\u001b[0m \u001b[0mby\u001b[0m\u001b[1;33m=\u001b[0m\u001b[0mBy\u001b[0m\u001b[1;33m.\u001b[0m\u001b[0mID\u001b[0m\u001b[1;33m,\u001b[0m \u001b[0mvalue\u001b[0m\u001b[1;33m:\u001b[0m \u001b[0mOptional\u001b[0m\u001b[1;33m[\u001b[0m\u001b[0mstr\u001b[0m\u001b[1;33m]\u001b[0m \u001b[1;33m=\u001b[0m \u001b[1;32mNone\u001b[0m\u001b[1;33m)\u001b[0m \u001b[1;33m->\u001b[0m \u001b[0mList\u001b[0m\u001b[1;33m[\u001b[0m\u001b[0mWebElement\u001b[0m\u001b[1;33m]\u001b[0m\u001b[1;33m:\u001b[0m\u001b[1;33m\u001b[0m\u001b[1;33m\u001b[0m\u001b[0m\n",
      "\u001b[1;32m~\\AppData\\Roaming\\Python\\Python39\\site-packages\\selenium\\webdriver\\remote\\webdriver.py\u001b[0m in \u001b[0;36mexecute\u001b[1;34m(self, driver_command, params)\u001b[0m\n\u001b[0;32m    438\u001b[0m         \u001b[0mresponse\u001b[0m \u001b[1;33m=\u001b[0m \u001b[0mself\u001b[0m\u001b[1;33m.\u001b[0m\u001b[0mcommand_executor\u001b[0m\u001b[1;33m.\u001b[0m\u001b[0mexecute\u001b[0m\u001b[1;33m(\u001b[0m\u001b[0mdriver_command\u001b[0m\u001b[1;33m,\u001b[0m \u001b[0mparams\u001b[0m\u001b[1;33m)\u001b[0m\u001b[1;33m\u001b[0m\u001b[1;33m\u001b[0m\u001b[0m\n\u001b[0;32m    439\u001b[0m         \u001b[1;32mif\u001b[0m \u001b[0mresponse\u001b[0m\u001b[1;33m:\u001b[0m\u001b[1;33m\u001b[0m\u001b[1;33m\u001b[0m\u001b[0m\n\u001b[1;32m--> 440\u001b[1;33m             \u001b[0mself\u001b[0m\u001b[1;33m.\u001b[0m\u001b[0merror_handler\u001b[0m\u001b[1;33m.\u001b[0m\u001b[0mcheck_response\u001b[0m\u001b[1;33m(\u001b[0m\u001b[0mresponse\u001b[0m\u001b[1;33m)\u001b[0m\u001b[1;33m\u001b[0m\u001b[1;33m\u001b[0m\u001b[0m\n\u001b[0m\u001b[0;32m    441\u001b[0m             \u001b[0mresponse\u001b[0m\u001b[1;33m[\u001b[0m\u001b[1;34m\"value\"\u001b[0m\u001b[1;33m]\u001b[0m \u001b[1;33m=\u001b[0m \u001b[0mself\u001b[0m\u001b[1;33m.\u001b[0m\u001b[0m_unwrap_value\u001b[0m\u001b[1;33m(\u001b[0m\u001b[0mresponse\u001b[0m\u001b[1;33m.\u001b[0m\u001b[0mget\u001b[0m\u001b[1;33m(\u001b[0m\u001b[1;34m\"value\"\u001b[0m\u001b[1;33m,\u001b[0m \u001b[1;32mNone\u001b[0m\u001b[1;33m)\u001b[0m\u001b[1;33m)\u001b[0m\u001b[1;33m\u001b[0m\u001b[1;33m\u001b[0m\u001b[0m\n\u001b[0;32m    442\u001b[0m             \u001b[1;32mreturn\u001b[0m \u001b[0mresponse\u001b[0m\u001b[1;33m\u001b[0m\u001b[1;33m\u001b[0m\u001b[0m\n",
      "\u001b[1;32m~\\AppData\\Roaming\\Python\\Python39\\site-packages\\selenium\\webdriver\\remote\\errorhandler.py\u001b[0m in \u001b[0;36mcheck_response\u001b[1;34m(self, response)\u001b[0m\n\u001b[0;32m    243\u001b[0m                 \u001b[0malert_text\u001b[0m \u001b[1;33m=\u001b[0m \u001b[0mvalue\u001b[0m\u001b[1;33m[\u001b[0m\u001b[1;34m\"alert\"\u001b[0m\u001b[1;33m]\u001b[0m\u001b[1;33m.\u001b[0m\u001b[0mget\u001b[0m\u001b[1;33m(\u001b[0m\u001b[1;34m\"text\"\u001b[0m\u001b[1;33m)\u001b[0m\u001b[1;33m\u001b[0m\u001b[1;33m\u001b[0m\u001b[0m\n\u001b[0;32m    244\u001b[0m             \u001b[1;32mraise\u001b[0m \u001b[0mexception_class\u001b[0m\u001b[1;33m(\u001b[0m\u001b[0mmessage\u001b[0m\u001b[1;33m,\u001b[0m \u001b[0mscreen\u001b[0m\u001b[1;33m,\u001b[0m \u001b[0mstacktrace\u001b[0m\u001b[1;33m,\u001b[0m \u001b[0malert_text\u001b[0m\u001b[1;33m)\u001b[0m  \u001b[1;31m# type: ignore[call-arg]  # mypy is not smart enough here\u001b[0m\u001b[1;33m\u001b[0m\u001b[1;33m\u001b[0m\u001b[0m\n\u001b[1;32m--> 245\u001b[1;33m         \u001b[1;32mraise\u001b[0m \u001b[0mexception_class\u001b[0m\u001b[1;33m(\u001b[0m\u001b[0mmessage\u001b[0m\u001b[1;33m,\u001b[0m \u001b[0mscreen\u001b[0m\u001b[1;33m,\u001b[0m \u001b[0mstacktrace\u001b[0m\u001b[1;33m)\u001b[0m\u001b[1;33m\u001b[0m\u001b[1;33m\u001b[0m\u001b[0m\n\u001b[0m",
      "\u001b[1;31mNoSuchElementException\u001b[0m: Message: no such element: Unable to locate element: {\"method\":\"xpath\",\"selector\":\"//*[@id=\"tabCon2\"]/ul/li[4]/div[1]\"}\n  (Session info: chrome=111.0.5563.65)\nStacktrace:\nBacktrace:\n\t(No symbol) [0x0051DCE3]\n\t(No symbol) [0x004B39D1]\n\t(No symbol) [0x003C4DA8]\n\t(No symbol) [0x003F019F]\n\t(No symbol) [0x003F03AB]\n\t(No symbol) [0x0041EE62]\n\t(No symbol) [0x0040AF14]\n\t(No symbol) [0x0041D57C]\n\t(No symbol) [0x0040ACC6]\n\t(No symbol) [0x003E6F68]\n\t(No symbol) [0x003E80CD]\n\tGetHandleVerifier [0x00793832+2506274]\n\tGetHandleVerifier [0x007C9794+2727300]\n\tGetHandleVerifier [0x007CE36C+2746716]\n\tGetHandleVerifier [0x005C6690+617600]\n\t(No symbol) [0x004BC712]\n\t(No symbol) [0x004C1FF8]\n\t(No symbol) [0x004C20DB]\n\t(No symbol) [0x004CC63B]\n\tBaseThreadInitThunk [0x75887D69+25]\n\tRtlInitializeExceptionChain [0x773CB74B+107]\n\tRtlClearBits [0x773CB6CF+191]\n"
     ]
    }
   ],
   "source": [
    "#인천\n",
    "item_list4=[]\n",
    "for j in range(1,10):\n",
    "    for i in tqdm(range(1,11)):\n",
    "        xpath='//*[@id=\"tabCon2\"]/ul/li['+str(i)+']/div[1]'\n",
    "        item_list4.append(driver.find_element(By.XPATH, xpath).text)\n",
    "    xpath='//*[@id=\"tabCon2\"]/div[2]/a['+str(j+1)+']'\n",
    "    driver.find_element(By.XPATH, xpath).click()\n",
    "    time.sleep(1)\n",
    "print('끝')"
   ]
  },
  {
   "cell_type": "code",
   "execution_count": 203,
   "id": "77175379",
   "metadata": {},
   "outputs": [
    {
     "data": {
      "text/plain": [
       "83"
      ]
     },
     "execution_count": 203,
     "metadata": {},
     "output_type": "execute_result"
    }
   ],
   "source": [
    "len(item_list4)"
   ]
  },
  {
   "cell_type": "code",
   "execution_count": 204,
   "id": "fd70d3bb",
   "metadata": {
    "scrolled": true
   },
   "outputs": [
    {
     "data": {
      "text/plain": [
       "['석모도미네랄온천\\n인천광역시 강화군',\n",
       " '인천나비공원\\n인천광역시 부평구',\n",
       " '용흥궁\\n인천광역시 강화군',\n",
       " '신시모도\\n인천광역시 옹진군',\n",
       " '소래포구\\n인천광역시 남동구',\n",
       " '교동향교\\n인천광역시 강화군',\n",
       " '사곶해변\\n인천광역시 옹진군',\n",
       " '애보박물관\\n인천광역시 남동구',\n",
       " '인천시립박물관컴팩스마트시티\\n인천광역시 연수구',\n",
       " '강화갯벌 및 저어새번식지\\n인천광역시 강화군',\n",
       " '고려궁지\\n인천광역시 강화군',\n",
       " '볼음도(저어새 생태마을)\\n인천광역시 강화군',\n",
       " '화도진지\\n인천광역시 동구',\n",
       " '이작도(풀등+갯티길)\\n인천광역시 옹진군',\n",
       " '무의도\\n인천광역시 중구',\n",
       " '신트리공원\\n인천광역시 부평구',\n",
       " '강화 고인돌 유적 [유네스코 세계문화유산]\\n인천광역시 강화군',\n",
       " '전등사(강화)\\n인천광역시 강화군',\n",
       " '보문사(강화)\\n인천광역시 강화군',\n",
       " '백령도\\n인천광역시 옹진군',\n",
       " '인천대공원\\n인천광역시 남동구',\n",
       " '대청도\\n인천광역시 옹진군',\n",
       " '장봉도\\n인천광역시 옹진군',\n",
       " '선재도(선재도 어촌체험마을)\\n인천광역시 옹진군',\n",
       " '석모도\\n인천광역시 강화군',\n",
       " '영흥도\\n인천광역시 옹진군',\n",
       " '월미도\\n인천광역시 중구',\n",
       " '연평도(대/소 연평도)\\n인천광역시 옹진군',\n",
       " '광성보\\n인천광역시 강화군',\n",
       " '강화덕진진\\n인천광역시 강화군',\n",
       " '왕산해수욕장\\n인천광역시 중구',\n",
       " '실미해수욕장\\n인천광역시 중구',\n",
       " '장봉도 진촌해변\\n인천광역시 옹진군',\n",
       " '팔미도등대\\n인천광역시 중구',\n",
       " '장경리해수욕장\\n인천광역시 옹진군',\n",
       " '용진진\\n인천광역시 강화군',\n",
       " '대한성공회 강화성당\\n인천광역시 강화군',\n",
       " '을왕리해수욕장\\n인천광역시 중구',\n",
       " '서어나무(소사나무)군락지\\n인천광역시 옹진군',\n",
       " '강화 초지진\\n인천광역시 강화군',\n",
       " '장곶돈대\\n인천광역시 강화군',\n",
       " '아암도해안공원\\n인천광역시 연수구',\n",
       " '강화풍물시장\\n인천광역시 강화군',\n",
       " '수도국산달동네박물관\\n인천광역시 동구',\n",
       " '심은미술관\\n인천광역시 강화군',\n",
       " '강화역사박물관\\n인천광역시 강화군',\n",
       " '후포항 선수포구\\n인천광역시 강화군',\n",
       " '인천도호부청사\\n인천광역시 미추홀구',\n",
       " '강화 화문석마을\\n인천광역시 강화군',\n",
       " '주문도\\n인천광역시 강화군',\n",
       " '석모도미네랄온천\\n인천광역시 강화군',\n",
       " '인천나비공원\\n인천광역시 부평구',\n",
       " '용흥궁\\n인천광역시 강화군',\n",
       " '신시모도\\n인천광역시 옹진군',\n",
       " '소래포구\\n인천광역시 남동구',\n",
       " '교동향교\\n인천광역시 강화군',\n",
       " '사곶해변\\n인천광역시 옹진군',\n",
       " '애보박물관\\n인천광역시 남동구',\n",
       " '인천시립박물관컴팩스마트시티\\n인천광역시 연수구',\n",
       " '강화갯벌 및 저어새번식지\\n인천광역시 강화군',\n",
       " '고려산\\n인천광역시 강화군',\n",
       " '수기해변\\n인천광역시 옹진군',\n",
       " '용유도 마시안해변\\n인천광역시 중구',\n",
       " '인천차이나타운\\n인천광역시 중구',\n",
       " '소리체험박물관\\n인천광역시 강화군',\n",
       " '세어도\\n인천광역시 서구',\n",
       " '강화 서도 중앙교회\\n인천광역시 강화군',\n",
       " '교동도 대룡시장\\n인천광역시 강화군',\n",
       " '석모도 수목원\\n인천광역시 강화군',\n",
       " '석모도 자연휴양림\\n인천광역시 강화군',\n",
       " '인천 푸른벗말\\n인천광역시 옹진군',\n",
       " '밧지름해변\\n인천광역시 옹진군',\n",
       " '서포리해변\\n인천광역시 옹진군',\n",
       " '팔미도 유람선\\n인천광역시 중구',\n",
       " '인천 화평동 세숫대야 냉면 거리\\n인천광역시 동구',\n",
       " '강화해수랜드\\n인천광역시 강화군',\n",
       " '강화도제적봉 평화전망대\\n인천광역시 강화군',\n",
       " '영흥도 십리포해변\\n인천광역시 옹진군',\n",
       " '백령도 콩돌해변\\n인천광역시 옹진군',\n",
       " '옹진 백령도 두무진\\n인천광역시 옹진군',\n",
       " '교동도(강화)\\n인천광역시 강화군',\n",
       " '강화 아르미애월드\\n인천광역시 강화군',\n",
       " '인천검단선사박물관\\n인천광역시 서구']"
      ]
     },
     "execution_count": 204,
     "metadata": {},
     "output_type": "execute_result"
    }
   ],
   "source": [
    "item_list4"
   ]
  },
  {
   "cell_type": "code",
   "execution_count": 133,
   "id": "8d42b2a7",
   "metadata": {
    "collapsed": true
   },
   "outputs": [
    {
     "data": {
      "application/vnd.jupyter.widget-view+json": {
       "model_id": "06dbe2ff7e94424581e9b34e973e175a",
       "version_major": 2,
       "version_minor": 0
      },
      "text/plain": [
       "  0%|          | 0/10 [00:00<?, ?it/s]"
      ]
     },
     "metadata": {},
     "output_type": "display_data"
    },
    {
     "data": {
      "application/vnd.jupyter.widget-view+json": {
       "model_id": "724286e0f6e345c89f54bf2f7f150fda",
       "version_major": 2,
       "version_minor": 0
      },
      "text/plain": [
       "  0%|          | 0/10 [00:00<?, ?it/s]"
      ]
     },
     "metadata": {},
     "output_type": "display_data"
    },
    {
     "data": {
      "application/vnd.jupyter.widget-view+json": {
       "model_id": "19ff19e848ce4e2b918e9b8cf9fc157b",
       "version_major": 2,
       "version_minor": 0
      },
      "text/plain": [
       "  0%|          | 0/10 [00:00<?, ?it/s]"
      ]
     },
     "metadata": {},
     "output_type": "display_data"
    },
    {
     "ename": "NoSuchElementException",
     "evalue": "Message: no such element: Unable to locate element: {\"method\":\"xpath\",\"selector\":\"//*[@id=\"tabCon2\"]/ul/li[8]/div[1]\"}\n  (Session info: chrome=111.0.5563.65)\nStacktrace:\nBacktrace:\n\t(No symbol) [0x0051DCE3]\n\t(No symbol) [0x004B39D1]\n\t(No symbol) [0x003C4DA8]\n\t(No symbol) [0x003F019F]\n\t(No symbol) [0x003F03AB]\n\t(No symbol) [0x0041EE62]\n\t(No symbol) [0x0040AF14]\n\t(No symbol) [0x0041D57C]\n\t(No symbol) [0x0040ACC6]\n\t(No symbol) [0x003E6F68]\n\t(No symbol) [0x003E80CD]\n\tGetHandleVerifier [0x00793832+2506274]\n\tGetHandleVerifier [0x007C9794+2727300]\n\tGetHandleVerifier [0x007CE36C+2746716]\n\tGetHandleVerifier [0x005C6690+617600]\n\t(No symbol) [0x004BC712]\n\t(No symbol) [0x004C1FF8]\n\t(No symbol) [0x004C20DB]\n\t(No symbol) [0x004CC63B]\n\tBaseThreadInitThunk [0x75887D69+25]\n\tRtlInitializeExceptionChain [0x773CB74B+107]\n\tRtlClearBits [0x773CB6CF+191]\n",
     "output_type": "error",
     "traceback": [
      "\u001b[1;31m---------------------------------------------------------------------------\u001b[0m",
      "\u001b[1;31mNoSuchElementException\u001b[0m                    Traceback (most recent call last)",
      "\u001b[1;32m~\\AppData\\Local\\Temp\\ipykernel_19340\\1316371566.py\u001b[0m in \u001b[0;36m<module>\u001b[1;34m\u001b[0m\n\u001b[0;32m      3\u001b[0m     \u001b[1;32mfor\u001b[0m \u001b[0mi\u001b[0m \u001b[1;32min\u001b[0m \u001b[0mtqdm\u001b[0m\u001b[1;33m(\u001b[0m\u001b[0mrange\u001b[0m\u001b[1;33m(\u001b[0m\u001b[1;36m1\u001b[0m\u001b[1;33m,\u001b[0m\u001b[1;36m11\u001b[0m\u001b[1;33m)\u001b[0m\u001b[1;33m)\u001b[0m\u001b[1;33m:\u001b[0m\u001b[1;33m\u001b[0m\u001b[1;33m\u001b[0m\u001b[0m\n\u001b[0;32m      4\u001b[0m         \u001b[0mxpath\u001b[0m\u001b[1;33m=\u001b[0m\u001b[1;34m'//*[@id=\"tabCon2\"]/ul/li['\u001b[0m\u001b[1;33m+\u001b[0m\u001b[0mstr\u001b[0m\u001b[1;33m(\u001b[0m\u001b[0mi\u001b[0m\u001b[1;33m)\u001b[0m\u001b[1;33m+\u001b[0m\u001b[1;34m']/div[1]'\u001b[0m\u001b[1;33m\u001b[0m\u001b[1;33m\u001b[0m\u001b[0m\n\u001b[1;32m----> 5\u001b[1;33m         \u001b[0mitem_list5\u001b[0m\u001b[1;33m.\u001b[0m\u001b[0mappend\u001b[0m\u001b[1;33m(\u001b[0m\u001b[0mdriver\u001b[0m\u001b[1;33m.\u001b[0m\u001b[0mfind_element\u001b[0m\u001b[1;33m(\u001b[0m\u001b[0mBy\u001b[0m\u001b[1;33m.\u001b[0m\u001b[0mXPATH\u001b[0m\u001b[1;33m,\u001b[0m \u001b[0mxpath\u001b[0m\u001b[1;33m)\u001b[0m\u001b[1;33m.\u001b[0m\u001b[0mtext\u001b[0m\u001b[1;33m)\u001b[0m\u001b[1;33m\u001b[0m\u001b[1;33m\u001b[0m\u001b[0m\n\u001b[0m\u001b[0;32m      6\u001b[0m     \u001b[0mxpath\u001b[0m\u001b[1;33m=\u001b[0m\u001b[1;34m'//*[@id=\"tabCon2\"]/div[2]/a['\u001b[0m\u001b[1;33m+\u001b[0m\u001b[0mstr\u001b[0m\u001b[1;33m(\u001b[0m\u001b[0mj\u001b[0m\u001b[1;33m+\u001b[0m\u001b[1;36m1\u001b[0m\u001b[1;33m)\u001b[0m\u001b[1;33m+\u001b[0m\u001b[1;34m']'\u001b[0m\u001b[1;33m\u001b[0m\u001b[1;33m\u001b[0m\u001b[0m\n\u001b[0;32m      7\u001b[0m     \u001b[0mdriver\u001b[0m\u001b[1;33m.\u001b[0m\u001b[0mfind_element\u001b[0m\u001b[1;33m(\u001b[0m\u001b[0mBy\u001b[0m\u001b[1;33m.\u001b[0m\u001b[0mXPATH\u001b[0m\u001b[1;33m,\u001b[0m \u001b[0mxpath\u001b[0m\u001b[1;33m)\u001b[0m\u001b[1;33m.\u001b[0m\u001b[0mclick\u001b[0m\u001b[1;33m(\u001b[0m\u001b[1;33m)\u001b[0m\u001b[1;33m\u001b[0m\u001b[1;33m\u001b[0m\u001b[0m\n",
      "\u001b[1;32m~\\AppData\\Roaming\\Python\\Python39\\site-packages\\selenium\\webdriver\\remote\\webdriver.py\u001b[0m in \u001b[0;36mfind_element\u001b[1;34m(self, by, value)\u001b[0m\n\u001b[0;32m    828\u001b[0m             \u001b[0mvalue\u001b[0m \u001b[1;33m=\u001b[0m \u001b[1;34mf'[name=\"{value}\"]'\u001b[0m\u001b[1;33m\u001b[0m\u001b[1;33m\u001b[0m\u001b[0m\n\u001b[0;32m    829\u001b[0m \u001b[1;33m\u001b[0m\u001b[0m\n\u001b[1;32m--> 830\u001b[1;33m         \u001b[1;32mreturn\u001b[0m \u001b[0mself\u001b[0m\u001b[1;33m.\u001b[0m\u001b[0mexecute\u001b[0m\u001b[1;33m(\u001b[0m\u001b[0mCommand\u001b[0m\u001b[1;33m.\u001b[0m\u001b[0mFIND_ELEMENT\u001b[0m\u001b[1;33m,\u001b[0m \u001b[1;33m{\u001b[0m\u001b[1;34m\"using\"\u001b[0m\u001b[1;33m:\u001b[0m \u001b[0mby\u001b[0m\u001b[1;33m,\u001b[0m \u001b[1;34m\"value\"\u001b[0m\u001b[1;33m:\u001b[0m \u001b[0mvalue\u001b[0m\u001b[1;33m}\u001b[0m\u001b[1;33m)\u001b[0m\u001b[1;33m[\u001b[0m\u001b[1;34m\"value\"\u001b[0m\u001b[1;33m]\u001b[0m\u001b[1;33m\u001b[0m\u001b[1;33m\u001b[0m\u001b[0m\n\u001b[0m\u001b[0;32m    831\u001b[0m \u001b[1;33m\u001b[0m\u001b[0m\n\u001b[0;32m    832\u001b[0m     \u001b[1;32mdef\u001b[0m \u001b[0mfind_elements\u001b[0m\u001b[1;33m(\u001b[0m\u001b[0mself\u001b[0m\u001b[1;33m,\u001b[0m \u001b[0mby\u001b[0m\u001b[1;33m=\u001b[0m\u001b[0mBy\u001b[0m\u001b[1;33m.\u001b[0m\u001b[0mID\u001b[0m\u001b[1;33m,\u001b[0m \u001b[0mvalue\u001b[0m\u001b[1;33m:\u001b[0m \u001b[0mOptional\u001b[0m\u001b[1;33m[\u001b[0m\u001b[0mstr\u001b[0m\u001b[1;33m]\u001b[0m \u001b[1;33m=\u001b[0m \u001b[1;32mNone\u001b[0m\u001b[1;33m)\u001b[0m \u001b[1;33m->\u001b[0m \u001b[0mList\u001b[0m\u001b[1;33m[\u001b[0m\u001b[0mWebElement\u001b[0m\u001b[1;33m]\u001b[0m\u001b[1;33m:\u001b[0m\u001b[1;33m\u001b[0m\u001b[1;33m\u001b[0m\u001b[0m\n",
      "\u001b[1;32m~\\AppData\\Roaming\\Python\\Python39\\site-packages\\selenium\\webdriver\\remote\\webdriver.py\u001b[0m in \u001b[0;36mexecute\u001b[1;34m(self, driver_command, params)\u001b[0m\n\u001b[0;32m    438\u001b[0m         \u001b[0mresponse\u001b[0m \u001b[1;33m=\u001b[0m \u001b[0mself\u001b[0m\u001b[1;33m.\u001b[0m\u001b[0mcommand_executor\u001b[0m\u001b[1;33m.\u001b[0m\u001b[0mexecute\u001b[0m\u001b[1;33m(\u001b[0m\u001b[0mdriver_command\u001b[0m\u001b[1;33m,\u001b[0m \u001b[0mparams\u001b[0m\u001b[1;33m)\u001b[0m\u001b[1;33m\u001b[0m\u001b[1;33m\u001b[0m\u001b[0m\n\u001b[0;32m    439\u001b[0m         \u001b[1;32mif\u001b[0m \u001b[0mresponse\u001b[0m\u001b[1;33m:\u001b[0m\u001b[1;33m\u001b[0m\u001b[1;33m\u001b[0m\u001b[0m\n\u001b[1;32m--> 440\u001b[1;33m             \u001b[0mself\u001b[0m\u001b[1;33m.\u001b[0m\u001b[0merror_handler\u001b[0m\u001b[1;33m.\u001b[0m\u001b[0mcheck_response\u001b[0m\u001b[1;33m(\u001b[0m\u001b[0mresponse\u001b[0m\u001b[1;33m)\u001b[0m\u001b[1;33m\u001b[0m\u001b[1;33m\u001b[0m\u001b[0m\n\u001b[0m\u001b[0;32m    441\u001b[0m             \u001b[0mresponse\u001b[0m\u001b[1;33m[\u001b[0m\u001b[1;34m\"value\"\u001b[0m\u001b[1;33m]\u001b[0m \u001b[1;33m=\u001b[0m \u001b[0mself\u001b[0m\u001b[1;33m.\u001b[0m\u001b[0m_unwrap_value\u001b[0m\u001b[1;33m(\u001b[0m\u001b[0mresponse\u001b[0m\u001b[1;33m.\u001b[0m\u001b[0mget\u001b[0m\u001b[1;33m(\u001b[0m\u001b[1;34m\"value\"\u001b[0m\u001b[1;33m,\u001b[0m \u001b[1;32mNone\u001b[0m\u001b[1;33m)\u001b[0m\u001b[1;33m)\u001b[0m\u001b[1;33m\u001b[0m\u001b[1;33m\u001b[0m\u001b[0m\n\u001b[0;32m    442\u001b[0m             \u001b[1;32mreturn\u001b[0m \u001b[0mresponse\u001b[0m\u001b[1;33m\u001b[0m\u001b[1;33m\u001b[0m\u001b[0m\n",
      "\u001b[1;32m~\\AppData\\Roaming\\Python\\Python39\\site-packages\\selenium\\webdriver\\remote\\errorhandler.py\u001b[0m in \u001b[0;36mcheck_response\u001b[1;34m(self, response)\u001b[0m\n\u001b[0;32m    243\u001b[0m                 \u001b[0malert_text\u001b[0m \u001b[1;33m=\u001b[0m \u001b[0mvalue\u001b[0m\u001b[1;33m[\u001b[0m\u001b[1;34m\"alert\"\u001b[0m\u001b[1;33m]\u001b[0m\u001b[1;33m.\u001b[0m\u001b[0mget\u001b[0m\u001b[1;33m(\u001b[0m\u001b[1;34m\"text\"\u001b[0m\u001b[1;33m)\u001b[0m\u001b[1;33m\u001b[0m\u001b[1;33m\u001b[0m\u001b[0m\n\u001b[0;32m    244\u001b[0m             \u001b[1;32mraise\u001b[0m \u001b[0mexception_class\u001b[0m\u001b[1;33m(\u001b[0m\u001b[0mmessage\u001b[0m\u001b[1;33m,\u001b[0m \u001b[0mscreen\u001b[0m\u001b[1;33m,\u001b[0m \u001b[0mstacktrace\u001b[0m\u001b[1;33m,\u001b[0m \u001b[0malert_text\u001b[0m\u001b[1;33m)\u001b[0m  \u001b[1;31m# type: ignore[call-arg]  # mypy is not smart enough here\u001b[0m\u001b[1;33m\u001b[0m\u001b[1;33m\u001b[0m\u001b[0m\n\u001b[1;32m--> 245\u001b[1;33m         \u001b[1;32mraise\u001b[0m \u001b[0mexception_class\u001b[0m\u001b[1;33m(\u001b[0m\u001b[0mmessage\u001b[0m\u001b[1;33m,\u001b[0m \u001b[0mscreen\u001b[0m\u001b[1;33m,\u001b[0m \u001b[0mstacktrace\u001b[0m\u001b[1;33m)\u001b[0m\u001b[1;33m\u001b[0m\u001b[1;33m\u001b[0m\u001b[0m\n\u001b[0m",
      "\u001b[1;31mNoSuchElementException\u001b[0m: Message: no such element: Unable to locate element: {\"method\":\"xpath\",\"selector\":\"//*[@id=\"tabCon2\"]/ul/li[8]/div[1]\"}\n  (Session info: chrome=111.0.5563.65)\nStacktrace:\nBacktrace:\n\t(No symbol) [0x0051DCE3]\n\t(No symbol) [0x004B39D1]\n\t(No symbol) [0x003C4DA8]\n\t(No symbol) [0x003F019F]\n\t(No symbol) [0x003F03AB]\n\t(No symbol) [0x0041EE62]\n\t(No symbol) [0x0040AF14]\n\t(No symbol) [0x0041D57C]\n\t(No symbol) [0x0040ACC6]\n\t(No symbol) [0x003E6F68]\n\t(No symbol) [0x003E80CD]\n\tGetHandleVerifier [0x00793832+2506274]\n\tGetHandleVerifier [0x007C9794+2727300]\n\tGetHandleVerifier [0x007CE36C+2746716]\n\tGetHandleVerifier [0x005C6690+617600]\n\t(No symbol) [0x004BC712]\n\t(No symbol) [0x004C1FF8]\n\t(No symbol) [0x004C20DB]\n\t(No symbol) [0x004CC63B]\n\tBaseThreadInitThunk [0x75887D69+25]\n\tRtlInitializeExceptionChain [0x773CB74B+107]\n\tRtlClearBits [0x773CB6CF+191]\n"
     ]
    }
   ],
   "source": [
    "#광주\n",
    "item_list5=[]\n",
    "for j in range(1,4):\n",
    "    for i in tqdm(range(1,11)):\n",
    "        xpath='//*[@id=\"tabCon2\"]/ul/li['+str(i)+']/div[1]'\n",
    "        item_list5.append(driver.find_element(By.XPATH, xpath).text)\n",
    "    xpath='//*[@id=\"tabCon2\"]/div[2]/a['+str(j+1)+']'\n",
    "    driver.find_element(By.XPATH, xpath).click()\n",
    "    time.sleep(1)\n",
    "print('끝')"
   ]
  },
  {
   "cell_type": "code",
   "execution_count": 205,
   "id": "83239435",
   "metadata": {
    "scrolled": false
   },
   "outputs": [
    {
     "data": {
      "text/plain": [
       "27"
      ]
     },
     "execution_count": 205,
     "metadata": {},
     "output_type": "execute_result"
    }
   ],
   "source": [
    "len(item_list5)"
   ]
  },
  {
   "cell_type": "code",
   "execution_count": 206,
   "id": "93d8cd6f",
   "metadata": {
    "scrolled": true
   },
   "outputs": [
    {
     "data": {
      "text/plain": [
       "['5·18기념공원\\n광주광역시 서구',\n",
       " '광주호호수생태원\\n광주광역시 북구',\n",
       " '무등산국립공원\\n광주광역시 동구',\n",
       " '광주패밀리랜드\\n광주광역시 북구',\n",
       " '환벽당 ·조대\\n광주광역시 북구',\n",
       " '오웬기념각\\n광주광역시 남구',\n",
       " '국립 5.18 민주묘지\\n광주광역시 북구',\n",
       " '광주호\\n광주광역시 북구',\n",
       " '사직공원(광주)\\n광주광역시 남구',\n",
       " '무등산 주상절리대\\n광주광역시 북구',\n",
       " '광주대인시장/대인예술시장\\n광주광역시 동구',\n",
       " '1913송정역시장\\n광주광역시 광산구',\n",
       " '남도향토음식박물관·호남문화자료전시관\\n광주광역시 북구',\n",
       " '국립광주과학관\\n광주광역시 북구',\n",
       " '광주-기아 챔피언스 필드\\n광주광역시 북구',\n",
       " '월봉서원\\n광주광역시 광산구',\n",
       " '전평제\\n광주광역시 서구',\n",
       " '오리요리의 거리\\n광주광역시 북구',\n",
       " '우제길미술관\\n광주광역시 동구',\n",
       " '국립광주박물관\\n광주광역시 북구',\n",
       " '양림동펭귄마을\\n광주광역시 남구',\n",
       " '지산유원지\\n광주광역시 동구',\n",
       " '양림역사문화마을\\n광주광역시 남구',\n",
       " '청춘발산마을\\n광주광역시 서구',\n",
       " '쌍암공원\\n광주광역시 광산구',\n",
       " '용진정사\\n광주광역시 광산구',\n",
       " '양동시장\\n광주광역시 서구']"
      ]
     },
     "execution_count": 206,
     "metadata": {},
     "output_type": "execute_result"
    }
   ],
   "source": [
    "item_list5"
   ]
  },
  {
   "cell_type": "code",
   "execution_count": 150,
   "id": "3c5057da",
   "metadata": {
    "collapsed": true
   },
   "outputs": [
    {
     "data": {
      "application/vnd.jupyter.widget-view+json": {
       "model_id": "127aeb7b3b3243ca8c8f6255fbcfc4d5",
       "version_major": 2,
       "version_minor": 0
      },
      "text/plain": [
       "  0%|          | 0/10 [00:00<?, ?it/s]"
      ]
     },
     "metadata": {},
     "output_type": "display_data"
    },
    {
     "data": {
      "application/vnd.jupyter.widget-view+json": {
       "model_id": "014c3ce0d4964b6b9a5da5a41dd6cddf",
       "version_major": 2,
       "version_minor": 0
      },
      "text/plain": [
       "  0%|          | 0/10 [00:00<?, ?it/s]"
      ]
     },
     "metadata": {},
     "output_type": "display_data"
    },
    {
     "data": {
      "application/vnd.jupyter.widget-view+json": {
       "model_id": "c694ae0581544428a66d0dcd87999f24",
       "version_major": 2,
       "version_minor": 0
      },
      "text/plain": [
       "  0%|          | 0/10 [00:00<?, ?it/s]"
      ]
     },
     "metadata": {},
     "output_type": "display_data"
    },
    {
     "ename": "NoSuchElementException",
     "evalue": "Message: no such element: Unable to locate element: {\"method\":\"xpath\",\"selector\":\"//*[@id=\"tabCon2\"]/div[2]/a[4]\"}\n  (Session info: chrome=111.0.5563.65)\nStacktrace:\nBacktrace:\n\t(No symbol) [0x0051DCE3]\n\t(No symbol) [0x004B39D1]\n\t(No symbol) [0x003C4DA8]\n\t(No symbol) [0x003F019F]\n\t(No symbol) [0x003F03AB]\n\t(No symbol) [0x0041EE62]\n\t(No symbol) [0x0040AF14]\n\t(No symbol) [0x0041D57C]\n\t(No symbol) [0x0040ACC6]\n\t(No symbol) [0x003E6F68]\n\t(No symbol) [0x003E80CD]\n\tGetHandleVerifier [0x00793832+2506274]\n\tGetHandleVerifier [0x007C9794+2727300]\n\tGetHandleVerifier [0x007CE36C+2746716]\n\tGetHandleVerifier [0x005C6690+617600]\n\t(No symbol) [0x004BC712]\n\t(No symbol) [0x004C1FF8]\n\t(No symbol) [0x004C20DB]\n\t(No symbol) [0x004CC63B]\n\tBaseThreadInitThunk [0x75887D69+25]\n\tRtlInitializeExceptionChain [0x773CB74B+107]\n\tRtlClearBits [0x773CB6CF+191]\n",
     "output_type": "error",
     "traceback": [
      "\u001b[1;31m---------------------------------------------------------------------------\u001b[0m",
      "\u001b[1;31mNoSuchElementException\u001b[0m                    Traceback (most recent call last)",
      "\u001b[1;32m~\\AppData\\Local\\Temp\\ipykernel_19340\\1158730128.py\u001b[0m in \u001b[0;36m<module>\u001b[1;34m\u001b[0m\n\u001b[0;32m      6\u001b[0m         \u001b[0mitem_list6\u001b[0m\u001b[1;33m.\u001b[0m\u001b[0mappend\u001b[0m\u001b[1;33m(\u001b[0m\u001b[0mdriver\u001b[0m\u001b[1;33m.\u001b[0m\u001b[0mfind_element\u001b[0m\u001b[1;33m(\u001b[0m\u001b[0mBy\u001b[0m\u001b[1;33m.\u001b[0m\u001b[0mXPATH\u001b[0m\u001b[1;33m,\u001b[0m \u001b[0mxpath\u001b[0m\u001b[1;33m)\u001b[0m\u001b[1;33m.\u001b[0m\u001b[0mtext\u001b[0m\u001b[1;33m)\u001b[0m\u001b[1;33m\u001b[0m\u001b[1;33m\u001b[0m\u001b[0m\n\u001b[0;32m      7\u001b[0m     \u001b[0mxpath\u001b[0m\u001b[1;33m=\u001b[0m\u001b[1;34m'//*[@id=\"tabCon2\"]/div[2]/a['\u001b[0m\u001b[1;33m+\u001b[0m\u001b[0mstr\u001b[0m\u001b[1;33m(\u001b[0m\u001b[0mj\u001b[0m\u001b[1;33m+\u001b[0m\u001b[1;36m1\u001b[0m\u001b[1;33m)\u001b[0m\u001b[1;33m+\u001b[0m\u001b[1;34m']'\u001b[0m\u001b[1;33m\u001b[0m\u001b[1;33m\u001b[0m\u001b[0m\n\u001b[1;32m----> 8\u001b[1;33m     \u001b[0mdriver\u001b[0m\u001b[1;33m.\u001b[0m\u001b[0mfind_element\u001b[0m\u001b[1;33m(\u001b[0m\u001b[0mBy\u001b[0m\u001b[1;33m.\u001b[0m\u001b[0mXPATH\u001b[0m\u001b[1;33m,\u001b[0m \u001b[0mxpath\u001b[0m\u001b[1;33m)\u001b[0m\u001b[1;33m.\u001b[0m\u001b[0mclick\u001b[0m\u001b[1;33m(\u001b[0m\u001b[1;33m)\u001b[0m\u001b[1;33m\u001b[0m\u001b[1;33m\u001b[0m\u001b[0m\n\u001b[0m\u001b[0;32m      9\u001b[0m     \u001b[0mtime\u001b[0m\u001b[1;33m.\u001b[0m\u001b[0msleep\u001b[0m\u001b[1;33m(\u001b[0m\u001b[1;36m1\u001b[0m\u001b[1;33m)\u001b[0m\u001b[1;33m\u001b[0m\u001b[1;33m\u001b[0m\u001b[0m\n\u001b[0;32m     10\u001b[0m \u001b[0mprint\u001b[0m\u001b[1;33m(\u001b[0m\u001b[1;34m'끝'\u001b[0m\u001b[1;33m)\u001b[0m\u001b[1;33m\u001b[0m\u001b[1;33m\u001b[0m\u001b[0m\n",
      "\u001b[1;32m~\\AppData\\Roaming\\Python\\Python39\\site-packages\\selenium\\webdriver\\remote\\webdriver.py\u001b[0m in \u001b[0;36mfind_element\u001b[1;34m(self, by, value)\u001b[0m\n\u001b[0;32m    828\u001b[0m             \u001b[0mvalue\u001b[0m \u001b[1;33m=\u001b[0m \u001b[1;34mf'[name=\"{value}\"]'\u001b[0m\u001b[1;33m\u001b[0m\u001b[1;33m\u001b[0m\u001b[0m\n\u001b[0;32m    829\u001b[0m \u001b[1;33m\u001b[0m\u001b[0m\n\u001b[1;32m--> 830\u001b[1;33m         \u001b[1;32mreturn\u001b[0m \u001b[0mself\u001b[0m\u001b[1;33m.\u001b[0m\u001b[0mexecute\u001b[0m\u001b[1;33m(\u001b[0m\u001b[0mCommand\u001b[0m\u001b[1;33m.\u001b[0m\u001b[0mFIND_ELEMENT\u001b[0m\u001b[1;33m,\u001b[0m \u001b[1;33m{\u001b[0m\u001b[1;34m\"using\"\u001b[0m\u001b[1;33m:\u001b[0m \u001b[0mby\u001b[0m\u001b[1;33m,\u001b[0m \u001b[1;34m\"value\"\u001b[0m\u001b[1;33m:\u001b[0m \u001b[0mvalue\u001b[0m\u001b[1;33m}\u001b[0m\u001b[1;33m)\u001b[0m\u001b[1;33m[\u001b[0m\u001b[1;34m\"value\"\u001b[0m\u001b[1;33m]\u001b[0m\u001b[1;33m\u001b[0m\u001b[1;33m\u001b[0m\u001b[0m\n\u001b[0m\u001b[0;32m    831\u001b[0m \u001b[1;33m\u001b[0m\u001b[0m\n\u001b[0;32m    832\u001b[0m     \u001b[1;32mdef\u001b[0m \u001b[0mfind_elements\u001b[0m\u001b[1;33m(\u001b[0m\u001b[0mself\u001b[0m\u001b[1;33m,\u001b[0m \u001b[0mby\u001b[0m\u001b[1;33m=\u001b[0m\u001b[0mBy\u001b[0m\u001b[1;33m.\u001b[0m\u001b[0mID\u001b[0m\u001b[1;33m,\u001b[0m \u001b[0mvalue\u001b[0m\u001b[1;33m:\u001b[0m \u001b[0mOptional\u001b[0m\u001b[1;33m[\u001b[0m\u001b[0mstr\u001b[0m\u001b[1;33m]\u001b[0m \u001b[1;33m=\u001b[0m \u001b[1;32mNone\u001b[0m\u001b[1;33m)\u001b[0m \u001b[1;33m->\u001b[0m \u001b[0mList\u001b[0m\u001b[1;33m[\u001b[0m\u001b[0mWebElement\u001b[0m\u001b[1;33m]\u001b[0m\u001b[1;33m:\u001b[0m\u001b[1;33m\u001b[0m\u001b[1;33m\u001b[0m\u001b[0m\n",
      "\u001b[1;32m~\\AppData\\Roaming\\Python\\Python39\\site-packages\\selenium\\webdriver\\remote\\webdriver.py\u001b[0m in \u001b[0;36mexecute\u001b[1;34m(self, driver_command, params)\u001b[0m\n\u001b[0;32m    438\u001b[0m         \u001b[0mresponse\u001b[0m \u001b[1;33m=\u001b[0m \u001b[0mself\u001b[0m\u001b[1;33m.\u001b[0m\u001b[0mcommand_executor\u001b[0m\u001b[1;33m.\u001b[0m\u001b[0mexecute\u001b[0m\u001b[1;33m(\u001b[0m\u001b[0mdriver_command\u001b[0m\u001b[1;33m,\u001b[0m \u001b[0mparams\u001b[0m\u001b[1;33m)\u001b[0m\u001b[1;33m\u001b[0m\u001b[1;33m\u001b[0m\u001b[0m\n\u001b[0;32m    439\u001b[0m         \u001b[1;32mif\u001b[0m \u001b[0mresponse\u001b[0m\u001b[1;33m:\u001b[0m\u001b[1;33m\u001b[0m\u001b[1;33m\u001b[0m\u001b[0m\n\u001b[1;32m--> 440\u001b[1;33m             \u001b[0mself\u001b[0m\u001b[1;33m.\u001b[0m\u001b[0merror_handler\u001b[0m\u001b[1;33m.\u001b[0m\u001b[0mcheck_response\u001b[0m\u001b[1;33m(\u001b[0m\u001b[0mresponse\u001b[0m\u001b[1;33m)\u001b[0m\u001b[1;33m\u001b[0m\u001b[1;33m\u001b[0m\u001b[0m\n\u001b[0m\u001b[0;32m    441\u001b[0m             \u001b[0mresponse\u001b[0m\u001b[1;33m[\u001b[0m\u001b[1;34m\"value\"\u001b[0m\u001b[1;33m]\u001b[0m \u001b[1;33m=\u001b[0m \u001b[0mself\u001b[0m\u001b[1;33m.\u001b[0m\u001b[0m_unwrap_value\u001b[0m\u001b[1;33m(\u001b[0m\u001b[0mresponse\u001b[0m\u001b[1;33m.\u001b[0m\u001b[0mget\u001b[0m\u001b[1;33m(\u001b[0m\u001b[1;34m\"value\"\u001b[0m\u001b[1;33m,\u001b[0m \u001b[1;32mNone\u001b[0m\u001b[1;33m)\u001b[0m\u001b[1;33m)\u001b[0m\u001b[1;33m\u001b[0m\u001b[1;33m\u001b[0m\u001b[0m\n\u001b[0;32m    442\u001b[0m             \u001b[1;32mreturn\u001b[0m \u001b[0mresponse\u001b[0m\u001b[1;33m\u001b[0m\u001b[1;33m\u001b[0m\u001b[0m\n",
      "\u001b[1;32m~\\AppData\\Roaming\\Python\\Python39\\site-packages\\selenium\\webdriver\\remote\\errorhandler.py\u001b[0m in \u001b[0;36mcheck_response\u001b[1;34m(self, response)\u001b[0m\n\u001b[0;32m    243\u001b[0m                 \u001b[0malert_text\u001b[0m \u001b[1;33m=\u001b[0m \u001b[0mvalue\u001b[0m\u001b[1;33m[\u001b[0m\u001b[1;34m\"alert\"\u001b[0m\u001b[1;33m]\u001b[0m\u001b[1;33m.\u001b[0m\u001b[0mget\u001b[0m\u001b[1;33m(\u001b[0m\u001b[1;34m\"text\"\u001b[0m\u001b[1;33m)\u001b[0m\u001b[1;33m\u001b[0m\u001b[1;33m\u001b[0m\u001b[0m\n\u001b[0;32m    244\u001b[0m             \u001b[1;32mraise\u001b[0m \u001b[0mexception_class\u001b[0m\u001b[1;33m(\u001b[0m\u001b[0mmessage\u001b[0m\u001b[1;33m,\u001b[0m \u001b[0mscreen\u001b[0m\u001b[1;33m,\u001b[0m \u001b[0mstacktrace\u001b[0m\u001b[1;33m,\u001b[0m \u001b[0malert_text\u001b[0m\u001b[1;33m)\u001b[0m  \u001b[1;31m# type: ignore[call-arg]  # mypy is not smart enough here\u001b[0m\u001b[1;33m\u001b[0m\u001b[1;33m\u001b[0m\u001b[0m\n\u001b[1;32m--> 245\u001b[1;33m         \u001b[1;32mraise\u001b[0m \u001b[0mexception_class\u001b[0m\u001b[1;33m(\u001b[0m\u001b[0mmessage\u001b[0m\u001b[1;33m,\u001b[0m \u001b[0mscreen\u001b[0m\u001b[1;33m,\u001b[0m \u001b[0mstacktrace\u001b[0m\u001b[1;33m)\u001b[0m\u001b[1;33m\u001b[0m\u001b[1;33m\u001b[0m\u001b[0m\n\u001b[0m",
      "\u001b[1;31mNoSuchElementException\u001b[0m: Message: no such element: Unable to locate element: {\"method\":\"xpath\",\"selector\":\"//*[@id=\"tabCon2\"]/div[2]/a[4]\"}\n  (Session info: chrome=111.0.5563.65)\nStacktrace:\nBacktrace:\n\t(No symbol) [0x0051DCE3]\n\t(No symbol) [0x004B39D1]\n\t(No symbol) [0x003C4DA8]\n\t(No symbol) [0x003F019F]\n\t(No symbol) [0x003F03AB]\n\t(No symbol) [0x0041EE62]\n\t(No symbol) [0x0040AF14]\n\t(No symbol) [0x0041D57C]\n\t(No symbol) [0x0040ACC6]\n\t(No symbol) [0x003E6F68]\n\t(No symbol) [0x003E80CD]\n\tGetHandleVerifier [0x00793832+2506274]\n\tGetHandleVerifier [0x007C9794+2727300]\n\tGetHandleVerifier [0x007CE36C+2746716]\n\tGetHandleVerifier [0x005C6690+617600]\n\t(No symbol) [0x004BC712]\n\t(No symbol) [0x004C1FF8]\n\t(No symbol) [0x004C20DB]\n\t(No symbol) [0x004CC63B]\n\tBaseThreadInitThunk [0x75887D69+25]\n\tRtlInitializeExceptionChain [0x773CB74B+107]\n\tRtlClearBits [0x773CB6CF+191]\n"
     ]
    }
   ],
   "source": [
    "#대전\n",
    "item_list6=[]\n",
    "for j in range(1,4):\n",
    "    for i in tqdm(range(1,11)):\n",
    "        xpath='//*[@id=\"tabCon2\"]/ul/li['+str(i)+']/div[1]'\n",
    "        item_list6.append(driver.find_element(By.XPATH, xpath).text)\n",
    "    xpath='//*[@id=\"tabCon2\"]/div[2]/a['+str(j+1)+']'\n",
    "    driver.find_element(By.XPATH, xpath).click()\n",
    "    time.sleep(1)\n",
    "print('끝')"
   ]
  },
  {
   "cell_type": "code",
   "execution_count": 207,
   "id": "7d03a1c7",
   "metadata": {},
   "outputs": [
    {
     "data": {
      "text/plain": [
       "30"
      ]
     },
     "execution_count": 207,
     "metadata": {},
     "output_type": "execute_result"
    }
   ],
   "source": [
    "len(item_list6)"
   ]
  },
  {
   "cell_type": "code",
   "execution_count": 208,
   "id": "cf049259",
   "metadata": {
    "scrolled": true
   },
   "outputs": [
    {
     "data": {
      "text/plain": [
       "['구봉산(대전)\\n대전광역시 서구',\n",
       " '대전오월드\\n대전광역시 중구',\n",
       " '대청호\\n대전광역시 대덕구',\n",
       " '뿌리공원\\n대전광역시 중구',\n",
       " '국립대전현충원\\n대전광역시 유성구',\n",
       " '대전엑스포과학공원\\n대전광역시 유성구',\n",
       " '만인산푸른학습원\\n대전광역시 동구',\n",
       " '상소동산림욕장\\n대전광역시 동구',\n",
       " '식장산(식장산 문화공원)\\n대전광역시 동구',\n",
       " '대전선사박물관\\n대전광역시 유성구',\n",
       " '금강로하스대청공원\\n대전광역시 대덕구',\n",
       " '진잠향교\\n대전광역시 유성구',\n",
       " '단재 신채호선생생가지\\n대전광역시 중구',\n",
       " '사교루\\n대전광역시 유성구',\n",
       " '용화사(대전)\\n대전광역시 서구',\n",
       " '사우당\\n대전광역시 동구',\n",
       " '옥류각\\n대전광역시 대덕구',\n",
       " '국립중앙과학관\\n대전광역시 유성구',\n",
       " '장태산자연휴양림\\n대전광역시 서구',\n",
       " '자광사(대전)\\n대전광역시 유성구',\n",
       " '우암사적공원\\n대전광역시 동구',\n",
       " '무수천하마을\\n대전광역시 중구',\n",
       " '한밭수목원\\n대전광역시 서구',\n",
       " '장동산림욕장\\n대전광역시 대덕구',\n",
       " '심광사(대전)\\n대전광역시 동구',\n",
       " '테미오래\\n대전광역시 중구',\n",
       " '대동하늘공원\\n대전광역시 동구',\n",
       " '왕버드나무군락지\\n대전광역시 대덕구',\n",
       " '철도관사촌(솔랑시울길)\\n대전광역시 동구',\n",
       " '유성 족욕체험장\\n대전광역시 유성구']"
      ]
     },
     "execution_count": 208,
     "metadata": {},
     "output_type": "execute_result"
    }
   ],
   "source": [
    "item_list6"
   ]
  },
  {
   "cell_type": "code",
   "execution_count": 197,
   "id": "cf2502c1",
   "metadata": {
    "collapsed": true
   },
   "outputs": [
    {
     "data": {
      "application/vnd.jupyter.widget-view+json": {
       "model_id": "f46f8c14ee9b4d8d9831c31b87cf046b",
       "version_major": 2,
       "version_minor": 0
      },
      "text/plain": [
       "  0%|          | 0/10 [00:00<?, ?it/s]"
      ]
     },
     "metadata": {},
     "output_type": "display_data"
    },
    {
     "data": {
      "application/vnd.jupyter.widget-view+json": {
       "model_id": "16a297d5229a43e9ab708e72147043a5",
       "version_major": 2,
       "version_minor": 0
      },
      "text/plain": [
       "  0%|          | 0/10 [00:00<?, ?it/s]"
      ]
     },
     "metadata": {},
     "output_type": "display_data"
    },
    {
     "data": {
      "application/vnd.jupyter.widget-view+json": {
       "model_id": "cc083cf376ec43c9a01c54bf4edfec9c",
       "version_major": 2,
       "version_minor": 0
      },
      "text/plain": [
       "  0%|          | 0/10 [00:00<?, ?it/s]"
      ]
     },
     "metadata": {},
     "output_type": "display_data"
    },
    {
     "data": {
      "application/vnd.jupyter.widget-view+json": {
       "model_id": "00380d442cdf4b0cb9dde7109a11336f",
       "version_major": 2,
       "version_minor": 0
      },
      "text/plain": [
       "  0%|          | 0/10 [00:00<?, ?it/s]"
      ]
     },
     "metadata": {},
     "output_type": "display_data"
    },
    {
     "ename": "NoSuchElementException",
     "evalue": "Message: no such element: Unable to locate element: {\"method\":\"xpath\",\"selector\":\"//*[@id=\"tabCon2\"]/ul/li[9]/div[1]\"}\n  (Session info: chrome=111.0.5563.65)\nStacktrace:\nBacktrace:\n\t(No symbol) [0x0051DCE3]\n\t(No symbol) [0x004B39D1]\n\t(No symbol) [0x003C4DA8]\n\t(No symbol) [0x003F019F]\n\t(No symbol) [0x003F03AB]\n\t(No symbol) [0x0041EE62]\n\t(No symbol) [0x0040AF14]\n\t(No symbol) [0x0041D57C]\n\t(No symbol) [0x0040ACC6]\n\t(No symbol) [0x003E6F68]\n\t(No symbol) [0x003E80CD]\n\tGetHandleVerifier [0x00793832+2506274]\n\tGetHandleVerifier [0x007C9794+2727300]\n\tGetHandleVerifier [0x007CE36C+2746716]\n\tGetHandleVerifier [0x005C6690+617600]\n\t(No symbol) [0x004BC712]\n\t(No symbol) [0x004C1FF8]\n\t(No symbol) [0x004C20DB]\n\t(No symbol) [0x004CC63B]\n\tBaseThreadInitThunk [0x75887D69+25]\n\tRtlInitializeExceptionChain [0x773CB74B+107]\n\tRtlClearBits [0x773CB6CF+191]\n",
     "output_type": "error",
     "traceback": [
      "\u001b[1;31m---------------------------------------------------------------------------\u001b[0m",
      "\u001b[1;31mNoSuchElementException\u001b[0m                    Traceback (most recent call last)",
      "\u001b[1;32m~\\AppData\\Local\\Temp\\ipykernel_19340\\214600907.py\u001b[0m in \u001b[0;36m<module>\u001b[1;34m\u001b[0m\n\u001b[0;32m      4\u001b[0m     \u001b[1;32mfor\u001b[0m \u001b[0mi\u001b[0m \u001b[1;32min\u001b[0m \u001b[0mtqdm\u001b[0m\u001b[1;33m(\u001b[0m\u001b[0mrange\u001b[0m\u001b[1;33m(\u001b[0m\u001b[1;36m1\u001b[0m\u001b[1;33m,\u001b[0m\u001b[1;36m11\u001b[0m\u001b[1;33m)\u001b[0m\u001b[1;33m)\u001b[0m\u001b[1;33m:\u001b[0m\u001b[1;33m\u001b[0m\u001b[1;33m\u001b[0m\u001b[0m\n\u001b[0;32m      5\u001b[0m         \u001b[0mxpath\u001b[0m\u001b[1;33m=\u001b[0m\u001b[1;34m'//*[@id=\"tabCon2\"]/ul/li['\u001b[0m\u001b[1;33m+\u001b[0m\u001b[0mstr\u001b[0m\u001b[1;33m(\u001b[0m\u001b[0mi\u001b[0m\u001b[1;33m)\u001b[0m\u001b[1;33m+\u001b[0m\u001b[1;34m']/div[1]'\u001b[0m\u001b[1;33m\u001b[0m\u001b[1;33m\u001b[0m\u001b[0m\n\u001b[1;32m----> 6\u001b[1;33m         \u001b[0mitem_list17\u001b[0m\u001b[1;33m.\u001b[0m\u001b[0mappend\u001b[0m\u001b[1;33m(\u001b[0m\u001b[0mdriver\u001b[0m\u001b[1;33m.\u001b[0m\u001b[0mfind_element\u001b[0m\u001b[1;33m(\u001b[0m\u001b[0mBy\u001b[0m\u001b[1;33m.\u001b[0m\u001b[0mXPATH\u001b[0m\u001b[1;33m,\u001b[0m \u001b[0mxpath\u001b[0m\u001b[1;33m)\u001b[0m\u001b[1;33m.\u001b[0m\u001b[0mtext\u001b[0m\u001b[1;33m)\u001b[0m\u001b[1;33m\u001b[0m\u001b[1;33m\u001b[0m\u001b[0m\n\u001b[0m\u001b[0;32m      7\u001b[0m     \u001b[0mxpath\u001b[0m\u001b[1;33m=\u001b[0m\u001b[1;34m'//*[@id=\"tabCon2\"]/div[2]/a['\u001b[0m\u001b[1;33m+\u001b[0m\u001b[0mstr\u001b[0m\u001b[1;33m(\u001b[0m\u001b[0mj\u001b[0m\u001b[1;33m+\u001b[0m\u001b[1;36m1\u001b[0m\u001b[1;33m)\u001b[0m\u001b[1;33m+\u001b[0m\u001b[1;34m']'\u001b[0m\u001b[1;33m\u001b[0m\u001b[1;33m\u001b[0m\u001b[0m\n\u001b[0;32m      8\u001b[0m     \u001b[0mdriver\u001b[0m\u001b[1;33m.\u001b[0m\u001b[0mfind_element\u001b[0m\u001b[1;33m(\u001b[0m\u001b[0mBy\u001b[0m\u001b[1;33m.\u001b[0m\u001b[0mXPATH\u001b[0m\u001b[1;33m,\u001b[0m \u001b[0mxpath\u001b[0m\u001b[1;33m)\u001b[0m\u001b[1;33m.\u001b[0m\u001b[0mclick\u001b[0m\u001b[1;33m(\u001b[0m\u001b[1;33m)\u001b[0m\u001b[1;33m\u001b[0m\u001b[1;33m\u001b[0m\u001b[0m\n",
      "\u001b[1;32m~\\AppData\\Roaming\\Python\\Python39\\site-packages\\selenium\\webdriver\\remote\\webdriver.py\u001b[0m in \u001b[0;36mfind_element\u001b[1;34m(self, by, value)\u001b[0m\n\u001b[0;32m    828\u001b[0m             \u001b[0mvalue\u001b[0m \u001b[1;33m=\u001b[0m \u001b[1;34mf'[name=\"{value}\"]'\u001b[0m\u001b[1;33m\u001b[0m\u001b[1;33m\u001b[0m\u001b[0m\n\u001b[0;32m    829\u001b[0m \u001b[1;33m\u001b[0m\u001b[0m\n\u001b[1;32m--> 830\u001b[1;33m         \u001b[1;32mreturn\u001b[0m \u001b[0mself\u001b[0m\u001b[1;33m.\u001b[0m\u001b[0mexecute\u001b[0m\u001b[1;33m(\u001b[0m\u001b[0mCommand\u001b[0m\u001b[1;33m.\u001b[0m\u001b[0mFIND_ELEMENT\u001b[0m\u001b[1;33m,\u001b[0m \u001b[1;33m{\u001b[0m\u001b[1;34m\"using\"\u001b[0m\u001b[1;33m:\u001b[0m \u001b[0mby\u001b[0m\u001b[1;33m,\u001b[0m \u001b[1;34m\"value\"\u001b[0m\u001b[1;33m:\u001b[0m \u001b[0mvalue\u001b[0m\u001b[1;33m}\u001b[0m\u001b[1;33m)\u001b[0m\u001b[1;33m[\u001b[0m\u001b[1;34m\"value\"\u001b[0m\u001b[1;33m]\u001b[0m\u001b[1;33m\u001b[0m\u001b[1;33m\u001b[0m\u001b[0m\n\u001b[0m\u001b[0;32m    831\u001b[0m \u001b[1;33m\u001b[0m\u001b[0m\n\u001b[0;32m    832\u001b[0m     \u001b[1;32mdef\u001b[0m \u001b[0mfind_elements\u001b[0m\u001b[1;33m(\u001b[0m\u001b[0mself\u001b[0m\u001b[1;33m,\u001b[0m \u001b[0mby\u001b[0m\u001b[1;33m=\u001b[0m\u001b[0mBy\u001b[0m\u001b[1;33m.\u001b[0m\u001b[0mID\u001b[0m\u001b[1;33m,\u001b[0m \u001b[0mvalue\u001b[0m\u001b[1;33m:\u001b[0m \u001b[0mOptional\u001b[0m\u001b[1;33m[\u001b[0m\u001b[0mstr\u001b[0m\u001b[1;33m]\u001b[0m \u001b[1;33m=\u001b[0m \u001b[1;32mNone\u001b[0m\u001b[1;33m)\u001b[0m \u001b[1;33m->\u001b[0m \u001b[0mList\u001b[0m\u001b[1;33m[\u001b[0m\u001b[0mWebElement\u001b[0m\u001b[1;33m]\u001b[0m\u001b[1;33m:\u001b[0m\u001b[1;33m\u001b[0m\u001b[1;33m\u001b[0m\u001b[0m\n",
      "\u001b[1;32m~\\AppData\\Roaming\\Python\\Python39\\site-packages\\selenium\\webdriver\\remote\\webdriver.py\u001b[0m in \u001b[0;36mexecute\u001b[1;34m(self, driver_command, params)\u001b[0m\n\u001b[0;32m    438\u001b[0m         \u001b[0mresponse\u001b[0m \u001b[1;33m=\u001b[0m \u001b[0mself\u001b[0m\u001b[1;33m.\u001b[0m\u001b[0mcommand_executor\u001b[0m\u001b[1;33m.\u001b[0m\u001b[0mexecute\u001b[0m\u001b[1;33m(\u001b[0m\u001b[0mdriver_command\u001b[0m\u001b[1;33m,\u001b[0m \u001b[0mparams\u001b[0m\u001b[1;33m)\u001b[0m\u001b[1;33m\u001b[0m\u001b[1;33m\u001b[0m\u001b[0m\n\u001b[0;32m    439\u001b[0m         \u001b[1;32mif\u001b[0m \u001b[0mresponse\u001b[0m\u001b[1;33m:\u001b[0m\u001b[1;33m\u001b[0m\u001b[1;33m\u001b[0m\u001b[0m\n\u001b[1;32m--> 440\u001b[1;33m             \u001b[0mself\u001b[0m\u001b[1;33m.\u001b[0m\u001b[0merror_handler\u001b[0m\u001b[1;33m.\u001b[0m\u001b[0mcheck_response\u001b[0m\u001b[1;33m(\u001b[0m\u001b[0mresponse\u001b[0m\u001b[1;33m)\u001b[0m\u001b[1;33m\u001b[0m\u001b[1;33m\u001b[0m\u001b[0m\n\u001b[0m\u001b[0;32m    441\u001b[0m             \u001b[0mresponse\u001b[0m\u001b[1;33m[\u001b[0m\u001b[1;34m\"value\"\u001b[0m\u001b[1;33m]\u001b[0m \u001b[1;33m=\u001b[0m \u001b[0mself\u001b[0m\u001b[1;33m.\u001b[0m\u001b[0m_unwrap_value\u001b[0m\u001b[1;33m(\u001b[0m\u001b[0mresponse\u001b[0m\u001b[1;33m.\u001b[0m\u001b[0mget\u001b[0m\u001b[1;33m(\u001b[0m\u001b[1;34m\"value\"\u001b[0m\u001b[1;33m,\u001b[0m \u001b[1;32mNone\u001b[0m\u001b[1;33m)\u001b[0m\u001b[1;33m)\u001b[0m\u001b[1;33m\u001b[0m\u001b[1;33m\u001b[0m\u001b[0m\n\u001b[0;32m    442\u001b[0m             \u001b[1;32mreturn\u001b[0m \u001b[0mresponse\u001b[0m\u001b[1;33m\u001b[0m\u001b[1;33m\u001b[0m\u001b[0m\n",
      "\u001b[1;32m~\\AppData\\Roaming\\Python\\Python39\\site-packages\\selenium\\webdriver\\remote\\errorhandler.py\u001b[0m in \u001b[0;36mcheck_response\u001b[1;34m(self, response)\u001b[0m\n\u001b[0;32m    243\u001b[0m                 \u001b[0malert_text\u001b[0m \u001b[1;33m=\u001b[0m \u001b[0mvalue\u001b[0m\u001b[1;33m[\u001b[0m\u001b[1;34m\"alert\"\u001b[0m\u001b[1;33m]\u001b[0m\u001b[1;33m.\u001b[0m\u001b[0mget\u001b[0m\u001b[1;33m(\u001b[0m\u001b[1;34m\"text\"\u001b[0m\u001b[1;33m)\u001b[0m\u001b[1;33m\u001b[0m\u001b[1;33m\u001b[0m\u001b[0m\n\u001b[0;32m    244\u001b[0m             \u001b[1;32mraise\u001b[0m \u001b[0mexception_class\u001b[0m\u001b[1;33m(\u001b[0m\u001b[0mmessage\u001b[0m\u001b[1;33m,\u001b[0m \u001b[0mscreen\u001b[0m\u001b[1;33m,\u001b[0m \u001b[0mstacktrace\u001b[0m\u001b[1;33m,\u001b[0m \u001b[0malert_text\u001b[0m\u001b[1;33m)\u001b[0m  \u001b[1;31m# type: ignore[call-arg]  # mypy is not smart enough here\u001b[0m\u001b[1;33m\u001b[0m\u001b[1;33m\u001b[0m\u001b[0m\n\u001b[1;32m--> 245\u001b[1;33m         \u001b[1;32mraise\u001b[0m \u001b[0mexception_class\u001b[0m\u001b[1;33m(\u001b[0m\u001b[0mmessage\u001b[0m\u001b[1;33m,\u001b[0m \u001b[0mscreen\u001b[0m\u001b[1;33m,\u001b[0m \u001b[0mstacktrace\u001b[0m\u001b[1;33m)\u001b[0m\u001b[1;33m\u001b[0m\u001b[1;33m\u001b[0m\u001b[0m\n\u001b[0m",
      "\u001b[1;31mNoSuchElementException\u001b[0m: Message: no such element: Unable to locate element: {\"method\":\"xpath\",\"selector\":\"//*[@id=\"tabCon2\"]/ul/li[9]/div[1]\"}\n  (Session info: chrome=111.0.5563.65)\nStacktrace:\nBacktrace:\n\t(No symbol) [0x0051DCE3]\n\t(No symbol) [0x004B39D1]\n\t(No symbol) [0x003C4DA8]\n\t(No symbol) [0x003F019F]\n\t(No symbol) [0x003F03AB]\n\t(No symbol) [0x0041EE62]\n\t(No symbol) [0x0040AF14]\n\t(No symbol) [0x0041D57C]\n\t(No symbol) [0x0040ACC6]\n\t(No symbol) [0x003E6F68]\n\t(No symbol) [0x003E80CD]\n\tGetHandleVerifier [0x00793832+2506274]\n\tGetHandleVerifier [0x007C9794+2727300]\n\tGetHandleVerifier [0x007CE36C+2746716]\n\tGetHandleVerifier [0x005C6690+617600]\n\t(No symbol) [0x004BC712]\n\t(No symbol) [0x004C1FF8]\n\t(No symbol) [0x004C20DB]\n\t(No symbol) [0x004CC63B]\n\tBaseThreadInitThunk [0x75887D69+25]\n\tRtlInitializeExceptionChain [0x773CB74B+107]\n\tRtlClearBits [0x773CB6CF+191]\n"
     ]
    }
   ],
   "source": [
    "#울산\n",
    "item_list17=[]\n",
    "for j in range(1,5):\n",
    "    for i in tqdm(range(1,11)):\n",
    "        xpath='//*[@id=\"tabCon2\"]/ul/li['+str(i)+']/div[1]'\n",
    "        item_list17.append(driver.find_element(By.XPATH, xpath).text)\n",
    "    xpath='//*[@id=\"tabCon2\"]/div[2]/a['+str(j+1)+']'\n",
    "    driver.find_element(By.XPATH, xpath).click()\n",
    "    time.sleep(1)\n",
    "print('끝')"
   ]
  },
  {
   "cell_type": "code",
   "execution_count": 209,
   "id": "d29a6bc7",
   "metadata": {},
   "outputs": [
    {
     "data": {
      "text/plain": [
       "38"
      ]
     },
     "execution_count": 209,
     "metadata": {},
     "output_type": "execute_result"
    }
   ],
   "source": [
    "len(item_list17)"
   ]
  },
  {
   "cell_type": "code",
   "execution_count": 210,
   "id": "4deb3db8",
   "metadata": {
    "scrolled": true
   },
   "outputs": [
    {
     "data": {
      "text/plain": [
       "['울주 천전리 각석\\n울산광역시 울주군',\n",
       " '울주대곡리반구대암각화\\n울산광역시 울주군',\n",
       " '가지산 탄산유황온천\\n울산광역시 울주군',\n",
       " '울산대공원\\n울산광역시 남구',\n",
       " '대왕암공원\\n울산광역시 동구',\n",
       " '등억온천단지\\n울산광역시 울주군',\n",
       " '자수정동굴나라\\n울산광역시 울주군',\n",
       " '석남사(울산)\\n울산광역시 울주군',\n",
       " '진하해수욕장\\n울산광역시 울주군',\n",
       " '천전리각석계곡(울산)\\n울산광역시 울주군',\n",
       " '화암추 등대\\n울산광역시 동구',\n",
       " '학성공원\\n울산광역시 중구',\n",
       " '발리온천\\n울산광역시 울주군',\n",
       " '울산 들꽃학습원\\n울산광역시 울주군',\n",
       " '울산옹기마을\\n울산광역시 울주군',\n",
       " '간월산 자연휴양림\\n울산광역시 울주군',\n",
       " '태화강국가정원\\n울산광역시 중구',\n",
       " '주전몽돌해변\\n울산광역시 동구',\n",
       " '강동몽돌해변\\n울산광역시 북구',\n",
       " '배내골(울산)\\n울산광역시 울주군',\n",
       " '태화루\\n울산광역시 중구',\n",
       " '약사동 제방유적전시관\\n울산광역시 중구',\n",
       " '선암호수공원\\n울산광역시 남구',\n",
       " '외솔 최현배선생 생가 기념관\\n울산광역시 중구',\n",
       " '강동해수온천\\n울산광역시 북구',\n",
       " '울산박물관\\n울산광역시 남구',\n",
       " '울산테마식물수목원\\n울산광역시 동구',\n",
       " '슬도\\n울산광역시 동구',\n",
       " '장생포고래박물관\\n울산광역시 남구',\n",
       " '울산체육공원\\n울산광역시 남구',\n",
       " '주전어촌체험마을\\n울산광역시 동구',\n",
       " '울산대교전망대\\n울산광역시 동구',\n",
       " '울산 신화마을\\n울산광역시 남구',\n",
       " '드라마하우스\\n울산광역시 울주군',\n",
       " '회야댐 생태공원\\n울산광역시 울주군',\n",
       " '태화강동굴피아\\n울산광역시 남구',\n",
       " '국립대운산치유의숲\\n울산광역시 울주군',\n",
       " '함월루\\n울산광역시 중구']"
      ]
     },
     "execution_count": 210,
     "metadata": {},
     "output_type": "execute_result"
    }
   ],
   "source": [
    "item_list17"
   ]
  },
  {
   "cell_type": "code",
   "execution_count": 157,
   "id": "43dfe87e",
   "metadata": {
    "collapsed": true
   },
   "outputs": [
    {
     "data": {
      "application/vnd.jupyter.widget-view+json": {
       "model_id": "fa67fd91ef934e689fd0a2493272a17c",
       "version_major": 2,
       "version_minor": 0
      },
      "text/plain": [
       "  0%|          | 0/10 [00:00<?, ?it/s]"
      ]
     },
     "metadata": {},
     "output_type": "display_data"
    },
    {
     "ename": "NoSuchElementException",
     "evalue": "Message: no such element: Unable to locate element: {\"method\":\"xpath\",\"selector\":\"//*[@id=\"tabCon2\"]/ul/li[10]/div[1]\"}\n  (Session info: chrome=111.0.5563.65)\nStacktrace:\nBacktrace:\n\t(No symbol) [0x0051DCE3]\n\t(No symbol) [0x004B39D1]\n\t(No symbol) [0x003C4DA8]\n\t(No symbol) [0x003F019F]\n\t(No symbol) [0x003F03AB]\n\t(No symbol) [0x0041EE62]\n\t(No symbol) [0x0040AF14]\n\t(No symbol) [0x0041D57C]\n\t(No symbol) [0x0040ACC6]\n\t(No symbol) [0x003E6F68]\n\t(No symbol) [0x003E80CD]\n\tGetHandleVerifier [0x00793832+2506274]\n\tGetHandleVerifier [0x007C9794+2727300]\n\tGetHandleVerifier [0x007CE36C+2746716]\n\tGetHandleVerifier [0x005C6690+617600]\n\t(No symbol) [0x004BC712]\n\t(No symbol) [0x004C1FF8]\n\t(No symbol) [0x004C20DB]\n\t(No symbol) [0x004CC63B]\n\tBaseThreadInitThunk [0x75887D69+25]\n\tRtlInitializeExceptionChain [0x773CB74B+107]\n\tRtlClearBits [0x773CB6CF+191]\n",
     "output_type": "error",
     "traceback": [
      "\u001b[1;31m---------------------------------------------------------------------------\u001b[0m",
      "\u001b[1;31mNoSuchElementException\u001b[0m                    Traceback (most recent call last)",
      "\u001b[1;32m~\\AppData\\Local\\Temp\\ipykernel_19340\\827050855.py\u001b[0m in \u001b[0;36m<module>\u001b[1;34m\u001b[0m\n\u001b[0;32m      4\u001b[0m     \u001b[1;32mfor\u001b[0m \u001b[0mi\u001b[0m \u001b[1;32min\u001b[0m \u001b[0mtqdm\u001b[0m\u001b[1;33m(\u001b[0m\u001b[0mrange\u001b[0m\u001b[1;33m(\u001b[0m\u001b[1;36m1\u001b[0m\u001b[1;33m,\u001b[0m\u001b[1;36m11\u001b[0m\u001b[1;33m)\u001b[0m\u001b[1;33m)\u001b[0m\u001b[1;33m:\u001b[0m\u001b[1;33m\u001b[0m\u001b[1;33m\u001b[0m\u001b[0m\n\u001b[0;32m      5\u001b[0m         \u001b[0mxpath\u001b[0m\u001b[1;33m=\u001b[0m\u001b[1;34m'//*[@id=\"tabCon2\"]/ul/li['\u001b[0m\u001b[1;33m+\u001b[0m\u001b[0mstr\u001b[0m\u001b[1;33m(\u001b[0m\u001b[0mi\u001b[0m\u001b[1;33m)\u001b[0m\u001b[1;33m+\u001b[0m\u001b[1;34m']/div[1]'\u001b[0m\u001b[1;33m\u001b[0m\u001b[1;33m\u001b[0m\u001b[0m\n\u001b[1;32m----> 6\u001b[1;33m         \u001b[0mitem_list7\u001b[0m\u001b[1;33m.\u001b[0m\u001b[0mappend\u001b[0m\u001b[1;33m(\u001b[0m\u001b[0mdriver\u001b[0m\u001b[1;33m.\u001b[0m\u001b[0mfind_element\u001b[0m\u001b[1;33m(\u001b[0m\u001b[0mBy\u001b[0m\u001b[1;33m.\u001b[0m\u001b[0mXPATH\u001b[0m\u001b[1;33m,\u001b[0m \u001b[0mxpath\u001b[0m\u001b[1;33m)\u001b[0m\u001b[1;33m.\u001b[0m\u001b[0mtext\u001b[0m\u001b[1;33m)\u001b[0m\u001b[1;33m\u001b[0m\u001b[1;33m\u001b[0m\u001b[0m\n\u001b[0m\u001b[0;32m      7\u001b[0m     \u001b[0mxpath\u001b[0m\u001b[1;33m=\u001b[0m\u001b[1;34m'//*[@id=\"tabCon2\"]/div[2]/a['\u001b[0m\u001b[1;33m+\u001b[0m\u001b[0mstr\u001b[0m\u001b[1;33m(\u001b[0m\u001b[0mj\u001b[0m\u001b[1;33m+\u001b[0m\u001b[1;36m1\u001b[0m\u001b[1;33m)\u001b[0m\u001b[1;33m+\u001b[0m\u001b[1;34m']'\u001b[0m\u001b[1;33m\u001b[0m\u001b[1;33m\u001b[0m\u001b[0m\n\u001b[0;32m      8\u001b[0m     \u001b[0mdriver\u001b[0m\u001b[1;33m.\u001b[0m\u001b[0mfind_element\u001b[0m\u001b[1;33m(\u001b[0m\u001b[0mBy\u001b[0m\u001b[1;33m.\u001b[0m\u001b[0mXPATH\u001b[0m\u001b[1;33m,\u001b[0m \u001b[0mxpath\u001b[0m\u001b[1;33m)\u001b[0m\u001b[1;33m.\u001b[0m\u001b[0mclick\u001b[0m\u001b[1;33m(\u001b[0m\u001b[1;33m)\u001b[0m\u001b[1;33m\u001b[0m\u001b[1;33m\u001b[0m\u001b[0m\n",
      "\u001b[1;32m~\\AppData\\Roaming\\Python\\Python39\\site-packages\\selenium\\webdriver\\remote\\webdriver.py\u001b[0m in \u001b[0;36mfind_element\u001b[1;34m(self, by, value)\u001b[0m\n\u001b[0;32m    828\u001b[0m             \u001b[0mvalue\u001b[0m \u001b[1;33m=\u001b[0m \u001b[1;34mf'[name=\"{value}\"]'\u001b[0m\u001b[1;33m\u001b[0m\u001b[1;33m\u001b[0m\u001b[0m\n\u001b[0;32m    829\u001b[0m \u001b[1;33m\u001b[0m\u001b[0m\n\u001b[1;32m--> 830\u001b[1;33m         \u001b[1;32mreturn\u001b[0m \u001b[0mself\u001b[0m\u001b[1;33m.\u001b[0m\u001b[0mexecute\u001b[0m\u001b[1;33m(\u001b[0m\u001b[0mCommand\u001b[0m\u001b[1;33m.\u001b[0m\u001b[0mFIND_ELEMENT\u001b[0m\u001b[1;33m,\u001b[0m \u001b[1;33m{\u001b[0m\u001b[1;34m\"using\"\u001b[0m\u001b[1;33m:\u001b[0m \u001b[0mby\u001b[0m\u001b[1;33m,\u001b[0m \u001b[1;34m\"value\"\u001b[0m\u001b[1;33m:\u001b[0m \u001b[0mvalue\u001b[0m\u001b[1;33m}\u001b[0m\u001b[1;33m)\u001b[0m\u001b[1;33m[\u001b[0m\u001b[1;34m\"value\"\u001b[0m\u001b[1;33m]\u001b[0m\u001b[1;33m\u001b[0m\u001b[1;33m\u001b[0m\u001b[0m\n\u001b[0m\u001b[0;32m    831\u001b[0m \u001b[1;33m\u001b[0m\u001b[0m\n\u001b[0;32m    832\u001b[0m     \u001b[1;32mdef\u001b[0m \u001b[0mfind_elements\u001b[0m\u001b[1;33m(\u001b[0m\u001b[0mself\u001b[0m\u001b[1;33m,\u001b[0m \u001b[0mby\u001b[0m\u001b[1;33m=\u001b[0m\u001b[0mBy\u001b[0m\u001b[1;33m.\u001b[0m\u001b[0mID\u001b[0m\u001b[1;33m,\u001b[0m \u001b[0mvalue\u001b[0m\u001b[1;33m:\u001b[0m \u001b[0mOptional\u001b[0m\u001b[1;33m[\u001b[0m\u001b[0mstr\u001b[0m\u001b[1;33m]\u001b[0m \u001b[1;33m=\u001b[0m \u001b[1;32mNone\u001b[0m\u001b[1;33m)\u001b[0m \u001b[1;33m->\u001b[0m \u001b[0mList\u001b[0m\u001b[1;33m[\u001b[0m\u001b[0mWebElement\u001b[0m\u001b[1;33m]\u001b[0m\u001b[1;33m:\u001b[0m\u001b[1;33m\u001b[0m\u001b[1;33m\u001b[0m\u001b[0m\n",
      "\u001b[1;32m~\\AppData\\Roaming\\Python\\Python39\\site-packages\\selenium\\webdriver\\remote\\webdriver.py\u001b[0m in \u001b[0;36mexecute\u001b[1;34m(self, driver_command, params)\u001b[0m\n\u001b[0;32m    438\u001b[0m         \u001b[0mresponse\u001b[0m \u001b[1;33m=\u001b[0m \u001b[0mself\u001b[0m\u001b[1;33m.\u001b[0m\u001b[0mcommand_executor\u001b[0m\u001b[1;33m.\u001b[0m\u001b[0mexecute\u001b[0m\u001b[1;33m(\u001b[0m\u001b[0mdriver_command\u001b[0m\u001b[1;33m,\u001b[0m \u001b[0mparams\u001b[0m\u001b[1;33m)\u001b[0m\u001b[1;33m\u001b[0m\u001b[1;33m\u001b[0m\u001b[0m\n\u001b[0;32m    439\u001b[0m         \u001b[1;32mif\u001b[0m \u001b[0mresponse\u001b[0m\u001b[1;33m:\u001b[0m\u001b[1;33m\u001b[0m\u001b[1;33m\u001b[0m\u001b[0m\n\u001b[1;32m--> 440\u001b[1;33m             \u001b[0mself\u001b[0m\u001b[1;33m.\u001b[0m\u001b[0merror_handler\u001b[0m\u001b[1;33m.\u001b[0m\u001b[0mcheck_response\u001b[0m\u001b[1;33m(\u001b[0m\u001b[0mresponse\u001b[0m\u001b[1;33m)\u001b[0m\u001b[1;33m\u001b[0m\u001b[1;33m\u001b[0m\u001b[0m\n\u001b[0m\u001b[0;32m    441\u001b[0m             \u001b[0mresponse\u001b[0m\u001b[1;33m[\u001b[0m\u001b[1;34m\"value\"\u001b[0m\u001b[1;33m]\u001b[0m \u001b[1;33m=\u001b[0m \u001b[0mself\u001b[0m\u001b[1;33m.\u001b[0m\u001b[0m_unwrap_value\u001b[0m\u001b[1;33m(\u001b[0m\u001b[0mresponse\u001b[0m\u001b[1;33m.\u001b[0m\u001b[0mget\u001b[0m\u001b[1;33m(\u001b[0m\u001b[1;34m\"value\"\u001b[0m\u001b[1;33m,\u001b[0m \u001b[1;32mNone\u001b[0m\u001b[1;33m)\u001b[0m\u001b[1;33m)\u001b[0m\u001b[1;33m\u001b[0m\u001b[1;33m\u001b[0m\u001b[0m\n\u001b[0;32m    442\u001b[0m             \u001b[1;32mreturn\u001b[0m \u001b[0mresponse\u001b[0m\u001b[1;33m\u001b[0m\u001b[1;33m\u001b[0m\u001b[0m\n",
      "\u001b[1;32m~\\AppData\\Roaming\\Python\\Python39\\site-packages\\selenium\\webdriver\\remote\\errorhandler.py\u001b[0m in \u001b[0;36mcheck_response\u001b[1;34m(self, response)\u001b[0m\n\u001b[0;32m    243\u001b[0m                 \u001b[0malert_text\u001b[0m \u001b[1;33m=\u001b[0m \u001b[0mvalue\u001b[0m\u001b[1;33m[\u001b[0m\u001b[1;34m\"alert\"\u001b[0m\u001b[1;33m]\u001b[0m\u001b[1;33m.\u001b[0m\u001b[0mget\u001b[0m\u001b[1;33m(\u001b[0m\u001b[1;34m\"text\"\u001b[0m\u001b[1;33m)\u001b[0m\u001b[1;33m\u001b[0m\u001b[1;33m\u001b[0m\u001b[0m\n\u001b[0;32m    244\u001b[0m             \u001b[1;32mraise\u001b[0m \u001b[0mexception_class\u001b[0m\u001b[1;33m(\u001b[0m\u001b[0mmessage\u001b[0m\u001b[1;33m,\u001b[0m \u001b[0mscreen\u001b[0m\u001b[1;33m,\u001b[0m \u001b[0mstacktrace\u001b[0m\u001b[1;33m,\u001b[0m \u001b[0malert_text\u001b[0m\u001b[1;33m)\u001b[0m  \u001b[1;31m# type: ignore[call-arg]  # mypy is not smart enough here\u001b[0m\u001b[1;33m\u001b[0m\u001b[1;33m\u001b[0m\u001b[0m\n\u001b[1;32m--> 245\u001b[1;33m         \u001b[1;32mraise\u001b[0m \u001b[0mexception_class\u001b[0m\u001b[1;33m(\u001b[0m\u001b[0mmessage\u001b[0m\u001b[1;33m,\u001b[0m \u001b[0mscreen\u001b[0m\u001b[1;33m,\u001b[0m \u001b[0mstacktrace\u001b[0m\u001b[1;33m)\u001b[0m\u001b[1;33m\u001b[0m\u001b[1;33m\u001b[0m\u001b[0m\n\u001b[0m",
      "\u001b[1;31mNoSuchElementException\u001b[0m: Message: no such element: Unable to locate element: {\"method\":\"xpath\",\"selector\":\"//*[@id=\"tabCon2\"]/ul/li[10]/div[1]\"}\n  (Session info: chrome=111.0.5563.65)\nStacktrace:\nBacktrace:\n\t(No symbol) [0x0051DCE3]\n\t(No symbol) [0x004B39D1]\n\t(No symbol) [0x003C4DA8]\n\t(No symbol) [0x003F019F]\n\t(No symbol) [0x003F03AB]\n\t(No symbol) [0x0041EE62]\n\t(No symbol) [0x0040AF14]\n\t(No symbol) [0x0041D57C]\n\t(No symbol) [0x0040ACC6]\n\t(No symbol) [0x003E6F68]\n\t(No symbol) [0x003E80CD]\n\tGetHandleVerifier [0x00793832+2506274]\n\tGetHandleVerifier [0x007C9794+2727300]\n\tGetHandleVerifier [0x007CE36C+2746716]\n\tGetHandleVerifier [0x005C6690+617600]\n\t(No symbol) [0x004BC712]\n\t(No symbol) [0x004C1FF8]\n\t(No symbol) [0x004C20DB]\n\t(No symbol) [0x004CC63B]\n\tBaseThreadInitThunk [0x75887D69+25]\n\tRtlInitializeExceptionChain [0x773CB74B+107]\n\tRtlClearBits [0x773CB6CF+191]\n"
     ]
    }
   ],
   "source": [
    "#세종\n",
    "item_list7=[]\n",
    "for j in range(1,2):\n",
    "    for i in tqdm(range(1,11)):\n",
    "        xpath='//*[@id=\"tabCon2\"]/ul/li['+str(i)+']/div[1]'\n",
    "        item_list7.append(driver.find_element(By.XPATH, xpath).text)\n",
    "    xpath='//*[@id=\"tabCon2\"]/div[2]/a['+str(j+1)+']'\n",
    "    driver.find_element(By.XPATH, xpath).click()\n",
    "    time.sleep(1)\n",
    "print('끝')"
   ]
  },
  {
   "cell_type": "code",
   "execution_count": 211,
   "id": "bf05888e",
   "metadata": {
    "scrolled": true
   },
   "outputs": [
    {
     "data": {
      "text/plain": [
       "9"
      ]
     },
     "execution_count": 211,
     "metadata": {},
     "output_type": "execute_result"
    }
   ],
   "source": [
    "len(item_list7)"
   ]
  },
  {
   "cell_type": "code",
   "execution_count": 212,
   "id": "0d6044dd",
   "metadata": {
    "scrolled": true
   },
   "outputs": [
    {
     "data": {
      "text/plain": [
       "['베어트리파크\\n세종특별자치시 세종특별자치시',\n",
       " '청안사(세종)\\n세종특별자치시 세종특별자치시',\n",
       " '신광사(세종)\\n세종특별자치시 세종특별자치시',\n",
       " '밀마루전망대\\n세종특별자치시 세종특별자치시',\n",
       " '뒤웅박고을\\n세종특별자치시 세종특별자치시',\n",
       " '영평사\\n세종특별자치시 세종특별자치시',\n",
       " '금강자연휴양림(금강수목원,산림박물관)\\n세종특별자치시 세종특별자치시',\n",
       " '운주산성\\n세종특별자치시 세종특별자치시',\n",
       " '고복자연공원\\n세종특별자치시 세종특별자치시']"
      ]
     },
     "execution_count": 212,
     "metadata": {},
     "output_type": "execute_result"
    }
   ],
   "source": [
    "item_list7"
   ]
  },
  {
   "cell_type": "code",
   "execution_count": 227,
   "id": "2e865df1",
   "metadata": {
    "collapsed": true
   },
   "outputs": [
    {
     "data": {
      "application/vnd.jupyter.widget-view+json": {
       "model_id": "f1cfdf94a0ae409b90f003e6588867e7",
       "version_major": 2,
       "version_minor": 0
      },
      "text/plain": [
       "  0%|          | 0/10 [00:00<?, ?it/s]"
      ]
     },
     "metadata": {},
     "output_type": "display_data"
    },
    {
     "data": {
      "application/vnd.jupyter.widget-view+json": {
       "model_id": "9ad64d0263984f389c553585c6155f1b",
       "version_major": 2,
       "version_minor": 0
      },
      "text/plain": [
       "  0%|          | 0/10 [00:00<?, ?it/s]"
      ]
     },
     "metadata": {},
     "output_type": "display_data"
    },
    {
     "data": {
      "application/vnd.jupyter.widget-view+json": {
       "model_id": "41e2be8394b742d380208a2228cd4849",
       "version_major": 2,
       "version_minor": 0
      },
      "text/plain": [
       "  0%|          | 0/10 [00:00<?, ?it/s]"
      ]
     },
     "metadata": {},
     "output_type": "display_data"
    },
    {
     "data": {
      "application/vnd.jupyter.widget-view+json": {
       "model_id": "5695fa4a97954552af9917c6874c3189",
       "version_major": 2,
       "version_minor": 0
      },
      "text/plain": [
       "  0%|          | 0/10 [00:00<?, ?it/s]"
      ]
     },
     "metadata": {},
     "output_type": "display_data"
    },
    {
     "data": {
      "application/vnd.jupyter.widget-view+json": {
       "model_id": "4e3dd4e3754e4d4980328db9a55a8fdd",
       "version_major": 2,
       "version_minor": 0
      },
      "text/plain": [
       "  0%|          | 0/10 [00:00<?, ?it/s]"
      ]
     },
     "metadata": {},
     "output_type": "display_data"
    },
    {
     "data": {
      "application/vnd.jupyter.widget-view+json": {
       "model_id": "1747538882c3460c8897efc02452aa61",
       "version_major": 2,
       "version_minor": 0
      },
      "text/plain": [
       "  0%|          | 0/10 [00:00<?, ?it/s]"
      ]
     },
     "metadata": {},
     "output_type": "display_data"
    },
    {
     "data": {
      "application/vnd.jupyter.widget-view+json": {
       "model_id": "f6692fa2438a4a90a833bb8c76ad6465",
       "version_major": 2,
       "version_minor": 0
      },
      "text/plain": [
       "  0%|          | 0/10 [00:00<?, ?it/s]"
      ]
     },
     "metadata": {},
     "output_type": "display_data"
    },
    {
     "data": {
      "application/vnd.jupyter.widget-view+json": {
       "model_id": "08c4cae171b54ae0a9cd79b1de5ff72f",
       "version_major": 2,
       "version_minor": 0
      },
      "text/plain": [
       "  0%|          | 0/10 [00:00<?, ?it/s]"
      ]
     },
     "metadata": {},
     "output_type": "display_data"
    },
    {
     "data": {
      "application/vnd.jupyter.widget-view+json": {
       "model_id": "be119741830e4c51a35664d2c1f275bd",
       "version_major": 2,
       "version_minor": 0
      },
      "text/plain": [
       "  0%|          | 0/10 [00:00<?, ?it/s]"
      ]
     },
     "metadata": {},
     "output_type": "display_data"
    },
    {
     "data": {
      "application/vnd.jupyter.widget-view+json": {
       "model_id": "61421b4b574a4a3b9e80e3eabf704cb3",
       "version_major": 2,
       "version_minor": 0
      },
      "text/plain": [
       "  0%|          | 0/10 [00:00<?, ?it/s]"
      ]
     },
     "metadata": {},
     "output_type": "display_data"
    },
    {
     "name": "stdout",
     "output_type": "stream",
     "text": [
      "끝\n"
     ]
    }
   ],
   "source": [
    "#경기\n",
    "item_list8=[]\n",
    "for j in range(1,11):\n",
    "    for i in tqdm(range(1,11)):\n",
    "        xpath='//*[@id=\"tabCon2\"]/ul/li['+str(i)+']/div[1]'\n",
    "        item_list8.append(driver.find_element(By.XPATH, xpath).text)\n",
    "    xpath='//*[@id=\"tabCon2\"]/div[2]/a['+str(j+3)+']'\n",
    "    driver.find_element(By.XPATH, xpath).click()\n",
    "    time.sleep(1)\n",
    "print('끝')"
   ]
  },
  {
   "cell_type": "code",
   "execution_count": 228,
   "id": "24e5a0c7",
   "metadata": {
    "collapsed": true
   },
   "outputs": [
    {
     "data": {
      "application/vnd.jupyter.widget-view+json": {
       "model_id": "156a1b8815db4360b4e1a38c21c1ff1d",
       "version_major": 2,
       "version_minor": 0
      },
      "text/plain": [
       "  0%|          | 0/10 [00:00<?, ?it/s]"
      ]
     },
     "metadata": {},
     "output_type": "display_data"
    },
    {
     "data": {
      "application/vnd.jupyter.widget-view+json": {
       "model_id": "6f5f659acfc9470db26950619f14b4a4",
       "version_major": 2,
       "version_minor": 0
      },
      "text/plain": [
       "  0%|          | 0/10 [00:00<?, ?it/s]"
      ]
     },
     "metadata": {},
     "output_type": "display_data"
    },
    {
     "data": {
      "application/vnd.jupyter.widget-view+json": {
       "model_id": "b507f4e4411b49cfa8c5a18f36250ae8",
       "version_major": 2,
       "version_minor": 0
      },
      "text/plain": [
       "  0%|          | 0/10 [00:00<?, ?it/s]"
      ]
     },
     "metadata": {},
     "output_type": "display_data"
    },
    {
     "data": {
      "application/vnd.jupyter.widget-view+json": {
       "model_id": "131584762b16457cb7f3610a9ecc4a05",
       "version_major": 2,
       "version_minor": 0
      },
      "text/plain": [
       "  0%|          | 0/10 [00:00<?, ?it/s]"
      ]
     },
     "metadata": {},
     "output_type": "display_data"
    },
    {
     "data": {
      "application/vnd.jupyter.widget-view+json": {
       "model_id": "3a13807cfe6a49c4ad8dc427d5978af2",
       "version_major": 2,
       "version_minor": 0
      },
      "text/plain": [
       "  0%|          | 0/10 [00:00<?, ?it/s]"
      ]
     },
     "metadata": {},
     "output_type": "display_data"
    },
    {
     "data": {
      "application/vnd.jupyter.widget-view+json": {
       "model_id": "e7a134efb8ce4f34b196a6d2dd27bc55",
       "version_major": 2,
       "version_minor": 0
      },
      "text/plain": [
       "  0%|          | 0/10 [00:00<?, ?it/s]"
      ]
     },
     "metadata": {},
     "output_type": "display_data"
    },
    {
     "data": {
      "application/vnd.jupyter.widget-view+json": {
       "model_id": "8c8ec14a2398496fafcb49732a15ec61",
       "version_major": 2,
       "version_minor": 0
      },
      "text/plain": [
       "  0%|          | 0/10 [00:00<?, ?it/s]"
      ]
     },
     "metadata": {},
     "output_type": "display_data"
    },
    {
     "data": {
      "application/vnd.jupyter.widget-view+json": {
       "model_id": "6e508d278a6f40e78bbe98cd128c0c91",
       "version_major": 2,
       "version_minor": 0
      },
      "text/plain": [
       "  0%|          | 0/10 [00:00<?, ?it/s]"
      ]
     },
     "metadata": {},
     "output_type": "display_data"
    },
    {
     "data": {
      "application/vnd.jupyter.widget-view+json": {
       "model_id": "09e424926d65493caa4247da7206de5b",
       "version_major": 2,
       "version_minor": 0
      },
      "text/plain": [
       "  0%|          | 0/10 [00:00<?, ?it/s]"
      ]
     },
     "metadata": {},
     "output_type": "display_data"
    },
    {
     "data": {
      "application/vnd.jupyter.widget-view+json": {
       "model_id": "f94ad0d5d95242379151b2528a3dca12",
       "version_major": 2,
       "version_minor": 0
      },
      "text/plain": [
       "  0%|          | 0/10 [00:00<?, ?it/s]"
      ]
     },
     "metadata": {},
     "output_type": "display_data"
    },
    {
     "name": "stdout",
     "output_type": "stream",
     "text": [
      "끝\n"
     ]
    }
   ],
   "source": [
    "for j in range(1,11):\n",
    "    for i in tqdm(range(1,11)):\n",
    "        xpath='//*[@id=\"tabCon2\"]/ul/li['+str(i)+']/div[1]'\n",
    "        item_list8.append(driver.find_element(By.XPATH, xpath).text)\n",
    "    xpath='//*[@id=\"tabCon2\"]/div[2]/a['+str(j+3)+']'\n",
    "    driver.find_element(By.XPATH, xpath).click()\n",
    "    time.sleep(1)\n",
    "print('끝')"
   ]
  },
  {
   "cell_type": "code",
   "execution_count": 229,
   "id": "26d3c3d6",
   "metadata": {
    "collapsed": true
   },
   "outputs": [
    {
     "data": {
      "application/vnd.jupyter.widget-view+json": {
       "model_id": "3e24518d7aa64eb294eafc8878158111",
       "version_major": 2,
       "version_minor": 0
      },
      "text/plain": [
       "  0%|          | 0/10 [00:00<?, ?it/s]"
      ]
     },
     "metadata": {},
     "output_type": "display_data"
    },
    {
     "data": {
      "application/vnd.jupyter.widget-view+json": {
       "model_id": "8aa75444c22c4d3687b2264fffbba283",
       "version_major": 2,
       "version_minor": 0
      },
      "text/plain": [
       "  0%|          | 0/10 [00:00<?, ?it/s]"
      ]
     },
     "metadata": {},
     "output_type": "display_data"
    },
    {
     "data": {
      "application/vnd.jupyter.widget-view+json": {
       "model_id": "c1ff8041c6bf4ef78b633309195e16bd",
       "version_major": 2,
       "version_minor": 0
      },
      "text/plain": [
       "  0%|          | 0/10 [00:00<?, ?it/s]"
      ]
     },
     "metadata": {},
     "output_type": "display_data"
    },
    {
     "data": {
      "application/vnd.jupyter.widget-view+json": {
       "model_id": "3f425f47dae346a5ab500de1307dbe8a",
       "version_major": 2,
       "version_minor": 0
      },
      "text/plain": [
       "  0%|          | 0/10 [00:00<?, ?it/s]"
      ]
     },
     "metadata": {},
     "output_type": "display_data"
    },
    {
     "data": {
      "application/vnd.jupyter.widget-view+json": {
       "model_id": "668adbd0e7544ecc9834f74abe1d419d",
       "version_major": 2,
       "version_minor": 0
      },
      "text/plain": [
       "  0%|          | 0/10 [00:00<?, ?it/s]"
      ]
     },
     "metadata": {},
     "output_type": "display_data"
    },
    {
     "data": {
      "application/vnd.jupyter.widget-view+json": {
       "model_id": "9367ae1c141f4a2b9f9b997dbb825ca9",
       "version_major": 2,
       "version_minor": 0
      },
      "text/plain": [
       "  0%|          | 0/10 [00:00<?, ?it/s]"
      ]
     },
     "metadata": {},
     "output_type": "display_data"
    },
    {
     "data": {
      "application/vnd.jupyter.widget-view+json": {
       "model_id": "1bc9df31a20f409a87b07eade628ac53",
       "version_major": 2,
       "version_minor": 0
      },
      "text/plain": [
       "  0%|          | 0/10 [00:00<?, ?it/s]"
      ]
     },
     "metadata": {},
     "output_type": "display_data"
    },
    {
     "data": {
      "application/vnd.jupyter.widget-view+json": {
       "model_id": "4e5544ad849c4df8960eb15448fdc346",
       "version_major": 2,
       "version_minor": 0
      },
      "text/plain": [
       "  0%|          | 0/10 [00:00<?, ?it/s]"
      ]
     },
     "metadata": {},
     "output_type": "display_data"
    },
    {
     "data": {
      "application/vnd.jupyter.widget-view+json": {
       "model_id": "fb910a9ac4284c8eaf49e42e164d59b9",
       "version_major": 2,
       "version_minor": 0
      },
      "text/plain": [
       "  0%|          | 0/10 [00:00<?, ?it/s]"
      ]
     },
     "metadata": {},
     "output_type": "display_data"
    },
    {
     "data": {
      "application/vnd.jupyter.widget-view+json": {
       "model_id": "1aa33d792bac45aaaa97803a3fb1a66e",
       "version_major": 2,
       "version_minor": 0
      },
      "text/plain": [
       "  0%|          | 0/10 [00:00<?, ?it/s]"
      ]
     },
     "metadata": {},
     "output_type": "display_data"
    },
    {
     "name": "stdout",
     "output_type": "stream",
     "text": [
      "끝\n"
     ]
    }
   ],
   "source": [
    "for j in range(1,11):\n",
    "    for i in tqdm(range(1,11)):\n",
    "        xpath='//*[@id=\"tabCon2\"]/ul/li['+str(i)+']/div[1]'\n",
    "        item_list8.append(driver.find_element(By.XPATH, xpath).text)\n",
    "    xpath='//*[@id=\"tabCon2\"]/div[2]/a['+str(j+3)+']'\n",
    "    driver.find_element(By.XPATH, xpath).click()\n",
    "    time.sleep(1)\n",
    "print('끝')"
   ]
  },
  {
   "cell_type": "code",
   "execution_count": 230,
   "id": "b8510c05",
   "metadata": {
    "collapsed": true
   },
   "outputs": [
    {
     "data": {
      "application/vnd.jupyter.widget-view+json": {
       "model_id": "0a21b5a376864a88b4adc298ecf61fc7",
       "version_major": 2,
       "version_minor": 0
      },
      "text/plain": [
       "  0%|          | 0/10 [00:00<?, ?it/s]"
      ]
     },
     "metadata": {},
     "output_type": "display_data"
    },
    {
     "data": {
      "application/vnd.jupyter.widget-view+json": {
       "model_id": "9aced970a7ff49b4873c7c81bf04c59b",
       "version_major": 2,
       "version_minor": 0
      },
      "text/plain": [
       "  0%|          | 0/10 [00:00<?, ?it/s]"
      ]
     },
     "metadata": {},
     "output_type": "display_data"
    },
    {
     "data": {
      "application/vnd.jupyter.widget-view+json": {
       "model_id": "9c84b12e41eb41f29a2b52ddf7ef6649",
       "version_major": 2,
       "version_minor": 0
      },
      "text/plain": [
       "  0%|          | 0/10 [00:00<?, ?it/s]"
      ]
     },
     "metadata": {},
     "output_type": "display_data"
    },
    {
     "data": {
      "application/vnd.jupyter.widget-view+json": {
       "model_id": "8dcc66850f9543548fc76755132c2207",
       "version_major": 2,
       "version_minor": 0
      },
      "text/plain": [
       "  0%|          | 0/10 [00:00<?, ?it/s]"
      ]
     },
     "metadata": {},
     "output_type": "display_data"
    },
    {
     "data": {
      "application/vnd.jupyter.widget-view+json": {
       "model_id": "b4b2506e575243bda2d640dc2095db6b",
       "version_major": 2,
       "version_minor": 0
      },
      "text/plain": [
       "  0%|          | 0/10 [00:00<?, ?it/s]"
      ]
     },
     "metadata": {},
     "output_type": "display_data"
    },
    {
     "data": {
      "application/vnd.jupyter.widget-view+json": {
       "model_id": "a8fcf4c1878549478ca99f45cfcc03e7",
       "version_major": 2,
       "version_minor": 0
      },
      "text/plain": [
       "  0%|          | 0/10 [00:00<?, ?it/s]"
      ]
     },
     "metadata": {},
     "output_type": "display_data"
    },
    {
     "ename": "NoSuchElementException",
     "evalue": "Message: no such element: Unable to locate element: {\"method\":\"xpath\",\"selector\":\"//*[@id=\"tabCon2\"]/ul/li[4]/div[1]\"}\n  (Session info: chrome=111.0.5563.65)\nStacktrace:\nBacktrace:\n\t(No symbol) [0x0051DCE3]\n\t(No symbol) [0x004B39D1]\n\t(No symbol) [0x003C4DA8]\n\t(No symbol) [0x003F019F]\n\t(No symbol) [0x003F03AB]\n\t(No symbol) [0x0041EE62]\n\t(No symbol) [0x0040AF14]\n\t(No symbol) [0x0041D57C]\n\t(No symbol) [0x0040ACC6]\n\t(No symbol) [0x003E6F68]\n\t(No symbol) [0x003E80CD]\n\tGetHandleVerifier [0x00793832+2506274]\n\tGetHandleVerifier [0x007C9794+2727300]\n\tGetHandleVerifier [0x007CE36C+2746716]\n\tGetHandleVerifier [0x005C6690+617600]\n\t(No symbol) [0x004BC712]\n\t(No symbol) [0x004C1FF8]\n\t(No symbol) [0x004C20DB]\n\t(No symbol) [0x004CC63B]\n\tBaseThreadInitThunk [0x75887D69+25]\n\tRtlInitializeExceptionChain [0x773CB74B+107]\n\tRtlClearBits [0x773CB6CF+191]\n",
     "output_type": "error",
     "traceback": [
      "\u001b[1;31m---------------------------------------------------------------------------\u001b[0m",
      "\u001b[1;31mNoSuchElementException\u001b[0m                    Traceback (most recent call last)",
      "\u001b[1;32m~\\AppData\\Local\\Temp\\ipykernel_19340\\4086629499.py\u001b[0m in \u001b[0;36m<module>\u001b[1;34m\u001b[0m\n\u001b[0;32m      2\u001b[0m     \u001b[1;32mfor\u001b[0m \u001b[0mi\u001b[0m \u001b[1;32min\u001b[0m \u001b[0mtqdm\u001b[0m\u001b[1;33m(\u001b[0m\u001b[0mrange\u001b[0m\u001b[1;33m(\u001b[0m\u001b[1;36m1\u001b[0m\u001b[1;33m,\u001b[0m\u001b[1;36m11\u001b[0m\u001b[1;33m)\u001b[0m\u001b[1;33m)\u001b[0m\u001b[1;33m:\u001b[0m\u001b[1;33m\u001b[0m\u001b[1;33m\u001b[0m\u001b[0m\n\u001b[0;32m      3\u001b[0m         \u001b[0mxpath\u001b[0m\u001b[1;33m=\u001b[0m\u001b[1;34m'//*[@id=\"tabCon2\"]/ul/li['\u001b[0m\u001b[1;33m+\u001b[0m\u001b[0mstr\u001b[0m\u001b[1;33m(\u001b[0m\u001b[0mi\u001b[0m\u001b[1;33m)\u001b[0m\u001b[1;33m+\u001b[0m\u001b[1;34m']/div[1]'\u001b[0m\u001b[1;33m\u001b[0m\u001b[1;33m\u001b[0m\u001b[0m\n\u001b[1;32m----> 4\u001b[1;33m         \u001b[0mitem_list8\u001b[0m\u001b[1;33m.\u001b[0m\u001b[0mappend\u001b[0m\u001b[1;33m(\u001b[0m\u001b[0mdriver\u001b[0m\u001b[1;33m.\u001b[0m\u001b[0mfind_element\u001b[0m\u001b[1;33m(\u001b[0m\u001b[0mBy\u001b[0m\u001b[1;33m.\u001b[0m\u001b[0mXPATH\u001b[0m\u001b[1;33m,\u001b[0m \u001b[0mxpath\u001b[0m\u001b[1;33m)\u001b[0m\u001b[1;33m.\u001b[0m\u001b[0mtext\u001b[0m\u001b[1;33m)\u001b[0m\u001b[1;33m\u001b[0m\u001b[1;33m\u001b[0m\u001b[0m\n\u001b[0m\u001b[0;32m      5\u001b[0m     \u001b[0mxpath\u001b[0m\u001b[1;33m=\u001b[0m\u001b[1;34m'//*[@id=\"tabCon2\"]/div[2]/a['\u001b[0m\u001b[1;33m+\u001b[0m\u001b[0mstr\u001b[0m\u001b[1;33m(\u001b[0m\u001b[0mj\u001b[0m\u001b[1;33m+\u001b[0m\u001b[1;36m3\u001b[0m\u001b[1;33m)\u001b[0m\u001b[1;33m+\u001b[0m\u001b[1;34m']'\u001b[0m\u001b[1;33m\u001b[0m\u001b[1;33m\u001b[0m\u001b[0m\n\u001b[0;32m      6\u001b[0m     \u001b[0mdriver\u001b[0m\u001b[1;33m.\u001b[0m\u001b[0mfind_element\u001b[0m\u001b[1;33m(\u001b[0m\u001b[0mBy\u001b[0m\u001b[1;33m.\u001b[0m\u001b[0mXPATH\u001b[0m\u001b[1;33m,\u001b[0m \u001b[0mxpath\u001b[0m\u001b[1;33m)\u001b[0m\u001b[1;33m.\u001b[0m\u001b[0mclick\u001b[0m\u001b[1;33m(\u001b[0m\u001b[1;33m)\u001b[0m\u001b[1;33m\u001b[0m\u001b[1;33m\u001b[0m\u001b[0m\n",
      "\u001b[1;32m~\\AppData\\Roaming\\Python\\Python39\\site-packages\\selenium\\webdriver\\remote\\webdriver.py\u001b[0m in \u001b[0;36mfind_element\u001b[1;34m(self, by, value)\u001b[0m\n\u001b[0;32m    828\u001b[0m             \u001b[0mvalue\u001b[0m \u001b[1;33m=\u001b[0m \u001b[1;34mf'[name=\"{value}\"]'\u001b[0m\u001b[1;33m\u001b[0m\u001b[1;33m\u001b[0m\u001b[0m\n\u001b[0;32m    829\u001b[0m \u001b[1;33m\u001b[0m\u001b[0m\n\u001b[1;32m--> 830\u001b[1;33m         \u001b[1;32mreturn\u001b[0m \u001b[0mself\u001b[0m\u001b[1;33m.\u001b[0m\u001b[0mexecute\u001b[0m\u001b[1;33m(\u001b[0m\u001b[0mCommand\u001b[0m\u001b[1;33m.\u001b[0m\u001b[0mFIND_ELEMENT\u001b[0m\u001b[1;33m,\u001b[0m \u001b[1;33m{\u001b[0m\u001b[1;34m\"using\"\u001b[0m\u001b[1;33m:\u001b[0m \u001b[0mby\u001b[0m\u001b[1;33m,\u001b[0m \u001b[1;34m\"value\"\u001b[0m\u001b[1;33m:\u001b[0m \u001b[0mvalue\u001b[0m\u001b[1;33m}\u001b[0m\u001b[1;33m)\u001b[0m\u001b[1;33m[\u001b[0m\u001b[1;34m\"value\"\u001b[0m\u001b[1;33m]\u001b[0m\u001b[1;33m\u001b[0m\u001b[1;33m\u001b[0m\u001b[0m\n\u001b[0m\u001b[0;32m    831\u001b[0m \u001b[1;33m\u001b[0m\u001b[0m\n\u001b[0;32m    832\u001b[0m     \u001b[1;32mdef\u001b[0m \u001b[0mfind_elements\u001b[0m\u001b[1;33m(\u001b[0m\u001b[0mself\u001b[0m\u001b[1;33m,\u001b[0m \u001b[0mby\u001b[0m\u001b[1;33m=\u001b[0m\u001b[0mBy\u001b[0m\u001b[1;33m.\u001b[0m\u001b[0mID\u001b[0m\u001b[1;33m,\u001b[0m \u001b[0mvalue\u001b[0m\u001b[1;33m:\u001b[0m \u001b[0mOptional\u001b[0m\u001b[1;33m[\u001b[0m\u001b[0mstr\u001b[0m\u001b[1;33m]\u001b[0m \u001b[1;33m=\u001b[0m \u001b[1;32mNone\u001b[0m\u001b[1;33m)\u001b[0m \u001b[1;33m->\u001b[0m \u001b[0mList\u001b[0m\u001b[1;33m[\u001b[0m\u001b[0mWebElement\u001b[0m\u001b[1;33m]\u001b[0m\u001b[1;33m:\u001b[0m\u001b[1;33m\u001b[0m\u001b[1;33m\u001b[0m\u001b[0m\n",
      "\u001b[1;32m~\\AppData\\Roaming\\Python\\Python39\\site-packages\\selenium\\webdriver\\remote\\webdriver.py\u001b[0m in \u001b[0;36mexecute\u001b[1;34m(self, driver_command, params)\u001b[0m\n\u001b[0;32m    438\u001b[0m         \u001b[0mresponse\u001b[0m \u001b[1;33m=\u001b[0m \u001b[0mself\u001b[0m\u001b[1;33m.\u001b[0m\u001b[0mcommand_executor\u001b[0m\u001b[1;33m.\u001b[0m\u001b[0mexecute\u001b[0m\u001b[1;33m(\u001b[0m\u001b[0mdriver_command\u001b[0m\u001b[1;33m,\u001b[0m \u001b[0mparams\u001b[0m\u001b[1;33m)\u001b[0m\u001b[1;33m\u001b[0m\u001b[1;33m\u001b[0m\u001b[0m\n\u001b[0;32m    439\u001b[0m         \u001b[1;32mif\u001b[0m \u001b[0mresponse\u001b[0m\u001b[1;33m:\u001b[0m\u001b[1;33m\u001b[0m\u001b[1;33m\u001b[0m\u001b[0m\n\u001b[1;32m--> 440\u001b[1;33m             \u001b[0mself\u001b[0m\u001b[1;33m.\u001b[0m\u001b[0merror_handler\u001b[0m\u001b[1;33m.\u001b[0m\u001b[0mcheck_response\u001b[0m\u001b[1;33m(\u001b[0m\u001b[0mresponse\u001b[0m\u001b[1;33m)\u001b[0m\u001b[1;33m\u001b[0m\u001b[1;33m\u001b[0m\u001b[0m\n\u001b[0m\u001b[0;32m    441\u001b[0m             \u001b[0mresponse\u001b[0m\u001b[1;33m[\u001b[0m\u001b[1;34m\"value\"\u001b[0m\u001b[1;33m]\u001b[0m \u001b[1;33m=\u001b[0m \u001b[0mself\u001b[0m\u001b[1;33m.\u001b[0m\u001b[0m_unwrap_value\u001b[0m\u001b[1;33m(\u001b[0m\u001b[0mresponse\u001b[0m\u001b[1;33m.\u001b[0m\u001b[0mget\u001b[0m\u001b[1;33m(\u001b[0m\u001b[1;34m\"value\"\u001b[0m\u001b[1;33m,\u001b[0m \u001b[1;32mNone\u001b[0m\u001b[1;33m)\u001b[0m\u001b[1;33m)\u001b[0m\u001b[1;33m\u001b[0m\u001b[1;33m\u001b[0m\u001b[0m\n\u001b[0;32m    442\u001b[0m             \u001b[1;32mreturn\u001b[0m \u001b[0mresponse\u001b[0m\u001b[1;33m\u001b[0m\u001b[1;33m\u001b[0m\u001b[0m\n",
      "\u001b[1;32m~\\AppData\\Roaming\\Python\\Python39\\site-packages\\selenium\\webdriver\\remote\\errorhandler.py\u001b[0m in \u001b[0;36mcheck_response\u001b[1;34m(self, response)\u001b[0m\n\u001b[0;32m    243\u001b[0m                 \u001b[0malert_text\u001b[0m \u001b[1;33m=\u001b[0m \u001b[0mvalue\u001b[0m\u001b[1;33m[\u001b[0m\u001b[1;34m\"alert\"\u001b[0m\u001b[1;33m]\u001b[0m\u001b[1;33m.\u001b[0m\u001b[0mget\u001b[0m\u001b[1;33m(\u001b[0m\u001b[1;34m\"text\"\u001b[0m\u001b[1;33m)\u001b[0m\u001b[1;33m\u001b[0m\u001b[1;33m\u001b[0m\u001b[0m\n\u001b[0;32m    244\u001b[0m             \u001b[1;32mraise\u001b[0m \u001b[0mexception_class\u001b[0m\u001b[1;33m(\u001b[0m\u001b[0mmessage\u001b[0m\u001b[1;33m,\u001b[0m \u001b[0mscreen\u001b[0m\u001b[1;33m,\u001b[0m \u001b[0mstacktrace\u001b[0m\u001b[1;33m,\u001b[0m \u001b[0malert_text\u001b[0m\u001b[1;33m)\u001b[0m  \u001b[1;31m# type: ignore[call-arg]  # mypy is not smart enough here\u001b[0m\u001b[1;33m\u001b[0m\u001b[1;33m\u001b[0m\u001b[0m\n\u001b[1;32m--> 245\u001b[1;33m         \u001b[1;32mraise\u001b[0m \u001b[0mexception_class\u001b[0m\u001b[1;33m(\u001b[0m\u001b[0mmessage\u001b[0m\u001b[1;33m,\u001b[0m \u001b[0mscreen\u001b[0m\u001b[1;33m,\u001b[0m \u001b[0mstacktrace\u001b[0m\u001b[1;33m)\u001b[0m\u001b[1;33m\u001b[0m\u001b[1;33m\u001b[0m\u001b[0m\n\u001b[0m",
      "\u001b[1;31mNoSuchElementException\u001b[0m: Message: no such element: Unable to locate element: {\"method\":\"xpath\",\"selector\":\"//*[@id=\"tabCon2\"]/ul/li[4]/div[1]\"}\n  (Session info: chrome=111.0.5563.65)\nStacktrace:\nBacktrace:\n\t(No symbol) [0x0051DCE3]\n\t(No symbol) [0x004B39D1]\n\t(No symbol) [0x003C4DA8]\n\t(No symbol) [0x003F019F]\n\t(No symbol) [0x003F03AB]\n\t(No symbol) [0x0041EE62]\n\t(No symbol) [0x0040AF14]\n\t(No symbol) [0x0041D57C]\n\t(No symbol) [0x0040ACC6]\n\t(No symbol) [0x003E6F68]\n\t(No symbol) [0x003E80CD]\n\tGetHandleVerifier [0x00793832+2506274]\n\tGetHandleVerifier [0x007C9794+2727300]\n\tGetHandleVerifier [0x007CE36C+2746716]\n\tGetHandleVerifier [0x005C6690+617600]\n\t(No symbol) [0x004BC712]\n\t(No symbol) [0x004C1FF8]\n\t(No symbol) [0x004C20DB]\n\t(No symbol) [0x004CC63B]\n\tBaseThreadInitThunk [0x75887D69+25]\n\tRtlInitializeExceptionChain [0x773CB74B+107]\n\tRtlClearBits [0x773CB6CF+191]\n"
     ]
    }
   ],
   "source": [
    "for j in range(1,7):\n",
    "    for i in tqdm(range(1,11)):\n",
    "        xpath='//*[@id=\"tabCon2\"]/ul/li['+str(i)+']/div[1]'\n",
    "        item_list8.append(driver.find_element(By.XPATH, xpath).text)\n",
    "    xpath='//*[@id=\"tabCon2\"]/div[2]/a['+str(j+3)+']'\n",
    "    driver.find_element(By.XPATH, xpath).click()\n",
    "    time.sleep(1)\n",
    "print('끝')"
   ]
  },
  {
   "cell_type": "code",
   "execution_count": 231,
   "id": "c917fb86",
   "metadata": {},
   "outputs": [
    {
     "data": {
      "text/plain": [
       "353"
      ]
     },
     "execution_count": 231,
     "metadata": {},
     "output_type": "execute_result"
    }
   ],
   "source": [
    "len(item_list8)"
   ]
  },
  {
   "cell_type": "code",
   "execution_count": 232,
   "id": "31273fd1",
   "metadata": {},
   "outputs": [
    {
     "data": {
      "text/plain": [
       "['여주영릉(英陵)세종대왕)과영릉(寧陵)효종,인선왕후)[유네스코세계문화유산]\\n경기도 여주시',\n",
       " '행주산성\\n경기도 고양시 덕양구',\n",
       " '김포향교\\n경기도 김포시',\n",
       " '수원화성[유네스코세계문화유산]\\n경기도 수원시 팔달구',\n",
       " '고양서오릉[유네스코세계문화유산]\\n경기도 고양시 덕양구',\n",
       " '고양서삼릉(장경왕후)[유네스코세계문화유산]\\n경기도 고양시 덕양구',\n",
       " '남양주홍릉(고종과명성황후)과유릉(순종과순명,순정황후)[유네스코세계문화유산]\\n경기도 남양주시',\n",
       " '남양주 광릉(세조,정희왕후) [유네스코 세계문화유산]\\n경기도 남양주시',\n",
       " '구리동구릉[유네스코세계문화유산]\\n경기도 구리시',\n",
       " '김포문수산성\\n경기도 김포시',\n",
       " '제부도\\n경기도 화성시',\n",
       " '재인폭포 (한탄강 국가지질공원)\\n경기도 연천군',\n",
       " '명지계곡\\n경기도 가평군',\n",
       " '백운계곡 (한탄강 국가지질공원)\\n경기도 포천시',\n",
       " '명성산\\n경기도 포천시',\n",
       " '수리산도립공원\\n경기도 군포시',\n",
       " '애기봉(김포)\\n경기도 김포시',\n",
       " '감악산(파주)\\n경기도 양주시',\n",
       " '남한산성도립공원[유네스코세계문화유산]\\n경기도 광주시',\n",
       " '국립 유명산자연휴양림\\n경기도 가평군',\n",
       " '천진암성지\\n경기도 광주시',\n",
       " '연천 숭의전지\\n경기도 연천군',\n",
       " '용문사(용문산)\\n경기도 양평군',\n",
       " '용주사(화성)\\n경기도 화성시',\n",
       " '포천산정호수\\n경기도 포천시',\n",
       " '고모저수지\\n경기도 포천시',\n",
       " '한탄강관광지\\n경기도 연천군',\n",
       " '청평호반\\n경기도 가평군',\n",
       " '안양예술공원\\n경기도 안양시 만안구',\n",
       " '일영유원지\\n경기도 양주시',\n",
       " '여주영릉(英陵)세종대왕)과영릉(寧陵)효종,인선왕후)[유네스코세계문화유산]\\n경기도 여주시',\n",
       " '행주산성\\n경기도 고양시 덕양구',\n",
       " '김포향교\\n경기도 김포시',\n",
       " '수원화성[유네스코세계문화유산]\\n경기도 수원시 팔달구',\n",
       " '고양서오릉[유네스코세계문화유산]\\n경기도 고양시 덕양구',\n",
       " '고양서삼릉(장경왕후)[유네스코세계문화유산]\\n경기도 고양시 덕양구',\n",
       " '남양주홍릉(고종과명성황후)과유릉(순종과순명,순정황후)[유네스코세계문화유산]\\n경기도 남양주시',\n",
       " '남양주 광릉(세조,정희왕후) [유네스코 세계문화유산]\\n경기도 남양주시',\n",
       " '구리동구릉[유네스코세계문화유산]\\n경기도 구리시',\n",
       " '김포문수산성\\n경기도 김포시',\n",
       " '아침고요수목원\\n경기도 가평군',\n",
       " '인계예술공원\\n경기도 수원시 팔달구',\n",
       " '일동제일유황온천\\n경기도 포천시',\n",
       " '양주 회암사지\\n경기도 양주시',\n",
       " '양주 온릉(단경왕후) [유네스코 세계문화유산]\\n경기도 양주시',\n",
       " '김포장릉(인헌왕후)[유네스코세계문화유산]\\n경기도 김포시',\n",
       " '봉선사(경기)\\n경기도 남양주시',\n",
       " '오두산통일전망대\\n경기도 파주시',\n",
       " '판문점\\n경기도 파주시',\n",
       " '한국민속촌\\n경기도 용인시 기흥구',\n",
       " '수리사(경기)\\n경기도 군포시',\n",
       " '다산유적지(남양주)\\n경기도 남양주시',\n",
       " '명성황후 생가\\n경기도 여주시',\n",
       " '일동 용암유황천\\n경기도 포천시',\n",
       " '풍도\\n경기도 안산시 단원구',\n",
       " '서울랜드\\n경기도 과천시',\n",
       " '서울대공원\\n경기도 과천시',\n",
       " '백운호수\\n경기도 의왕시',\n",
       " '부천중앙공원\\n경기도 부천시',\n",
       " '문수산산림욕장\\n경기도 김포시',\n",
       " '설매재자연휴양림\\n경기도 양평군',\n",
       " '태풍전망대\\n경기도 연천군',\n",
       " '국화도\\n경기도 화성시',\n",
       " '망월사(경기)\\n경기도 의정부시',\n",
       " '삼막사\\n경기도 안양시 만안구',\n",
       " '제3땅굴\\n경기도 파주시',\n",
       " '한화리조트 산정호수 온천\\n경기도 포천시',\n",
       " '용문산관광지\\n경기도 양평군',\n",
       " '오산독산성과세마대지\\n경기도 오산시',\n",
       " '대부도\\n경기도 안산시 단원구',\n",
       " '김포 덕포진\\n경기도 김포시',\n",
       " '서현동먹거리촌\\n경기도 성남시 분당구',\n",
       " '봉국사(성남)\\n경기도 성남시 수정구',\n",
       " '유명산계곡\\n경기도 가평군',\n",
       " '사나사 계곡\\n경기도 양평군',\n",
       " '옥구공원\\n경기도 시흥시',\n",
       " '일산호수공원\\n경기도 고양시 일산동구',\n",
       " '안산식물원\\n경기도 안산시 상록구',\n",
       " '진위천유원지\\n경기도 평택시',\n",
       " '국립산음자연휴양림\\n경기도 양평군',\n",
       " '평택호관광단지\\n경기도 평택시',\n",
       " '미리내 성지\\n경기도 안성시',\n",
       " '파주임진각\\n경기도 파주시',\n",
       " '도라산역\\n경기도 파주시',\n",
       " '하니랜드\\n경기도 파주시',\n",
       " '소요산국민관광지\\n경기도 동두천시',\n",
       " '국립수목원(광릉숲)\\n경기도 남양주시',\n",
       " '화성 융릉(장조,헌경왕후)과 건릉(정조,효의왕후) [유네스코 세계문화유산]\\n경기도 화성시',\n",
       " '1.21 무장공비 침투로\\n경기도 연천군',\n",
       " '김포 수안산성\\n경기도 김포시',\n",
       " '세종천문대\\n경기도 여주시',\n",
       " '포천허브아일랜드\\n경기도 포천시',\n",
       " '중미산자연휴양림\\n경기도 양평군',\n",
       " '파주이이유적\\n경기도 파주시',\n",
       " '중원폭포\\n경기도 양평군',\n",
       " '반구정과 황희선생유적지\\n경기도 파주시',\n",
       " '파주 삼릉 [유네스코 세계문화유산]\\n경기도 파주시',\n",
       " '와우정사(용인)\\n경기도 용인시 처인구',\n",
       " '벽계구곡\\n경기도 양평군',\n",
       " '화석정\\n경기도 파주시',\n",
       " '이천 산수유마을\\n경기도 이천시',\n",
       " '중미산 천문대\\n경기도 양평군',\n",
       " '김포국제조각공원\\n경기도 김포시',\n",
       " '대성리 국민관광지\\n경기도 가평군',\n",
       " '청평자연휴양림\\n경기도 가평군',\n",
       " '한택식물원\\n경기도 용인시 처인구',\n",
       " '축령산자연휴양림\\n경기도 남양주시',\n",
       " '명지산군립공원\\n경기도 가평군',\n",
       " '에버랜드\\n경기도 용인시 처인구',\n",
       " '여주 고달사지\\n경기도 여주시',\n",
       " '고려 공양왕릉\\n경기도 고양시 덕양구',\n",
       " '원당종마목장(렛츠런팜원당)\\n경기도 고양시 덕양구',\n",
       " '오이도\\n경기도 시흥시',\n",
       " '안산갈대습지공원\\n경기도 안산시 상록구',\n",
       " '시화호\\n경기도 안산시 단원구',\n",
       " '광교산\\n경기도 수원시 장안구',\n",
       " '열두개울\\n경기도 포천시',\n",
       " '율동공원\\n경기도 성남시 분당구',\n",
       " '율암온천숯가마테마파크\\n경기도 화성시',\n",
       " '너리굴 문화마을\\n경기도 안성시',\n",
       " '누에섬등대전망대\\n경기도 안산시 단원구',\n",
       " '이천부래미마을\\n경기도 이천시',\n",
       " '죽주산성\\n경기도 안성시',\n",
       " '고삼호수\\n경기도 안성시',\n",
       " '양평 민물고기 생태학습관\\n경기도 양평군',\n",
       " '두물머리애벌레생태학교\\n경기도 양평군',\n",
       " '양평들꽃수목원\\n경기도 양평군',\n",
       " '아라크노피아 생태수목원·주필거미박물관\\n경기도 남양주시',\n",
       " '헤이리예술마을\\n경기도 파주시',\n",
       " '태산패밀리파크\\n경기도 김포시',\n",
       " '누리천문대\\n경기도 군포시',\n",
       " '여주참숯마을\\n경기도 여주시',\n",
       " '연천호로고루\\n경기도 연천군',\n",
       " '자연과별천문대\\n경기도 가평군',\n",
       " '벽초지문화수목원\\n경기도 파주시',\n",
       " '우농타조농장\\n경기도 파주시',\n",
       " '연천 경순왕릉\\n경기도 연천군',\n",
       " '열쇠전망대\\n경기도 연천군',\n",
       " '전곡선사박물관\\n경기도 연천군',\n",
       " '이천 자채방아마을\\n경기도 이천시',\n",
       " '프로방스마을\\n경기도 파주시',\n",
       " '경기영어마을 파주캠프\\n경기도 파주시',\n",
       " '나혜석거리\\n경기도 수원시 팔달구',\n",
       " '제부도해안산책로(제비꼬리길)\\n경기도 화성시',\n",
       " '일산 어린이천문대\\n경기도 고양시 일산동구',\n",
       " '경기도립물향기수목원\\n경기도 오산시',\n",
       " '신륵사(여주)\\n경기도 여주시',\n",
       " '풀향기 허브나라\\n경기도 양평군',\n",
       " '양평두물머리\\n경기도 양평군',\n",
       " '테르메덴\\n경기도 이천시',\n",
       " '목아박물관\\n경기도 여주시',\n",
       " '어비계곡\\n경기도 가평군',\n",
       " '용추폭포\\n경기도 가평군',\n",
       " '구리타워\\n경기도 구리시',\n",
       " '수종사\\n경기도 남양주시',\n",
       " '화성공룡알화석지\\n경기도 화성시',\n",
       " '화성 백미리마을\\n경기도 화성시',\n",
       " '바람새마을\\n경기도 평택시',\n",
       " '파주 장단콩마을\\n경기도 파주시',\n",
       " '큰숲 안양워터랜드\\n경기도 안양시 만안구',\n",
       " '청암민속박물관\\n경기도 양주시',\n",
       " '안성 남사당 공연장\\n경기도 안성시',\n",
       " '부천자연생태공원\\n경기도 부천시',\n",
       " '덕포진교육박물관\\n경기도 김포시',\n",
       " '안성맞춤박물관\\n경기도 안성시',\n",
       " '경기도자박물관\\n경기도 광주시',\n",
       " '명성황후 기념관\\n경기도 여주시',\n",
       " '경기도박물관\\n경기도 용인시 기흥구',\n",
       " '중남미문화원\\n경기도 고양시 덕양구',\n",
       " '김포문화원\\n경기도 김포시',\n",
       " '한향림 현대도자미술관\\n경기도 파주시',\n",
       " '가평현암농경유물박물관\\n경기도 가평군',\n",
       " '지도박물관\\n경기도 수원시 영통구',\n",
       " '조명박물관\\n경기도 양주시',\n",
       " '한국항공대학교 항공우주박물관\\n경기도 고양시 덕양구',\n",
       " '영집 궁시박물관\\n경기도 파주시',\n",
       " '박물관 얼굴\\n경기도 광주시',\n",
       " '세계민속악기박물관\\n경기도 파주시',\n",
       " '부천활박물관\\n경기도 부천시',\n",
       " '다도박물관\\n경기도 김포시',\n",
       " '신북리조트스프링폴\\n경기도 포천시',\n",
       " '군남홍수조절지 두루미테마파크\\n경기도 연천군',\n",
       " '오산중앙시장\\n경기도 오산시',\n",
       " '안양중앙시장\\n경기도 안양시 만안구',\n",
       " '지산 포레스트 리조트 스키장\\n경기도 이천시',\n",
       " '양지파인리조트눈썰매장\\n경기도 용인시 처인구',\n",
       " '산들소리수목원\\n경기도 남양주시',\n",
       " '베어스타운스키장\\n경기도 포천시',\n",
       " '더 파크 아프리카뮤지엄\\n경기도 포천시',\n",
       " '여주박물관\\n경기도 여주시',\n",
       " '피싱파크 진산각\\n경기도 김포시',\n",
       " '광명전통시장\\n경기도 광명시',\n",
       " '통진두레문화센터\\n경기도 김포시',\n",
       " '자재암(경기)\\n경기도 동두천시',\n",
       " '통진향교\\n경기도 김포시',\n",
       " '하우현성당\\n경기도 의왕시',\n",
       " '설봉공원\\n경기도 이천시',\n",
       " '삼성산산림욕장\\n경기도 안양시 만안구',\n",
       " '안양중앙공원\\n경기도 안양시 동안구',\n",
       " '안성허브마을\\n경기도 안성시',\n",
       " '배다골테마파크\\n경기도 고양시 덕양구',\n",
       " '심학산산림공원\\n경기도 파주시',\n",
       " '평택국제중앙시장\\n경기도 평택시',\n",
       " '한국잡월드\\n경기도 성남시 분당구',\n",
       " '광주 곤지암도자공원\\n경기도 광주시',\n",
       " '경기 남양주 조안 [슬로시티]\\n경기도 남양주시',\n",
       " '유리섬박물관\\n경기도 안산시 단원구',\n",
       " '의왕조류생태과학관\\n경기도 의왕시',\n",
       " '원마운트스노우파크\\n경기도 고양시 일산동구',\n",
       " '돼지박물관(돼지보러오면돼지)\\n경기도 이천시',\n",
       " '일산동물의왕국\\n경기도 고양시 일산서구',\n",
       " '부천동물테마파크하이주\\n경기도 부천시',\n",
       " '대광사(성남)\\n경기도 성남시 분당구',\n",
       " '대포서원(김포)\\n경기도 김포시',\n",
       " '문헌서원\\n경기도 오산시',\n",
       " '해우재\\n경기도 수원시 장안구',\n",
       " '헤이리 커피박물관\\n경기도 파주시',\n",
       " '추사박물관\\n경기도 과천시',\n",
       " '피노지움\\n경기도 파주시',\n",
       " '아쿠아플라넷일산\\n경기도 고양시 일산동구',\n",
       " '심곡서원\\n경기도 용인시 수지구',\n",
       " '구리시민한강공원(코스모스공원)\\n경기도 구리시',\n",
       " '김포대명항\\n경기도 김포시',\n",
       " '안산다문화특구\\n경기도 안산시 단원구',\n",
       " '광명업사이클아트센터\\n경기도 광명시',\n",
       " '수원시립아이파크미술관\\n경기도 수원시 팔달구',\n",
       " '포천어메이징파크\\n경기도 포천시',\n",
       " '웃다리문화촌\\n경기도 평택시',\n",
       " '에델바이스스위스테마파크\\n경기도 가평군',\n",
       " '경인아라뱃길\\n경기도 김포시',\n",
       " '약암홍염천\\n경기도 김포시',\n",
       " '인터렉티브아트뮤지엄\\n경기도 가평군',\n",
       " '추억의 청춘뮤지엄\\n경기도 양평군',\n",
       " '리틀빅아이자유숲놀이터\\n경기도 양주시',\n",
       " '수원광교박물관\\n경기도 수원시 영통구',\n",
       " '형도\\n경기도 화성시',\n",
       " '캠프 그리브스\\n경기도 파주시',\n",
       " '판교박물관\\n경기도 성남시 분당구',\n",
       " '현대어린이책미술관\\n경기도 성남시 분당구',\n",
       " '편백숲힐링토피아\\n경기도 성남시 수정구',\n",
       " '포천아트밸리\\n경기도 포천시',\n",
       " '주렁주렁(롯데빅마켓킨텍스점)\\n경기도 고양시 일산서구',\n",
       " '화담숲\\n경기도 광주시',\n",
       " '스포츠몬스터하남\\n경기도 하남시',\n",
       " '잣향기푸른숲\\n경기도 가평군',\n",
       " '김포독립운동기념관\\n경기도 김포시',\n",
       " '금강정사\\n경기도 광명시',\n",
       " '팔달산\\n경기도 수원시 팔달구',\n",
       " '김포인삼쌀맥주갤러리\\n경기도 김포시',\n",
       " '김포함상공원\\n경기도 김포시',\n",
       " '와동 생태곤충 체험관\\n경기도 안산시 단원구',\n",
       " '평강식물원\\n경기도 포천시',\n",
       " '파주 장릉(인조,인열왕후) [유네스코 세계문화유산]\\n경기도 파주시',\n",
       " '남양주 사릉(정순왕후) [유네스코 세계문화유산]\\n경기도 남양주시',\n",
       " '송암스페이스센터\\n경기도 양주시',\n",
       " '연천역 급수탑\\n경기도 연천군',\n",
       " '내동마을 연꽃단지\\n경기도 용인시 처인구',\n",
       " '출판도시 활판인쇄박물관\\n경기도 파주시',\n",
       " '경기북부어린이박물관\\n경기도 동두천시',\n",
       " '나를 찾는 정원 (R401 Discovery Park)\\n경기도 양평군',\n",
       " '임진강 황포돛배\\n경기도 파주시',\n",
       " '국립양평치유의숲\\n경기도 양평군',\n",
       " '은하초코기사단\\n경기도 용인시 처인구',\n",
       " '정토사(성남)\\n경기도 성남시 수정구',\n",
       " '보름산미술관(김포)\\n경기도 김포시',\n",
       " '퍼스트가든\\n경기도 파주시',\n",
       " '도라전망대\\n경기도 파주시',\n",
       " '우음도\\n경기도 화성시',\n",
       " '덕평공룡수목원\\n경기도 이천시',\n",
       " '화성우리꽃식물원\\n경기도 화성시',\n",
       " '시흥오이도박물관\\n경기도 시흥시',\n",
       " 'CICA 미술관\\n경기도 김포시',\n",
       " 'GRC 국제 무선모형 자동차 트랙\\n경기도 김포시',\n",
       " '은대리 판상절리와 습곡구조 (한탄강 국가지질공원)\\n경기도 연천군',\n",
       " '중대물빛공원\\n경기도 광주시',\n",
       " '의정부제일시장\\n경기도 의정부시',\n",
       " '계류리 예술창고\\n경기도 포천시',\n",
       " '멍우리 협곡 (한탄강 국가지질공원)\\n경기도 포천시',\n",
       " '포천아우라지배개용암(한탄강국가지질공원)\\n경기도 포천시',\n",
       " '허브빌리지\\n경기도 연천군',\n",
       " '망경암\\n경기도 성남시 수정구',\n",
       " '금정사(김포)\\n경기도 김포시',\n",
       " '국녕사(경기)\\n경기도 고양시 덕양구',\n",
       " '한탄강주상절리길\\n경기도 포천시',\n",
       " '용인 대장금 파크\\n경기도 용인시 처인구',\n",
       " '대부바다향기테마파크\\n경기도 안산시 단원구',\n",
       " '김포 사색의 길\\n경기도 김포시',\n",
       " '김포한강야생조류생태공원\\n경기도 김포시',\n",
       " '신해철거리\\n경기도 성남시 중원구',\n",
       " '광명동굴(가학광산)\\n경기도 광명시',\n",
       " '율봄식물원\\n경기도 광주시',\n",
       " '수원사(수원)\\n경기도 수원시 팔달구',\n",
       " '한과문화박물관 한가원\\n경기도 포천시',\n",
       " '용문산자연휴양림\\n경기도 양평군',\n",
       " '국립 운악산자연휴양림\\n경기도 포천시',\n",
       " '세미원\\n경기도 양평군',\n",
       " '부천식물원\\n경기도 부천시',\n",
       " '용화사(김포)\\n경기도 김포시',\n",
       " '봉녕사(수원)\\n경기도 수원시 팔달구',\n",
       " '망해암\\n경기도 안양시 동안구',\n",
       " '오이도음식문화거리\\n경기도 시흥시',\n",
       " '대부도방아머리먹거리타운\\n경기도 안산시 단원구',\n",
       " '평촌먹거리촌\\n경기도 안양시 동안구',\n",
       " '쁘띠프랑스\\n경기도 가평군',\n",
       " '호명호수공원\\n경기도 가평군',\n",
       " '경인아라뱃길유람선 현대크루즈호\\n경기도 김포시',\n",
       " '웅진플레이도시 워터도시\\n경기도 부천시',\n",
       " '하남이성산성\\n경기도 하남시',\n",
       " '선인장다육식물연구소(구선인장연구소)\\n경기도 고양시 일산서구',\n",
       " '은행식물원(은행자연관찰원)\\n경기도 성남시 중원구',\n",
       " '파주 나비나라박물관\\n경기도 파주시',\n",
       " '포천 이동갈비마을\\n경기도 포천시',\n",
       " '의정부부대찌개거리\\n경기도 의정부시',\n",
       " '옥천리 냉면마을\\n경기도 양평군',\n",
       " '천서리 막국수촌\\n경기도 여주시',\n",
       " '분원리 붕어찜마을\\n경기도 광주시',\n",
       " '까치울먹거리촌(작동먹거리촌)\\n경기도 부천시',\n",
       " '단대동닭죽촌\\n경기도 성남시 수정구',\n",
       " '파주 맛고을 음식문화거리\\n경기도 파주시',\n",
       " '제부도 모세거리\\n경기도 화성시',\n",
       " '국립과천과학관\\n경기도 과천시',\n",
       " '안산 어촌민속박물관\\n경기도 안산시 단원구',\n",
       " '곤지암리조트\\n경기도 광주시',\n",
       " '수원박물관\\n경기도 수원시 영통구',\n",
       " '장흥자생수목원\\n경기도 양주시',\n",
       " '경안천 습지생태공원\\n경기도 광주시',\n",
       " '연천 나룻배마을\\n경기도 연천군',\n",
       " '동주염전\\n경기도 안산시 단원구',\n",
       " '발안식염온천\\n경기도 화성시',\n",
       " '화성베어팜\\n경기도 화성시',\n",
       " '우저서원\\n경기도 김포시',\n",
       " '걸포중앙공원\\n경기도 김포시',\n",
       " '양평 황순원문학촌 소나기마을\\n경기도 양평군',\n",
       " '평화랜드\\n경기도 파주시',\n",
       " '월화원\\n경기도 수원시 팔달구',\n",
       " '검단산\\n경기도 하남시',\n",
       " '마장호수\\n경기도 파주시',\n",
       " '일영허브랜드\\n경기도 양주시',\n",
       " '재미있는 추억 박물관\\n경기도 파주시',\n",
       " '연꽃테마파크\\n경기도 시흥시',\n",
       " '광주산두른마을[농촌전통테마]\\n경기도 광주시',\n",
       " '화도하수처리장피아노폭포\\n경기도 남양주시',\n",
       " '자라섬오토캠핑장\\n경기도 가평군',\n",
       " '관곡지\\n경기도 시흥시',\n",
       " '시흥갯골생태공원\\n경기도 시흥시',\n",
       " '상동호수공원\\n경기도 부천시',\n",
       " '도당공원\\n경기도 부천시',\n",
       " '대원공원\\n경기도 성남시 중원구',\n",
       " '한재당\\n경기도 김포시',\n",
       " '월곶면민만세운동유적비\\n경기도 김포시',\n",
       " '진주목장 낙농체험\\n경기도 화성시',\n",
       " '팔당호\\n경기도 광주시',\n",
       " '용인자연휴양림\\n경기도 용인시 처인구']"
      ]
     },
     "execution_count": 232,
     "metadata": {},
     "output_type": "execute_result"
    }
   ],
   "source": [
    "item_list8"
   ]
  },
  {
   "cell_type": "code",
   "execution_count": 233,
   "id": "88fc0587",
   "metadata": {
    "collapsed": true
   },
   "outputs": [
    {
     "data": {
      "application/vnd.jupyter.widget-view+json": {
       "model_id": "737c6894535643bfb7083adcd22fc230",
       "version_major": 2,
       "version_minor": 0
      },
      "text/plain": [
       "  0%|          | 0/10 [00:00<?, ?it/s]"
      ]
     },
     "metadata": {},
     "output_type": "display_data"
    },
    {
     "data": {
      "application/vnd.jupyter.widget-view+json": {
       "model_id": "57d894afae0d47a09b3e6bfd37f184de",
       "version_major": 2,
       "version_minor": 0
      },
      "text/plain": [
       "  0%|          | 0/10 [00:00<?, ?it/s]"
      ]
     },
     "metadata": {},
     "output_type": "display_data"
    },
    {
     "data": {
      "application/vnd.jupyter.widget-view+json": {
       "model_id": "7333e1b783554a5d85fd1b5cc22a076d",
       "version_major": 2,
       "version_minor": 0
      },
      "text/plain": [
       "  0%|          | 0/10 [00:00<?, ?it/s]"
      ]
     },
     "metadata": {},
     "output_type": "display_data"
    },
    {
     "data": {
      "application/vnd.jupyter.widget-view+json": {
       "model_id": "3debe38e9848447cad7c495c59b73404",
       "version_major": 2,
       "version_minor": 0
      },
      "text/plain": [
       "  0%|          | 0/10 [00:00<?, ?it/s]"
      ]
     },
     "metadata": {},
     "output_type": "display_data"
    },
    {
     "data": {
      "application/vnd.jupyter.widget-view+json": {
       "model_id": "f3e99fe7483b40caa315a3d71c03a1c7",
       "version_major": 2,
       "version_minor": 0
      },
      "text/plain": [
       "  0%|          | 0/10 [00:00<?, ?it/s]"
      ]
     },
     "metadata": {},
     "output_type": "display_data"
    },
    {
     "data": {
      "application/vnd.jupyter.widget-view+json": {
       "model_id": "a3f606391b2c4728be9d73b9285e1056",
       "version_major": 2,
       "version_minor": 0
      },
      "text/plain": [
       "  0%|          | 0/10 [00:00<?, ?it/s]"
      ]
     },
     "metadata": {},
     "output_type": "display_data"
    },
    {
     "data": {
      "application/vnd.jupyter.widget-view+json": {
       "model_id": "38b1bc047c654b1aab4402aeba4d4c71",
       "version_major": 2,
       "version_minor": 0
      },
      "text/plain": [
       "  0%|          | 0/10 [00:00<?, ?it/s]"
      ]
     },
     "metadata": {},
     "output_type": "display_data"
    },
    {
     "data": {
      "application/vnd.jupyter.widget-view+json": {
       "model_id": "e4b6941a5e6e4469abcc088e030bd4ff",
       "version_major": 2,
       "version_minor": 0
      },
      "text/plain": [
       "  0%|          | 0/10 [00:00<?, ?it/s]"
      ]
     },
     "metadata": {},
     "output_type": "display_data"
    },
    {
     "data": {
      "application/vnd.jupyter.widget-view+json": {
       "model_id": "8df01e3847434c4dadabe4c11d19c78e",
       "version_major": 2,
       "version_minor": 0
      },
      "text/plain": [
       "  0%|          | 0/10 [00:00<?, ?it/s]"
      ]
     },
     "metadata": {},
     "output_type": "display_data"
    },
    {
     "data": {
      "application/vnd.jupyter.widget-view+json": {
       "model_id": "6c53ba7b39964e769701eac8a6115cff",
       "version_major": 2,
       "version_minor": 0
      },
      "text/plain": [
       "  0%|          | 0/10 [00:00<?, ?it/s]"
      ]
     },
     "metadata": {},
     "output_type": "display_data"
    },
    {
     "name": "stdout",
     "output_type": "stream",
     "text": [
      "끝\n"
     ]
    }
   ],
   "source": [
    "#강원\n",
    "item_list9=[]\n",
    "for j in range(1,11):\n",
    "    for i in tqdm(range(1,11)):\n",
    "        xpath='//*[@id=\"tabCon2\"]/ul/li['+str(i)+']/div[1]'\n",
    "        item_list9.append(driver.find_element(By.XPATH, xpath).text)\n",
    "    xpath='//*[@id=\"tabCon2\"]/div[2]/a['+str(j+3)+']'\n",
    "    driver.find_element(By.XPATH, xpath).click()\n",
    "    time.sleep(1)\n",
    "print('끝')"
   ]
  },
  {
   "cell_type": "code",
   "execution_count": 234,
   "id": "6bc8668e",
   "metadata": {
    "collapsed": true
   },
   "outputs": [
    {
     "data": {
      "application/vnd.jupyter.widget-view+json": {
       "model_id": "2de93199d89e48ff9c586e671bb3031f",
       "version_major": 2,
       "version_minor": 0
      },
      "text/plain": [
       "  0%|          | 0/10 [00:00<?, ?it/s]"
      ]
     },
     "metadata": {},
     "output_type": "display_data"
    },
    {
     "data": {
      "application/vnd.jupyter.widget-view+json": {
       "model_id": "6d6d82a845024358a6b25a9d59f965b0",
       "version_major": 2,
       "version_minor": 0
      },
      "text/plain": [
       "  0%|          | 0/10 [00:00<?, ?it/s]"
      ]
     },
     "metadata": {},
     "output_type": "display_data"
    },
    {
     "data": {
      "application/vnd.jupyter.widget-view+json": {
       "model_id": "ac8c7719cc1b449fb6acaf764f7a946f",
       "version_major": 2,
       "version_minor": 0
      },
      "text/plain": [
       "  0%|          | 0/10 [00:00<?, ?it/s]"
      ]
     },
     "metadata": {},
     "output_type": "display_data"
    },
    {
     "data": {
      "application/vnd.jupyter.widget-view+json": {
       "model_id": "7aa03ba771e449f2bcfaec0be40de9a8",
       "version_major": 2,
       "version_minor": 0
      },
      "text/plain": [
       "  0%|          | 0/10 [00:00<?, ?it/s]"
      ]
     },
     "metadata": {},
     "output_type": "display_data"
    },
    {
     "data": {
      "application/vnd.jupyter.widget-view+json": {
       "model_id": "c41cb223acad4b339a7d3a7999c90065",
       "version_major": 2,
       "version_minor": 0
      },
      "text/plain": [
       "  0%|          | 0/10 [00:00<?, ?it/s]"
      ]
     },
     "metadata": {},
     "output_type": "display_data"
    },
    {
     "data": {
      "application/vnd.jupyter.widget-view+json": {
       "model_id": "a1146b9e613e43c1a9436e3a13af4c26",
       "version_major": 2,
       "version_minor": 0
      },
      "text/plain": [
       "  0%|          | 0/10 [00:00<?, ?it/s]"
      ]
     },
     "metadata": {},
     "output_type": "display_data"
    },
    {
     "data": {
      "application/vnd.jupyter.widget-view+json": {
       "model_id": "49eaba749c2d41418e202a95f32134a4",
       "version_major": 2,
       "version_minor": 0
      },
      "text/plain": [
       "  0%|          | 0/10 [00:00<?, ?it/s]"
      ]
     },
     "metadata": {},
     "output_type": "display_data"
    },
    {
     "data": {
      "application/vnd.jupyter.widget-view+json": {
       "model_id": "20b023116d1d4d4ea0235251d8db167b",
       "version_major": 2,
       "version_minor": 0
      },
      "text/plain": [
       "  0%|          | 0/10 [00:00<?, ?it/s]"
      ]
     },
     "metadata": {},
     "output_type": "display_data"
    },
    {
     "data": {
      "application/vnd.jupyter.widget-view+json": {
       "model_id": "64e2980f6b544dc5beac4cf975137026",
       "version_major": 2,
       "version_minor": 0
      },
      "text/plain": [
       "  0%|          | 0/10 [00:00<?, ?it/s]"
      ]
     },
     "metadata": {},
     "output_type": "display_data"
    },
    {
     "data": {
      "application/vnd.jupyter.widget-view+json": {
       "model_id": "2017a3de3a8745fe9f2c6a195c792ea1",
       "version_major": 2,
       "version_minor": 0
      },
      "text/plain": [
       "  0%|          | 0/10 [00:00<?, ?it/s]"
      ]
     },
     "metadata": {},
     "output_type": "display_data"
    },
    {
     "name": "stdout",
     "output_type": "stream",
     "text": [
      "끝\n"
     ]
    }
   ],
   "source": [
    "for j in range(1,11):\n",
    "    for i in tqdm(range(1,11)):\n",
    "        xpath='//*[@id=\"tabCon2\"]/ul/li['+str(i)+']/div[1]'\n",
    "        item_list9.append(driver.find_element(By.XPATH, xpath).text)\n",
    "    xpath='//*[@id=\"tabCon2\"]/div[2]/a['+str(j+3)+']'\n",
    "    driver.find_element(By.XPATH, xpath).click()\n",
    "    time.sleep(1)\n",
    "print('끝')"
   ]
  },
  {
   "cell_type": "code",
   "execution_count": 235,
   "id": "3fa4dc55",
   "metadata": {
    "collapsed": true
   },
   "outputs": [
    {
     "data": {
      "application/vnd.jupyter.widget-view+json": {
       "model_id": "1b30b930b2a1409494bb7572cf69de78",
       "version_major": 2,
       "version_minor": 0
      },
      "text/plain": [
       "  0%|          | 0/10 [00:00<?, ?it/s]"
      ]
     },
     "metadata": {},
     "output_type": "display_data"
    },
    {
     "data": {
      "application/vnd.jupyter.widget-view+json": {
       "model_id": "fb468f0f35154ddbab0fd9e57880f90e",
       "version_major": 2,
       "version_minor": 0
      },
      "text/plain": [
       "  0%|          | 0/10 [00:00<?, ?it/s]"
      ]
     },
     "metadata": {},
     "output_type": "display_data"
    },
    {
     "data": {
      "application/vnd.jupyter.widget-view+json": {
       "model_id": "66ebb2eb492c48aaba60c39afada3832",
       "version_major": 2,
       "version_minor": 0
      },
      "text/plain": [
       "  0%|          | 0/10 [00:00<?, ?it/s]"
      ]
     },
     "metadata": {},
     "output_type": "display_data"
    },
    {
     "data": {
      "application/vnd.jupyter.widget-view+json": {
       "model_id": "0d5af356904647fe9e3897dfb824f656",
       "version_major": 2,
       "version_minor": 0
      },
      "text/plain": [
       "  0%|          | 0/10 [00:00<?, ?it/s]"
      ]
     },
     "metadata": {},
     "output_type": "display_data"
    },
    {
     "data": {
      "application/vnd.jupyter.widget-view+json": {
       "model_id": "730549401f454f33b119452419bc3cf3",
       "version_major": 2,
       "version_minor": 0
      },
      "text/plain": [
       "  0%|          | 0/10 [00:00<?, ?it/s]"
      ]
     },
     "metadata": {},
     "output_type": "display_data"
    },
    {
     "data": {
      "application/vnd.jupyter.widget-view+json": {
       "model_id": "1945981ed32844b9af12d0af6a2d0557",
       "version_major": 2,
       "version_minor": 0
      },
      "text/plain": [
       "  0%|          | 0/10 [00:00<?, ?it/s]"
      ]
     },
     "metadata": {},
     "output_type": "display_data"
    },
    {
     "data": {
      "application/vnd.jupyter.widget-view+json": {
       "model_id": "cfab85a8b6554b2a9f91c62d2bc0e456",
       "version_major": 2,
       "version_minor": 0
      },
      "text/plain": [
       "  0%|          | 0/10 [00:00<?, ?it/s]"
      ]
     },
     "metadata": {},
     "output_type": "display_data"
    },
    {
     "data": {
      "application/vnd.jupyter.widget-view+json": {
       "model_id": "9aa00ccfbe2e47cf8775c4f1604b7a5d",
       "version_major": 2,
       "version_minor": 0
      },
      "text/plain": [
       "  0%|          | 0/10 [00:00<?, ?it/s]"
      ]
     },
     "metadata": {},
     "output_type": "display_data"
    },
    {
     "data": {
      "application/vnd.jupyter.widget-view+json": {
       "model_id": "53c6420af85a4c23a77d9a5f4829c682",
       "version_major": 2,
       "version_minor": 0
      },
      "text/plain": [
       "  0%|          | 0/10 [00:00<?, ?it/s]"
      ]
     },
     "metadata": {},
     "output_type": "display_data"
    },
    {
     "data": {
      "application/vnd.jupyter.widget-view+json": {
       "model_id": "280d9faa7eed44589de75c835e03f7bc",
       "version_major": 2,
       "version_minor": 0
      },
      "text/plain": [
       "  0%|          | 0/10 [00:00<?, ?it/s]"
      ]
     },
     "metadata": {},
     "output_type": "display_data"
    },
    {
     "name": "stdout",
     "output_type": "stream",
     "text": [
      "끝\n"
     ]
    }
   ],
   "source": [
    "for j in range(1,11):\n",
    "    for i in tqdm(range(1,11)):\n",
    "        xpath='//*[@id=\"tabCon2\"]/ul/li['+str(i)+']/div[1]'\n",
    "        item_list9.append(driver.find_element(By.XPATH, xpath).text)\n",
    "    xpath='//*[@id=\"tabCon2\"]/div[2]/a['+str(j+3)+']'\n",
    "    driver.find_element(By.XPATH, xpath).click()\n",
    "    time.sleep(1)\n",
    "print('끝')"
   ]
  },
  {
   "cell_type": "code",
   "execution_count": 236,
   "id": "55b822b1",
   "metadata": {
    "collapsed": true
   },
   "outputs": [
    {
     "data": {
      "application/vnd.jupyter.widget-view+json": {
       "model_id": "0a91984b65554d288e80b63f3e53db86",
       "version_major": 2,
       "version_minor": 0
      },
      "text/plain": [
       "  0%|          | 0/10 [00:00<?, ?it/s]"
      ]
     },
     "metadata": {},
     "output_type": "display_data"
    },
    {
     "data": {
      "application/vnd.jupyter.widget-view+json": {
       "model_id": "f60403eb9fb549b5a7f9e1366de13990",
       "version_major": 2,
       "version_minor": 0
      },
      "text/plain": [
       "  0%|          | 0/10 [00:00<?, ?it/s]"
      ]
     },
     "metadata": {},
     "output_type": "display_data"
    },
    {
     "ename": "NoSuchElementException",
     "evalue": "Message: no such element: Unable to locate element: {\"method\":\"xpath\",\"selector\":\"//*[@id=\"tabCon2\"]/ul/li[5]/div[1]\"}\n  (Session info: chrome=111.0.5563.65)\nStacktrace:\nBacktrace:\n\t(No symbol) [0x0051DCE3]\n\t(No symbol) [0x004B39D1]\n\t(No symbol) [0x003C4DA8]\n\t(No symbol) [0x003F019F]\n\t(No symbol) [0x003F03AB]\n\t(No symbol) [0x0041EE62]\n\t(No symbol) [0x0040AF14]\n\t(No symbol) [0x0041D57C]\n\t(No symbol) [0x0040ACC6]\n\t(No symbol) [0x003E6F68]\n\t(No symbol) [0x003E80CD]\n\tGetHandleVerifier [0x00793832+2506274]\n\tGetHandleVerifier [0x007C9794+2727300]\n\tGetHandleVerifier [0x007CE36C+2746716]\n\tGetHandleVerifier [0x005C6690+617600]\n\t(No symbol) [0x004BC712]\n\t(No symbol) [0x004C1FF8]\n\t(No symbol) [0x004C20DB]\n\t(No symbol) [0x004CC63B]\n\tBaseThreadInitThunk [0x75887D69+25]\n\tRtlInitializeExceptionChain [0x773CB74B+107]\n\tRtlClearBits [0x773CB6CF+191]\n",
     "output_type": "error",
     "traceback": [
      "\u001b[1;31m---------------------------------------------------------------------------\u001b[0m",
      "\u001b[1;31mNoSuchElementException\u001b[0m                    Traceback (most recent call last)",
      "\u001b[1;32m~\\AppData\\Local\\Temp\\ipykernel_19340\\865207137.py\u001b[0m in \u001b[0;36m<module>\u001b[1;34m\u001b[0m\n\u001b[0;32m      2\u001b[0m     \u001b[1;32mfor\u001b[0m \u001b[0mi\u001b[0m \u001b[1;32min\u001b[0m \u001b[0mtqdm\u001b[0m\u001b[1;33m(\u001b[0m\u001b[0mrange\u001b[0m\u001b[1;33m(\u001b[0m\u001b[1;36m1\u001b[0m\u001b[1;33m,\u001b[0m\u001b[1;36m11\u001b[0m\u001b[1;33m)\u001b[0m\u001b[1;33m)\u001b[0m\u001b[1;33m:\u001b[0m\u001b[1;33m\u001b[0m\u001b[1;33m\u001b[0m\u001b[0m\n\u001b[0;32m      3\u001b[0m         \u001b[0mxpath\u001b[0m\u001b[1;33m=\u001b[0m\u001b[1;34m'//*[@id=\"tabCon2\"]/ul/li['\u001b[0m\u001b[1;33m+\u001b[0m\u001b[0mstr\u001b[0m\u001b[1;33m(\u001b[0m\u001b[0mi\u001b[0m\u001b[1;33m)\u001b[0m\u001b[1;33m+\u001b[0m\u001b[1;34m']/div[1]'\u001b[0m\u001b[1;33m\u001b[0m\u001b[1;33m\u001b[0m\u001b[0m\n\u001b[1;32m----> 4\u001b[1;33m         \u001b[0mitem_list9\u001b[0m\u001b[1;33m.\u001b[0m\u001b[0mappend\u001b[0m\u001b[1;33m(\u001b[0m\u001b[0mdriver\u001b[0m\u001b[1;33m.\u001b[0m\u001b[0mfind_element\u001b[0m\u001b[1;33m(\u001b[0m\u001b[0mBy\u001b[0m\u001b[1;33m.\u001b[0m\u001b[0mXPATH\u001b[0m\u001b[1;33m,\u001b[0m \u001b[0mxpath\u001b[0m\u001b[1;33m)\u001b[0m\u001b[1;33m.\u001b[0m\u001b[0mtext\u001b[0m\u001b[1;33m)\u001b[0m\u001b[1;33m\u001b[0m\u001b[1;33m\u001b[0m\u001b[0m\n\u001b[0m\u001b[0;32m      5\u001b[0m     \u001b[0mxpath\u001b[0m\u001b[1;33m=\u001b[0m\u001b[1;34m'//*[@id=\"tabCon2\"]/div[2]/a['\u001b[0m\u001b[1;33m+\u001b[0m\u001b[0mstr\u001b[0m\u001b[1;33m(\u001b[0m\u001b[0mj\u001b[0m\u001b[1;33m+\u001b[0m\u001b[1;36m3\u001b[0m\u001b[1;33m)\u001b[0m\u001b[1;33m+\u001b[0m\u001b[1;34m']'\u001b[0m\u001b[1;33m\u001b[0m\u001b[1;33m\u001b[0m\u001b[0m\n\u001b[0;32m      6\u001b[0m     \u001b[0mdriver\u001b[0m\u001b[1;33m.\u001b[0m\u001b[0mfind_element\u001b[0m\u001b[1;33m(\u001b[0m\u001b[0mBy\u001b[0m\u001b[1;33m.\u001b[0m\u001b[0mXPATH\u001b[0m\u001b[1;33m,\u001b[0m \u001b[0mxpath\u001b[0m\u001b[1;33m)\u001b[0m\u001b[1;33m.\u001b[0m\u001b[0mclick\u001b[0m\u001b[1;33m(\u001b[0m\u001b[1;33m)\u001b[0m\u001b[1;33m\u001b[0m\u001b[1;33m\u001b[0m\u001b[0m\n",
      "\u001b[1;32m~\\AppData\\Roaming\\Python\\Python39\\site-packages\\selenium\\webdriver\\remote\\webdriver.py\u001b[0m in \u001b[0;36mfind_element\u001b[1;34m(self, by, value)\u001b[0m\n\u001b[0;32m    828\u001b[0m             \u001b[0mvalue\u001b[0m \u001b[1;33m=\u001b[0m \u001b[1;34mf'[name=\"{value}\"]'\u001b[0m\u001b[1;33m\u001b[0m\u001b[1;33m\u001b[0m\u001b[0m\n\u001b[0;32m    829\u001b[0m \u001b[1;33m\u001b[0m\u001b[0m\n\u001b[1;32m--> 830\u001b[1;33m         \u001b[1;32mreturn\u001b[0m \u001b[0mself\u001b[0m\u001b[1;33m.\u001b[0m\u001b[0mexecute\u001b[0m\u001b[1;33m(\u001b[0m\u001b[0mCommand\u001b[0m\u001b[1;33m.\u001b[0m\u001b[0mFIND_ELEMENT\u001b[0m\u001b[1;33m,\u001b[0m \u001b[1;33m{\u001b[0m\u001b[1;34m\"using\"\u001b[0m\u001b[1;33m:\u001b[0m \u001b[0mby\u001b[0m\u001b[1;33m,\u001b[0m \u001b[1;34m\"value\"\u001b[0m\u001b[1;33m:\u001b[0m \u001b[0mvalue\u001b[0m\u001b[1;33m}\u001b[0m\u001b[1;33m)\u001b[0m\u001b[1;33m[\u001b[0m\u001b[1;34m\"value\"\u001b[0m\u001b[1;33m]\u001b[0m\u001b[1;33m\u001b[0m\u001b[1;33m\u001b[0m\u001b[0m\n\u001b[0m\u001b[0;32m    831\u001b[0m \u001b[1;33m\u001b[0m\u001b[0m\n\u001b[0;32m    832\u001b[0m     \u001b[1;32mdef\u001b[0m \u001b[0mfind_elements\u001b[0m\u001b[1;33m(\u001b[0m\u001b[0mself\u001b[0m\u001b[1;33m,\u001b[0m \u001b[0mby\u001b[0m\u001b[1;33m=\u001b[0m\u001b[0mBy\u001b[0m\u001b[1;33m.\u001b[0m\u001b[0mID\u001b[0m\u001b[1;33m,\u001b[0m \u001b[0mvalue\u001b[0m\u001b[1;33m:\u001b[0m \u001b[0mOptional\u001b[0m\u001b[1;33m[\u001b[0m\u001b[0mstr\u001b[0m\u001b[1;33m]\u001b[0m \u001b[1;33m=\u001b[0m \u001b[1;32mNone\u001b[0m\u001b[1;33m)\u001b[0m \u001b[1;33m->\u001b[0m \u001b[0mList\u001b[0m\u001b[1;33m[\u001b[0m\u001b[0mWebElement\u001b[0m\u001b[1;33m]\u001b[0m\u001b[1;33m:\u001b[0m\u001b[1;33m\u001b[0m\u001b[1;33m\u001b[0m\u001b[0m\n",
      "\u001b[1;32m~\\AppData\\Roaming\\Python\\Python39\\site-packages\\selenium\\webdriver\\remote\\webdriver.py\u001b[0m in \u001b[0;36mexecute\u001b[1;34m(self, driver_command, params)\u001b[0m\n\u001b[0;32m    438\u001b[0m         \u001b[0mresponse\u001b[0m \u001b[1;33m=\u001b[0m \u001b[0mself\u001b[0m\u001b[1;33m.\u001b[0m\u001b[0mcommand_executor\u001b[0m\u001b[1;33m.\u001b[0m\u001b[0mexecute\u001b[0m\u001b[1;33m(\u001b[0m\u001b[0mdriver_command\u001b[0m\u001b[1;33m,\u001b[0m \u001b[0mparams\u001b[0m\u001b[1;33m)\u001b[0m\u001b[1;33m\u001b[0m\u001b[1;33m\u001b[0m\u001b[0m\n\u001b[0;32m    439\u001b[0m         \u001b[1;32mif\u001b[0m \u001b[0mresponse\u001b[0m\u001b[1;33m:\u001b[0m\u001b[1;33m\u001b[0m\u001b[1;33m\u001b[0m\u001b[0m\n\u001b[1;32m--> 440\u001b[1;33m             \u001b[0mself\u001b[0m\u001b[1;33m.\u001b[0m\u001b[0merror_handler\u001b[0m\u001b[1;33m.\u001b[0m\u001b[0mcheck_response\u001b[0m\u001b[1;33m(\u001b[0m\u001b[0mresponse\u001b[0m\u001b[1;33m)\u001b[0m\u001b[1;33m\u001b[0m\u001b[1;33m\u001b[0m\u001b[0m\n\u001b[0m\u001b[0;32m    441\u001b[0m             \u001b[0mresponse\u001b[0m\u001b[1;33m[\u001b[0m\u001b[1;34m\"value\"\u001b[0m\u001b[1;33m]\u001b[0m \u001b[1;33m=\u001b[0m \u001b[0mself\u001b[0m\u001b[1;33m.\u001b[0m\u001b[0m_unwrap_value\u001b[0m\u001b[1;33m(\u001b[0m\u001b[0mresponse\u001b[0m\u001b[1;33m.\u001b[0m\u001b[0mget\u001b[0m\u001b[1;33m(\u001b[0m\u001b[1;34m\"value\"\u001b[0m\u001b[1;33m,\u001b[0m \u001b[1;32mNone\u001b[0m\u001b[1;33m)\u001b[0m\u001b[1;33m)\u001b[0m\u001b[1;33m\u001b[0m\u001b[1;33m\u001b[0m\u001b[0m\n\u001b[0;32m    442\u001b[0m             \u001b[1;32mreturn\u001b[0m \u001b[0mresponse\u001b[0m\u001b[1;33m\u001b[0m\u001b[1;33m\u001b[0m\u001b[0m\n",
      "\u001b[1;32m~\\AppData\\Roaming\\Python\\Python39\\site-packages\\selenium\\webdriver\\remote\\errorhandler.py\u001b[0m in \u001b[0;36mcheck_response\u001b[1;34m(self, response)\u001b[0m\n\u001b[0;32m    243\u001b[0m                 \u001b[0malert_text\u001b[0m \u001b[1;33m=\u001b[0m \u001b[0mvalue\u001b[0m\u001b[1;33m[\u001b[0m\u001b[1;34m\"alert\"\u001b[0m\u001b[1;33m]\u001b[0m\u001b[1;33m.\u001b[0m\u001b[0mget\u001b[0m\u001b[1;33m(\u001b[0m\u001b[1;34m\"text\"\u001b[0m\u001b[1;33m)\u001b[0m\u001b[1;33m\u001b[0m\u001b[1;33m\u001b[0m\u001b[0m\n\u001b[0;32m    244\u001b[0m             \u001b[1;32mraise\u001b[0m \u001b[0mexception_class\u001b[0m\u001b[1;33m(\u001b[0m\u001b[0mmessage\u001b[0m\u001b[1;33m,\u001b[0m \u001b[0mscreen\u001b[0m\u001b[1;33m,\u001b[0m \u001b[0mstacktrace\u001b[0m\u001b[1;33m,\u001b[0m \u001b[0malert_text\u001b[0m\u001b[1;33m)\u001b[0m  \u001b[1;31m# type: ignore[call-arg]  # mypy is not smart enough here\u001b[0m\u001b[1;33m\u001b[0m\u001b[1;33m\u001b[0m\u001b[0m\n\u001b[1;32m--> 245\u001b[1;33m         \u001b[1;32mraise\u001b[0m \u001b[0mexception_class\u001b[0m\u001b[1;33m(\u001b[0m\u001b[0mmessage\u001b[0m\u001b[1;33m,\u001b[0m \u001b[0mscreen\u001b[0m\u001b[1;33m,\u001b[0m \u001b[0mstacktrace\u001b[0m\u001b[1;33m)\u001b[0m\u001b[1;33m\u001b[0m\u001b[1;33m\u001b[0m\u001b[0m\n\u001b[0m",
      "\u001b[1;31mNoSuchElementException\u001b[0m: Message: no such element: Unable to locate element: {\"method\":\"xpath\",\"selector\":\"//*[@id=\"tabCon2\"]/ul/li[5]/div[1]\"}\n  (Session info: chrome=111.0.5563.65)\nStacktrace:\nBacktrace:\n\t(No symbol) [0x0051DCE3]\n\t(No symbol) [0x004B39D1]\n\t(No symbol) [0x003C4DA8]\n\t(No symbol) [0x003F019F]\n\t(No symbol) [0x003F03AB]\n\t(No symbol) [0x0041EE62]\n\t(No symbol) [0x0040AF14]\n\t(No symbol) [0x0041D57C]\n\t(No symbol) [0x0040ACC6]\n\t(No symbol) [0x003E6F68]\n\t(No symbol) [0x003E80CD]\n\tGetHandleVerifier [0x00793832+2506274]\n\tGetHandleVerifier [0x007C9794+2727300]\n\tGetHandleVerifier [0x007CE36C+2746716]\n\tGetHandleVerifier [0x005C6690+617600]\n\t(No symbol) [0x004BC712]\n\t(No symbol) [0x004C1FF8]\n\t(No symbol) [0x004C20DB]\n\t(No symbol) [0x004CC63B]\n\tBaseThreadInitThunk [0x75887D69+25]\n\tRtlInitializeExceptionChain [0x773CB74B+107]\n\tRtlClearBits [0x773CB6CF+191]\n"
     ]
    }
   ],
   "source": [
    "for j in range(1,3):\n",
    "    for i in tqdm(range(1,11)):\n",
    "        xpath='//*[@id=\"tabCon2\"]/ul/li['+str(i)+']/div[1]'\n",
    "        item_list9.append(driver.find_element(By.XPATH, xpath).text)\n",
    "    xpath='//*[@id=\"tabCon2\"]/div[2]/a['+str(j+3)+']'\n",
    "    driver.find_element(By.XPATH, xpath).click()\n",
    "    time.sleep(1)\n",
    "print('끝')"
   ]
  },
  {
   "cell_type": "code",
   "execution_count": 237,
   "id": "bfc51b69",
   "metadata": {},
   "outputs": [
    {
     "data": {
      "text/plain": [
       "314"
      ]
     },
     "execution_count": 237,
     "metadata": {},
     "output_type": "execute_result"
    }
   ],
   "source": [
    "len(item_list9)"
   ]
  },
  {
   "cell_type": "code",
   "execution_count": 238,
   "id": "c26bae79",
   "metadata": {},
   "outputs": [
    {
     "data": {
      "text/plain": [
       "['오대산국립공원\\n강원도 평창군',\n",
       " '태백산국립공원\\n강원도 태백시',\n",
       " '치악산국립공원\\n강원도 원주시',\n",
       " '설악산국립공원(내설악)\\n강원도 인제군',\n",
       " '국립 삼봉자연휴양림\\n강원도 홍천군',\n",
       " '국립 대관령자연휴양림\\n강원도 강릉시',\n",
       " '국립 용대자연휴양림\\n강원도 인제군',\n",
       " '국립청태산자연휴양림\\n강원도 횡성군',\n",
       " '광치자연휴양림\\n강원도 양구군',\n",
       " '알펜시아 오션700\\n강원도 평창군',\n",
       " '무릉계곡\\n강원도 동해시',\n",
       " '십이선녀탕(탕수동계곡)\\n강원도 인제군',\n",
       " '어라연 (강원고생대 국가지질공원)\\n강원도 영월군',\n",
       " '순담계곡\\n강원도 철원군',\n",
       " '직탕폭포 (한탄강 국가지질공원)\\n강원도 철원군',\n",
       " '삼부연폭포 (한탄강 국가지질공원)\\n강원도 철원군',\n",
       " '한계령\\n강원도 양양군',\n",
       " '민둥산\\n강원도 정선군',\n",
       " '강촌유원지\\n강원도 춘천시',\n",
       " '삼악산(춘천)\\n강원도 춘천시',\n",
       " '장호해수욕장(장호항, 장호해변)\\n강원도 삼척시',\n",
       " '어달해변\\n강원도 동해시',\n",
       " '속초해변\\n강원도 속초시',\n",
       " '낙산해수욕장\\n강원도 양양군',\n",
       " '남애해변(남애1, 3리)\\n강원도 양양군',\n",
       " '주문진해변\\n강원도 강릉시',\n",
       " '사천해변(사천해수욕장)\\n강원도 강릉시',\n",
       " '남항진해변(남항진해수욕장)\\n강원도 강릉시',\n",
       " '아야진해변\\n강원도 고성군',\n",
       " '지경리해변\\n강원도 양양군',\n",
       " '청평사(춘천)\\n강원도 춘천시',\n",
       " '법흥사(영월)\\n강원도 영월군',\n",
       " '청초호\\n강원도 속초시',\n",
       " '춘천호\\n강원도 춘천시',\n",
       " '황지연못\\n강원도 태백시',\n",
       " '마곡유원지\\n강원도 홍천군',\n",
       " '모곡밤벌유원지\\n강원도 홍천군',\n",
       " '고씨굴(강원고생대국가지질공원)\\n강원도 영월군',\n",
       " '죽도해변(양양)\\n강원도 양양군',\n",
       " '망상해변\\n강원도 동해시',\n",
       " '파로호(화천)\\n강원도 화천군',\n",
       " '삼척 죽서루\\n강원도 삼척시',\n",
       " '영월 장릉(단종) [유네스코 세계문화유산]\\n강원도 영월군',\n",
       " '강릉경포대\\n강원도 강릉시',\n",
       " '강릉오죽헌\\n강원도 강릉시',\n",
       " '청령포(강원고생대국가지질공원)\\n강원도 영월군',\n",
       " '고석정국민관광지\\n강원도 철원군',\n",
       " '아우라지\\n강원도 정선군',\n",
       " '양양낙산사\\n강원도 양양군',\n",
       " '백담사\\n강원도 인제군',\n",
       " '국립 방태산자연휴양림\\n강원도 인제군',\n",
       " '궁촌해변(궁촌해수욕장)\\n강원도 삼척시',\n",
       " '간현관광지\\n강원도 원주시',\n",
       " '파로호(양구)\\n강원도 양구군',\n",
       " '두타연(강원평화지역국가지질공원)\\n강원도 양구군',\n",
       " '속초관광수산시장\\n강원도 속초시',\n",
       " '을지전망대\\n강원도 양구군',\n",
       " '설악 흔들바위\\n강원도 속초시',\n",
       " '고성 왕곡마을\\n강원도 고성군',\n",
       " '소양호(춘천)\\n강원도 춘천시',\n",
       " '가진해변\\n강원도 고성군',\n",
       " '초도해변\\n강원도 고성군',\n",
       " '명파해변\\n강원도 고성군',\n",
       " '주천강자연휴양림\\n강원도 횡성군',\n",
       " '남애항\\n강원도 양양군',\n",
       " '용연동굴 (강원고생대 국가지질공원)\\n강원도 태백시',\n",
       " '대이리 동굴지대\\n강원도 삼척시',\n",
       " '용평리조트\\n강원도 평창군',\n",
       " '설악워터피아\\n강원도 속초시',\n",
       " '봉수대해변\\n강원도 고성군',\n",
       " '철원 철새도래지 (철원평야)\\n강원도 철원군',\n",
       " '강원도립화목원\\n강원도 춘천시',\n",
       " '원주 법천사지\\n강원도 원주시',\n",
       " '동강(정선)\\n강원도 정선군',\n",
       " '대관령황태덕장마을\\n강원도 평창군',\n",
       " '양양 송천떡마을\\n강원도 양양군',\n",
       " '강릉 통일공원\\n강원도 강릉시',\n",
       " '이효석문화마을\\n강원도 평창군',\n",
       " '검룡소 (강원고생대 국가지질공원)\\n강원도 태백시',\n",
       " '청간해변\\n강원도 고성군',\n",
       " '허브나라농원\\n강원도 평창군',\n",
       " '초곡해수욕장\\n강원도 삼척시',\n",
       " '원평해변(원평해수욕장)\\n강원도 삼척시',\n",
       " '증산해변(증산 해수욕장)\\n강원도 삼척시',\n",
       " '안목해변\\n강원도 강릉시',\n",
       " '엘리시안 강촌\\n강원도 춘천시',\n",
       " '공지천(황금비늘테마거리)\\n강원도 춘천시',\n",
       " '설악산국립공원\\n강원도 속초시',\n",
       " '송지호해안서낭바위(강원평화지역국가지질공원)\\n강원도 고성군',\n",
       " '집다리골자연휴양림\\n강원도 춘천시',\n",
       " '남이섬\\n강원도 춘천시',\n",
       " '화천 비목공원\\n강원도 화천군',\n",
       " '강릉 구라미온천\\n강원도 강릉시',\n",
       " '김유정문학촌\\n강원도 춘천시',\n",
       " '오대산 소금강계곡\\n강원도 강릉시',\n",
       " '미시령계곡\\n강원도 인제군',\n",
       " '수입천(하천)\\n강원도 양구군',\n",
       " '송지호 해수욕장\\n강원도 고성군',\n",
       " '맹방해변\\n강원도 삼척시',\n",
       " '국립 미천골자연휴양림\\n강원도 양양군',\n",
       " '대암산 용늪 (강원평화지역 국가지질공원)\\n강원도 양구군',\n",
       " '삼척 해신당공원\\n강원도 삼척시',\n",
       " '속초 설악해맞이공원\\n강원도 속초시',\n",
       " '박경리문학공원\\n강원도 원주시',\n",
       " '옥계해변\\n강원도 강릉시',\n",
       " '고성통일전망타워\\n강원도 고성군',\n",
       " '척산온천지구\\n강원도 속초시',\n",
       " '안흥찐빵마을\\n강원도 횡성군',\n",
       " '치악산자연휴양림\\n강원도 원주시',\n",
       " '홍천 아로마 허브동산\\n강원도 홍천군',\n",
       " '공지천 조각공원\\n강원도 춘천시',\n",
       " '학사평 콩꽃마을 순두부촌\\n강원도 속초시',\n",
       " '추암촛대바위\\n강원도 동해시',\n",
       " '장호항\\n강원도 삼척시',\n",
       " '경포해변\\n강원도 강릉시',\n",
       " '정동진해변\\n강원도 강릉시',\n",
       " '문암1리해변 (자작도)\\n강원도 고성군',\n",
       " '영진해변\\n강원도 강릉시',\n",
       " '사근진해변(사근진해수욕장)\\n강원도 강릉시',\n",
       " '모래시계공원\\n강원도 강릉시',\n",
       " '하조대 무인등대\\n강원도 양양군',\n",
       " '묵호항\\n강원도 동해시',\n",
       " '소돌아들바위공원\\n강원도 강릉시',\n",
       " '소양강처녀상\\n강원도 춘천시',\n",
       " '설악 파인리조트 가든스파\\n강원도 속초시',\n",
       " '팔석정\\n강원도 평창군',\n",
       " '대관령양떼목장\\n강원도 평창군',\n",
       " '홍천비발디파크\\n강원도 홍천군',\n",
       " '태백고원자연휴양림\\n강원도 태백시',\n",
       " '섬강(섬강유원지)\\n강원도 횡성군',\n",
       " '박수근미술관\\n강원도 양구군',\n",
       " '영월곤충박물관\\n강원도 영월군',\n",
       " '평창무이예술관\\n강원도 평창군',\n",
       " '화진포 해양박물관\\n강원도 고성군',\n",
       " '조선민화박물관\\n강원도 영월군',\n",
       " '대관령박물관\\n강원도 강릉시',\n",
       " '구봉산전망대카페거리\\n강원도 춘천시',\n",
       " '용소막성당\\n강원도 원주시',\n",
       " '원주원성성남리성황림\\n강원도 원주시',\n",
       " '대포항\\n강원도 속초시',\n",
       " '주문진항\\n강원도 강릉시',\n",
       " '이승복기념관\\n강원도 평창군',\n",
       " '춘천막국수체험박물관\\n강원도 춘천시',\n",
       " '아라리인형의집\\n강원도 정선군',\n",
       " '양구통일관\\n강원도 양구군',\n",
       " '강원종합박물관\\n강원도 삼척시',\n",
       " '강원경찰박물관\\n강원도 춘천시',\n",
       " '모형항공기박물관\\n강원도 춘천시',\n",
       " '정선향토박물관\\n강원도 정선군',\n",
       " '인제산촌민속박물관\\n강원도 인제군',\n",
       " '알펜시아리조트\\n강원도 평창군',\n",
       " '백룡동굴(강원고생대국가지질공원)\\n강원도 평창군',\n",
       " '강릉 동부시장\\n강원도 강릉시',\n",
       " '강릉중앙시장\\n강원도 강릉시',\n",
       " '원주중앙시장\\n강원도 원주시',\n",
       " '삼척 도계전두시장\\n강원도 삼척시',\n",
       " '오크밸리스키장\\n강원도 원주시',\n",
       " '용평리조트 스키장\\n강원도 평창군',\n",
       " '휘닉스파크(워터파크)\\n강원도 평창군',\n",
       " '웰리힐리파크\\n강원도 횡성군',\n",
       " '태백 상장동 벽화마을\\n강원도 태백시',\n",
       " '금대봉야생화 군락지\\n강원도 태백시',\n",
       " '365세이프타운\\n강원도 태백시',\n",
       " '평화의댐(화천)\\n강원도 화천군',\n",
       " '홍천테마파크(구, 예술촌)\\n강원도 홍천군',\n",
       " '팔봉산관광지\\n강원도 홍천군',\n",
       " '제이드가든수목원\\n강원도 춘천시',\n",
       " '로하스파크&와카푸카\\n강원도 평창군',\n",
       " '하이원리조트\\n강원도 정선군',\n",
       " '태백 고생대자연사박물관\\n강원도 태백시',\n",
       " '삼척 맹방유채꽃 마을\\n강원도 삼척시',\n",
       " '호안다구박물관\\n강원도 영월군',\n",
       " '구은사\\n강원도 철원군',\n",
       " '대관령 하늘목장\\n강원도 평창군',\n",
       " '강촌레일파크\\n강원도 춘천시',\n",
       " '인도미술박물관\\n강원도 영월군',\n",
       " '외옹치해변\\n강원도 속초시',\n",
       " '홍천은행나무숲\\n강원도 홍천군',\n",
       " '강원 영월 김삿갓 [슬로시티]\\n강원도 영월군',\n",
       " '원대리자작나무숲(속삭이는자작나무숲)\\n강원도 인제군',\n",
       " '소금산\\n강원도 원주시',\n",
       " '유현문화관광지\\n강원도 횡성군',\n",
       " '어답산관광지\\n강원도 횡성군',\n",
       " '동해무릉건강숲\\n강원도 동해시',\n",
       " '원주허브팜\\n강원도 원주시',\n",
       " 'DMZ생태평화공원\\n강원도 철원군',\n",
       " '파로호 안보전시관\\n강원도 화천군',\n",
       " '소이산 생태숲 녹색길\\n강원도 철원군',\n",
       " '인제스피디움리조트 서킷\\n강원도 인제군',\n",
       " '수로부인헌화공원(남화산해맞이공원)\\n강원도 삼척시',\n",
       " '강릉시립미술관\\n강원도 강릉시',\n",
       " '행구수변공원\\n강원도 원주시',\n",
       " '한지공예관\\n강원도 원주시',\n",
       " '조엄기념관\\n강원도 원주시',\n",
       " '옻칠기공예관\\n강원도 원주시',\n",
       " '곤충마을박물관\\n강원도 원주시',\n",
       " '박사마을\\n강원도 춘천시',\n",
       " '강촌환경생태연못\\n강원도 춘천시',\n",
       " '강촌랜드\\n강원도 춘천시',\n",
       " '소양강스카이워크\\n강원도 춘천시',\n",
       " '통일공원함정전시관\\n강원도 강릉시',\n",
       " '자연아놀자 체험학습박물관\\n강원도 강릉시',\n",
       " '옥계항\\n강원도 강릉시',\n",
       " '안반데기 마을\\n강원도 강릉시',\n",
       " '심곡항\\n강원도 강릉시',\n",
       " '수상한마법학교\\n강원도 강릉시',\n",
       " '사천항\\n강원도 강릉시',\n",
       " '매월당김시습기념관\\n강원도 강릉시',\n",
       " '경포가시연습지\\n강원도 강릉시',\n",
       " '강릉안목해맞이공원\\n강원도 강릉시',\n",
       " '갈남항\\n강원도 삼척시',\n",
       " '수산항\\n강원도 양양군',\n",
       " '물치해변\\n강원도 양양군',\n",
       " '범패사\\n강원도 태백시',\n",
       " '만덕사\\n강원도 태백시',\n",
       " '한섬해변\\n강원도 동해시',\n",
       " '하평해변\\n강원도 동해시',\n",
       " '삼화사 템플스테이\\n강원도 동해시',\n",
       " '감추해변\\n강원도 동해시',\n",
       " '가원습지 생태자연공원\\n강원도 동해시',\n",
       " '영월음향역사박물관\\n강원도 영월군',\n",
       " '영월미디어기자박물관\\n강원도 영월군',\n",
       " '영월동강생태공원\\n강원도 영월군',\n",
       " '술샘박물관\\n강원도 영월군',\n",
       " '만봉불화박물관\\n강원도 영월군',\n",
       " '올챙이추억전시관\\n강원도 횡성군',\n",
       " '강원도자연환경연구공원\\n강원도 홍천군',\n",
       " '월천리 솔섬\\n강원도 삼척시',\n",
       " '중광정해변\\n강원도 양양군',\n",
       " '정암해변\\n강원도 양양군',\n",
       " '초도항\\n강원도 고성군',\n",
       " '천진항\\n강원도 고성군',\n",
       " '자작도해변\\n강원도 고성군',\n",
       " '아야진항\\n강원도 고성군',\n",
       " '봉포항\\n강원도 고성군',\n",
       " '거진등대해맞이공원\\n강원도 고성군',\n",
       " '쾌연재도자미술관\\n강원도 영월군',\n",
       " '초등교육박물관\\n강원도 영월군',\n",
       " '제이큐브미술관\\n강원도 영월군',\n",
       " '영월종교미술박물관\\n강원도 영월군',\n",
       " '강릉커피거리\\n강원도 강릉시',\n",
       " '아라리촌\\n강원도 정선군',\n",
       " '고생대 화석산지\\n강원도 태백시',\n",
       " '철원토성및석조물\\n강원도 철원군',\n",
       " '효석문화마을\\n강원도 평창군',\n",
       " '원당계곡\\n강원도 평창군',\n",
       " '한반도섬\\n강원도 양구군',\n",
       " '야생동물생태관\\n강원도 양구군',\n",
       " '백두대간 생태수목원\\n강원도 정선군',\n",
       " '동강전망자연휴양림\\n강원도 정선군',\n",
       " '상동리 석불좌상 및 삼층석탑\\n강원도 인제군',\n",
       " '대산계곡\\n강원도 횡성군',\n",
       " '리빙스턴교\\n강원도 인제군',\n",
       " '속초아바이마을\\n강원도 속초시',\n",
       " '진부령미술관\\n강원도 고성군',\n",
       " '하늬라벤더팜\\n강원도 고성군',\n",
       " '자규루 및 관풍헌\\n강원도 영월군',\n",
       " '알파카월드\\n강원도 홍천군',\n",
       " '삼탄아트마인\\n강원도 정선군',\n",
       " '사북 탄광문화관광촌\\n강원도 정선군',\n",
       " '화천조경철천문대\\n강원도 화천군',\n",
       " '곡운구곡 (강원평화지역 국가지질공원)\\n강원도 화천군',\n",
       " '해산전망대\\n강원도 화천군',\n",
       " '칠성전망대\\n강원도 화천군',\n",
       " '수달연구센터\\n강원도 화천군',\n",
       " '산타우체국\\n강원도 화천군',\n",
       " '국립대관령치유의숲\\n강원도 강릉시',\n",
       " '감자꽃 스튜디오\\n강원도 평창군',\n",
       " '삼척 대학로\\n강원도 삼척시',\n",
       " '낙엽송숲\\n강원도 횡성군',\n",
       " '기억을 모으는 미술관 ART-TEA\\n강원도 태백시',\n",
       " '새천년해안도로\\n강원도 삼척시',\n",
       " '매봉산풍력발전단지(바람의 언덕)\\n강원도 태백시',\n",
       " '웰컴투동막골촬영지\\n강원도 평창군',\n",
       " '소양호 막국수거리\\n강원도 춘천시',\n",
       " '의암호 스카이워크\\n강원도 춘천시',\n",
       " '허난설헌 솔숲\\n강원도 강릉시',\n",
       " '평창 스키점프 전망대\\n강원도 평창군',\n",
       " '화천 반지교&아를테마수목공원\\n강원도 화천군',\n",
       " '산천어커피박물관\\n강원도 화천군',\n",
       " '국립횡성숲체원\\n강원도 횡성군',\n",
       " '쉬리마을\\n강원도 철원군',\n",
       " '철원노동당사\\n강원도 철원군',\n",
       " '제2땅굴(철원)\\n강원도 철원군',\n",
       " '춘천명동거리\\n강원도 춘천시',\n",
       " '춘천 애니메이션박물관\\n강원도 춘천시',\n",
       " '뮤지엄 산\\n강원도 원주시',\n",
       " '소양강 하안단구 (강원평화지역 국가지질공원)\\n강원도 인제군',\n",
       " '대교천 현무암 협곡 (한탄강 국가지질공원)\\n강원도 철원군',\n",
       " '미술관 자작나무숲\\n강원도 횡성군',\n",
       " '도직해변\\n강원도 강릉시',\n",
       " '염전해변\\n강원도 강릉시',\n",
       " '사천진해변(사천뒷불해수욕장)\\n강원도 강릉시',\n",
       " '양구생태식물원\\n강원도 양구군',\n",
       " '철원평화전망대\\n강원도 철원군',\n",
       " '토교저수지(철새도래지)\\n강원도 철원군',\n",
       " '화진포의 성(김일성별장)\\n강원도 고성군',\n",
       " '국립 두타산자연휴양림\\n강원도 평창군',\n",
       " '횡성자연휴양림\\n강원도 횡성군',\n",
       " '영천사(원주)\\n강원도 원주시',\n",
       " '월남 파병용사 만남의 장 (구, 베트남 참전용사 만남의 장)\\n강원도 화천군',\n",
       " '국토정중앙천문대\\n강원도 양구군',\n",
       " '고성DMZ박물관\\n강원도 고성군',\n",
       " '한반도 뗏목마을\\n강원도 영월군',\n",
       " '해담마을\\n강원도 양양군',\n",
       " '승리전망대\\n강원도 철원군',\n",
       " '횡계 오삼불고기 거리\\n강원도 평창군',\n",
       " '국립 백운산자연휴양림(원주)\\n강원도 원주시',\n",
       " '춘천숲자연휴양림\\n강원도 춘천시',\n",
       " '오투리조트 스키장\\n강원도 태백시',\n",
       " '송지호관망타워\\n강원도 고성군',\n",
       " '강원도탄광문화촌\\n강원도 영월군',\n",
       " '홍천 살둔마을\\n강원도 홍천군',\n",
       " '춘천강언덕마을[농촌전통테마]\\n강원도 춘천시']"
      ]
     },
     "execution_count": 238,
     "metadata": {},
     "output_type": "execute_result"
    }
   ],
   "source": [
    "item_list9"
   ]
  },
  {
   "cell_type": "code",
   "execution_count": 160,
   "id": "97e0c5b5",
   "metadata": {
    "collapsed": true
   },
   "outputs": [
    {
     "data": {
      "application/vnd.jupyter.widget-view+json": {
       "model_id": "acf174a93dfb41bfbe8587389f1085fa",
       "version_major": 2,
       "version_minor": 0
      },
      "text/plain": [
       "  0%|          | 0/10 [00:00<?, ?it/s]"
      ]
     },
     "metadata": {},
     "output_type": "display_data"
    },
    {
     "data": {
      "application/vnd.jupyter.widget-view+json": {
       "model_id": "e950962e881b4c90818e32309beda1a0",
       "version_major": 2,
       "version_minor": 0
      },
      "text/plain": [
       "  0%|          | 0/10 [00:00<?, ?it/s]"
      ]
     },
     "metadata": {},
     "output_type": "display_data"
    },
    {
     "data": {
      "application/vnd.jupyter.widget-view+json": {
       "model_id": "dad521dce81e46e98b8955712e3a7c38",
       "version_major": 2,
       "version_minor": 0
      },
      "text/plain": [
       "  0%|          | 0/10 [00:00<?, ?it/s]"
      ]
     },
     "metadata": {},
     "output_type": "display_data"
    },
    {
     "data": {
      "application/vnd.jupyter.widget-view+json": {
       "model_id": "77376a067f654953b0c936f95790b8d6",
       "version_major": 2,
       "version_minor": 0
      },
      "text/plain": [
       "  0%|          | 0/10 [00:00<?, ?it/s]"
      ]
     },
     "metadata": {},
     "output_type": "display_data"
    },
    {
     "data": {
      "application/vnd.jupyter.widget-view+json": {
       "model_id": "ae12492c111743f498b198c48deca458",
       "version_major": 2,
       "version_minor": 0
      },
      "text/plain": [
       "  0%|          | 0/10 [00:00<?, ?it/s]"
      ]
     },
     "metadata": {},
     "output_type": "display_data"
    },
    {
     "data": {
      "application/vnd.jupyter.widget-view+json": {
       "model_id": "88d4afcf05684deba9030a9eac48ad2e",
       "version_major": 2,
       "version_minor": 0
      },
      "text/plain": [
       "  0%|          | 0/10 [00:00<?, ?it/s]"
      ]
     },
     "metadata": {},
     "output_type": "display_data"
    },
    {
     "data": {
      "application/vnd.jupyter.widget-view+json": {
       "model_id": "a9d87896a385463185e125c9ddc68647",
       "version_major": 2,
       "version_minor": 0
      },
      "text/plain": [
       "  0%|          | 0/10 [00:00<?, ?it/s]"
      ]
     },
     "metadata": {},
     "output_type": "display_data"
    },
    {
     "data": {
      "application/vnd.jupyter.widget-view+json": {
       "model_id": "ae93fb421a2544308aacc54a621ea882",
       "version_major": 2,
       "version_minor": 0
      },
      "text/plain": [
       "  0%|          | 0/10 [00:00<?, ?it/s]"
      ]
     },
     "metadata": {},
     "output_type": "display_data"
    },
    {
     "data": {
      "application/vnd.jupyter.widget-view+json": {
       "model_id": "c823e43e82c0499cb6e62ed452503262",
       "version_major": 2,
       "version_minor": 0
      },
      "text/plain": [
       "  0%|          | 0/10 [00:00<?, ?it/s]"
      ]
     },
     "metadata": {},
     "output_type": "display_data"
    },
    {
     "data": {
      "application/vnd.jupyter.widget-view+json": {
       "model_id": "8e91cfe32f1346608deb1ac03ce713f0",
       "version_major": 2,
       "version_minor": 0
      },
      "text/plain": [
       "  0%|          | 0/10 [00:00<?, ?it/s]"
      ]
     },
     "metadata": {},
     "output_type": "display_data"
    },
    {
     "ename": "NoSuchElementException",
     "evalue": "Message: no such element: Unable to locate element: {\"method\":\"xpath\",\"selector\":\"//*[@id=\"tabCon2\"]/div[2]/a[11]\"}\n  (Session info: chrome=111.0.5563.65)\nStacktrace:\nBacktrace:\n\t(No symbol) [0x0051DCE3]\n\t(No symbol) [0x004B39D1]\n\t(No symbol) [0x003C4DA8]\n\t(No symbol) [0x003F019F]\n\t(No symbol) [0x003F03AB]\n\t(No symbol) [0x0041EE62]\n\t(No symbol) [0x0040AF14]\n\t(No symbol) [0x0041D57C]\n\t(No symbol) [0x0040ACC6]\n\t(No symbol) [0x003E6F68]\n\t(No symbol) [0x003E80CD]\n\tGetHandleVerifier [0x00793832+2506274]\n\tGetHandleVerifier [0x007C9794+2727300]\n\tGetHandleVerifier [0x007CE36C+2746716]\n\tGetHandleVerifier [0x005C6690+617600]\n\t(No symbol) [0x004BC712]\n\t(No symbol) [0x004C1FF8]\n\t(No symbol) [0x004C20DB]\n\t(No symbol) [0x004CC63B]\n\tBaseThreadInitThunk [0x75887D69+25]\n\tRtlInitializeExceptionChain [0x773CB74B+107]\n\tRtlClearBits [0x773CB6CF+191]\n",
     "output_type": "error",
     "traceback": [
      "\u001b[1;31m---------------------------------------------------------------------------\u001b[0m",
      "\u001b[1;31mNoSuchElementException\u001b[0m                    Traceback (most recent call last)",
      "\u001b[1;32m~\\AppData\\Local\\Temp\\ipykernel_19340\\807119486.py\u001b[0m in \u001b[0;36m<module>\u001b[1;34m\u001b[0m\n\u001b[0;32m      6\u001b[0m         \u001b[0mitem_list10\u001b[0m\u001b[1;33m.\u001b[0m\u001b[0mappend\u001b[0m\u001b[1;33m(\u001b[0m\u001b[0mdriver\u001b[0m\u001b[1;33m.\u001b[0m\u001b[0mfind_element\u001b[0m\u001b[1;33m(\u001b[0m\u001b[0mBy\u001b[0m\u001b[1;33m.\u001b[0m\u001b[0mXPATH\u001b[0m\u001b[1;33m,\u001b[0m \u001b[0mxpath\u001b[0m\u001b[1;33m)\u001b[0m\u001b[1;33m.\u001b[0m\u001b[0mtext\u001b[0m\u001b[1;33m)\u001b[0m\u001b[1;33m\u001b[0m\u001b[1;33m\u001b[0m\u001b[0m\n\u001b[0;32m      7\u001b[0m     \u001b[0mxpath\u001b[0m\u001b[1;33m=\u001b[0m\u001b[1;34m'//*[@id=\"tabCon2\"]/div[2]/a['\u001b[0m\u001b[1;33m+\u001b[0m\u001b[0mstr\u001b[0m\u001b[1;33m(\u001b[0m\u001b[0mj\u001b[0m\u001b[1;33m+\u001b[0m\u001b[1;36m1\u001b[0m\u001b[1;33m)\u001b[0m\u001b[1;33m+\u001b[0m\u001b[1;34m']'\u001b[0m\u001b[1;33m\u001b[0m\u001b[1;33m\u001b[0m\u001b[0m\n\u001b[1;32m----> 8\u001b[1;33m     \u001b[0mdriver\u001b[0m\u001b[1;33m.\u001b[0m\u001b[0mfind_element\u001b[0m\u001b[1;33m(\u001b[0m\u001b[0mBy\u001b[0m\u001b[1;33m.\u001b[0m\u001b[0mXPATH\u001b[0m\u001b[1;33m,\u001b[0m \u001b[0mxpath\u001b[0m\u001b[1;33m)\u001b[0m\u001b[1;33m.\u001b[0m\u001b[0mclick\u001b[0m\u001b[1;33m(\u001b[0m\u001b[1;33m)\u001b[0m\u001b[1;33m\u001b[0m\u001b[1;33m\u001b[0m\u001b[0m\n\u001b[0m\u001b[0;32m      9\u001b[0m     \u001b[0mtime\u001b[0m\u001b[1;33m.\u001b[0m\u001b[0msleep\u001b[0m\u001b[1;33m(\u001b[0m\u001b[1;36m1\u001b[0m\u001b[1;33m)\u001b[0m\u001b[1;33m\u001b[0m\u001b[1;33m\u001b[0m\u001b[0m\n\u001b[0;32m     10\u001b[0m \u001b[0mprint\u001b[0m\u001b[1;33m(\u001b[0m\u001b[1;34m'끝'\u001b[0m\u001b[1;33m)\u001b[0m\u001b[1;33m\u001b[0m\u001b[1;33m\u001b[0m\u001b[0m\n",
      "\u001b[1;32m~\\AppData\\Roaming\\Python\\Python39\\site-packages\\selenium\\webdriver\\remote\\webdriver.py\u001b[0m in \u001b[0;36mfind_element\u001b[1;34m(self, by, value)\u001b[0m\n\u001b[0;32m    828\u001b[0m             \u001b[0mvalue\u001b[0m \u001b[1;33m=\u001b[0m \u001b[1;34mf'[name=\"{value}\"]'\u001b[0m\u001b[1;33m\u001b[0m\u001b[1;33m\u001b[0m\u001b[0m\n\u001b[0;32m    829\u001b[0m \u001b[1;33m\u001b[0m\u001b[0m\n\u001b[1;32m--> 830\u001b[1;33m         \u001b[1;32mreturn\u001b[0m \u001b[0mself\u001b[0m\u001b[1;33m.\u001b[0m\u001b[0mexecute\u001b[0m\u001b[1;33m(\u001b[0m\u001b[0mCommand\u001b[0m\u001b[1;33m.\u001b[0m\u001b[0mFIND_ELEMENT\u001b[0m\u001b[1;33m,\u001b[0m \u001b[1;33m{\u001b[0m\u001b[1;34m\"using\"\u001b[0m\u001b[1;33m:\u001b[0m \u001b[0mby\u001b[0m\u001b[1;33m,\u001b[0m \u001b[1;34m\"value\"\u001b[0m\u001b[1;33m:\u001b[0m \u001b[0mvalue\u001b[0m\u001b[1;33m}\u001b[0m\u001b[1;33m)\u001b[0m\u001b[1;33m[\u001b[0m\u001b[1;34m\"value\"\u001b[0m\u001b[1;33m]\u001b[0m\u001b[1;33m\u001b[0m\u001b[1;33m\u001b[0m\u001b[0m\n\u001b[0m\u001b[0;32m    831\u001b[0m \u001b[1;33m\u001b[0m\u001b[0m\n\u001b[0;32m    832\u001b[0m     \u001b[1;32mdef\u001b[0m \u001b[0mfind_elements\u001b[0m\u001b[1;33m(\u001b[0m\u001b[0mself\u001b[0m\u001b[1;33m,\u001b[0m \u001b[0mby\u001b[0m\u001b[1;33m=\u001b[0m\u001b[0mBy\u001b[0m\u001b[1;33m.\u001b[0m\u001b[0mID\u001b[0m\u001b[1;33m,\u001b[0m \u001b[0mvalue\u001b[0m\u001b[1;33m:\u001b[0m \u001b[0mOptional\u001b[0m\u001b[1;33m[\u001b[0m\u001b[0mstr\u001b[0m\u001b[1;33m]\u001b[0m \u001b[1;33m=\u001b[0m \u001b[1;32mNone\u001b[0m\u001b[1;33m)\u001b[0m \u001b[1;33m->\u001b[0m \u001b[0mList\u001b[0m\u001b[1;33m[\u001b[0m\u001b[0mWebElement\u001b[0m\u001b[1;33m]\u001b[0m\u001b[1;33m:\u001b[0m\u001b[1;33m\u001b[0m\u001b[1;33m\u001b[0m\u001b[0m\n",
      "\u001b[1;32m~\\AppData\\Roaming\\Python\\Python39\\site-packages\\selenium\\webdriver\\remote\\webdriver.py\u001b[0m in \u001b[0;36mexecute\u001b[1;34m(self, driver_command, params)\u001b[0m\n\u001b[0;32m    438\u001b[0m         \u001b[0mresponse\u001b[0m \u001b[1;33m=\u001b[0m \u001b[0mself\u001b[0m\u001b[1;33m.\u001b[0m\u001b[0mcommand_executor\u001b[0m\u001b[1;33m.\u001b[0m\u001b[0mexecute\u001b[0m\u001b[1;33m(\u001b[0m\u001b[0mdriver_command\u001b[0m\u001b[1;33m,\u001b[0m \u001b[0mparams\u001b[0m\u001b[1;33m)\u001b[0m\u001b[1;33m\u001b[0m\u001b[1;33m\u001b[0m\u001b[0m\n\u001b[0;32m    439\u001b[0m         \u001b[1;32mif\u001b[0m \u001b[0mresponse\u001b[0m\u001b[1;33m:\u001b[0m\u001b[1;33m\u001b[0m\u001b[1;33m\u001b[0m\u001b[0m\n\u001b[1;32m--> 440\u001b[1;33m             \u001b[0mself\u001b[0m\u001b[1;33m.\u001b[0m\u001b[0merror_handler\u001b[0m\u001b[1;33m.\u001b[0m\u001b[0mcheck_response\u001b[0m\u001b[1;33m(\u001b[0m\u001b[0mresponse\u001b[0m\u001b[1;33m)\u001b[0m\u001b[1;33m\u001b[0m\u001b[1;33m\u001b[0m\u001b[0m\n\u001b[0m\u001b[0;32m    441\u001b[0m             \u001b[0mresponse\u001b[0m\u001b[1;33m[\u001b[0m\u001b[1;34m\"value\"\u001b[0m\u001b[1;33m]\u001b[0m \u001b[1;33m=\u001b[0m \u001b[0mself\u001b[0m\u001b[1;33m.\u001b[0m\u001b[0m_unwrap_value\u001b[0m\u001b[1;33m(\u001b[0m\u001b[0mresponse\u001b[0m\u001b[1;33m.\u001b[0m\u001b[0mget\u001b[0m\u001b[1;33m(\u001b[0m\u001b[1;34m\"value\"\u001b[0m\u001b[1;33m,\u001b[0m \u001b[1;32mNone\u001b[0m\u001b[1;33m)\u001b[0m\u001b[1;33m)\u001b[0m\u001b[1;33m\u001b[0m\u001b[1;33m\u001b[0m\u001b[0m\n\u001b[0;32m    442\u001b[0m             \u001b[1;32mreturn\u001b[0m \u001b[0mresponse\u001b[0m\u001b[1;33m\u001b[0m\u001b[1;33m\u001b[0m\u001b[0m\n",
      "\u001b[1;32m~\\AppData\\Roaming\\Python\\Python39\\site-packages\\selenium\\webdriver\\remote\\errorhandler.py\u001b[0m in \u001b[0;36mcheck_response\u001b[1;34m(self, response)\u001b[0m\n\u001b[0;32m    243\u001b[0m                 \u001b[0malert_text\u001b[0m \u001b[1;33m=\u001b[0m \u001b[0mvalue\u001b[0m\u001b[1;33m[\u001b[0m\u001b[1;34m\"alert\"\u001b[0m\u001b[1;33m]\u001b[0m\u001b[1;33m.\u001b[0m\u001b[0mget\u001b[0m\u001b[1;33m(\u001b[0m\u001b[1;34m\"text\"\u001b[0m\u001b[1;33m)\u001b[0m\u001b[1;33m\u001b[0m\u001b[1;33m\u001b[0m\u001b[0m\n\u001b[0;32m    244\u001b[0m             \u001b[1;32mraise\u001b[0m \u001b[0mexception_class\u001b[0m\u001b[1;33m(\u001b[0m\u001b[0mmessage\u001b[0m\u001b[1;33m,\u001b[0m \u001b[0mscreen\u001b[0m\u001b[1;33m,\u001b[0m \u001b[0mstacktrace\u001b[0m\u001b[1;33m,\u001b[0m \u001b[0malert_text\u001b[0m\u001b[1;33m)\u001b[0m  \u001b[1;31m# type: ignore[call-arg]  # mypy is not smart enough here\u001b[0m\u001b[1;33m\u001b[0m\u001b[1;33m\u001b[0m\u001b[0m\n\u001b[1;32m--> 245\u001b[1;33m         \u001b[1;32mraise\u001b[0m \u001b[0mexception_class\u001b[0m\u001b[1;33m(\u001b[0m\u001b[0mmessage\u001b[0m\u001b[1;33m,\u001b[0m \u001b[0mscreen\u001b[0m\u001b[1;33m,\u001b[0m \u001b[0mstacktrace\u001b[0m\u001b[1;33m)\u001b[0m\u001b[1;33m\u001b[0m\u001b[1;33m\u001b[0m\u001b[0m\n\u001b[0m",
      "\u001b[1;31mNoSuchElementException\u001b[0m: Message: no such element: Unable to locate element: {\"method\":\"xpath\",\"selector\":\"//*[@id=\"tabCon2\"]/div[2]/a[11]\"}\n  (Session info: chrome=111.0.5563.65)\nStacktrace:\nBacktrace:\n\t(No symbol) [0x0051DCE3]\n\t(No symbol) [0x004B39D1]\n\t(No symbol) [0x003C4DA8]\n\t(No symbol) [0x003F019F]\n\t(No symbol) [0x003F03AB]\n\t(No symbol) [0x0041EE62]\n\t(No symbol) [0x0040AF14]\n\t(No symbol) [0x0041D57C]\n\t(No symbol) [0x0040ACC6]\n\t(No symbol) [0x003E6F68]\n\t(No symbol) [0x003E80CD]\n\tGetHandleVerifier [0x00793832+2506274]\n\tGetHandleVerifier [0x007C9794+2727300]\n\tGetHandleVerifier [0x007CE36C+2746716]\n\tGetHandleVerifier [0x005C6690+617600]\n\t(No symbol) [0x004BC712]\n\t(No symbol) [0x004C1FF8]\n\t(No symbol) [0x004C20DB]\n\t(No symbol) [0x004CC63B]\n\tBaseThreadInitThunk [0x75887D69+25]\n\tRtlInitializeExceptionChain [0x773CB74B+107]\n\tRtlClearBits [0x773CB6CF+191]\n"
     ]
    }
   ],
   "source": [
    "#충북\n",
    "item_list10=[]\n",
    "for j in range(1,11):\n",
    "    for i in tqdm(range(1,11)):\n",
    "        xpath='//*[@id=\"tabCon2\"]/ul/li['+str(i)+']/div[1]'\n",
    "        item_list10.append(driver.find_element(By.XPATH, xpath).text)\n",
    "    xpath='//*[@id=\"tabCon2\"]/div[2]/a['+str(j+1)+']'\n",
    "    driver.find_element(By.XPATH, xpath).click()\n",
    "    time.sleep(1)\n",
    "print('끝')"
   ]
  },
  {
   "cell_type": "code",
   "execution_count": 213,
   "id": "a489128b",
   "metadata": {
    "scrolled": true
   },
   "outputs": [
    {
     "data": {
      "text/plain": [
       "100"
      ]
     },
     "execution_count": 213,
     "metadata": {},
     "output_type": "execute_result"
    }
   ],
   "source": [
    "len(item_list10)"
   ]
  },
  {
   "cell_type": "code",
   "execution_count": 214,
   "id": "d23522b4",
   "metadata": {
    "scrolled": true
   },
   "outputs": [
    {
     "data": {
      "text/plain": [
       "['호암지\\n충청북도 충주시',\n",
       " '충주탄금대와탄금대공원\\n충청북도 충주시',\n",
       " '청주중앙공원\\n충청북도 청주시 상당구',\n",
       " '단양 고수동굴\\n충청북도 단양군',\n",
       " '선유구곡(선유동계곡)\\n충청북도 괴산군',\n",
       " '월악산국립공원\\n충청북도 제천시',\n",
       " '조령산자연휴양림\\n충청북도 괴산군',\n",
       " '정지용문학관\\n충청북도 옥천군',\n",
       " '반기문 유엔사무총장 생가마을\\n충청북도 음성군',\n",
       " '율리휴양촌\\n충청북도 증평군',\n",
       " '영동 난계사\\n충청북도 영동군',\n",
       " '배론성지\\n충청북도 제천시',\n",
       " '충주 미륵대원지\\n충청북도 충주시',\n",
       " '진천농다리\\n충청북도 진천군',\n",
       " '청주 흥덕사지\\n충청북도 청주시 흥덕구',\n",
       " '청주상당산성\\n충청북도 청주시 상당구',\n",
       " '도담삼봉\\n충청북도 단양군',\n",
       " '보은법주사[유네스코세계문화유산]\\n충청북도 보은군',\n",
       " '용암사(옥천)\\n충청북도 옥천군',\n",
       " '정방사\\n충청북도 제천시',\n",
       " '구담봉.옥순봉\\n충청북도 단양군',\n",
       " '장령산자연휴양림(구, 장용산자연휴양림)\\n충청북도 옥천군',\n",
       " '화양구곡(화양동계곡)\\n충청북도 괴산군',\n",
       " '속리산국립공원(충북)\\n충청북도 보은군',\n",
       " '진천 김유신 탄생지와 태실\\n충청북도 진천군',\n",
       " '청주정북동토성\\n충청북도 청주시 청원구',\n",
       " '문의문화재단지\\n충청북도 청주시 상당구',\n",
       " '황정산\\n충청북도 단양군',\n",
       " '보은 속리 정이품송\\n충청북도 보은군',\n",
       " '청풍문화재단지\\n충청북도 제천시',\n",
       " '청남대\\n충청북도 청주시 상당구',\n",
       " '탁사정\\n충청북도 제천시',\n",
       " '하늘재\\n충청북도 충주시',\n",
       " '미동산수목원\\n충청북도 청주시 상당구',\n",
       " '제천 의림지와 제림\\n충청북도 제천시',\n",
       " '진천 배티 성지\\n충청북도 진천군',\n",
       " '만뢰산자연생태공원\\n충청북도 진천군',\n",
       " '백곡저수지\\n충청북도 진천군',\n",
       " '상수허브랜드\\n충청북도 청주시 서원구',\n",
       " '구인사(단양)\\n충청북도 단양군',\n",
       " '철박물관\\n충청북도 음성군',\n",
       " '진천종박물관\\n충청북도 진천군',\n",
       " '운보의집\\n충청북도 청주시 청원구',\n",
       " '공군박물관\\n충청북도 청주시 상당구',\n",
       " '수주팔봉\\n충청북도 충주시',\n",
       " '벌랏한지마을\\n충청북도 청주시 상당구',\n",
       " '음성큰바위얼굴조각공원\\n충청북도 음성군',\n",
       " '중앙탑(탄금호)일원\\n충청북도 충주시',\n",
       " '제천 산야초마을\\n충청북도 제천시',\n",
       " '앙성온천지구\\n충청북도 충주시',\n",
       " '제천 자양영당\\n충청북도 제천시',\n",
       " '수양개선사유물전시관\\n충청북도 단양군',\n",
       " '삼탄유원지\\n충청북도 충주시',\n",
       " '청주백제유물전시관\\n충청북도 청주시 흥덕구',\n",
       " '박달재\\n충청북도 제천시',\n",
       " '양방산전망대\\n충청북도 단양군',\n",
       " '중선암\\n충청북도 단양군',\n",
       " '연풍성지\\n충청북도 괴산군',\n",
       " '괴산둔율올갱이마을\\n충청북도 괴산군',\n",
       " '청주육거리시장\\n충청북도 청주시 상당구',\n",
       " '수암골벽화마을\\n충청북도 청주시 청원구',\n",
       " '충주고구려비전시관\\n충청북도 충주시',\n",
       " '교동민화마을(관광두레 주민사업체)\\n충청북도 제천시',\n",
       " '중부내륙순환열차(O-트레인)\\n충청북도 제천시',\n",
       " '청풍호관광모노레일\\n충청북도 제천시',\n",
       " '제천한방엑스포공원\\n충청북도 제천시',\n",
       " '단양 다누리아쿠아리움\\n충청북도 단양군',\n",
       " '충주세계무술박물관\\n충청북도 충주시',\n",
       " '충주고구려천문과학관\\n충청북도 충주시',\n",
       " '봉황경(능암리섬)\\n충청북도 충주시',\n",
       " '성불산자연휴양림\\n충청북도 괴산군',\n",
       " '충주호종댕이길\\n충청북도 충주시',\n",
       " '문성자연휴양림\\n충청북도 충주시',\n",
       " '제3한방명의촌 한방자연치유센터\\n충청북도 제천시',\n",
       " '수안보온천관광특구\\n충청북도 충주시',\n",
       " '산막이옛길\\n충청북도 괴산군',\n",
       " '증평 좌구산천문대\\n충청북도 증평군',\n",
       " '부소담악(추소정)\\n충청북도 옥천군',\n",
       " '청주에듀피아\\n충청북도 청주시 청원구',\n",
       " '진천공예마을\\n충청북도 진천군',\n",
       " '충주라이트월드\\n충청북도 충주시',\n",
       " '영동 영모재\\n충청북도 영동군',\n",
       " '청주가로수길\\n충청북도 청주시 흥덕구',\n",
       " '문암생태공원\\n충청북도 청주시 흥덕구',\n",
       " '봉학골산림욕장\\n충청북도 음성군',\n",
       " '미타사(음성)\\n충청북도 음성군',\n",
       " '충주세계무술공원\\n충청북도 충주시',\n",
       " '충북알프스자연휴양림\\n충청북도 보은군',\n",
       " '충주라바랜드\\n충청북도 충주시',\n",
       " '보강천미루나무숲\\n충청북도 증평군',\n",
       " '심천역(영동)\\n충청북도 영동군',\n",
       " '청주동물원\\n충청북도 청주시 상당구',\n",
       " '꽃절(화사)\\n충청북도 음성군',\n",
       " '민주지산 자연휴양림\\n충청북도 영동군',\n",
       " '국립 황정산자연휴양림\\n충청북도 단양군',\n",
       " '단호사(충주)\\n충청북도 충주시',\n",
       " '광덕사\\n충청북도 증평군',\n",
       " '청풍호반케이블카\\n충청북도 제천시',\n",
       " '수안보 하이스파\\n충청북도 충주시',\n",
       " '음성흥미진진한팩토리투어센터\\n충청북도 음성군']"
      ]
     },
     "execution_count": 214,
     "metadata": {},
     "output_type": "execute_result"
    }
   ],
   "source": [
    "item_list10"
   ]
  },
  {
   "cell_type": "code",
   "execution_count": 166,
   "id": "1500a73d",
   "metadata": {
    "collapsed": true
   },
   "outputs": [
    {
     "data": {
      "application/vnd.jupyter.widget-view+json": {
       "model_id": "0ede8ad4079942eeb249425e575f1b79",
       "version_major": 2,
       "version_minor": 0
      },
      "text/plain": [
       "  0%|          | 0/10 [00:00<?, ?it/s]"
      ]
     },
     "metadata": {},
     "output_type": "display_data"
    },
    {
     "data": {
      "application/vnd.jupyter.widget-view+json": {
       "model_id": "b55cc087699d4d77b180c7421cacf55f",
       "version_major": 2,
       "version_minor": 0
      },
      "text/plain": [
       "  0%|          | 0/10 [00:00<?, ?it/s]"
      ]
     },
     "metadata": {},
     "output_type": "display_data"
    },
    {
     "data": {
      "application/vnd.jupyter.widget-view+json": {
       "model_id": "e6807fc0eb67442c8c023a0d5fa694fa",
       "version_major": 2,
       "version_minor": 0
      },
      "text/plain": [
       "  0%|          | 0/10 [00:00<?, ?it/s]"
      ]
     },
     "metadata": {},
     "output_type": "display_data"
    },
    {
     "data": {
      "application/vnd.jupyter.widget-view+json": {
       "model_id": "93c5bb63995f417f9fa8299d4619fac3",
       "version_major": 2,
       "version_minor": 0
      },
      "text/plain": [
       "  0%|          | 0/10 [00:00<?, ?it/s]"
      ]
     },
     "metadata": {},
     "output_type": "display_data"
    },
    {
     "data": {
      "application/vnd.jupyter.widget-view+json": {
       "model_id": "b13600a6aff4478b87984445bf6dcf3b",
       "version_major": 2,
       "version_minor": 0
      },
      "text/plain": [
       "  0%|          | 0/10 [00:00<?, ?it/s]"
      ]
     },
     "metadata": {},
     "output_type": "display_data"
    },
    {
     "data": {
      "application/vnd.jupyter.widget-view+json": {
       "model_id": "73caedddc7c64a18bb23d1d6548d9a91",
       "version_major": 2,
       "version_minor": 0
      },
      "text/plain": [
       "  0%|          | 0/10 [00:00<?, ?it/s]"
      ]
     },
     "metadata": {},
     "output_type": "display_data"
    },
    {
     "data": {
      "application/vnd.jupyter.widget-view+json": {
       "model_id": "116384c47bf6437a8eec231339a7d064",
       "version_major": 2,
       "version_minor": 0
      },
      "text/plain": [
       "  0%|          | 0/10 [00:00<?, ?it/s]"
      ]
     },
     "metadata": {},
     "output_type": "display_data"
    },
    {
     "data": {
      "application/vnd.jupyter.widget-view+json": {
       "model_id": "b9c4ed25944747e3b8659317155928d5",
       "version_major": 2,
       "version_minor": 0
      },
      "text/plain": [
       "  0%|          | 0/10 [00:00<?, ?it/s]"
      ]
     },
     "metadata": {},
     "output_type": "display_data"
    },
    {
     "data": {
      "application/vnd.jupyter.widget-view+json": {
       "model_id": "7f370e02ac2f4b45a7aeeabba8e501c6",
       "version_major": 2,
       "version_minor": 0
      },
      "text/plain": [
       "  0%|          | 0/10 [00:00<?, ?it/s]"
      ]
     },
     "metadata": {},
     "output_type": "display_data"
    },
    {
     "data": {
      "application/vnd.jupyter.widget-view+json": {
       "model_id": "e7216f4810dd453489ae4aa0f10152d8",
       "version_major": 2,
       "version_minor": 0
      },
      "text/plain": [
       "  0%|          | 0/10 [00:00<?, ?it/s]"
      ]
     },
     "metadata": {},
     "output_type": "display_data"
    },
    {
     "name": "stdout",
     "output_type": "stream",
     "text": [
      "끝\n"
     ]
    }
   ],
   "source": [
    "#충남\n",
    "item_list11=[]\n",
    "for j in range(1,11):\n",
    "    for i in tqdm(range(1,11)):\n",
    "        xpath='//*[@id=\"tabCon2\"]/ul/li['+str(i)+']/div[1]'\n",
    "        item_list11.append(driver.find_element(By.XPATH, xpath).text)\n",
    "    xpath='//*[@id=\"tabCon2\"]/div[2]/a['+str(j+3)+']'\n",
    "    driver.find_element(By.XPATH, xpath).click()\n",
    "    time.sleep(1)\n",
    "print('끝')"
   ]
  },
  {
   "cell_type": "code",
   "execution_count": 168,
   "id": "13e47cab",
   "metadata": {
    "collapsed": true
   },
   "outputs": [
    {
     "data": {
      "application/vnd.jupyter.widget-view+json": {
       "model_id": "feaeac875d444451990c0b0453be62d5",
       "version_major": 2,
       "version_minor": 0
      },
      "text/plain": [
       "  0%|          | 0/10 [00:00<?, ?it/s]"
      ]
     },
     "metadata": {},
     "output_type": "display_data"
    },
    {
     "data": {
      "application/vnd.jupyter.widget-view+json": {
       "model_id": "023346af86364ee58ca058b74788bc7e",
       "version_major": 2,
       "version_minor": 0
      },
      "text/plain": [
       "  0%|          | 0/10 [00:00<?, ?it/s]"
      ]
     },
     "metadata": {},
     "output_type": "display_data"
    },
    {
     "data": {
      "application/vnd.jupyter.widget-view+json": {
       "model_id": "9761bac120d943d0964f11c47f35af99",
       "version_major": 2,
       "version_minor": 0
      },
      "text/plain": [
       "  0%|          | 0/10 [00:00<?, ?it/s]"
      ]
     },
     "metadata": {},
     "output_type": "display_data"
    },
    {
     "data": {
      "application/vnd.jupyter.widget-view+json": {
       "model_id": "54ab481197104aa9973b58441610933a",
       "version_major": 2,
       "version_minor": 0
      },
      "text/plain": [
       "  0%|          | 0/10 [00:00<?, ?it/s]"
      ]
     },
     "metadata": {},
     "output_type": "display_data"
    },
    {
     "data": {
      "application/vnd.jupyter.widget-view+json": {
       "model_id": "055fecabc03e4a89aa61e3ee2b15c0f4",
       "version_major": 2,
       "version_minor": 0
      },
      "text/plain": [
       "  0%|          | 0/10 [00:00<?, ?it/s]"
      ]
     },
     "metadata": {},
     "output_type": "display_data"
    },
    {
     "data": {
      "application/vnd.jupyter.widget-view+json": {
       "model_id": "21f6514dab1940689246ab357d9e0342",
       "version_major": 2,
       "version_minor": 0
      },
      "text/plain": [
       "  0%|          | 0/10 [00:00<?, ?it/s]"
      ]
     },
     "metadata": {},
     "output_type": "display_data"
    },
    {
     "data": {
      "application/vnd.jupyter.widget-view+json": {
       "model_id": "cdcaa346c1394c66bda8c7f7d815d82b",
       "version_major": 2,
       "version_minor": 0
      },
      "text/plain": [
       "  0%|          | 0/10 [00:00<?, ?it/s]"
      ]
     },
     "metadata": {},
     "output_type": "display_data"
    },
    {
     "data": {
      "application/vnd.jupyter.widget-view+json": {
       "model_id": "422bad50f3f545fe94ac75f8b1c54ebf",
       "version_major": 2,
       "version_minor": 0
      },
      "text/plain": [
       "  0%|          | 0/10 [00:00<?, ?it/s]"
      ]
     },
     "metadata": {},
     "output_type": "display_data"
    },
    {
     "data": {
      "application/vnd.jupyter.widget-view+json": {
       "model_id": "d2b7e15cf4834f71be80f60306ddab6b",
       "version_major": 2,
       "version_minor": 0
      },
      "text/plain": [
       "  0%|          | 0/10 [00:00<?, ?it/s]"
      ]
     },
     "metadata": {},
     "output_type": "display_data"
    },
    {
     "ename": "NoSuchElementException",
     "evalue": "Message: no such element: Unable to locate element: {\"method\":\"xpath\",\"selector\":\"//*[@id=\"tabCon2\"]/ul/li[10]/div[1]\"}\n  (Session info: chrome=111.0.5563.65)\nStacktrace:\nBacktrace:\n\t(No symbol) [0x0051DCE3]\n\t(No symbol) [0x004B39D1]\n\t(No symbol) [0x003C4DA8]\n\t(No symbol) [0x003F019F]\n\t(No symbol) [0x003F03AB]\n\t(No symbol) [0x0041EE62]\n\t(No symbol) [0x0040AF14]\n\t(No symbol) [0x0041D57C]\n\t(No symbol) [0x0040ACC6]\n\t(No symbol) [0x003E6F68]\n\t(No symbol) [0x003E80CD]\n\tGetHandleVerifier [0x00793832+2506274]\n\tGetHandleVerifier [0x007C9794+2727300]\n\tGetHandleVerifier [0x007CE36C+2746716]\n\tGetHandleVerifier [0x005C6690+617600]\n\t(No symbol) [0x004BC712]\n\t(No symbol) [0x004C1FF8]\n\t(No symbol) [0x004C20DB]\n\t(No symbol) [0x004CC63B]\n\tBaseThreadInitThunk [0x75887D69+25]\n\tRtlInitializeExceptionChain [0x773CB74B+107]\n\tRtlClearBits [0x773CB6CF+191]\n",
     "output_type": "error",
     "traceback": [
      "\u001b[1;31m---------------------------------------------------------------------------\u001b[0m",
      "\u001b[1;31mNoSuchElementException\u001b[0m                    Traceback (most recent call last)",
      "\u001b[1;32m~\\AppData\\Local\\Temp\\ipykernel_19340\\1508693842.py\u001b[0m in \u001b[0;36m<module>\u001b[1;34m\u001b[0m\n\u001b[0;32m      2\u001b[0m     \u001b[1;32mfor\u001b[0m \u001b[0mi\u001b[0m \u001b[1;32min\u001b[0m \u001b[0mtqdm\u001b[0m\u001b[1;33m(\u001b[0m\u001b[0mrange\u001b[0m\u001b[1;33m(\u001b[0m\u001b[1;36m1\u001b[0m\u001b[1;33m,\u001b[0m\u001b[1;36m11\u001b[0m\u001b[1;33m)\u001b[0m\u001b[1;33m)\u001b[0m\u001b[1;33m:\u001b[0m\u001b[1;33m\u001b[0m\u001b[1;33m\u001b[0m\u001b[0m\n\u001b[0;32m      3\u001b[0m         \u001b[0mxpath\u001b[0m\u001b[1;33m=\u001b[0m\u001b[1;34m'//*[@id=\"tabCon2\"]/ul/li['\u001b[0m\u001b[1;33m+\u001b[0m\u001b[0mstr\u001b[0m\u001b[1;33m(\u001b[0m\u001b[0mi\u001b[0m\u001b[1;33m)\u001b[0m\u001b[1;33m+\u001b[0m\u001b[1;34m']/div[1]'\u001b[0m\u001b[1;33m\u001b[0m\u001b[1;33m\u001b[0m\u001b[0m\n\u001b[1;32m----> 4\u001b[1;33m         \u001b[0mitem_list11\u001b[0m\u001b[1;33m.\u001b[0m\u001b[0mappend\u001b[0m\u001b[1;33m(\u001b[0m\u001b[0mdriver\u001b[0m\u001b[1;33m.\u001b[0m\u001b[0mfind_element\u001b[0m\u001b[1;33m(\u001b[0m\u001b[0mBy\u001b[0m\u001b[1;33m.\u001b[0m\u001b[0mXPATH\u001b[0m\u001b[1;33m,\u001b[0m \u001b[0mxpath\u001b[0m\u001b[1;33m)\u001b[0m\u001b[1;33m.\u001b[0m\u001b[0mtext\u001b[0m\u001b[1;33m)\u001b[0m\u001b[1;33m\u001b[0m\u001b[1;33m\u001b[0m\u001b[0m\n\u001b[0m\u001b[0;32m      5\u001b[0m     \u001b[0mxpath\u001b[0m\u001b[1;33m=\u001b[0m\u001b[1;34m'//*[@id=\"tabCon2\"]/div[2]/a['\u001b[0m\u001b[1;33m+\u001b[0m\u001b[0mstr\u001b[0m\u001b[1;33m(\u001b[0m\u001b[0mj\u001b[0m\u001b[1;33m+\u001b[0m\u001b[1;36m3\u001b[0m\u001b[1;33m)\u001b[0m\u001b[1;33m+\u001b[0m\u001b[1;34m']'\u001b[0m\u001b[1;33m\u001b[0m\u001b[1;33m\u001b[0m\u001b[0m\n\u001b[0;32m      6\u001b[0m     \u001b[0mdriver\u001b[0m\u001b[1;33m.\u001b[0m\u001b[0mfind_element\u001b[0m\u001b[1;33m(\u001b[0m\u001b[0mBy\u001b[0m\u001b[1;33m.\u001b[0m\u001b[0mXPATH\u001b[0m\u001b[1;33m,\u001b[0m \u001b[0mxpath\u001b[0m\u001b[1;33m)\u001b[0m\u001b[1;33m.\u001b[0m\u001b[0mclick\u001b[0m\u001b[1;33m(\u001b[0m\u001b[1;33m)\u001b[0m\u001b[1;33m\u001b[0m\u001b[1;33m\u001b[0m\u001b[0m\n",
      "\u001b[1;32m~\\AppData\\Roaming\\Python\\Python39\\site-packages\\selenium\\webdriver\\remote\\webdriver.py\u001b[0m in \u001b[0;36mfind_element\u001b[1;34m(self, by, value)\u001b[0m\n\u001b[0;32m    828\u001b[0m             \u001b[0mvalue\u001b[0m \u001b[1;33m=\u001b[0m \u001b[1;34mf'[name=\"{value}\"]'\u001b[0m\u001b[1;33m\u001b[0m\u001b[1;33m\u001b[0m\u001b[0m\n\u001b[0;32m    829\u001b[0m \u001b[1;33m\u001b[0m\u001b[0m\n\u001b[1;32m--> 830\u001b[1;33m         \u001b[1;32mreturn\u001b[0m \u001b[0mself\u001b[0m\u001b[1;33m.\u001b[0m\u001b[0mexecute\u001b[0m\u001b[1;33m(\u001b[0m\u001b[0mCommand\u001b[0m\u001b[1;33m.\u001b[0m\u001b[0mFIND_ELEMENT\u001b[0m\u001b[1;33m,\u001b[0m \u001b[1;33m{\u001b[0m\u001b[1;34m\"using\"\u001b[0m\u001b[1;33m:\u001b[0m \u001b[0mby\u001b[0m\u001b[1;33m,\u001b[0m \u001b[1;34m\"value\"\u001b[0m\u001b[1;33m:\u001b[0m \u001b[0mvalue\u001b[0m\u001b[1;33m}\u001b[0m\u001b[1;33m)\u001b[0m\u001b[1;33m[\u001b[0m\u001b[1;34m\"value\"\u001b[0m\u001b[1;33m]\u001b[0m\u001b[1;33m\u001b[0m\u001b[1;33m\u001b[0m\u001b[0m\n\u001b[0m\u001b[0;32m    831\u001b[0m \u001b[1;33m\u001b[0m\u001b[0m\n\u001b[0;32m    832\u001b[0m     \u001b[1;32mdef\u001b[0m \u001b[0mfind_elements\u001b[0m\u001b[1;33m(\u001b[0m\u001b[0mself\u001b[0m\u001b[1;33m,\u001b[0m \u001b[0mby\u001b[0m\u001b[1;33m=\u001b[0m\u001b[0mBy\u001b[0m\u001b[1;33m.\u001b[0m\u001b[0mID\u001b[0m\u001b[1;33m,\u001b[0m \u001b[0mvalue\u001b[0m\u001b[1;33m:\u001b[0m \u001b[0mOptional\u001b[0m\u001b[1;33m[\u001b[0m\u001b[0mstr\u001b[0m\u001b[1;33m]\u001b[0m \u001b[1;33m=\u001b[0m \u001b[1;32mNone\u001b[0m\u001b[1;33m)\u001b[0m \u001b[1;33m->\u001b[0m \u001b[0mList\u001b[0m\u001b[1;33m[\u001b[0m\u001b[0mWebElement\u001b[0m\u001b[1;33m]\u001b[0m\u001b[1;33m:\u001b[0m\u001b[1;33m\u001b[0m\u001b[1;33m\u001b[0m\u001b[0m\n",
      "\u001b[1;32m~\\AppData\\Roaming\\Python\\Python39\\site-packages\\selenium\\webdriver\\remote\\webdriver.py\u001b[0m in \u001b[0;36mexecute\u001b[1;34m(self, driver_command, params)\u001b[0m\n\u001b[0;32m    438\u001b[0m         \u001b[0mresponse\u001b[0m \u001b[1;33m=\u001b[0m \u001b[0mself\u001b[0m\u001b[1;33m.\u001b[0m\u001b[0mcommand_executor\u001b[0m\u001b[1;33m.\u001b[0m\u001b[0mexecute\u001b[0m\u001b[1;33m(\u001b[0m\u001b[0mdriver_command\u001b[0m\u001b[1;33m,\u001b[0m \u001b[0mparams\u001b[0m\u001b[1;33m)\u001b[0m\u001b[1;33m\u001b[0m\u001b[1;33m\u001b[0m\u001b[0m\n\u001b[0;32m    439\u001b[0m         \u001b[1;32mif\u001b[0m \u001b[0mresponse\u001b[0m\u001b[1;33m:\u001b[0m\u001b[1;33m\u001b[0m\u001b[1;33m\u001b[0m\u001b[0m\n\u001b[1;32m--> 440\u001b[1;33m             \u001b[0mself\u001b[0m\u001b[1;33m.\u001b[0m\u001b[0merror_handler\u001b[0m\u001b[1;33m.\u001b[0m\u001b[0mcheck_response\u001b[0m\u001b[1;33m(\u001b[0m\u001b[0mresponse\u001b[0m\u001b[1;33m)\u001b[0m\u001b[1;33m\u001b[0m\u001b[1;33m\u001b[0m\u001b[0m\n\u001b[0m\u001b[0;32m    441\u001b[0m             \u001b[0mresponse\u001b[0m\u001b[1;33m[\u001b[0m\u001b[1;34m\"value\"\u001b[0m\u001b[1;33m]\u001b[0m \u001b[1;33m=\u001b[0m \u001b[0mself\u001b[0m\u001b[1;33m.\u001b[0m\u001b[0m_unwrap_value\u001b[0m\u001b[1;33m(\u001b[0m\u001b[0mresponse\u001b[0m\u001b[1;33m.\u001b[0m\u001b[0mget\u001b[0m\u001b[1;33m(\u001b[0m\u001b[1;34m\"value\"\u001b[0m\u001b[1;33m,\u001b[0m \u001b[1;32mNone\u001b[0m\u001b[1;33m)\u001b[0m\u001b[1;33m)\u001b[0m\u001b[1;33m\u001b[0m\u001b[1;33m\u001b[0m\u001b[0m\n\u001b[0;32m    442\u001b[0m             \u001b[1;32mreturn\u001b[0m \u001b[0mresponse\u001b[0m\u001b[1;33m\u001b[0m\u001b[1;33m\u001b[0m\u001b[0m\n",
      "\u001b[1;32m~\\AppData\\Roaming\\Python\\Python39\\site-packages\\selenium\\webdriver\\remote\\errorhandler.py\u001b[0m in \u001b[0;36mcheck_response\u001b[1;34m(self, response)\u001b[0m\n\u001b[0;32m    243\u001b[0m                 \u001b[0malert_text\u001b[0m \u001b[1;33m=\u001b[0m \u001b[0mvalue\u001b[0m\u001b[1;33m[\u001b[0m\u001b[1;34m\"alert\"\u001b[0m\u001b[1;33m]\u001b[0m\u001b[1;33m.\u001b[0m\u001b[0mget\u001b[0m\u001b[1;33m(\u001b[0m\u001b[1;34m\"text\"\u001b[0m\u001b[1;33m)\u001b[0m\u001b[1;33m\u001b[0m\u001b[1;33m\u001b[0m\u001b[0m\n\u001b[0;32m    244\u001b[0m             \u001b[1;32mraise\u001b[0m \u001b[0mexception_class\u001b[0m\u001b[1;33m(\u001b[0m\u001b[0mmessage\u001b[0m\u001b[1;33m,\u001b[0m \u001b[0mscreen\u001b[0m\u001b[1;33m,\u001b[0m \u001b[0mstacktrace\u001b[0m\u001b[1;33m,\u001b[0m \u001b[0malert_text\u001b[0m\u001b[1;33m)\u001b[0m  \u001b[1;31m# type: ignore[call-arg]  # mypy is not smart enough here\u001b[0m\u001b[1;33m\u001b[0m\u001b[1;33m\u001b[0m\u001b[0m\n\u001b[1;32m--> 245\u001b[1;33m         \u001b[1;32mraise\u001b[0m \u001b[0mexception_class\u001b[0m\u001b[1;33m(\u001b[0m\u001b[0mmessage\u001b[0m\u001b[1;33m,\u001b[0m \u001b[0mscreen\u001b[0m\u001b[1;33m,\u001b[0m \u001b[0mstacktrace\u001b[0m\u001b[1;33m)\u001b[0m\u001b[1;33m\u001b[0m\u001b[1;33m\u001b[0m\u001b[0m\n\u001b[0m",
      "\u001b[1;31mNoSuchElementException\u001b[0m: Message: no such element: Unable to locate element: {\"method\":\"xpath\",\"selector\":\"//*[@id=\"tabCon2\"]/ul/li[10]/div[1]\"}\n  (Session info: chrome=111.0.5563.65)\nStacktrace:\nBacktrace:\n\t(No symbol) [0x0051DCE3]\n\t(No symbol) [0x004B39D1]\n\t(No symbol) [0x003C4DA8]\n\t(No symbol) [0x003F019F]\n\t(No symbol) [0x003F03AB]\n\t(No symbol) [0x0041EE62]\n\t(No symbol) [0x0040AF14]\n\t(No symbol) [0x0041D57C]\n\t(No symbol) [0x0040ACC6]\n\t(No symbol) [0x003E6F68]\n\t(No symbol) [0x003E80CD]\n\tGetHandleVerifier [0x00793832+2506274]\n\tGetHandleVerifier [0x007C9794+2727300]\n\tGetHandleVerifier [0x007CE36C+2746716]\n\tGetHandleVerifier [0x005C6690+617600]\n\t(No symbol) [0x004BC712]\n\t(No symbol) [0x004C1FF8]\n\t(No symbol) [0x004C20DB]\n\t(No symbol) [0x004CC63B]\n\tBaseThreadInitThunk [0x75887D69+25]\n\tRtlInitializeExceptionChain [0x773CB74B+107]\n\tRtlClearBits [0x773CB6CF+191]\n"
     ]
    }
   ],
   "source": [
    "for j in range(1,11):\n",
    "    for i in tqdm(range(1,11)):\n",
    "        xpath='//*[@id=\"tabCon2\"]/ul/li['+str(i)+']/div[1]'\n",
    "        item_list11.append(driver.find_element(By.XPATH, xpath).text)\n",
    "    xpath='//*[@id=\"tabCon2\"]/div[2]/a['+str(j+3)+']'\n",
    "    driver.find_element(By.XPATH, xpath).click()\n",
    "    time.sleep(1)\n",
    "print('끝')"
   ]
  },
  {
   "cell_type": "code",
   "execution_count": 215,
   "id": "03b643e4",
   "metadata": {},
   "outputs": [
    {
     "data": {
      "text/plain": [
       "189"
      ]
     },
     "execution_count": 215,
     "metadata": {},
     "output_type": "execute_result"
    }
   ],
   "source": [
    "len(item_list11)"
   ]
  },
  {
   "cell_type": "code",
   "execution_count": 216,
   "id": "24fab467",
   "metadata": {
    "scrolled": true
   },
   "outputs": [
    {
     "data": {
      "text/plain": [
       "['신두리해수욕장\\n충청남도 태안군',\n",
       " '태안 안면도 모감주나무군락\\n충청남도 태안군',\n",
       " '백사장해수욕장\\n충청남도 태안군',\n",
       " '어은돌해수욕장\\n충청남도 태안군',\n",
       " '두여해수욕장\\n충청남도 태안군',\n",
       " '구름포해수욕장\\n충청남도 태안군',\n",
       " '스플라스리솜\\n충청남도 예산군',\n",
       " '아리랜드\\n충청남도 서천군',\n",
       " '서천이색체험마을\\n충청남도 서천군',\n",
       " '월하성어촌체험마을\\n충청남도 서천군',\n",
       " '외연도\\n충청남도 보령시',\n",
       " '신진도\\n충청남도 태안군',\n",
       " '안면도\\n충청남도 태안군',\n",
       " '천리포해수욕장\\n충청남도 태안군',\n",
       " '삼봉해수욕장\\n충청남도 태안군',\n",
       " '몽산포해수욕장\\n충청남도 태안군',\n",
       " '방포해수욕장\\n충청남도 태안군',\n",
       " '만리포해수욕장\\n충청남도 태안군',\n",
       " '무창포해수욕장\\n충청남도 보령시',\n",
       " '칠갑산도립공원(산장로)\\n충청남도 청양군',\n",
       " '개태사(논산)\\n충청남도 논산시',\n",
       " '수덕사\\n충청남도 예산군',\n",
       " '마곡사[유네스코세계문화유산]\\n충청남도 공주시',\n",
       " '동학사(공주)\\n충청남도 공주시',\n",
       " '갑사\\n충청남도 공주시',\n",
       " '간월암(서산)\\n충청남도 서산시',\n",
       " '부석사(서산)\\n충청남도 서산시',\n",
       " '서산 보원사지\\n충청남도 서산시',\n",
       " '덕산온천지구\\n충청남도 예산군',\n",
       " '온양온천지구\\n충청남도 아산시',\n",
       " '공주공산성[유네스코세계유산]\\n충청남도 공주시',\n",
       " '현충사\\n충청남도 아산시',\n",
       " '추사고택\\n충청남도 예산군',\n",
       " '서천 성북리 오층석탑\\n충청남도 서천군',\n",
       " '이상재선생 생가지\\n충청남도 서천군',\n",
       " '천안유관순열사유적\\n충청남도 천안시 동남구',\n",
       " '보령 충청수영성\\n충청남도 보령시',\n",
       " '개심사(서산)\\n충청남도 서산시',\n",
       " '관촉사(논산)\\n충청남도 논산시',\n",
       " '장곡사(충남)\\n충청남도 청양군',\n",
       " '서천마량리동백나무숲\\n충청남도 서천군',\n",
       " '외암민속마을\\n충청남도 아산시',\n",
       " '보령 성주사지\\n충청남도 보령시',\n",
       " '서산 용현리 마애여래삼존상\\n충청남도 서산시',\n",
       " '서산해미읍성\\n충청남도 서산시',\n",
       " '관북리유적과부소산성[유네스코세계유산]\\n충청남도 부여군',\n",
       " '부여 능산리 고분군 [유네스코 세계유산]\\n충청남도 부여군',\n",
       " '서동공원과궁남지\\n충청남도 부여군',\n",
       " '솔뫼성지\\n충청남도 당진시',\n",
       " '충의사 (매헌 윤봉길 의사 유적)\\n충청남도 예산군',\n",
       " '당진삽교호\\n충청남도 당진시',\n",
       " '위례산과 위례성지\\n충청남도 천안시 서북구',\n",
       " '춘장대해수욕장\\n충청남도 서천군',\n",
       " '계룡산도예촌\\n충청남도 공주시',\n",
       " '보령 냉풍욕장\\n충청남도 보령시',\n",
       " '고파도\\n충청남도 서산시',\n",
       " '꽃지해수욕장\\n충청남도 태안군',\n",
       " '공주송산리고분군과무령왕릉[유네스코세계유산]\\n충청남도 공주시',\n",
       " '부여 정림사지 오층석탑 [유네스코 세계유산]\\n충청남도 부여군',\n",
       " '아산온천\\n충청남도 아산시',\n",
       " '천리포수목원\\n충청남도 태안군',\n",
       " '당진항만관광공사 (삽교호 함상공원)\\n충청남도 당진시',\n",
       " '무량사(부여)\\n충청남도 부여군',\n",
       " '순교성지 갈매못\\n충청남도 보령시',\n",
       " '성주산자연휴양림\\n충청남도 보령시',\n",
       " '공주 석장리 유적\\n충청남도 공주시',\n",
       " '광덕사(천안)\\n충청남도 천안시 동남구',\n",
       " '국립 희리산해송자연휴양림\\n충청남도 서천군',\n",
       " '대둔산자연휴양림\\n충청남도 금산군',\n",
       " '천안삼거리공원\\n충청남도 천안시 동남구',\n",
       " '아산공세리성당\\n충청남도 아산시',\n",
       " '세계꽃식물원\\n충청남도 아산시',\n",
       " '태안신두리해안사구\\n충청남도 태안군',\n",
       " '대둔산도립공원(금산)\\n충청남도 금산군',\n",
       " '홍성온천\\n충청남도 홍성군',\n",
       " '천수만(철새도래지)\\n충청남도 서산시',\n",
       " '리솜오션캐슬 아쿠아월드\\n충청남도 태안군',\n",
       " '학암포해수욕장\\n충청남도 태안군',\n",
       " '대천해수욕장\\n충청남도 보령시',\n",
       " '고운식물원\\n충청남도 청양군',\n",
       " '신두리해수욕장\\n충청남도 태안군',\n",
       " '태안 안면도 모감주나무군락\\n충청남도 태안군',\n",
       " '백사장해수욕장\\n충청남도 태안군',\n",
       " '어은돌해수욕장\\n충청남도 태안군',\n",
       " '두여해수욕장\\n충청남도 태안군',\n",
       " '구름포해수욕장\\n충청남도 태안군',\n",
       " '스플라스리솜\\n충청남도 예산군',\n",
       " '아리랜드\\n충청남도 서천군',\n",
       " '서천이색체험마을\\n충청남도 서천군',\n",
       " '월하성어촌체험마을\\n충청남도 서천군',\n",
       " '신성리갈대밭\\n충청남도 서천군',\n",
       " '금강하구둑 관광지\\n충청남도 서천군',\n",
       " '남포방조제\\n충청남도 보령시',\n",
       " '개화예술공원\\n충청남도 보령시',\n",
       " '남당리 행복마을\\n충청남도 서천군',\n",
       " '삼길포항\\n충청남도 서산시',\n",
       " '서산 경주김씨 고택\\n충청남도 서산시',\n",
       " '당진왜목마을\\n충청남도 당진시',\n",
       " '영목항\\n충청남도 태안군',\n",
       " '태학산자연휴양림\\n충청남도 천안시 동남구',\n",
       " '꽃지해안공원\\n충청남도 태안군',\n",
       " '독산해수욕장(홀뫼해수욕장)\\n충청남도 보령시',\n",
       " '공주 갑사 철당간\\n충청남도 공주시',\n",
       " '아그로랜드 태신목장\\n충청남도 당진시',\n",
       " '부여 송국리 유적\\n충청남도 부여군',\n",
       " '선도리갯벌체험마을\\n충청남도 서천군',\n",
       " '조류생태전시관\\n충청남도 서천군',\n",
       " '비인향교\\n충청남도 서천군',\n",
       " '한국최초 성경전래지 기념관\\n충청남도 서천군',\n",
       " '홍원항\\n충청남도 서천군',\n",
       " '국립 오서산자연휴양림\\n충청남도 보령시',\n",
       " '보령성곽&보령관아문\\n충청남도 보령시',\n",
       " '용두해수욕장\\n충청남도 보령시',\n",
       " '오천항\\n충청남도 보령시',\n",
       " '대천항\\n충청남도 보령시',\n",
       " '남포읍성\\n충청남도 보령시',\n",
       " '천방산\\n충청남도 서천군',\n",
       " '부사방조제\\n충청남도 서천군',\n",
       " '숭의사\\n충청남도 태안군',\n",
       " '청산수목원\\n충청남도 태안군',\n",
       " '상록리조트눈썰매장\\n충청남도 천안시 동남구',\n",
       " '예당저수지(예당관광지)\\n충청남도 예산군',\n",
       " '계룡산자연사박물관\\n충청남도 공주시',\n",
       " '유관순열사기념관\\n충청남도 천안시 동남구',\n",
       " '한국고건축박물관\\n충청남도 예산군',\n",
       " '온양민속박물관\\n충청남도 아산시',\n",
       " '국립부여박물관\\n충청남도 부여군',\n",
       " '천안독립기념관\\n충청남도 천안시 동남구',\n",
       " '국립공주박물관\\n충청남도 공주시',\n",
       " '안면암(태안)\\n충청남도 태안군',\n",
       " '공주치즈스쿨\\n충청남도 공주시',\n",
       " '홍성조류탐사과학관\\n충청남도 홍성군',\n",
       " '추사김정희선생고택·묘\\n충청남도 예산군',\n",
       " '아산 윤보선 대통령 생가\\n충청남도 아산시',\n",
       " '백리포해수욕장\\n충청남도 태안군',\n",
       " '온주아문 및 동헌\\n충청남도 아산시',\n",
       " '한산향교\\n충청남도 서천군',\n",
       " '탑정저수지\\n충청남도 논산시',\n",
       " '서천특화시장\\n충청남도 서천군',\n",
       " '광천 토굴새우젓시장\\n충청남도 홍성군',\n",
       " '아산시온천관광특구\\n충청남도 아산시',\n",
       " '서천향교\\n충청남도 서천군',\n",
       " '광천토굴새우젓단지\\n충청남도 홍성군',\n",
       " '무궁화학습원(괴목정)\\n충청남도 계룡시',\n",
       " '한국(문인)인장박물관\\n충청남도 예산군',\n",
       " '장항송림산림욕장 (장항 솔숲)\\n충청남도 서천군',\n",
       " '천안박물관\\n충청남도 천안시 동남구',\n",
       " '금산생태숲\\n충청남도 금산군',\n",
       " '국립생태원(서천)\\n충청남도 서천군',\n",
       " '보령천북굴단지\\n충청남도 보령시',\n",
       " '남당항\\n충청남도 홍성군',\n",
       " '서산버드랜드\\n충청남도 서산시',\n",
       " '고마나루\\n충청남도 공주시',\n",
       " '하늘물빛정원\\n충청남도 금산군',\n",
       " '국립해양생물자원관\\n충청남도 서천군',\n",
       " '장항 스카이워크 (기벌포 해전 전망대)\\n충청남도 서천군',\n",
       " '백석올미마을\\n충청남도 당진시',\n",
       " '중리어촌체험마을\\n충청남도 서산시',\n",
       " '알프스마을\\n충청남도 청양군',\n",
       " '서천 동자북마을\\n충청남도 서천군',\n",
       " '곡교천변은행나무길\\n충청남도 아산시',\n",
       " '논산 선샤인스튜디오\\n충청남도 논산시',\n",
       " '예산황새공원\\n충청남도 예산군',\n",
       " '봉선저수지\\n충청남도 서천군',\n",
       " '서동요 테마파크\\n충청남도 부여군',\n",
       " '안면도미로공원\\n충청남도 태안군',\n",
       " '부여 나성 [유네스코 세계문화유산]\\n충청남도 부여군',\n",
       " '아름다운정원화수목\\n충청남도 천안시 동남구',\n",
       " '동백꽃마을\\n충청남도 서천군',\n",
       " '천안남산중앙시장\\n충청남도 천안시 동남구',\n",
       " '이안숲속\\n충청남도 공주시',\n",
       " '국립 용현자연휴양림\\n충청남도 서산시',\n",
       " '영수암(서천)\\n충청남도 서천군',\n",
       " '봉서사(서천)\\n충청남도 서천군',\n",
       " '금산인삼약령시장\\n충청남도 금산군',\n",
       " '중앙호수공원 카페거리\\n충청남도 서산시',\n",
       " '공주 중동성당\\n충청남도 공주시',\n",
       " '에코힐링 황톳길\\n충청남도 천안시 서북구',\n",
       " '아산만방조제\\n충청남도 아산시',\n",
       " '지중해마을\\n충청남도 아산시',\n",
       " '보령 청소역\\n충청남도 보령시',\n",
       " '서산 유기방가옥\\n충청남도 서산시',\n",
       " '서천황새마을\\n충청남도 서천군',\n",
       " '칠갑산천문대 스타파크\\n충청남도 청양군',\n",
       " '피나클랜드\\n충청남도 아산시',\n",
       " '서천 달고개모시마을\\n충청남도 서천군',\n",
       " '유부도\\n충청남도 서천군',\n",
       " '웅도\\n충청남도 서산시',\n",
       " '호도\\n충청남도 보령시']"
      ]
     },
     "execution_count": 216,
     "metadata": {},
     "output_type": "execute_result"
    }
   ],
   "source": [
    "item_list11"
   ]
  },
  {
   "cell_type": "code",
   "execution_count": 171,
   "id": "8e07de7d",
   "metadata": {
    "collapsed": true
   },
   "outputs": [
    {
     "data": {
      "application/vnd.jupyter.widget-view+json": {
       "model_id": "c8ad0fbc0c8d4c4ebf0925219c000a46",
       "version_major": 2,
       "version_minor": 0
      },
      "text/plain": [
       "  0%|          | 0/10 [00:00<?, ?it/s]"
      ]
     },
     "metadata": {},
     "output_type": "display_data"
    },
    {
     "data": {
      "application/vnd.jupyter.widget-view+json": {
       "model_id": "de302f00ae4e47f39027ca3cd59a363e",
       "version_major": 2,
       "version_minor": 0
      },
      "text/plain": [
       "  0%|          | 0/10 [00:00<?, ?it/s]"
      ]
     },
     "metadata": {},
     "output_type": "display_data"
    },
    {
     "data": {
      "application/vnd.jupyter.widget-view+json": {
       "model_id": "5718175d476e4a38a738f0d006dacf66",
       "version_major": 2,
       "version_minor": 0
      },
      "text/plain": [
       "  0%|          | 0/10 [00:00<?, ?it/s]"
      ]
     },
     "metadata": {},
     "output_type": "display_data"
    },
    {
     "data": {
      "application/vnd.jupyter.widget-view+json": {
       "model_id": "07eab09127b44c859d50185e80bf2730",
       "version_major": 2,
       "version_minor": 0
      },
      "text/plain": [
       "  0%|          | 0/10 [00:00<?, ?it/s]"
      ]
     },
     "metadata": {},
     "output_type": "display_data"
    },
    {
     "data": {
      "application/vnd.jupyter.widget-view+json": {
       "model_id": "36ed95b22ea54ec48415911f8aa90fa3",
       "version_major": 2,
       "version_minor": 0
      },
      "text/plain": [
       "  0%|          | 0/10 [00:00<?, ?it/s]"
      ]
     },
     "metadata": {},
     "output_type": "display_data"
    },
    {
     "data": {
      "application/vnd.jupyter.widget-view+json": {
       "model_id": "721901351ebd4044a0e6b311030f455f",
       "version_major": 2,
       "version_minor": 0
      },
      "text/plain": [
       "  0%|          | 0/10 [00:00<?, ?it/s]"
      ]
     },
     "metadata": {},
     "output_type": "display_data"
    },
    {
     "data": {
      "application/vnd.jupyter.widget-view+json": {
       "model_id": "21b8f19d77f147f8a3ad766039141b71",
       "version_major": 2,
       "version_minor": 0
      },
      "text/plain": [
       "  0%|          | 0/10 [00:00<?, ?it/s]"
      ]
     },
     "metadata": {},
     "output_type": "display_data"
    },
    {
     "data": {
      "application/vnd.jupyter.widget-view+json": {
       "model_id": "30d41c5333464a919b329e890691bd16",
       "version_major": 2,
       "version_minor": 0
      },
      "text/plain": [
       "  0%|          | 0/10 [00:00<?, ?it/s]"
      ]
     },
     "metadata": {},
     "output_type": "display_data"
    },
    {
     "data": {
      "application/vnd.jupyter.widget-view+json": {
       "model_id": "85dbbcd8ae3f4fa194eead44b17de38f",
       "version_major": 2,
       "version_minor": 0
      },
      "text/plain": [
       "  0%|          | 0/10 [00:00<?, ?it/s]"
      ]
     },
     "metadata": {},
     "output_type": "display_data"
    },
    {
     "data": {
      "application/vnd.jupyter.widget-view+json": {
       "model_id": "a6cf0e1aba1249788a23ca4bf4be5fb2",
       "version_major": 2,
       "version_minor": 0
      },
      "text/plain": [
       "  0%|          | 0/10 [00:00<?, ?it/s]"
      ]
     },
     "metadata": {},
     "output_type": "display_data"
    },
    {
     "name": "stdout",
     "output_type": "stream",
     "text": [
      "끝\n"
     ]
    }
   ],
   "source": [
    "#전북\n",
    "item_list12=[]\n",
    "for j in range(1,11):\n",
    "    for i in tqdm(range(1,11)):\n",
    "        xpath='//*[@id=\"tabCon2\"]/ul/li['+str(i)+']/div[1]'\n",
    "        item_list12.append(driver.find_element(By.XPATH, xpath).text)\n",
    "    xpath='//*[@id=\"tabCon2\"]/div[2]/a['+str(j+3)+']'\n",
    "    driver.find_element(By.XPATH, xpath).click()\n",
    "    time.sleep(1)\n",
    "print('끝')"
   ]
  },
  {
   "cell_type": "code",
   "execution_count": 174,
   "id": "b3e50d0a",
   "metadata": {
    "collapsed": true
   },
   "outputs": [
    {
     "data": {
      "application/vnd.jupyter.widget-view+json": {
       "model_id": "312d7016df174d26af79667c41382fa2",
       "version_major": 2,
       "version_minor": 0
      },
      "text/plain": [
       "  0%|          | 0/10 [00:00<?, ?it/s]"
      ]
     },
     "metadata": {},
     "output_type": "display_data"
    },
    {
     "data": {
      "application/vnd.jupyter.widget-view+json": {
       "model_id": "5a5f4f86d7bc4851a5e0128af0286c00",
       "version_major": 2,
       "version_minor": 0
      },
      "text/plain": [
       "  0%|          | 0/10 [00:00<?, ?it/s]"
      ]
     },
     "metadata": {},
     "output_type": "display_data"
    },
    {
     "data": {
      "application/vnd.jupyter.widget-view+json": {
       "model_id": "b75e5585c1b74895a64318715ca1718f",
       "version_major": 2,
       "version_minor": 0
      },
      "text/plain": [
       "  0%|          | 0/10 [00:00<?, ?it/s]"
      ]
     },
     "metadata": {},
     "output_type": "display_data"
    },
    {
     "data": {
      "application/vnd.jupyter.widget-view+json": {
       "model_id": "c09ed54f38bb4c2d8a537ead53d78bda",
       "version_major": 2,
       "version_minor": 0
      },
      "text/plain": [
       "  0%|          | 0/10 [00:00<?, ?it/s]"
      ]
     },
     "metadata": {},
     "output_type": "display_data"
    },
    {
     "data": {
      "application/vnd.jupyter.widget-view+json": {
       "model_id": "487609d90f4c4b1c8cb0ffef8aefd0cf",
       "version_major": 2,
       "version_minor": 0
      },
      "text/plain": [
       "  0%|          | 0/10 [00:00<?, ?it/s]"
      ]
     },
     "metadata": {},
     "output_type": "display_data"
    },
    {
     "data": {
      "application/vnd.jupyter.widget-view+json": {
       "model_id": "1e21ccbdf3754e8988c2686cefedc0d6",
       "version_major": 2,
       "version_minor": 0
      },
      "text/plain": [
       "  0%|          | 0/10 [00:00<?, ?it/s]"
      ]
     },
     "metadata": {},
     "output_type": "display_data"
    },
    {
     "ename": "NoSuchElementException",
     "evalue": "Message: no such element: Unable to locate element: {\"method\":\"xpath\",\"selector\":\"//*[@id=\"tabCon2\"]/ul/li[9]/div[1]\"}\n  (Session info: chrome=111.0.5563.65)\nStacktrace:\nBacktrace:\n\t(No symbol) [0x0051DCE3]\n\t(No symbol) [0x004B39D1]\n\t(No symbol) [0x003C4DA8]\n\t(No symbol) [0x003F019F]\n\t(No symbol) [0x003F03AB]\n\t(No symbol) [0x0041EE62]\n\t(No symbol) [0x0040AF14]\n\t(No symbol) [0x0041D57C]\n\t(No symbol) [0x0040ACC6]\n\t(No symbol) [0x003E6F68]\n\t(No symbol) [0x003E80CD]\n\tGetHandleVerifier [0x00793832+2506274]\n\tGetHandleVerifier [0x007C9794+2727300]\n\tGetHandleVerifier [0x007CE36C+2746716]\n\tGetHandleVerifier [0x005C6690+617600]\n\t(No symbol) [0x004BC712]\n\t(No symbol) [0x004C1FF8]\n\t(No symbol) [0x004C20DB]\n\t(No symbol) [0x004CC63B]\n\tBaseThreadInitThunk [0x75887D69+25]\n\tRtlInitializeExceptionChain [0x773CB74B+107]\n\tRtlClearBits [0x773CB6CF+191]\n",
     "output_type": "error",
     "traceback": [
      "\u001b[1;31m---------------------------------------------------------------------------\u001b[0m",
      "\u001b[1;31mNoSuchElementException\u001b[0m                    Traceback (most recent call last)",
      "\u001b[1;32m~\\AppData\\Local\\Temp\\ipykernel_19340\\2716081052.py\u001b[0m in \u001b[0;36m<module>\u001b[1;34m\u001b[0m\n\u001b[0;32m      2\u001b[0m     \u001b[1;32mfor\u001b[0m \u001b[0mi\u001b[0m \u001b[1;32min\u001b[0m \u001b[0mtqdm\u001b[0m\u001b[1;33m(\u001b[0m\u001b[0mrange\u001b[0m\u001b[1;33m(\u001b[0m\u001b[1;36m1\u001b[0m\u001b[1;33m,\u001b[0m\u001b[1;36m11\u001b[0m\u001b[1;33m)\u001b[0m\u001b[1;33m)\u001b[0m\u001b[1;33m:\u001b[0m\u001b[1;33m\u001b[0m\u001b[1;33m\u001b[0m\u001b[0m\n\u001b[0;32m      3\u001b[0m         \u001b[0mxpath\u001b[0m\u001b[1;33m=\u001b[0m\u001b[1;34m'//*[@id=\"tabCon2\"]/ul/li['\u001b[0m\u001b[1;33m+\u001b[0m\u001b[0mstr\u001b[0m\u001b[1;33m(\u001b[0m\u001b[0mi\u001b[0m\u001b[1;33m)\u001b[0m\u001b[1;33m+\u001b[0m\u001b[1;34m']/div[1]'\u001b[0m\u001b[1;33m\u001b[0m\u001b[1;33m\u001b[0m\u001b[0m\n\u001b[1;32m----> 4\u001b[1;33m         \u001b[0mitem_list12\u001b[0m\u001b[1;33m.\u001b[0m\u001b[0mappend\u001b[0m\u001b[1;33m(\u001b[0m\u001b[0mdriver\u001b[0m\u001b[1;33m.\u001b[0m\u001b[0mfind_element\u001b[0m\u001b[1;33m(\u001b[0m\u001b[0mBy\u001b[0m\u001b[1;33m.\u001b[0m\u001b[0mXPATH\u001b[0m\u001b[1;33m,\u001b[0m \u001b[0mxpath\u001b[0m\u001b[1;33m)\u001b[0m\u001b[1;33m.\u001b[0m\u001b[0mtext\u001b[0m\u001b[1;33m)\u001b[0m\u001b[1;33m\u001b[0m\u001b[1;33m\u001b[0m\u001b[0m\n\u001b[0m\u001b[0;32m      5\u001b[0m     \u001b[0mxpath\u001b[0m\u001b[1;33m=\u001b[0m\u001b[1;34m'//*[@id=\"tabCon2\"]/div[2]/a['\u001b[0m\u001b[1;33m+\u001b[0m\u001b[0mstr\u001b[0m\u001b[1;33m(\u001b[0m\u001b[0mj\u001b[0m\u001b[1;33m+\u001b[0m\u001b[1;36m3\u001b[0m\u001b[1;33m)\u001b[0m\u001b[1;33m+\u001b[0m\u001b[1;34m']'\u001b[0m\u001b[1;33m\u001b[0m\u001b[1;33m\u001b[0m\u001b[0m\n\u001b[0;32m      6\u001b[0m     \u001b[0mdriver\u001b[0m\u001b[1;33m.\u001b[0m\u001b[0mfind_element\u001b[0m\u001b[1;33m(\u001b[0m\u001b[0mBy\u001b[0m\u001b[1;33m.\u001b[0m\u001b[0mXPATH\u001b[0m\u001b[1;33m,\u001b[0m \u001b[0mxpath\u001b[0m\u001b[1;33m)\u001b[0m\u001b[1;33m.\u001b[0m\u001b[0mclick\u001b[0m\u001b[1;33m(\u001b[0m\u001b[1;33m)\u001b[0m\u001b[1;33m\u001b[0m\u001b[1;33m\u001b[0m\u001b[0m\n",
      "\u001b[1;32m~\\AppData\\Roaming\\Python\\Python39\\site-packages\\selenium\\webdriver\\remote\\webdriver.py\u001b[0m in \u001b[0;36mfind_element\u001b[1;34m(self, by, value)\u001b[0m\n\u001b[0;32m    828\u001b[0m             \u001b[0mvalue\u001b[0m \u001b[1;33m=\u001b[0m \u001b[1;34mf'[name=\"{value}\"]'\u001b[0m\u001b[1;33m\u001b[0m\u001b[1;33m\u001b[0m\u001b[0m\n\u001b[0;32m    829\u001b[0m \u001b[1;33m\u001b[0m\u001b[0m\n\u001b[1;32m--> 830\u001b[1;33m         \u001b[1;32mreturn\u001b[0m \u001b[0mself\u001b[0m\u001b[1;33m.\u001b[0m\u001b[0mexecute\u001b[0m\u001b[1;33m(\u001b[0m\u001b[0mCommand\u001b[0m\u001b[1;33m.\u001b[0m\u001b[0mFIND_ELEMENT\u001b[0m\u001b[1;33m,\u001b[0m \u001b[1;33m{\u001b[0m\u001b[1;34m\"using\"\u001b[0m\u001b[1;33m:\u001b[0m \u001b[0mby\u001b[0m\u001b[1;33m,\u001b[0m \u001b[1;34m\"value\"\u001b[0m\u001b[1;33m:\u001b[0m \u001b[0mvalue\u001b[0m\u001b[1;33m}\u001b[0m\u001b[1;33m)\u001b[0m\u001b[1;33m[\u001b[0m\u001b[1;34m\"value\"\u001b[0m\u001b[1;33m]\u001b[0m\u001b[1;33m\u001b[0m\u001b[1;33m\u001b[0m\u001b[0m\n\u001b[0m\u001b[0;32m    831\u001b[0m \u001b[1;33m\u001b[0m\u001b[0m\n\u001b[0;32m    832\u001b[0m     \u001b[1;32mdef\u001b[0m \u001b[0mfind_elements\u001b[0m\u001b[1;33m(\u001b[0m\u001b[0mself\u001b[0m\u001b[1;33m,\u001b[0m \u001b[0mby\u001b[0m\u001b[1;33m=\u001b[0m\u001b[0mBy\u001b[0m\u001b[1;33m.\u001b[0m\u001b[0mID\u001b[0m\u001b[1;33m,\u001b[0m \u001b[0mvalue\u001b[0m\u001b[1;33m:\u001b[0m \u001b[0mOptional\u001b[0m\u001b[1;33m[\u001b[0m\u001b[0mstr\u001b[0m\u001b[1;33m]\u001b[0m \u001b[1;33m=\u001b[0m \u001b[1;32mNone\u001b[0m\u001b[1;33m)\u001b[0m \u001b[1;33m->\u001b[0m \u001b[0mList\u001b[0m\u001b[1;33m[\u001b[0m\u001b[0mWebElement\u001b[0m\u001b[1;33m]\u001b[0m\u001b[1;33m:\u001b[0m\u001b[1;33m\u001b[0m\u001b[1;33m\u001b[0m\u001b[0m\n",
      "\u001b[1;32m~\\AppData\\Roaming\\Python\\Python39\\site-packages\\selenium\\webdriver\\remote\\webdriver.py\u001b[0m in \u001b[0;36mexecute\u001b[1;34m(self, driver_command, params)\u001b[0m\n\u001b[0;32m    438\u001b[0m         \u001b[0mresponse\u001b[0m \u001b[1;33m=\u001b[0m \u001b[0mself\u001b[0m\u001b[1;33m.\u001b[0m\u001b[0mcommand_executor\u001b[0m\u001b[1;33m.\u001b[0m\u001b[0mexecute\u001b[0m\u001b[1;33m(\u001b[0m\u001b[0mdriver_command\u001b[0m\u001b[1;33m,\u001b[0m \u001b[0mparams\u001b[0m\u001b[1;33m)\u001b[0m\u001b[1;33m\u001b[0m\u001b[1;33m\u001b[0m\u001b[0m\n\u001b[0;32m    439\u001b[0m         \u001b[1;32mif\u001b[0m \u001b[0mresponse\u001b[0m\u001b[1;33m:\u001b[0m\u001b[1;33m\u001b[0m\u001b[1;33m\u001b[0m\u001b[0m\n\u001b[1;32m--> 440\u001b[1;33m             \u001b[0mself\u001b[0m\u001b[1;33m.\u001b[0m\u001b[0merror_handler\u001b[0m\u001b[1;33m.\u001b[0m\u001b[0mcheck_response\u001b[0m\u001b[1;33m(\u001b[0m\u001b[0mresponse\u001b[0m\u001b[1;33m)\u001b[0m\u001b[1;33m\u001b[0m\u001b[1;33m\u001b[0m\u001b[0m\n\u001b[0m\u001b[0;32m    441\u001b[0m             \u001b[0mresponse\u001b[0m\u001b[1;33m[\u001b[0m\u001b[1;34m\"value\"\u001b[0m\u001b[1;33m]\u001b[0m \u001b[1;33m=\u001b[0m \u001b[0mself\u001b[0m\u001b[1;33m.\u001b[0m\u001b[0m_unwrap_value\u001b[0m\u001b[1;33m(\u001b[0m\u001b[0mresponse\u001b[0m\u001b[1;33m.\u001b[0m\u001b[0mget\u001b[0m\u001b[1;33m(\u001b[0m\u001b[1;34m\"value\"\u001b[0m\u001b[1;33m,\u001b[0m \u001b[1;32mNone\u001b[0m\u001b[1;33m)\u001b[0m\u001b[1;33m)\u001b[0m\u001b[1;33m\u001b[0m\u001b[1;33m\u001b[0m\u001b[0m\n\u001b[0;32m    442\u001b[0m             \u001b[1;32mreturn\u001b[0m \u001b[0mresponse\u001b[0m\u001b[1;33m\u001b[0m\u001b[1;33m\u001b[0m\u001b[0m\n",
      "\u001b[1;32m~\\AppData\\Roaming\\Python\\Python39\\site-packages\\selenium\\webdriver\\remote\\errorhandler.py\u001b[0m in \u001b[0;36mcheck_response\u001b[1;34m(self, response)\u001b[0m\n\u001b[0;32m    243\u001b[0m                 \u001b[0malert_text\u001b[0m \u001b[1;33m=\u001b[0m \u001b[0mvalue\u001b[0m\u001b[1;33m[\u001b[0m\u001b[1;34m\"alert\"\u001b[0m\u001b[1;33m]\u001b[0m\u001b[1;33m.\u001b[0m\u001b[0mget\u001b[0m\u001b[1;33m(\u001b[0m\u001b[1;34m\"text\"\u001b[0m\u001b[1;33m)\u001b[0m\u001b[1;33m\u001b[0m\u001b[1;33m\u001b[0m\u001b[0m\n\u001b[0;32m    244\u001b[0m             \u001b[1;32mraise\u001b[0m \u001b[0mexception_class\u001b[0m\u001b[1;33m(\u001b[0m\u001b[0mmessage\u001b[0m\u001b[1;33m,\u001b[0m \u001b[0mscreen\u001b[0m\u001b[1;33m,\u001b[0m \u001b[0mstacktrace\u001b[0m\u001b[1;33m,\u001b[0m \u001b[0malert_text\u001b[0m\u001b[1;33m)\u001b[0m  \u001b[1;31m# type: ignore[call-arg]  # mypy is not smart enough here\u001b[0m\u001b[1;33m\u001b[0m\u001b[1;33m\u001b[0m\u001b[0m\n\u001b[1;32m--> 245\u001b[1;33m         \u001b[1;32mraise\u001b[0m \u001b[0mexception_class\u001b[0m\u001b[1;33m(\u001b[0m\u001b[0mmessage\u001b[0m\u001b[1;33m,\u001b[0m \u001b[0mscreen\u001b[0m\u001b[1;33m,\u001b[0m \u001b[0mstacktrace\u001b[0m\u001b[1;33m)\u001b[0m\u001b[1;33m\u001b[0m\u001b[1;33m\u001b[0m\u001b[0m\n\u001b[0m",
      "\u001b[1;31mNoSuchElementException\u001b[0m: Message: no such element: Unable to locate element: {\"method\":\"xpath\",\"selector\":\"//*[@id=\"tabCon2\"]/ul/li[9]/div[1]\"}\n  (Session info: chrome=111.0.5563.65)\nStacktrace:\nBacktrace:\n\t(No symbol) [0x0051DCE3]\n\t(No symbol) [0x004B39D1]\n\t(No symbol) [0x003C4DA8]\n\t(No symbol) [0x003F019F]\n\t(No symbol) [0x003F03AB]\n\t(No symbol) [0x0041EE62]\n\t(No symbol) [0x0040AF14]\n\t(No symbol) [0x0041D57C]\n\t(No symbol) [0x0040ACC6]\n\t(No symbol) [0x003E6F68]\n\t(No symbol) [0x003E80CD]\n\tGetHandleVerifier [0x00793832+2506274]\n\tGetHandleVerifier [0x007C9794+2727300]\n\tGetHandleVerifier [0x007CE36C+2746716]\n\tGetHandleVerifier [0x005C6690+617600]\n\t(No symbol) [0x004BC712]\n\t(No symbol) [0x004C1FF8]\n\t(No symbol) [0x004C20DB]\n\t(No symbol) [0x004CC63B]\n\tBaseThreadInitThunk [0x75887D69+25]\n\tRtlInitializeExceptionChain [0x773CB74B+107]\n\tRtlClearBits [0x773CB6CF+191]\n"
     ]
    }
   ],
   "source": [
    "for j in range(1,7):\n",
    "    for i in tqdm(range(1,11)):\n",
    "        xpath='//*[@id=\"tabCon2\"]/ul/li['+str(i)+']/div[1]'\n",
    "        item_list12.append(driver.find_element(By.XPATH, xpath).text)\n",
    "    xpath='//*[@id=\"tabCon2\"]/div[2]/a['+str(j+3)+']'\n",
    "    driver.find_element(By.XPATH, xpath).click()\n",
    "    time.sleep(1)\n",
    "print('끝')"
   ]
  },
  {
   "cell_type": "code",
   "execution_count": 217,
   "id": "47216959",
   "metadata": {},
   "outputs": [
    {
     "data": {
      "text/plain": [
       "158"
      ]
     },
     "execution_count": 217,
     "metadata": {},
     "output_type": "execute_result"
    }
   ],
   "source": [
    "len(item_list12)"
   ]
  },
  {
   "cell_type": "code",
   "execution_count": 218,
   "id": "6e9d7dbf",
   "metadata": {},
   "outputs": [
    {
     "data": {
      "text/plain": [
       "['뱀사골계곡\\n전라북도 남원시',\n",
       " '도솔계곡(선운산)\\n전라북도 고창군',\n",
       " '장안산군립공원\\n전라북도 장수군',\n",
       " '강천산군립공원\\n전라북도 순창군',\n",
       " '변산반도국립공원\\n전라북도 부안군',\n",
       " '덕유산국립공원\\n전라북도 무주군',\n",
       " '선운산(전북서해안권국가지질공원)\\n전라북도 고창군',\n",
       " '마이산도립공원\\n전라북도 진안군',\n",
       " '보리나라학원농장\\n전라북도 고창군',\n",
       " '대아수목원\\n전라북도 완주군',\n",
       " '덕진공원\\n전라북도 전주시 덕진구',\n",
       " '사선대관광지&조각공원\\n전라북도 임실군',\n",
       " '장자도\\n전라북도 군산시',\n",
       " '어청도\\n전라북도 군산시',\n",
       " '신시도 어촌체험마을\\n전라북도 군산시',\n",
       " '무녀도\\n전라북도 군산시',\n",
       " '구시포해수욕장\\n전라북도 고창군',\n",
       " '격포해변\\n전라북도 부안군',\n",
       " '변산해수욕장\\n전라북도 부안군',\n",
       " '상록해수욕장\\n전라북도 부안군',\n",
       " '논개사당(의암사)\\n전라북도 장수군',\n",
       " '고창읍성\\n전라북도 고창군',\n",
       " '광한루원\\n전라북도 남원시',\n",
       " '정읍 피향정\\n전라북도 정읍시',\n",
       " '전주풍패지관\\n전라북도 전주시 완산구',\n",
       " '실상사(남원)\\n전라북도 남원시',\n",
       " '내소사(부안)\\n전라북도 부안군',\n",
       " '망해사(김제)\\n전라북도 김제시',\n",
       " '교룡산국민관광지\\n전라북도 남원시',\n",
       " '은파호수공원(은파국민관광지)\\n전라북도 군산시',\n",
       " '논개-논개생가지\\n전라북도 장수군',\n",
       " '한국도로공사수목원\\n전라북도 전주시 덕진구',\n",
       " '와룡자연휴양림\\n전라북도 장수군',\n",
       " '익산 토성\\n전라북도 익산시',\n",
       " '바래봉\\n전라북도 남원시',\n",
       " '칠연계곡\\n전라북도 무주군',\n",
       " '옥정호(물안개길)\\n전라북도 임실군',\n",
       " '성수산자연휴양림\\n전라북도 임실군',\n",
       " '고창 고인돌 유적 [유네스코 세계문화유산]\\n전라북도 고창군',\n",
       " '남원관광단지\\n전라북도 남원시',\n",
       " '운일암 반일암 계곡\\n전라북도 진안군',\n",
       " '고사포해수욕장\\n전라북도 부안군',\n",
       " '지리산국립공원(남원)\\n전라북도 남원시',\n",
       " '곰소항\\n전라북도 부안군',\n",
       " '모항해수욕장\\n전라북도 부안군',\n",
       " '대둔산도립공원(전북)\\n전라북도 완주군',\n",
       " '고산자연휴양림\\n전라북도 완주군',\n",
       " '국립 회문산자연휴양림\\n전라북도 순창군',\n",
       " '화산천주교회(나바위 성당)\\n전라북도 익산시',\n",
       " '운장산자연휴양림\\n전라북도 진안군',\n",
       " '은적사(군산)\\n전라북도 군산시',\n",
       " '동국사(군산)\\n전라북도 군산시',\n",
       " '격포항\\n전라북도 부안군',\n",
       " '고창 무장객사\\n전라북도 고창군',\n",
       " '고창 무장현 관아와 읍성\\n전라북도 고창군',\n",
       " '만돌갯벌체험학습장\\n전라북도 고창군',\n",
       " '고창하전갯벌마을\\n전라북도 고창군',\n",
       " '혼불문학관\\n전라북도 남원시',\n",
       " '구시포 해수찜월드\\n전라북도 고창군',\n",
       " '익산미륵사지[유네스코세계유산]\\n전라북도 익산시',\n",
       " '서동공원\\n전라북도 익산시',\n",
       " '이병기선생 생가\\n전라북도 익산시',\n",
       " '고군산군도\\n전라북도 군산시',\n",
       " '농촌진흥청농업과학관\\n전라북도 전주시 완산구',\n",
       " '고창판소리박물관\\n전라북도 고창군',\n",
       " '채만식문학관\\n전라북도 군산시',\n",
       " '국립전주박물관\\n전라북도 전주시 완산구',\n",
       " '무주 트리스쿨\\n전라북도 무주군',\n",
       " '무주반디랜드\\n전라북도 무주군',\n",
       " '정읍 전봉준 유적\\n전라북도 정읍시',\n",
       " '고산\\n전라북도 고창군',\n",
       " '국사봉전망대\\n전라북도 임실군',\n",
       " '임실 대말방죽 숲(가시연꽃 자생지)\\n전라북도 임실군',\n",
       " '오송제\\n전라북도 전주시 덕진구',\n",
       " '국립임실호국원\\n전라북도 임실군',\n",
       " '백제도예원\\n전라북도 익산시',\n",
       " '선운사(고창)\\n전라북도 고창군',\n",
       " '전주남부시장\\n전라북도 전주시 완산구',\n",
       " '군산공설시장\\n전라북도 군산시',\n",
       " '망모당\\n전라북도 익산시',\n",
       " '분옥담과 선녀탕\\n전라북도 부안군',\n",
       " '봉래구곡\\n전라북도 부안군',\n",
       " '매창공원\\n전라북도 부안군',\n",
       " '곰소염전\\n전라북도 부안군',\n",
       " '광한루\\n전라북도 남원시',\n",
       " '개령암지 마애불상군\\n전라북도 남원시',\n",
       " '백산저수지\\n전라북도 김제시',\n",
       " '월명공원\\n전라북도 군산시',\n",
       " '용추폭포(고창)\\n전라북도 고창군',\n",
       " '선운산 낙조대\\n전라북도 고창군',\n",
       " '도산서당\\n전라북도 고창군',\n",
       " '방화동 자연휴양림,가족휴가촌\\n전라북도 장수군',\n",
       " '순창고추장민속마을\\n전라북도 순창군',\n",
       " '오봉산\\n전라북도 완주군',\n",
       " '추령장승촌\\n전라북도 순창군',\n",
       " '장군목유원지\\n전라북도 순창군',\n",
       " '영광정\\n전라북도 순창군',\n",
       " '섬진강\\n전라북도 순창군',\n",
       " '낙덕정\\n전라북도 순창군',\n",
       " '청호저수지\\n전라북도 부안군',\n",
       " '군산근대역사박물관\\n전라북도 군산시',\n",
       " '죽도(진안)\\n전라북도 진안군',\n",
       " '용담호\\n전라북도 진안군',\n",
       " '칠보물테마유원지\\n전라북도 정읍시',\n",
       " '용산저수지\\n전라북도 정읍시',\n",
       " '성황산\\n전라북도 정읍시',\n",
       " '옥정호 구절초테마공원\\n전라북도 정읍시',\n",
       " '내장산조각공원\\n전라북도 정읍시',\n",
       " '계화도\\n전라북도 부안군',\n",
       " '금강호 관광지\\n전라북도 군산시',\n",
       " '구송정 유원지\\n전라북도 순창군',\n",
       " '산동리 남근석\\n전라북도 순창군',\n",
       " '김제벽골제\\n전라북도 김제시',\n",
       " '변산자연휴양림\\n전라북도 부안군',\n",
       " '선유도해수욕장(명사십리해수욕장)\\n전라북도 군산시',\n",
       " '선운산 생태숲\\n전라북도 고창군',\n",
       " '용암서원(장수)\\n전라북도 장수군',\n",
       " '고산창포마을\\n전라북도 완주군',\n",
       " '국립태권도원\\n전라북도 무주군',\n",
       " '웅포관광지캠핑장\\n전라북도 익산시',\n",
       " '데미샘\\n전라북도 진안군',\n",
       " '풍혈냉천\\n전라북도 진안군',\n",
       " '마이산 벚꽃길\\n전라북도 진안군',\n",
       " '익산왕궁리유적[유네스코세계유산]\\n전라북도 익산시',\n",
       " '금산교회\\n전라북도 김제시',\n",
       " '라제통문\\n전라북도 무주군',\n",
       " '완주삼례문화예술촌\\n전라북도 완주군',\n",
       " '근대미술관(구)일본제18은행군산지점\\n전라북도 군산시',\n",
       " '남원시옻칠공예관\\n전라북도 남원시',\n",
       " '국사봉(순창)\\n전라북도 순창군',\n",
       " '팔복예술공장\\n전라북도 전주시 덕진구',\n",
       " '경암동철길마을\\n전라북도 군산시',\n",
       " '익산교도소세트장\\n전라북도 익산시',\n",
       " '익산 액션하우스\\n전라북도 익산시',\n",
       " '구파백정기의사기념관\\n전라북도 정읍시',\n",
       " '부안 원숭이학교 자연사박물관\\n전라북도 부안군',\n",
       " '줄포만갯벌생태공원\\n전라북도 부안군',\n",
       " '되재성당\\n전라북도 완주군',\n",
       " '유황편백탕\\n전라북도 완주군',\n",
       " '완주상관편백숲\\n전라북도 완주군',\n",
       " '성황사(부안)\\n전라북도 부안군',\n",
       " '전주한지박물관\\n전라북도 전주시 덕진구',\n",
       " '왕궁보석테마관광지(보석박물관)\\n전라북도 익산시',\n",
       " '진안홍삼스파\\n전라북도 진안군',\n",
       " '임실치즈마을\\n전라북도 임실군',\n",
       " '위도해수욕장\\n전라북도 부안군',\n",
       " '전주한옥마을[슬로시티]\\n전라북도 전주시 완산구',\n",
       " '자만마을 벽화갤러리\\n전라북도 전주시 완산구',\n",
       " '놀토피아\\n전라북도 완주군',\n",
       " '초원사진관\\n전라북도 군산시',\n",
       " '군산 임피역사\\n전라북도 군산시',\n",
       " '고창고인돌박물관\\n전라북도 고창군',\n",
       " '무주머루와인동굴\\n전라북도 무주군',\n",
       " '동학농민혁명기념관\\n전라북도 정읍시',\n",
       " '내변산\\n전라북도 부안군',\n",
       " '우화정(내장산)\\n전라북도 정읍시',\n",
       " '정읍 농산물도매시장\\n전라북도 정읍시',\n",
       " '청운사(김제)\\n전라북도 김제시']"
      ]
     },
     "execution_count": 218,
     "metadata": {},
     "output_type": "execute_result"
    }
   ],
   "source": [
    "item_list12"
   ]
  },
  {
   "cell_type": "code",
   "execution_count": 176,
   "id": "ef186245",
   "metadata": {
    "collapsed": true
   },
   "outputs": [
    {
     "data": {
      "application/vnd.jupyter.widget-view+json": {
       "model_id": "a7585e2c8cec43379387e6ae4f134cf9",
       "version_major": 2,
       "version_minor": 0
      },
      "text/plain": [
       "  0%|          | 0/10 [00:00<?, ?it/s]"
      ]
     },
     "metadata": {},
     "output_type": "display_data"
    },
    {
     "data": {
      "application/vnd.jupyter.widget-view+json": {
       "model_id": "2b8220be761e46c187c2da85ef595361",
       "version_major": 2,
       "version_minor": 0
      },
      "text/plain": [
       "  0%|          | 0/10 [00:00<?, ?it/s]"
      ]
     },
     "metadata": {},
     "output_type": "display_data"
    },
    {
     "data": {
      "application/vnd.jupyter.widget-view+json": {
       "model_id": "1c6852dbd6c148d19256873f1c728252",
       "version_major": 2,
       "version_minor": 0
      },
      "text/plain": [
       "  0%|          | 0/10 [00:00<?, ?it/s]"
      ]
     },
     "metadata": {},
     "output_type": "display_data"
    },
    {
     "data": {
      "application/vnd.jupyter.widget-view+json": {
       "model_id": "dfed4a1c624b46cab8326f5c3a7ece82",
       "version_major": 2,
       "version_minor": 0
      },
      "text/plain": [
       "  0%|          | 0/10 [00:00<?, ?it/s]"
      ]
     },
     "metadata": {},
     "output_type": "display_data"
    },
    {
     "data": {
      "application/vnd.jupyter.widget-view+json": {
       "model_id": "4e3a77aa579549b28b60dcc980638044",
       "version_major": 2,
       "version_minor": 0
      },
      "text/plain": [
       "  0%|          | 0/10 [00:00<?, ?it/s]"
      ]
     },
     "metadata": {},
     "output_type": "display_data"
    },
    {
     "data": {
      "application/vnd.jupyter.widget-view+json": {
       "model_id": "a9f4da0333f04ed9a60c977a2c9a9b3b",
       "version_major": 2,
       "version_minor": 0
      },
      "text/plain": [
       "  0%|          | 0/10 [00:00<?, ?it/s]"
      ]
     },
     "metadata": {},
     "output_type": "display_data"
    },
    {
     "data": {
      "application/vnd.jupyter.widget-view+json": {
       "model_id": "94460e2cd0e54a0d9fe4db1722d46872",
       "version_major": 2,
       "version_minor": 0
      },
      "text/plain": [
       "  0%|          | 0/10 [00:00<?, ?it/s]"
      ]
     },
     "metadata": {},
     "output_type": "display_data"
    },
    {
     "data": {
      "application/vnd.jupyter.widget-view+json": {
       "model_id": "60e5218202fe408e904fd89c014dfc76",
       "version_major": 2,
       "version_minor": 0
      },
      "text/plain": [
       "  0%|          | 0/10 [00:00<?, ?it/s]"
      ]
     },
     "metadata": {},
     "output_type": "display_data"
    },
    {
     "data": {
      "application/vnd.jupyter.widget-view+json": {
       "model_id": "caebf12277934decb459d485be3ff397",
       "version_major": 2,
       "version_minor": 0
      },
      "text/plain": [
       "  0%|          | 0/10 [00:00<?, ?it/s]"
      ]
     },
     "metadata": {},
     "output_type": "display_data"
    },
    {
     "data": {
      "application/vnd.jupyter.widget-view+json": {
       "model_id": "552e1c375f3e432fb9525025eeb05772",
       "version_major": 2,
       "version_minor": 0
      },
      "text/plain": [
       "  0%|          | 0/10 [00:00<?, ?it/s]"
      ]
     },
     "metadata": {},
     "output_type": "display_data"
    },
    {
     "name": "stdout",
     "output_type": "stream",
     "text": [
      "끝\n"
     ]
    }
   ],
   "source": [
    "#전남\n",
    "item_list13=[]\n",
    "for j in range(1,11):\n",
    "    for i in tqdm(range(1,11)):\n",
    "        xpath='//*[@id=\"tabCon2\"]/ul/li['+str(i)+']/div[1]'\n",
    "        item_list13.append(driver.find_element(By.XPATH, xpath).text)\n",
    "    xpath='//*[@id=\"tabCon2\"]/div[2]/a['+str(j+3)+']'\n",
    "    driver.find_element(By.XPATH, xpath).click()\n",
    "    time.sleep(1)\n",
    "print('끝')"
   ]
  },
  {
   "cell_type": "code",
   "execution_count": 177,
   "id": "5d30ffb3",
   "metadata": {
    "collapsed": true
   },
   "outputs": [
    {
     "data": {
      "application/vnd.jupyter.widget-view+json": {
       "model_id": "130858664e4d4a6e992cac9c57975395",
       "version_major": 2,
       "version_minor": 0
      },
      "text/plain": [
       "  0%|          | 0/10 [00:00<?, ?it/s]"
      ]
     },
     "metadata": {},
     "output_type": "display_data"
    },
    {
     "data": {
      "application/vnd.jupyter.widget-view+json": {
       "model_id": "956d2204198e4924aadcacf9a641005e",
       "version_major": 2,
       "version_minor": 0
      },
      "text/plain": [
       "  0%|          | 0/10 [00:00<?, ?it/s]"
      ]
     },
     "metadata": {},
     "output_type": "display_data"
    },
    {
     "data": {
      "application/vnd.jupyter.widget-view+json": {
       "model_id": "5c3d65e1455840b29f8150d1c4cf596a",
       "version_major": 2,
       "version_minor": 0
      },
      "text/plain": [
       "  0%|          | 0/10 [00:00<?, ?it/s]"
      ]
     },
     "metadata": {},
     "output_type": "display_data"
    },
    {
     "data": {
      "application/vnd.jupyter.widget-view+json": {
       "model_id": "708c3a44fd4e449e9e34e05527f6b9b3",
       "version_major": 2,
       "version_minor": 0
      },
      "text/plain": [
       "  0%|          | 0/10 [00:00<?, ?it/s]"
      ]
     },
     "metadata": {},
     "output_type": "display_data"
    },
    {
     "data": {
      "application/vnd.jupyter.widget-view+json": {
       "model_id": "6be0f746890847c98daead1c79ff3e97",
       "version_major": 2,
       "version_minor": 0
      },
      "text/plain": [
       "  0%|          | 0/10 [00:00<?, ?it/s]"
      ]
     },
     "metadata": {},
     "output_type": "display_data"
    },
    {
     "data": {
      "application/vnd.jupyter.widget-view+json": {
       "model_id": "00c417c6683243049d4882f1b231023b",
       "version_major": 2,
       "version_minor": 0
      },
      "text/plain": [
       "  0%|          | 0/10 [00:00<?, ?it/s]"
      ]
     },
     "metadata": {},
     "output_type": "display_data"
    },
    {
     "data": {
      "application/vnd.jupyter.widget-view+json": {
       "model_id": "5d7dcb66e1484bf692563588553aa205",
       "version_major": 2,
       "version_minor": 0
      },
      "text/plain": [
       "  0%|          | 0/10 [00:00<?, ?it/s]"
      ]
     },
     "metadata": {},
     "output_type": "display_data"
    },
    {
     "data": {
      "application/vnd.jupyter.widget-view+json": {
       "model_id": "41e2f118cfee4437a8a6d38dab076580",
       "version_major": 2,
       "version_minor": 0
      },
      "text/plain": [
       "  0%|          | 0/10 [00:00<?, ?it/s]"
      ]
     },
     "metadata": {},
     "output_type": "display_data"
    },
    {
     "data": {
      "application/vnd.jupyter.widget-view+json": {
       "model_id": "4c16df7f646b4eea8f92f6955153df4a",
       "version_major": 2,
       "version_minor": 0
      },
      "text/plain": [
       "  0%|          | 0/10 [00:00<?, ?it/s]"
      ]
     },
     "metadata": {},
     "output_type": "display_data"
    },
    {
     "data": {
      "application/vnd.jupyter.widget-view+json": {
       "model_id": "25b2d13a04ea471a80f04edbb5a65279",
       "version_major": 2,
       "version_minor": 0
      },
      "text/plain": [
       "  0%|          | 0/10 [00:00<?, ?it/s]"
      ]
     },
     "metadata": {},
     "output_type": "display_data"
    },
    {
     "name": "stdout",
     "output_type": "stream",
     "text": [
      "끝\n"
     ]
    }
   ],
   "source": [
    "for j in range(1,11):\n",
    "    for i in tqdm(range(1,11)):\n",
    "        xpath='//*[@id=\"tabCon2\"]/ul/li['+str(i)+']/div[1]'\n",
    "        item_list13.append(driver.find_element(By.XPATH, xpath).text)\n",
    "    xpath='//*[@id=\"tabCon2\"]/div[2]/a['+str(j+3)+']'\n",
    "    driver.find_element(By.XPATH, xpath).click()\n",
    "    time.sleep(1)\n",
    "print('끝')"
   ]
  },
  {
   "cell_type": "code",
   "execution_count": 178,
   "id": "03aae5b5",
   "metadata": {
    "collapsed": true
   },
   "outputs": [
    {
     "data": {
      "application/vnd.jupyter.widget-view+json": {
       "model_id": "11544ca66b6243e392de2701f61396eb",
       "version_major": 2,
       "version_minor": 0
      },
      "text/plain": [
       "  0%|          | 0/10 [00:00<?, ?it/s]"
      ]
     },
     "metadata": {},
     "output_type": "display_data"
    },
    {
     "data": {
      "application/vnd.jupyter.widget-view+json": {
       "model_id": "c152249e886b4a61ac04cd9294fc7dfb",
       "version_major": 2,
       "version_minor": 0
      },
      "text/plain": [
       "  0%|          | 0/10 [00:00<?, ?it/s]"
      ]
     },
     "metadata": {},
     "output_type": "display_data"
    },
    {
     "data": {
      "application/vnd.jupyter.widget-view+json": {
       "model_id": "c9ac0786dd324b3ba970db4a4c4c1063",
       "version_major": 2,
       "version_minor": 0
      },
      "text/plain": [
       "  0%|          | 0/10 [00:00<?, ?it/s]"
      ]
     },
     "metadata": {},
     "output_type": "display_data"
    },
    {
     "data": {
      "application/vnd.jupyter.widget-view+json": {
       "model_id": "d38afaa9dd95474d9f8133dfec58a9bb",
       "version_major": 2,
       "version_minor": 0
      },
      "text/plain": [
       "  0%|          | 0/10 [00:00<?, ?it/s]"
      ]
     },
     "metadata": {},
     "output_type": "display_data"
    },
    {
     "ename": "NoSuchElementException",
     "evalue": "Message: no such element: Unable to locate element: {\"method\":\"xpath\",\"selector\":\"//*[@id=\"tabCon2\"]/ul/li[7]/div[1]\"}\n  (Session info: chrome=111.0.5563.65)\nStacktrace:\nBacktrace:\n\t(No symbol) [0x0051DCE3]\n\t(No symbol) [0x004B39D1]\n\t(No symbol) [0x003C4DA8]\n\t(No symbol) [0x003F019F]\n\t(No symbol) [0x003F03AB]\n\t(No symbol) [0x0041EE62]\n\t(No symbol) [0x0040AF14]\n\t(No symbol) [0x0041D57C]\n\t(No symbol) [0x0040ACC6]\n\t(No symbol) [0x003E6F68]\n\t(No symbol) [0x003E80CD]\n\tGetHandleVerifier [0x00793832+2506274]\n\tGetHandleVerifier [0x007C9794+2727300]\n\tGetHandleVerifier [0x007CE36C+2746716]\n\tGetHandleVerifier [0x005C6690+617600]\n\t(No symbol) [0x004BC712]\n\t(No symbol) [0x004C1FF8]\n\t(No symbol) [0x004C20DB]\n\t(No symbol) [0x004CC63B]\n\tBaseThreadInitThunk [0x75887D69+25]\n\tRtlInitializeExceptionChain [0x773CB74B+107]\n\tRtlClearBits [0x773CB6CF+191]\n",
     "output_type": "error",
     "traceback": [
      "\u001b[1;31m---------------------------------------------------------------------------\u001b[0m",
      "\u001b[1;31mNoSuchElementException\u001b[0m                    Traceback (most recent call last)",
      "\u001b[1;32m~\\AppData\\Local\\Temp\\ipykernel_19340\\3021697303.py\u001b[0m in \u001b[0;36m<module>\u001b[1;34m\u001b[0m\n\u001b[0;32m      2\u001b[0m     \u001b[1;32mfor\u001b[0m \u001b[0mi\u001b[0m \u001b[1;32min\u001b[0m \u001b[0mtqdm\u001b[0m\u001b[1;33m(\u001b[0m\u001b[0mrange\u001b[0m\u001b[1;33m(\u001b[0m\u001b[1;36m1\u001b[0m\u001b[1;33m,\u001b[0m\u001b[1;36m11\u001b[0m\u001b[1;33m)\u001b[0m\u001b[1;33m)\u001b[0m\u001b[1;33m:\u001b[0m\u001b[1;33m\u001b[0m\u001b[1;33m\u001b[0m\u001b[0m\n\u001b[0;32m      3\u001b[0m         \u001b[0mxpath\u001b[0m\u001b[1;33m=\u001b[0m\u001b[1;34m'//*[@id=\"tabCon2\"]/ul/li['\u001b[0m\u001b[1;33m+\u001b[0m\u001b[0mstr\u001b[0m\u001b[1;33m(\u001b[0m\u001b[0mi\u001b[0m\u001b[1;33m)\u001b[0m\u001b[1;33m+\u001b[0m\u001b[1;34m']/div[1]'\u001b[0m\u001b[1;33m\u001b[0m\u001b[1;33m\u001b[0m\u001b[0m\n\u001b[1;32m----> 4\u001b[1;33m         \u001b[0mitem_list13\u001b[0m\u001b[1;33m.\u001b[0m\u001b[0mappend\u001b[0m\u001b[1;33m(\u001b[0m\u001b[0mdriver\u001b[0m\u001b[1;33m.\u001b[0m\u001b[0mfind_element\u001b[0m\u001b[1;33m(\u001b[0m\u001b[0mBy\u001b[0m\u001b[1;33m.\u001b[0m\u001b[0mXPATH\u001b[0m\u001b[1;33m,\u001b[0m \u001b[0mxpath\u001b[0m\u001b[1;33m)\u001b[0m\u001b[1;33m.\u001b[0m\u001b[0mtext\u001b[0m\u001b[1;33m)\u001b[0m\u001b[1;33m\u001b[0m\u001b[1;33m\u001b[0m\u001b[0m\n\u001b[0m\u001b[0;32m      5\u001b[0m     \u001b[0mxpath\u001b[0m\u001b[1;33m=\u001b[0m\u001b[1;34m'//*[@id=\"tabCon2\"]/div[2]/a['\u001b[0m\u001b[1;33m+\u001b[0m\u001b[0mstr\u001b[0m\u001b[1;33m(\u001b[0m\u001b[0mj\u001b[0m\u001b[1;33m+\u001b[0m\u001b[1;36m3\u001b[0m\u001b[1;33m)\u001b[0m\u001b[1;33m+\u001b[0m\u001b[1;34m']'\u001b[0m\u001b[1;33m\u001b[0m\u001b[1;33m\u001b[0m\u001b[0m\n\u001b[0;32m      6\u001b[0m     \u001b[0mdriver\u001b[0m\u001b[1;33m.\u001b[0m\u001b[0mfind_element\u001b[0m\u001b[1;33m(\u001b[0m\u001b[0mBy\u001b[0m\u001b[1;33m.\u001b[0m\u001b[0mXPATH\u001b[0m\u001b[1;33m,\u001b[0m \u001b[0mxpath\u001b[0m\u001b[1;33m)\u001b[0m\u001b[1;33m.\u001b[0m\u001b[0mclick\u001b[0m\u001b[1;33m(\u001b[0m\u001b[1;33m)\u001b[0m\u001b[1;33m\u001b[0m\u001b[1;33m\u001b[0m\u001b[0m\n",
      "\u001b[1;32m~\\AppData\\Roaming\\Python\\Python39\\site-packages\\selenium\\webdriver\\remote\\webdriver.py\u001b[0m in \u001b[0;36mfind_element\u001b[1;34m(self, by, value)\u001b[0m\n\u001b[0;32m    828\u001b[0m             \u001b[0mvalue\u001b[0m \u001b[1;33m=\u001b[0m \u001b[1;34mf'[name=\"{value}\"]'\u001b[0m\u001b[1;33m\u001b[0m\u001b[1;33m\u001b[0m\u001b[0m\n\u001b[0;32m    829\u001b[0m \u001b[1;33m\u001b[0m\u001b[0m\n\u001b[1;32m--> 830\u001b[1;33m         \u001b[1;32mreturn\u001b[0m \u001b[0mself\u001b[0m\u001b[1;33m.\u001b[0m\u001b[0mexecute\u001b[0m\u001b[1;33m(\u001b[0m\u001b[0mCommand\u001b[0m\u001b[1;33m.\u001b[0m\u001b[0mFIND_ELEMENT\u001b[0m\u001b[1;33m,\u001b[0m \u001b[1;33m{\u001b[0m\u001b[1;34m\"using\"\u001b[0m\u001b[1;33m:\u001b[0m \u001b[0mby\u001b[0m\u001b[1;33m,\u001b[0m \u001b[1;34m\"value\"\u001b[0m\u001b[1;33m:\u001b[0m \u001b[0mvalue\u001b[0m\u001b[1;33m}\u001b[0m\u001b[1;33m)\u001b[0m\u001b[1;33m[\u001b[0m\u001b[1;34m\"value\"\u001b[0m\u001b[1;33m]\u001b[0m\u001b[1;33m\u001b[0m\u001b[1;33m\u001b[0m\u001b[0m\n\u001b[0m\u001b[0;32m    831\u001b[0m \u001b[1;33m\u001b[0m\u001b[0m\n\u001b[0;32m    832\u001b[0m     \u001b[1;32mdef\u001b[0m \u001b[0mfind_elements\u001b[0m\u001b[1;33m(\u001b[0m\u001b[0mself\u001b[0m\u001b[1;33m,\u001b[0m \u001b[0mby\u001b[0m\u001b[1;33m=\u001b[0m\u001b[0mBy\u001b[0m\u001b[1;33m.\u001b[0m\u001b[0mID\u001b[0m\u001b[1;33m,\u001b[0m \u001b[0mvalue\u001b[0m\u001b[1;33m:\u001b[0m \u001b[0mOptional\u001b[0m\u001b[1;33m[\u001b[0m\u001b[0mstr\u001b[0m\u001b[1;33m]\u001b[0m \u001b[1;33m=\u001b[0m \u001b[1;32mNone\u001b[0m\u001b[1;33m)\u001b[0m \u001b[1;33m->\u001b[0m \u001b[0mList\u001b[0m\u001b[1;33m[\u001b[0m\u001b[0mWebElement\u001b[0m\u001b[1;33m]\u001b[0m\u001b[1;33m:\u001b[0m\u001b[1;33m\u001b[0m\u001b[1;33m\u001b[0m\u001b[0m\n",
      "\u001b[1;32m~\\AppData\\Roaming\\Python\\Python39\\site-packages\\selenium\\webdriver\\remote\\webdriver.py\u001b[0m in \u001b[0;36mexecute\u001b[1;34m(self, driver_command, params)\u001b[0m\n\u001b[0;32m    438\u001b[0m         \u001b[0mresponse\u001b[0m \u001b[1;33m=\u001b[0m \u001b[0mself\u001b[0m\u001b[1;33m.\u001b[0m\u001b[0mcommand_executor\u001b[0m\u001b[1;33m.\u001b[0m\u001b[0mexecute\u001b[0m\u001b[1;33m(\u001b[0m\u001b[0mdriver_command\u001b[0m\u001b[1;33m,\u001b[0m \u001b[0mparams\u001b[0m\u001b[1;33m)\u001b[0m\u001b[1;33m\u001b[0m\u001b[1;33m\u001b[0m\u001b[0m\n\u001b[0;32m    439\u001b[0m         \u001b[1;32mif\u001b[0m \u001b[0mresponse\u001b[0m\u001b[1;33m:\u001b[0m\u001b[1;33m\u001b[0m\u001b[1;33m\u001b[0m\u001b[0m\n\u001b[1;32m--> 440\u001b[1;33m             \u001b[0mself\u001b[0m\u001b[1;33m.\u001b[0m\u001b[0merror_handler\u001b[0m\u001b[1;33m.\u001b[0m\u001b[0mcheck_response\u001b[0m\u001b[1;33m(\u001b[0m\u001b[0mresponse\u001b[0m\u001b[1;33m)\u001b[0m\u001b[1;33m\u001b[0m\u001b[1;33m\u001b[0m\u001b[0m\n\u001b[0m\u001b[0;32m    441\u001b[0m             \u001b[0mresponse\u001b[0m\u001b[1;33m[\u001b[0m\u001b[1;34m\"value\"\u001b[0m\u001b[1;33m]\u001b[0m \u001b[1;33m=\u001b[0m \u001b[0mself\u001b[0m\u001b[1;33m.\u001b[0m\u001b[0m_unwrap_value\u001b[0m\u001b[1;33m(\u001b[0m\u001b[0mresponse\u001b[0m\u001b[1;33m.\u001b[0m\u001b[0mget\u001b[0m\u001b[1;33m(\u001b[0m\u001b[1;34m\"value\"\u001b[0m\u001b[1;33m,\u001b[0m \u001b[1;32mNone\u001b[0m\u001b[1;33m)\u001b[0m\u001b[1;33m)\u001b[0m\u001b[1;33m\u001b[0m\u001b[1;33m\u001b[0m\u001b[0m\n\u001b[0;32m    442\u001b[0m             \u001b[1;32mreturn\u001b[0m \u001b[0mresponse\u001b[0m\u001b[1;33m\u001b[0m\u001b[1;33m\u001b[0m\u001b[0m\n",
      "\u001b[1;32m~\\AppData\\Roaming\\Python\\Python39\\site-packages\\selenium\\webdriver\\remote\\errorhandler.py\u001b[0m in \u001b[0;36mcheck_response\u001b[1;34m(self, response)\u001b[0m\n\u001b[0;32m    243\u001b[0m                 \u001b[0malert_text\u001b[0m \u001b[1;33m=\u001b[0m \u001b[0mvalue\u001b[0m\u001b[1;33m[\u001b[0m\u001b[1;34m\"alert\"\u001b[0m\u001b[1;33m]\u001b[0m\u001b[1;33m.\u001b[0m\u001b[0mget\u001b[0m\u001b[1;33m(\u001b[0m\u001b[1;34m\"text\"\u001b[0m\u001b[1;33m)\u001b[0m\u001b[1;33m\u001b[0m\u001b[1;33m\u001b[0m\u001b[0m\n\u001b[0;32m    244\u001b[0m             \u001b[1;32mraise\u001b[0m \u001b[0mexception_class\u001b[0m\u001b[1;33m(\u001b[0m\u001b[0mmessage\u001b[0m\u001b[1;33m,\u001b[0m \u001b[0mscreen\u001b[0m\u001b[1;33m,\u001b[0m \u001b[0mstacktrace\u001b[0m\u001b[1;33m,\u001b[0m \u001b[0malert_text\u001b[0m\u001b[1;33m)\u001b[0m  \u001b[1;31m# type: ignore[call-arg]  # mypy is not smart enough here\u001b[0m\u001b[1;33m\u001b[0m\u001b[1;33m\u001b[0m\u001b[0m\n\u001b[1;32m--> 245\u001b[1;33m         \u001b[1;32mraise\u001b[0m \u001b[0mexception_class\u001b[0m\u001b[1;33m(\u001b[0m\u001b[0mmessage\u001b[0m\u001b[1;33m,\u001b[0m \u001b[0mscreen\u001b[0m\u001b[1;33m,\u001b[0m \u001b[0mstacktrace\u001b[0m\u001b[1;33m)\u001b[0m\u001b[1;33m\u001b[0m\u001b[1;33m\u001b[0m\u001b[0m\n\u001b[0m",
      "\u001b[1;31mNoSuchElementException\u001b[0m: Message: no such element: Unable to locate element: {\"method\":\"xpath\",\"selector\":\"//*[@id=\"tabCon2\"]/ul/li[7]/div[1]\"}\n  (Session info: chrome=111.0.5563.65)\nStacktrace:\nBacktrace:\n\t(No symbol) [0x0051DCE3]\n\t(No symbol) [0x004B39D1]\n\t(No symbol) [0x003C4DA8]\n\t(No symbol) [0x003F019F]\n\t(No symbol) [0x003F03AB]\n\t(No symbol) [0x0041EE62]\n\t(No symbol) [0x0040AF14]\n\t(No symbol) [0x0041D57C]\n\t(No symbol) [0x0040ACC6]\n\t(No symbol) [0x003E6F68]\n\t(No symbol) [0x003E80CD]\n\tGetHandleVerifier [0x00793832+2506274]\n\tGetHandleVerifier [0x007C9794+2727300]\n\tGetHandleVerifier [0x007CE36C+2746716]\n\tGetHandleVerifier [0x005C6690+617600]\n\t(No symbol) [0x004BC712]\n\t(No symbol) [0x004C1FF8]\n\t(No symbol) [0x004C20DB]\n\t(No symbol) [0x004CC63B]\n\tBaseThreadInitThunk [0x75887D69+25]\n\tRtlInitializeExceptionChain [0x773CB74B+107]\n\tRtlClearBits [0x773CB6CF+191]\n"
     ]
    }
   ],
   "source": [
    "for j in range(1,5):\n",
    "    for i in tqdm(range(1,11)):\n",
    "        xpath='//*[@id=\"tabCon2\"]/ul/li['+str(i)+']/div[1]'\n",
    "        item_list13.append(driver.find_element(By.XPATH, xpath).text)\n",
    "    xpath='//*[@id=\"tabCon2\"]/div[2]/a['+str(j+3)+']'\n",
    "    driver.find_element(By.XPATH, xpath).click()\n",
    "    time.sleep(1)\n",
    "print('끝')"
   ]
  },
  {
   "cell_type": "code",
   "execution_count": 219,
   "id": "0729f7f2",
   "metadata": {},
   "outputs": [
    {
     "data": {
      "text/plain": [
       "236"
      ]
     },
     "execution_count": 219,
     "metadata": {},
     "output_type": "execute_result"
    }
   ],
   "source": [
    "len(item_list13)"
   ]
  },
  {
   "cell_type": "code",
   "execution_count": 220,
   "id": "c10bdfbd",
   "metadata": {
    "scrolled": true
   },
   "outputs": [
    {
     "data": {
      "text/plain": [
       "['증도 우전해수욕장\\n전라남도 신안군',\n",
       " '임자 대광해수욕장\\n전라남도 신안군',\n",
       " '목포유달산공원\\n전라남도 목포시',\n",
       " '두륜산도립공원\\n전라남도 해남군',\n",
       " '팔영산자연휴양림\\n전라남도 고흥군',\n",
       " '제암산자연휴양림\\n전라남도 보성군',\n",
       " '유치자연휴양림\\n전라남도 장흥군',\n",
       " '제암산\\n전라남도 장흥군',\n",
       " '영산포 홍어거리\\n전라남도 나주시',\n",
       " '천사섬분재공원\\n전라남도 신안군',\n",
       " '금일명사십리해수욕장\\n전라남도 완도군',\n",
       " '흑산도\\n전라남도 신안군',\n",
       " '홍도\\n전라남도 신안군',\n",
       " '수문해수욕장\\n전라남도 장흥군',\n",
       " '돌머리해변\\n전라남도 함평군',\n",
       " '가마미해수욕장\\n전라남도 영광군',\n",
       " '소록도(한센병박물관)\\n전라남도 고흥군',\n",
       " '돌산도\\n전라남도 여수시',\n",
       " '거문도\\n전라남도 여수시',\n",
       " '풍류해수욕장\\n전라남도 고흥군',\n",
       " '선암사[유네스코세계문화유산]\\n전라남도 순천시',\n",
       " '보림사(장흥)\\n전라남도 장흥군',\n",
       " '연곡사(구례)\\n전라남도 구례군',\n",
       " '도갑사\\n전라남도 영암군',\n",
       " '운주사\\n전라남도 화순군',\n",
       " '쌍봉사(화순)\\n전라남도 화순군',\n",
       " '무위사\\n전라남도 강진군',\n",
       " '불갑사(영광)\\n전라남도 영광군',\n",
       " '순천 고인돌 공원\\n전라남도 순천시',\n",
       " '중리해수욕장\\n전라남도 완도군',\n",
       " '배알도 수변공원\\n전라남도 광양시',\n",
       " '지리산온천랜드\\n전라남도 구례군',\n",
       " '보길도윤선도원림\\n전라남도 완도군',\n",
       " '다산초당(다산 정약용 유적지)\\n전라남도 강진군',\n",
       " '왕인박사유적지\\n전라남도 영암군',\n",
       " '나주금성관\\n전라남도 나주시',\n",
       " '필암서원 [유네스코 세계문화유산]\\n전라남도 장성군',\n",
       " '여수 진남관\\n전라남도 여수시',\n",
       " '소쇄원\\n전라남도 담양군',\n",
       " '송광사(순천)\\n전라남도 순천시',\n",
       " '갓바위 문화타운\\n전라남도 목포시',\n",
       " '비금도\\n전라남도 신안군',\n",
       " '홍길동 생가\\n전라남도 장성군',\n",
       " '김대중 대통령 생가\\n전라남도 신안군',\n",
       " '순천만습지(구,순천만자연생태공원)\\n전라남도 순천시',\n",
       " '자은 백길해수욕장\\n전라남도 신안군',\n",
       " '광양매화마을\\n전라남도 광양시',\n",
       " '광양옥룡사동백나무숲\\n전라남도 광양시',\n",
       " '조금나루해수욕장\\n전라남도 무안군',\n",
       " '대원사(보성)\\n전라남도 보성군',\n",
       " '무등산\\n전라남도 화순군',\n",
       " '강진영랑생가\\n전라남도 강진군',\n",
       " '산이반도\\n전라남도 해남군',\n",
       " '영벽정\\n전라남도 화순군',\n",
       " '임대정원림\\n전라남도 화순군',\n",
       " '완도군청산도[슬로시티]\\n전라남도 완도군',\n",
       " '무등산편백자연휴양림(안양산자연휴양림)\\n전라남도 화순군',\n",
       " '백운산자연휴양림\\n전라남도 광양시',\n",
       " '해남 간척지 담수호 주변 철새도래지\\n전라남도 해남군',\n",
       " '구례산수유마을\\n전라남도 구례군',\n",
       " '가거도(소흑산도)\\n전라남도 신안군',\n",
       " '백아산자연휴양림\\n전라남도 화순군',\n",
       " '가마골계곡\\n전라남도 담양군',\n",
       " '장성 축령산 편백숲 (장성 치유의 숲)\\n전라남도 장성군',\n",
       " '달마산\\n전라남도 해남군',\n",
       " '백련사(강진)\\n전라남도 강진군',\n",
       " '심청한옥마을\\n전라남도 곡성군',\n",
       " '화순 서유리 공룡발자국화석 산지\\n전라남도 화순군',\n",
       " '화순고인돌군유적[유네스코세계문화유산]\\n전라남도 화순군',\n",
       " '초의선사 유적지\\n전라남도 무안군',\n",
       " '여수향일암\\n전라남도 여수시',\n",
       " '홀통유원지·홀통해변\\n전라남도 무안군',\n",
       " '월출산국립공원\\n전라남도 영암군',\n",
       " '보길도\\n전라남도 완도군',\n",
       " '지리산국립공원(지리산 노고단)\\n전라남도 구례군',\n",
       " '관매도·관매해수욕장\\n전라남도 진도군',\n",
       " '만성리검은모래해변\\n전라남도 여수시',\n",
       " '남열해돋이해수욕장\\n전라남도 고흥군',\n",
       " '발포해수욕장\\n전라남도 고흥군',\n",
       " '완도수목원\\n전라남도 완도군',\n",
       " '대전해수욕장\\n전라남도 고흥군',\n",
       " '보성녹차밭\\n전라남도 보성군',\n",
       " '담양리조트 온천\\n전라남도 담양군',\n",
       " '다도해해상국립공원(고흥)\\n전라남도 고흥군',\n",
       " '우이도 돈목해수욕장\\n전라남도 신안군',\n",
       " '비금 원평/하누넘해수욕장\\n전라남도 신안군',\n",
       " '암태도\\n전라남도 신안군',\n",
       " '자은 분계해수욕장\\n전라남도 신안군',\n",
       " '지도\\n전라남도 신안군',\n",
       " '장성호관광지\\n전라남도 장성군',\n",
       " '한국차문화공원(대한다원)\\n전라남도 보성군',\n",
       " '금릉경포대\\n전라남도 강진군',\n",
       " '월출산온천\\n전라남도 영암군',\n",
       " '압록유원지\\n전라남도 곡성군',\n",
       " '오동도\\n전라남도 여수시',\n",
       " '영취산(여수)\\n전라남도 여수시',\n",
       " '대나무골 테마공원\\n전라남도 담양군',\n",
       " '도곡원네스 리조트\\n전라남도 화순군',\n",
       " '화엄사\\n전라남도 구례군',\n",
       " '익금해수욕장\\n전라남도 고흥군',\n",
       " '거금도\\n전라남도 고흥군',\n",
       " '죽녹원\\n전라남도 담양군',\n",
       " '보해매실농원\\n전라남도 해남군',\n",
       " '보성 벌교 홍교\\n전라남도 보성군',\n",
       " '돌산공원\\n전라남도 여수시',\n",
       " '모사금해수욕장\\n전라남도 여수시',\n",
       " '송석마을\\n전라남도 무안군',\n",
       " '섬진강기차마을\\n전라남도 곡성군',\n",
       " '신리어촌체험마을\\n전라남도 장흥군',\n",
       " '외달도\\n전라남도 목포시',\n",
       " '함평 자연생태공원\\n전라남도 함평군',\n",
       " '법성포\\n전라남도 영광군',\n",
       " '무안 식영정\\n전라남도 무안군',\n",
       " '구례 운조루 고택\\n전라남도 구례군',\n",
       " '마량미항(마량항)\\n전라남도 강진군',\n",
       " '물염적벽\\n전라남도 화순군',\n",
       " '관방제림\\n전라남도 담양군',\n",
       " '담양 식영정\\n전라남도 담양군',\n",
       " '담양 창평 삼지내마을[슬로시티]\\n전라남도 담양군',\n",
       " '흑산도 해상관광유람선\\n전라남도 신안군',\n",
       " '한국대나무박물관\\n전라남도 담양군',\n",
       " '용추폭포계곡\\n전라남도 보성군',\n",
       " '보성 비봉리 공룡알화석 산지\\n전라남도 보성군',\n",
       " '망끝전망대\\n전라남도 완도군',\n",
       " '신지동고해수욕장\\n전라남도 완도군',\n",
       " '송지 대죽리 조개잡이 체험장\\n전라남도 해남군',\n",
       " '농업기술센터 자연생태학습장\\n전라남도 구례군',\n",
       " '금오도\\n전라남도 여수시',\n",
       " '화순 수만리들국화마을\\n전라남도 화순군',\n",
       " '용천사(함평)\\n전라남도 함평군',\n",
       " '무안황토갯벌랜드(구 무안생태갯벌센터)\\n전라남도 무안군',\n",
       " '섬진강어류생태관\\n전라남도 구례군',\n",
       " '남포미술관\\n전라남도 고흥군',\n",
       " '한국천연염색박물관\\n전라남도 나주시',\n",
       " '함평엑스포공원\\n전라남도 함평군',\n",
       " '국립남도국악원\\n전라남도 진도군',\n",
       " '땅끝해양자연사박물관\\n전라남도 해남군',\n",
       " '한국가사문학관\\n전라남도 담양군',\n",
       " '전라남도 농업박물관\\n전라남도 영암군',\n",
       " '보성군립백민미술관\\n전라남도 보성군',\n",
       " '성륜사(곡성)\\n전라남도 곡성군',\n",
       " '염포해수욕장\\n전라남도 고흥군',\n",
       " '노화도\\n전라남도 완도군',\n",
       " '신지명사십리해수욕장\\n전라남도 완도군',\n",
       " '할미꽃 한재공원\\n전라남도 장흥군',\n",
       " '탐진강 생태습지원\\n전라남도 장흥군',\n",
       " '안마도\\n전라남도 영광군',\n",
       " '송이도\\n전라남도 영광군',\n",
       " '죽화경\\n전라남도 담양군',\n",
       " '청매실농원\\n전라남도 광양시',\n",
       " '목포근대역사관 2관\\n전라남도 목포시',\n",
       " '국립나주박물관\\n전라남도 나주시',\n",
       " '백수해안도로\\n전라남도 영광군',\n",
       " '순천시립 뿌리깊은나무 박물관\\n전라남도 순천시',\n",
       " '보길도 세연정\\n전라남도 완도군',\n",
       " '담양대나무숲(담양습지)\\n전라남도 담양군',\n",
       " '목포갓바위&해상보행교\\n전라남도 목포시',\n",
       " '불갑사 관광지\\n전라남도 영광군',\n",
       " '불갑저수지 수변공원\\n전라남도 영광군',\n",
       " '담양 송강정\\n전라남도 담양군',\n",
       " '장흥동학농민혁명기념관\\n전라남도 장흥군',\n",
       " '거금생태숲\\n전라남도 고흥군',\n",
       " '하늘빛수목원\\n전라남도 장흥군',\n",
       " '가우도\\n전라남도 강진군',\n",
       " '동악산 (곡성)\\n전라남도 곡성군',\n",
       " '가마골생태공원\\n전라남도 담양군',\n",
       " '여수해양레일바이크\\n전라남도 여수시',\n",
       " '이훈동 정원\\n전라남도 목포시',\n",
       " '김대중 노벨평화상기념관\\n전라남도 목포시',\n",
       " '세량지\\n전라남도 화순군',\n",
       " '율포해수욕장관광지(해수풀장)\\n전라남도 보성군',\n",
       " '마복산 목재문화체험장\\n전라남도 고흥군',\n",
       " '고흥우주천문과학관\\n전라남도 고흥군',\n",
       " '북한 반잠수정 전시관\\n전라남도 여수시',\n",
       " '완도 해산물장터\\n전라남도 완도군',\n",
       " '담양 명옥헌 원림\\n전라남도 담양군',\n",
       " '중흥 골드스파&리조트 워터락\\n전라남도 나주시',\n",
       " '엑스포해양공원\\n전라남도 여수시',\n",
       " '완도 청해포구촬영장\\n전라남도 완도군',\n",
       " '정남진편백숲우드랜드\\n전라남도 장흥군',\n",
       " '정남진천문과학관\\n전라남도 장흥군',\n",
       " '소등섬\\n전라남도 장흥군',\n",
       " '정남진 전망대\\n전라남도 장흥군',\n",
       " '이순신공원(여수)\\n전라남도 여수시',\n",
       " '우항리공룡박물관\\n전라남도 해남군',\n",
       " '덕양사\\n전라남도 곡성군',\n",
       " '메타세쿼이아가로수길\\n전라남도 담양군',\n",
       " '하화도\\n전라남도 여수시',\n",
       " '낭도\\n전라남도 여수시',\n",
       " '느랭이골 자연 리조트\\n전라남도 광양시',\n",
       " '해남 해바라기농장\\n전라남도 해남군',\n",
       " '목포근대역사관1관\\n전라남도 목포시',\n",
       " '목포해상케이블카\\n전라남도 목포시',\n",
       " '고흥분청문화박물관\\n전라남도 고흥군',\n",
       " '보성율포해수녹차센터\\n전라남도 보성군',\n",
       " '춤추는 바다분수\\n전라남도 목포시',\n",
       " '여자만(시티투어,갯벌체험)\\n전라남도 여수시',\n",
       " '완도모노레일\\n전라남도 완도군',\n",
       " '야생화테마랜드\\n전라남도 구례군',\n",
       " '정남진물과학관\\n전라남도 장흥군',\n",
       " '고산윤선도유적지\\n전라남도 해남군',\n",
       " '무안 도요지\\n전라남도 무안군',\n",
       " '태평염전해양힐링스파\\n전라남도 신안군',\n",
       " '메타프로방스\\n전라남도 담양군',\n",
       " '사의재저잣거리\\n전라남도 강진군',\n",
       " '㈜여수예술랜드\\n전라남도 여수시',\n",
       " '곡성 메타세쿼이아길\\n전라남도 곡성군',\n",
       " '목포서산동보리마당&시화마을\\n전라남도 목포시',\n",
       " '적벽 (무등산권 국가지질공원)\\n전라남도 화순군',\n",
       " '광양 윤동주 유고보존 정병욱 가옥\\n전라남도 광양시',\n",
       " '다도해해상국립공원(팔영산지구)\\n전라남도 고흥군',\n",
       " '보은산\\n전라남도 강진군',\n",
       " '만재도\\n전라남도 신안군',\n",
       " '반월도·박지도\\n전라남도 신안군',\n",
       " '자은도\\n전라남도 신안군',\n",
       " '낙월도\\n전라남도 영광군',\n",
       " '소안도\\n전라남도 완도군',\n",
       " '임자도\\n전라남도 신안군',\n",
       " '전남신안증도[슬로시티]\\n전라남도 신안군',\n",
       " '조도(조도6군도)\\n전라남도 진도군',\n",
       " '순천전통야생차체험관\\n전라남도 순천시',\n",
       " '소설태백산맥문학관\\n전라남도 보성군',\n",
       " '주작산자연휴양림\\n전라남도 강진군',\n",
       " '완도타워\\n전라남도 완도군',\n",
       " '장보고기념관\\n전라남도 완도군',\n",
       " '창평슬로시티\\n전라남도 담양군',\n",
       " '스파리조트 안단테\\n전라남도 장흥군',\n",
       " '디오션리조트 워터파크\\n전라남도 여수시',\n",
       " '지죽도\\n전라남도 고흥군',\n",
       " '연홍도\\n전라남도 고흥군',\n",
       " '오시아노관광단지(캠핑장)\\n전라남도 해남군',\n",
       " '선학동마을\\n전라남도 장흥군',\n",
       " '정남진(장흥)\\n전라남도 장흥군',\n",
       " '월출산 기찬랜드\\n전라남도 영암군',\n",
       " '면앙정\\n전라남도 담양군',\n",
       " '부춘정원림\\n전라남도 장흥군']"
      ]
     },
     "execution_count": 220,
     "metadata": {},
     "output_type": "execute_result"
    }
   ],
   "source": [
    "item_list13"
   ]
  },
  {
   "cell_type": "code",
   "execution_count": 181,
   "id": "fc7499ab",
   "metadata": {
    "collapsed": true
   },
   "outputs": [
    {
     "data": {
      "application/vnd.jupyter.widget-view+json": {
       "model_id": "6ca6cd9c525341b4970e13d2bc04a282",
       "version_major": 2,
       "version_minor": 0
      },
      "text/plain": [
       "  0%|          | 0/10 [00:00<?, ?it/s]"
      ]
     },
     "metadata": {},
     "output_type": "display_data"
    },
    {
     "data": {
      "application/vnd.jupyter.widget-view+json": {
       "model_id": "5065395f93454fd8acab78f7e3a4811c",
       "version_major": 2,
       "version_minor": 0
      },
      "text/plain": [
       "  0%|          | 0/10 [00:00<?, ?it/s]"
      ]
     },
     "metadata": {},
     "output_type": "display_data"
    },
    {
     "data": {
      "application/vnd.jupyter.widget-view+json": {
       "model_id": "2a399919ae0a437db5c5b2140b1b4af3",
       "version_major": 2,
       "version_minor": 0
      },
      "text/plain": [
       "  0%|          | 0/10 [00:00<?, ?it/s]"
      ]
     },
     "metadata": {},
     "output_type": "display_data"
    },
    {
     "data": {
      "application/vnd.jupyter.widget-view+json": {
       "model_id": "16e572413b3e4dc8b2582ad03cdfb1fe",
       "version_major": 2,
       "version_minor": 0
      },
      "text/plain": [
       "  0%|          | 0/10 [00:00<?, ?it/s]"
      ]
     },
     "metadata": {},
     "output_type": "display_data"
    },
    {
     "data": {
      "application/vnd.jupyter.widget-view+json": {
       "model_id": "a59c5fc650c34051ac9eac7047561e60",
       "version_major": 2,
       "version_minor": 0
      },
      "text/plain": [
       "  0%|          | 0/10 [00:00<?, ?it/s]"
      ]
     },
     "metadata": {},
     "output_type": "display_data"
    },
    {
     "data": {
      "application/vnd.jupyter.widget-view+json": {
       "model_id": "93020aa805e24b499ad3d6571c824fac",
       "version_major": 2,
       "version_minor": 0
      },
      "text/plain": [
       "  0%|          | 0/10 [00:00<?, ?it/s]"
      ]
     },
     "metadata": {},
     "output_type": "display_data"
    },
    {
     "data": {
      "application/vnd.jupyter.widget-view+json": {
       "model_id": "705bf9d24cbd4c438df49618368f7fcd",
       "version_major": 2,
       "version_minor": 0
      },
      "text/plain": [
       "  0%|          | 0/10 [00:00<?, ?it/s]"
      ]
     },
     "metadata": {},
     "output_type": "display_data"
    },
    {
     "data": {
      "application/vnd.jupyter.widget-view+json": {
       "model_id": "d71f1367dfc24741a451fa6b107282cf",
       "version_major": 2,
       "version_minor": 0
      },
      "text/plain": [
       "  0%|          | 0/10 [00:00<?, ?it/s]"
      ]
     },
     "metadata": {},
     "output_type": "display_data"
    },
    {
     "data": {
      "application/vnd.jupyter.widget-view+json": {
       "model_id": "0a28c9118fa94b88a07c561024c171ef",
       "version_major": 2,
       "version_minor": 0
      },
      "text/plain": [
       "  0%|          | 0/10 [00:00<?, ?it/s]"
      ]
     },
     "metadata": {},
     "output_type": "display_data"
    },
    {
     "data": {
      "application/vnd.jupyter.widget-view+json": {
       "model_id": "6bfec1eedde7478d88c1d2155f6db286",
       "version_major": 2,
       "version_minor": 0
      },
      "text/plain": [
       "  0%|          | 0/10 [00:00<?, ?it/s]"
      ]
     },
     "metadata": {},
     "output_type": "display_data"
    },
    {
     "name": "stdout",
     "output_type": "stream",
     "text": [
      "끝\n"
     ]
    }
   ],
   "source": [
    "#경북\n",
    "item_list14=[]\n",
    "for j in range(1,11):\n",
    "    for i in tqdm(range(1,11)):\n",
    "        xpath='//*[@id=\"tabCon2\"]/ul/li['+str(i)+']/div[1]'\n",
    "        item_list14.append(driver.find_element(By.XPATH, xpath).text)\n",
    "    xpath='//*[@id=\"tabCon2\"]/div[2]/a['+str(j+3)+']'\n",
    "    driver.find_element(By.XPATH, xpath).click()\n",
    "    time.sleep(1)\n",
    "print('끝')"
   ]
  },
  {
   "cell_type": "code",
   "execution_count": 182,
   "id": "2699efc8",
   "metadata": {
    "collapsed": true
   },
   "outputs": [
    {
     "data": {
      "application/vnd.jupyter.widget-view+json": {
       "model_id": "8c592c0ebdae45d99e2b0bdf3549d31c",
       "version_major": 2,
       "version_minor": 0
      },
      "text/plain": [
       "  0%|          | 0/10 [00:00<?, ?it/s]"
      ]
     },
     "metadata": {},
     "output_type": "display_data"
    },
    {
     "data": {
      "application/vnd.jupyter.widget-view+json": {
       "model_id": "5cc4165da0ee4589a33de2869e8a603a",
       "version_major": 2,
       "version_minor": 0
      },
      "text/plain": [
       "  0%|          | 0/10 [00:00<?, ?it/s]"
      ]
     },
     "metadata": {},
     "output_type": "display_data"
    },
    {
     "data": {
      "application/vnd.jupyter.widget-view+json": {
       "model_id": "a84ce3ba41b94b3dbb0e4254cbec9098",
       "version_major": 2,
       "version_minor": 0
      },
      "text/plain": [
       "  0%|          | 0/10 [00:00<?, ?it/s]"
      ]
     },
     "metadata": {},
     "output_type": "display_data"
    },
    {
     "data": {
      "application/vnd.jupyter.widget-view+json": {
       "model_id": "1fcf06f456db4187b88707a8db97d542",
       "version_major": 2,
       "version_minor": 0
      },
      "text/plain": [
       "  0%|          | 0/10 [00:00<?, ?it/s]"
      ]
     },
     "metadata": {},
     "output_type": "display_data"
    },
    {
     "data": {
      "application/vnd.jupyter.widget-view+json": {
       "model_id": "49545890336246759664c296cd5dd27d",
       "version_major": 2,
       "version_minor": 0
      },
      "text/plain": [
       "  0%|          | 0/10 [00:00<?, ?it/s]"
      ]
     },
     "metadata": {},
     "output_type": "display_data"
    },
    {
     "data": {
      "application/vnd.jupyter.widget-view+json": {
       "model_id": "7c11e55116e445bc84aae1dddb483e4e",
       "version_major": 2,
       "version_minor": 0
      },
      "text/plain": [
       "  0%|          | 0/10 [00:00<?, ?it/s]"
      ]
     },
     "metadata": {},
     "output_type": "display_data"
    },
    {
     "data": {
      "application/vnd.jupyter.widget-view+json": {
       "model_id": "9011df080acc49b98efa316214ba7c53",
       "version_major": 2,
       "version_minor": 0
      },
      "text/plain": [
       "  0%|          | 0/10 [00:00<?, ?it/s]"
      ]
     },
     "metadata": {},
     "output_type": "display_data"
    },
    {
     "data": {
      "application/vnd.jupyter.widget-view+json": {
       "model_id": "69c7ea690dde483687dc1e43fe6cfd73",
       "version_major": 2,
       "version_minor": 0
      },
      "text/plain": [
       "  0%|          | 0/10 [00:00<?, ?it/s]"
      ]
     },
     "metadata": {},
     "output_type": "display_data"
    },
    {
     "data": {
      "application/vnd.jupyter.widget-view+json": {
       "model_id": "94ceba78fb804217aec2f74aa3393610",
       "version_major": 2,
       "version_minor": 0
      },
      "text/plain": [
       "  0%|          | 0/10 [00:00<?, ?it/s]"
      ]
     },
     "metadata": {},
     "output_type": "display_data"
    },
    {
     "data": {
      "application/vnd.jupyter.widget-view+json": {
       "model_id": "05493a4477cc455bb184ea5a98f238ac",
       "version_major": 2,
       "version_minor": 0
      },
      "text/plain": [
       "  0%|          | 0/10 [00:00<?, ?it/s]"
      ]
     },
     "metadata": {},
     "output_type": "display_data"
    },
    {
     "name": "stdout",
     "output_type": "stream",
     "text": [
      "끝\n"
     ]
    }
   ],
   "source": [
    "for j in range(1,11):\n",
    "    for i in tqdm(range(1,11)):\n",
    "        xpath='//*[@id=\"tabCon2\"]/ul/li['+str(i)+']/div[1]'\n",
    "        item_list14.append(driver.find_element(By.XPATH, xpath).text)\n",
    "    xpath='//*[@id=\"tabCon2\"]/div[2]/a['+str(j+3)+']'\n",
    "    driver.find_element(By.XPATH, xpath).click()\n",
    "    time.sleep(1)\n",
    "print('끝')"
   ]
  },
  {
   "cell_type": "code",
   "execution_count": 183,
   "id": "53c351a5",
   "metadata": {
    "collapsed": true
   },
   "outputs": [
    {
     "data": {
      "application/vnd.jupyter.widget-view+json": {
       "model_id": "404c7cc010484ebcbacbd3b998f84eb2",
       "version_major": 2,
       "version_minor": 0
      },
      "text/plain": [
       "  0%|          | 0/10 [00:00<?, ?it/s]"
      ]
     },
     "metadata": {},
     "output_type": "display_data"
    },
    {
     "data": {
      "application/vnd.jupyter.widget-view+json": {
       "model_id": "2510aa72153c4682897cef880dd8fe46",
       "version_major": 2,
       "version_minor": 0
      },
      "text/plain": [
       "  0%|          | 0/10 [00:00<?, ?it/s]"
      ]
     },
     "metadata": {},
     "output_type": "display_data"
    },
    {
     "data": {
      "application/vnd.jupyter.widget-view+json": {
       "model_id": "65e6ab769dcd480a83fb1d3b96429a7f",
       "version_major": 2,
       "version_minor": 0
      },
      "text/plain": [
       "  0%|          | 0/10 [00:00<?, ?it/s]"
      ]
     },
     "metadata": {},
     "output_type": "display_data"
    },
    {
     "data": {
      "application/vnd.jupyter.widget-view+json": {
       "model_id": "13e3030bad74456faa6ecebed4d93718",
       "version_major": 2,
       "version_minor": 0
      },
      "text/plain": [
       "  0%|          | 0/10 [00:00<?, ?it/s]"
      ]
     },
     "metadata": {},
     "output_type": "display_data"
    },
    {
     "ename": "NoSuchElementException",
     "evalue": "Message: no such element: Unable to locate element: {\"method\":\"xpath\",\"selector\":\"//*[@id=\"tabCon2\"]/ul/li[2]/div[1]\"}\n  (Session info: chrome=111.0.5563.65)\nStacktrace:\nBacktrace:\n\t(No symbol) [0x0051DCE3]\n\t(No symbol) [0x004B39D1]\n\t(No symbol) [0x003C4DA8]\n\t(No symbol) [0x003F019F]\n\t(No symbol) [0x003F03AB]\n\t(No symbol) [0x0041EE62]\n\t(No symbol) [0x0040AF14]\n\t(No symbol) [0x0041D57C]\n\t(No symbol) [0x0040ACC6]\n\t(No symbol) [0x003E6F68]\n\t(No symbol) [0x003E80CD]\n\tGetHandleVerifier [0x00793832+2506274]\n\tGetHandleVerifier [0x007C9794+2727300]\n\tGetHandleVerifier [0x007CE36C+2746716]\n\tGetHandleVerifier [0x005C6690+617600]\n\t(No symbol) [0x004BC712]\n\t(No symbol) [0x004C1FF8]\n\t(No symbol) [0x004C20DB]\n\t(No symbol) [0x004CC63B]\n\tBaseThreadInitThunk [0x75887D69+25]\n\tRtlInitializeExceptionChain [0x773CB74B+107]\n\tRtlClearBits [0x773CB6CF+191]\n",
     "output_type": "error",
     "traceback": [
      "\u001b[1;31m---------------------------------------------------------------------------\u001b[0m",
      "\u001b[1;31mNoSuchElementException\u001b[0m                    Traceback (most recent call last)",
      "\u001b[1;32m~\\AppData\\Local\\Temp\\ipykernel_19340\\1246029863.py\u001b[0m in \u001b[0;36m<module>\u001b[1;34m\u001b[0m\n\u001b[0;32m      2\u001b[0m     \u001b[1;32mfor\u001b[0m \u001b[0mi\u001b[0m \u001b[1;32min\u001b[0m \u001b[0mtqdm\u001b[0m\u001b[1;33m(\u001b[0m\u001b[0mrange\u001b[0m\u001b[1;33m(\u001b[0m\u001b[1;36m1\u001b[0m\u001b[1;33m,\u001b[0m\u001b[1;36m11\u001b[0m\u001b[1;33m)\u001b[0m\u001b[1;33m)\u001b[0m\u001b[1;33m:\u001b[0m\u001b[1;33m\u001b[0m\u001b[1;33m\u001b[0m\u001b[0m\n\u001b[0;32m      3\u001b[0m         \u001b[0mxpath\u001b[0m\u001b[1;33m=\u001b[0m\u001b[1;34m'//*[@id=\"tabCon2\"]/ul/li['\u001b[0m\u001b[1;33m+\u001b[0m\u001b[0mstr\u001b[0m\u001b[1;33m(\u001b[0m\u001b[0mi\u001b[0m\u001b[1;33m)\u001b[0m\u001b[1;33m+\u001b[0m\u001b[1;34m']/div[1]'\u001b[0m\u001b[1;33m\u001b[0m\u001b[1;33m\u001b[0m\u001b[0m\n\u001b[1;32m----> 4\u001b[1;33m         \u001b[0mitem_list14\u001b[0m\u001b[1;33m.\u001b[0m\u001b[0mappend\u001b[0m\u001b[1;33m(\u001b[0m\u001b[0mdriver\u001b[0m\u001b[1;33m.\u001b[0m\u001b[0mfind_element\u001b[0m\u001b[1;33m(\u001b[0m\u001b[0mBy\u001b[0m\u001b[1;33m.\u001b[0m\u001b[0mXPATH\u001b[0m\u001b[1;33m,\u001b[0m \u001b[0mxpath\u001b[0m\u001b[1;33m)\u001b[0m\u001b[1;33m.\u001b[0m\u001b[0mtext\u001b[0m\u001b[1;33m)\u001b[0m\u001b[1;33m\u001b[0m\u001b[1;33m\u001b[0m\u001b[0m\n\u001b[0m\u001b[0;32m      5\u001b[0m     \u001b[0mxpath\u001b[0m\u001b[1;33m=\u001b[0m\u001b[1;34m'//*[@id=\"tabCon2\"]/div[2]/a['\u001b[0m\u001b[1;33m+\u001b[0m\u001b[0mstr\u001b[0m\u001b[1;33m(\u001b[0m\u001b[0mj\u001b[0m\u001b[1;33m+\u001b[0m\u001b[1;36m3\u001b[0m\u001b[1;33m)\u001b[0m\u001b[1;33m+\u001b[0m\u001b[1;34m']'\u001b[0m\u001b[1;33m\u001b[0m\u001b[1;33m\u001b[0m\u001b[0m\n\u001b[0;32m      6\u001b[0m     \u001b[0mdriver\u001b[0m\u001b[1;33m.\u001b[0m\u001b[0mfind_element\u001b[0m\u001b[1;33m(\u001b[0m\u001b[0mBy\u001b[0m\u001b[1;33m.\u001b[0m\u001b[0mXPATH\u001b[0m\u001b[1;33m,\u001b[0m \u001b[0mxpath\u001b[0m\u001b[1;33m)\u001b[0m\u001b[1;33m.\u001b[0m\u001b[0mclick\u001b[0m\u001b[1;33m(\u001b[0m\u001b[1;33m)\u001b[0m\u001b[1;33m\u001b[0m\u001b[1;33m\u001b[0m\u001b[0m\n",
      "\u001b[1;32m~\\AppData\\Roaming\\Python\\Python39\\site-packages\\selenium\\webdriver\\remote\\webdriver.py\u001b[0m in \u001b[0;36mfind_element\u001b[1;34m(self, by, value)\u001b[0m\n\u001b[0;32m    828\u001b[0m             \u001b[0mvalue\u001b[0m \u001b[1;33m=\u001b[0m \u001b[1;34mf'[name=\"{value}\"]'\u001b[0m\u001b[1;33m\u001b[0m\u001b[1;33m\u001b[0m\u001b[0m\n\u001b[0;32m    829\u001b[0m \u001b[1;33m\u001b[0m\u001b[0m\n\u001b[1;32m--> 830\u001b[1;33m         \u001b[1;32mreturn\u001b[0m \u001b[0mself\u001b[0m\u001b[1;33m.\u001b[0m\u001b[0mexecute\u001b[0m\u001b[1;33m(\u001b[0m\u001b[0mCommand\u001b[0m\u001b[1;33m.\u001b[0m\u001b[0mFIND_ELEMENT\u001b[0m\u001b[1;33m,\u001b[0m \u001b[1;33m{\u001b[0m\u001b[1;34m\"using\"\u001b[0m\u001b[1;33m:\u001b[0m \u001b[0mby\u001b[0m\u001b[1;33m,\u001b[0m \u001b[1;34m\"value\"\u001b[0m\u001b[1;33m:\u001b[0m \u001b[0mvalue\u001b[0m\u001b[1;33m}\u001b[0m\u001b[1;33m)\u001b[0m\u001b[1;33m[\u001b[0m\u001b[1;34m\"value\"\u001b[0m\u001b[1;33m]\u001b[0m\u001b[1;33m\u001b[0m\u001b[1;33m\u001b[0m\u001b[0m\n\u001b[0m\u001b[0;32m    831\u001b[0m \u001b[1;33m\u001b[0m\u001b[0m\n\u001b[0;32m    832\u001b[0m     \u001b[1;32mdef\u001b[0m \u001b[0mfind_elements\u001b[0m\u001b[1;33m(\u001b[0m\u001b[0mself\u001b[0m\u001b[1;33m,\u001b[0m \u001b[0mby\u001b[0m\u001b[1;33m=\u001b[0m\u001b[0mBy\u001b[0m\u001b[1;33m.\u001b[0m\u001b[0mID\u001b[0m\u001b[1;33m,\u001b[0m \u001b[0mvalue\u001b[0m\u001b[1;33m:\u001b[0m \u001b[0mOptional\u001b[0m\u001b[1;33m[\u001b[0m\u001b[0mstr\u001b[0m\u001b[1;33m]\u001b[0m \u001b[1;33m=\u001b[0m \u001b[1;32mNone\u001b[0m\u001b[1;33m)\u001b[0m \u001b[1;33m->\u001b[0m \u001b[0mList\u001b[0m\u001b[1;33m[\u001b[0m\u001b[0mWebElement\u001b[0m\u001b[1;33m]\u001b[0m\u001b[1;33m:\u001b[0m\u001b[1;33m\u001b[0m\u001b[1;33m\u001b[0m\u001b[0m\n",
      "\u001b[1;32m~\\AppData\\Roaming\\Python\\Python39\\site-packages\\selenium\\webdriver\\remote\\webdriver.py\u001b[0m in \u001b[0;36mexecute\u001b[1;34m(self, driver_command, params)\u001b[0m\n\u001b[0;32m    438\u001b[0m         \u001b[0mresponse\u001b[0m \u001b[1;33m=\u001b[0m \u001b[0mself\u001b[0m\u001b[1;33m.\u001b[0m\u001b[0mcommand_executor\u001b[0m\u001b[1;33m.\u001b[0m\u001b[0mexecute\u001b[0m\u001b[1;33m(\u001b[0m\u001b[0mdriver_command\u001b[0m\u001b[1;33m,\u001b[0m \u001b[0mparams\u001b[0m\u001b[1;33m)\u001b[0m\u001b[1;33m\u001b[0m\u001b[1;33m\u001b[0m\u001b[0m\n\u001b[0;32m    439\u001b[0m         \u001b[1;32mif\u001b[0m \u001b[0mresponse\u001b[0m\u001b[1;33m:\u001b[0m\u001b[1;33m\u001b[0m\u001b[1;33m\u001b[0m\u001b[0m\n\u001b[1;32m--> 440\u001b[1;33m             \u001b[0mself\u001b[0m\u001b[1;33m.\u001b[0m\u001b[0merror_handler\u001b[0m\u001b[1;33m.\u001b[0m\u001b[0mcheck_response\u001b[0m\u001b[1;33m(\u001b[0m\u001b[0mresponse\u001b[0m\u001b[1;33m)\u001b[0m\u001b[1;33m\u001b[0m\u001b[1;33m\u001b[0m\u001b[0m\n\u001b[0m\u001b[0;32m    441\u001b[0m             \u001b[0mresponse\u001b[0m\u001b[1;33m[\u001b[0m\u001b[1;34m\"value\"\u001b[0m\u001b[1;33m]\u001b[0m \u001b[1;33m=\u001b[0m \u001b[0mself\u001b[0m\u001b[1;33m.\u001b[0m\u001b[0m_unwrap_value\u001b[0m\u001b[1;33m(\u001b[0m\u001b[0mresponse\u001b[0m\u001b[1;33m.\u001b[0m\u001b[0mget\u001b[0m\u001b[1;33m(\u001b[0m\u001b[1;34m\"value\"\u001b[0m\u001b[1;33m,\u001b[0m \u001b[1;32mNone\u001b[0m\u001b[1;33m)\u001b[0m\u001b[1;33m)\u001b[0m\u001b[1;33m\u001b[0m\u001b[1;33m\u001b[0m\u001b[0m\n\u001b[0;32m    442\u001b[0m             \u001b[1;32mreturn\u001b[0m \u001b[0mresponse\u001b[0m\u001b[1;33m\u001b[0m\u001b[1;33m\u001b[0m\u001b[0m\n",
      "\u001b[1;32m~\\AppData\\Roaming\\Python\\Python39\\site-packages\\selenium\\webdriver\\remote\\errorhandler.py\u001b[0m in \u001b[0;36mcheck_response\u001b[1;34m(self, response)\u001b[0m\n\u001b[0;32m    243\u001b[0m                 \u001b[0malert_text\u001b[0m \u001b[1;33m=\u001b[0m \u001b[0mvalue\u001b[0m\u001b[1;33m[\u001b[0m\u001b[1;34m\"alert\"\u001b[0m\u001b[1;33m]\u001b[0m\u001b[1;33m.\u001b[0m\u001b[0mget\u001b[0m\u001b[1;33m(\u001b[0m\u001b[1;34m\"text\"\u001b[0m\u001b[1;33m)\u001b[0m\u001b[1;33m\u001b[0m\u001b[1;33m\u001b[0m\u001b[0m\n\u001b[0;32m    244\u001b[0m             \u001b[1;32mraise\u001b[0m \u001b[0mexception_class\u001b[0m\u001b[1;33m(\u001b[0m\u001b[0mmessage\u001b[0m\u001b[1;33m,\u001b[0m \u001b[0mscreen\u001b[0m\u001b[1;33m,\u001b[0m \u001b[0mstacktrace\u001b[0m\u001b[1;33m,\u001b[0m \u001b[0malert_text\u001b[0m\u001b[1;33m)\u001b[0m  \u001b[1;31m# type: ignore[call-arg]  # mypy is not smart enough here\u001b[0m\u001b[1;33m\u001b[0m\u001b[1;33m\u001b[0m\u001b[0m\n\u001b[1;32m--> 245\u001b[1;33m         \u001b[1;32mraise\u001b[0m \u001b[0mexception_class\u001b[0m\u001b[1;33m(\u001b[0m\u001b[0mmessage\u001b[0m\u001b[1;33m,\u001b[0m \u001b[0mscreen\u001b[0m\u001b[1;33m,\u001b[0m \u001b[0mstacktrace\u001b[0m\u001b[1;33m)\u001b[0m\u001b[1;33m\u001b[0m\u001b[1;33m\u001b[0m\u001b[0m\n\u001b[0m",
      "\u001b[1;31mNoSuchElementException\u001b[0m: Message: no such element: Unable to locate element: {\"method\":\"xpath\",\"selector\":\"//*[@id=\"tabCon2\"]/ul/li[2]/div[1]\"}\n  (Session info: chrome=111.0.5563.65)\nStacktrace:\nBacktrace:\n\t(No symbol) [0x0051DCE3]\n\t(No symbol) [0x004B39D1]\n\t(No symbol) [0x003C4DA8]\n\t(No symbol) [0x003F019F]\n\t(No symbol) [0x003F03AB]\n\t(No symbol) [0x0041EE62]\n\t(No symbol) [0x0040AF14]\n\t(No symbol) [0x0041D57C]\n\t(No symbol) [0x0040ACC6]\n\t(No symbol) [0x003E6F68]\n\t(No symbol) [0x003E80CD]\n\tGetHandleVerifier [0x00793832+2506274]\n\tGetHandleVerifier [0x007C9794+2727300]\n\tGetHandleVerifier [0x007CE36C+2746716]\n\tGetHandleVerifier [0x005C6690+617600]\n\t(No symbol) [0x004BC712]\n\t(No symbol) [0x004C1FF8]\n\t(No symbol) [0x004C20DB]\n\t(No symbol) [0x004CC63B]\n\tBaseThreadInitThunk [0x75887D69+25]\n\tRtlInitializeExceptionChain [0x773CB74B+107]\n\tRtlClearBits [0x773CB6CF+191]\n"
     ]
    }
   ],
   "source": [
    "for j in range(1,5):\n",
    "    for i in tqdm(range(1,11)):\n",
    "        xpath='//*[@id=\"tabCon2\"]/ul/li['+str(i)+']/div[1]'\n",
    "        item_list14.append(driver.find_element(By.XPATH, xpath).text)\n",
    "    xpath='//*[@id=\"tabCon2\"]/div[2]/a['+str(j+3)+']'\n",
    "    driver.find_element(By.XPATH, xpath).click()\n",
    "    time.sleep(1)\n",
    "print('끝')"
   ]
  },
  {
   "cell_type": "code",
   "execution_count": 221,
   "id": "52e99158",
   "metadata": {},
   "outputs": [
    {
     "data": {
      "text/plain": [
       "231"
      ]
     },
     "execution_count": 221,
     "metadata": {},
     "output_type": "execute_result"
    }
   ],
   "source": [
    "len(item_list14)"
   ]
  },
  {
   "cell_type": "code",
   "execution_count": 222,
   "id": "aa16b193",
   "metadata": {},
   "outputs": [
    {
     "data": {
      "text/plain": [
       "['청량산도립공원\\n경상북도 봉화군',\n",
       " '주왕산국립공원\\n경상북도 청송군',\n",
       " '문경새재도립공원\\n경상북도 문경시',\n",
       " '금오산도립공원\\n경상북도 구미시',\n",
       " '국립 통고산자연휴양림\\n경상북도 울진군',\n",
       " '불정자연휴양림\\n경상북도 문경시',\n",
       " '부용대\\n경상북도 안동시',\n",
       " '청도한옥학교\\n경상북도 청도군',\n",
       " '석포전망대\\n경상북도 울릉군',\n",
       " '대가야역사테마관광지\\n경상북도 고령군',\n",
       " '대진해수욕장\\n경상북도 영덕군',\n",
       " '고래불해수욕장\\n경상북도 영덕군',\n",
       " '울릉도\\n경상북도 울릉군',\n",
       " '망양정해수욕장\\n경상북도 울진군',\n",
       " '봉평해수욕장\\n경상북도 울진군',\n",
       " '장사해수욕장\\n경상북도 영덕군',\n",
       " '봉길대왕암해변\\n경상북도 경주시',\n",
       " '화진해수욕장\\n경상북도 포항시 북구',\n",
       " '죽계구곡\\n경상북도 영주시',\n",
       " '가야산국립공원(백운동 지구)\\n경상북도 성주군',\n",
       " '고령 대가야유적지\\n경상북도 고령군',\n",
       " '청량사(봉화)\\n경상북도 봉화군',\n",
       " '기림사\\n경상북도 경주시',\n",
       " '경주불국사[유네스코세계문화유산]\\n경상북도 경주시',\n",
       " '도리사(구미)\\n경상북도 구미시',\n",
       " '직지사\\n경상북도 김천시',\n",
       " '삼사해상공원\\n경상북도 영덕군',\n",
       " '덕구온천스파월드\\n경상북도 울진군',\n",
       " '성류굴(경북동해안국가지질공원)\\n경상북도 울진군',\n",
       " '독도\\n경상북도 울릉군',\n",
       " '주산지(청송국가지질공원)\\n경상북도 청송군',\n",
       " '경주문무대왕릉\\n경상북도 경주시',\n",
       " '경주석굴암[유네스코세계문화유산]\\n경상북도 경주시',\n",
       " '경주 오릉\\n경상북도 경주시',\n",
       " '경주 선덕여왕릉\\n경상북도 경주시',\n",
       " '경주 무열왕릉, 태종무열왕릉비\\n경상북도 경주시',\n",
       " '경주 포석정지\\n경상북도 경주시',\n",
       " '경주첨성대\\n경상북도 경주시',\n",
       " '경주 김유신묘\\n경상북도 경주시',\n",
       " '칠곡가산산성및가산바위\\n경상북도 칠곡군',\n",
       " '회룡포\\n경상북도 예천군',\n",
       " '박정희 대통령 생가\\n경상북도 구미시',\n",
       " '의성 탑산약수온천\\n경상북도 의성군',\n",
       " '후정해수욕장\\n경상북도 울진군',\n",
       " '영일만온천\\n경상북도 포항시 남구',\n",
       " '속리산국립공원(경북)\\n경상북도 상주시',\n",
       " '청도용암웰빙스파\\n경상북도 청도군',\n",
       " '경주보문관광단지\\n경상북도 경주시',\n",
       " '경주민속공예촌\\n경상북도 경주시',\n",
       " '경주월드어뮤즈먼트\\n경상북도 경주시',\n",
       " '국립운문산자연휴양림\\n경상북도 청도군',\n",
       " '오보 해수욕장\\n경상북도 영덕군',\n",
       " '하저해수욕장\\n경상북도 영덕군',\n",
       " '남호해수욕장\\n경상북도 영덕군',\n",
       " '달실마을\\n경상북도 봉화군',\n",
       " '대가천계곡(무흘구곡)\\n경상북도 성주군',\n",
       " '성주댐(성주호)\\n경상북도 성주군',\n",
       " '만불사(영천)\\n경상북도 영천시',\n",
       " '돌할매(영천)\\n경상북도 영천시',\n",
       " '국립 검마산자연휴양림\\n경상북도 영양군',\n",
       " '비슬리조트관광농원군불로\\n경상북도 청도군',\n",
       " '경주세계문화엑스포공원\\n경상북도 경주시',\n",
       " '군위장곡자연휴양림\\n경상북도 군위군',\n",
       " '옥계계곡\\n경상북도 영덕군',\n",
       " '경상북도수목원\\n경상북도 포항시 북구',\n",
       " '상주동학교당\\n경상북도 상주시',\n",
       " '안동민속촌과 안동호\\n경상북도 안동시',\n",
       " '지례예술촌\\n경상북도 안동시',\n",
       " '구룡포해수욕장\\n경상북도 포항시 남구',\n",
       " '예천온천\\n경상북도 예천군',\n",
       " '독용산성\\n경상북도 성주군',\n",
       " '성주 한개마을\\n경상북도 성주군',\n",
       " '국립 칠보산자연휴양림\\n경상북도 영덕군',\n",
       " '영덕해맞이공원\\n경상북도 영덕군',\n",
       " '영일대해수욕장\\n경상북도 포항시 북구',\n",
       " '학가산자연휴양림\\n경상북도 예천군',\n",
       " '골굴사(경주)\\n경상북도 경주시',\n",
       " '소백산국립공원(경북)\\n경상북도 영주시',\n",
       " '부석사[유네스코세계문화유산]\\n경상북도 영주시',\n",
       " '황성공원\\n경상북도 경주시',\n",
       " '예천천문우주센터\\n경상북도 예천군',\n",
       " '경산임당동과조영동고분군\\n경상북도 경산시',\n",
       " '구수곡자연휴양림\\n경상북도 울진군',\n",
       " '불굴사(경산)\\n경상북도 경산시',\n",
       " '고령 지산동 고분군\\n경상북도 고령군',\n",
       " '영덕 부경온천\\n경상북도 영덕군',\n",
       " '도산온천\\n경상북도 안동시',\n",
       " '포항온천\\n경상북도 포항시 북구',\n",
       " '불영사(울진)\\n경상북도 울진군',\n",
       " '경주양동마을[유네스코세계문화유산]\\n경상북도 경주시',\n",
       " '감포항\\n경상북도 경주시',\n",
       " '경주 감은사지\\n경상북도 경주시',\n",
       " '통일전(경주)\\n경상북도 경주시',\n",
       " '안동임청각\\n경상북도 안동시',\n",
       " '농암종택\\n경상북도 안동시',\n",
       " '안동 군자마을(오천유적지)\\n경상북도 안동시',\n",
       " '경주동궁과월지\\n경상북도 경주시',\n",
       " '개실마을\\n경상북도 고령군',\n",
       " '옥산 세심마을\\n경상북도 경주시',\n",
       " '안동 온뜨레피움\\n경상북도 안동시',\n",
       " '후포해수욕장\\n경상북도 울진군',\n",
       " '덕천해수욕장\\n경상북도 영덕군',\n",
       " '나리분지\\n경상북도 울릉군',\n",
       " '도동항\\n경상북도 울릉군',\n",
       " '영호루\\n경상북도 안동시',\n",
       " '영덕조각공원\\n경상북도 영덕군',\n",
       " '경주 남산\\n경상북도 경주시',\n",
       " '경주 신문왕릉\\n경상북도 경주시',\n",
       " '전촌솔밭해변\\n경상북도 경주시',\n",
       " '나정고운모래해변\\n경상북도 경주시',\n",
       " '안동 하회촌\\n경상북도 안동시',\n",
       " '서벽 금강소나무 숲 (서벽 문화재용 목재생산림)\\n경상북도 봉화군',\n",
       " '울진 금강소나무 숲길\\n경상북도 울진군',\n",
       " '울릉도 등대(태하등대)\\n경상북도 울릉군',\n",
       " '도동등대(행남등대)\\n경상북도 울릉군',\n",
       " '호미곶 등대\\n경상북도 포항시 남구',\n",
       " '오류고아라해변\\n경상북도 경주시',\n",
       " '삼정해수욕장\\n경상북도 포항시 남구',\n",
       " '방호정 감입곡류천 (청송 국가지질공원)\\n경상북도 청송군',\n",
       " '묵계서원 및 안동김씨 묵계종택\\n경상북도 안동시',\n",
       " '상주자전거박물관\\n경상북도 상주시',\n",
       " '대가야박물관\\n경상북도 고령군',\n",
       " '나곡해수욕장\\n경상북도 울진군',\n",
       " '예천권씨종가별당·예천권씨종택\\n경상북도 예천군',\n",
       " '응봉산(울진)\\n경상북도 울진군',\n",
       " '문경 오미자체험마을\\n경상북도 문경시',\n",
       " '고모산성\\n경상북도 문경시',\n",
       " '선비촌\\n경상북도 영주시',\n",
       " '청송솔기온천\\n경상북도 청송군',\n",
       " '청송얼음골(청송국가지질공원)\\n경상북도 청송군',\n",
       " '경정해수욕장\\n경상북도 영덕군',\n",
       " '성주경산리성밖숲\\n경상북도 성주군',\n",
       " '저동항\\n경상북도 울릉군',\n",
       " '경주대릉원일원\\n경상북도 경주시',\n",
       " '풍기인삼시장\\n경상북도 영주시',\n",
       " '포항죽도시장\\n경상북도 포항시 북구',\n",
       " '영덕어촌민속전시관\\n경상북도 영덕군',\n",
       " '민물고기생태체험관\\n경상북도 울진군',\n",
       " '유교문화박물관\\n경상북도 안동시',\n",
       " '경상북도 산림과학박물관\\n경상북도 안동시',\n",
       " '거북바위 및 향나무 자생지 (울릉도, 독도 국가지질공원)\\n경상북도 울릉군',\n",
       " '관성솔밭해변\\n경상북도 경주시',\n",
       " '경주 성덕왕릉\\n경상북도 경주시',\n",
       " '경주 흥덕왕릉\\n경상북도 경주시',\n",
       " '경주 진덕여왕릉\\n경상북도 경주시',\n",
       " '경주 법흥왕릉\\n경상북도 경주시',\n",
       " '충의당\\n경상북도 경주시',\n",
       " '경주 경덕왕릉\\n경상북도 경주시',\n",
       " '체화정\\n경상북도 안동시',\n",
       " '도구해수욕장\\n경상북도 포항시 남구',\n",
       " '국립낙동강생물자원관(상주)\\n경상북도 상주시',\n",
       " '보현산(영천)\\n경상북도 영천시',\n",
       " '울릉예림원\\n경상북도 울릉군',\n",
       " '의성마늘장터 (의성명품마늘영농조합법인)\\n경상북도 의성군',\n",
       " '경주 마우나오션 관광단지\\n경상북도 경주시',\n",
       " '빙계서원\\n경상북도 의성군',\n",
       " '백암온천관광특구\\n경상북도 울진군',\n",
       " '내수전몽돌해변\\n경상북도 울릉군',\n",
       " '해뜨는농장\\n경상북도 청송군',\n",
       " '운주산승마자연휴양림\\n경상북도 영천시',\n",
       " '산내들패밀리어드벤처파크\\n경상북도 김천시',\n",
       " '구미에코랜드\\n경상북도 구미시',\n",
       " '국립산림치유원\\n경상북도 영주시',\n",
       " '안동호반자연휴양림\\n경상북도 안동시',\n",
       " '포항시립미술관\\n경상북도 포항시 북구',\n",
       " '수도산자연휴양림\\n경상북도 김천시',\n",
       " '칠곡호국평화기념관\\n경상북도 칠곡군',\n",
       " '명활산성\\n경상북도 경주시',\n",
       " '울진 후포항\\n경상북도 울진군',\n",
       " '죽변항\\n경상북도 울진군',\n",
       " '경주 양남 주상절리 전망대\\n경상북도 경주시',\n",
       " '안동계명산자연휴양림\\n경상북도 안동시',\n",
       " '국립칠곡숲체원\\n경상북도 칠곡군',\n",
       " '백석탄 포트홀 (청송 국가지질공원)\\n경상북도 청송군',\n",
       " '국립영천호국원\\n경상북도 영천시',\n",
       " '견훤산성\\n경상북도 상주시',\n",
       " '성주봉자연휴양림\\n경상북도 상주시',\n",
       " '고령 신촌숲\\n경상북도 고령군',\n",
       " '울진엑스포공원\\n경상북도 울진군',\n",
       " '퇴계종택\\n경상북도 안동시',\n",
       " '원생대 변성암 (경북 동해안 국가지질공원)\\n경상북도 영덕군',\n",
       " '왕피천 (경북 동해안 국가지질공원)\\n경상북도 울진군',\n",
       " '양남 주상절리군 (경북 동해안 국가지질공원)\\n경상북도 경주시',\n",
       " '달전리 주상절리 (경북 동해안 국가지질공원)\\n경상북도 포항시 남구',\n",
       " '내연산 12폭포 (경북 동해안 국가지질공원)\\n경상북도 포항시 북구',\n",
       " '안동시장 찜닭골목\\n경상북도 안동시',\n",
       " '구룡포항\\n경상북도 포항시 남구',\n",
       " '문경 도자기박물관\\n경상북도 문경시',\n",
       " '영천전투메모리얼파크\\n경상북도 영천시',\n",
       " '문장대\\n경상북도 상주시',\n",
       " '청도와인터널\\n경상북도 청도군',\n",
       " '황리단길\\n경상북도 경주시',\n",
       " '반딧불이천문대\\n경상북도 영양군',\n",
       " '죽암 몽돌해안 (울릉도, 독도 국가지질공원)\\n경상북도 울릉군',\n",
       " '금강송에코리움\\n경상북도 울진군',\n",
       " '영덕 해안도로 드라이브\\n경상북도 영덕군',\n",
       " '저동해안산책로 (울릉도, 독도 국가지질공원)\\n경상북도 울릉군',\n",
       " '알봉 (울릉도, 독도 국가지질공원)\\n경상북도 울릉군',\n",
       " '도동 해안산책로 (울릉도, 독도 국가지질공원)\\n경상북도 울릉군',\n",
       " '호미곶해안단구\\n경상북도 포항시 남구',\n",
       " '제석사(경산)\\n경상북도 경산시',\n",
       " '금봉자연휴양림\\n경상북도 의성군',\n",
       " '연미사(안동)\\n경상북도 안동시',\n",
       " '압곡사(군위)\\n경상북도 군위군',\n",
       " '경주 일성왕릉\\n경상북도 경주시',\n",
       " '송림사(칠곡)\\n경상북도 칠곡군',\n",
       " '성혈사(영주)\\n경상북도 영주시',\n",
       " '선석사(경북)\\n경상북도 성주군',\n",
       " '분황사\\n경상북도 경주시',\n",
       " '대둔사(구미)\\n경상북도 구미시',\n",
       " '태하향목 관광모노레일\\n경상북도 울릉군',\n",
       " '문경새재 자연생태공원\\n경상북도 문경시',\n",
       " '시안미술관\\n경상북도 영천시',\n",
       " '사일온천\\n경상북도 영천시',\n",
       " '수리뫼 [한국전통음식체험교육원]\\n경상북도 경주시',\n",
       " '영천 별빛마을\\n경상북도 영천시',\n",
       " '직지문화공원\\n경상북도 김천시',\n",
       " '영양 두들마을\\n경상북도 영양군',\n",
       " '지림사(봉화)\\n경상북도 봉화군',\n",
       " '죽림사(영천)\\n경상북도 영천시',\n",
       " '월영교\\n경상북도 안동시',\n",
       " '문경 구 가은역\\n경상북도 문경시',\n",
       " '영덕대게거리\\n경상북도 영덕군',\n",
       " '영주무섬마을\\n경상북도 영주시',\n",
       " '안동하회마을[유네스코세계문화유산]\\n경상북도 안동시',\n",
       " '하선대\\n경상북도 포항시 남구',\n",
       " '경상북도독립운동기념관\\n경상북도 안동시',\n",
       " '의성금성산고분군\\n경상북도 의성군',\n",
       " '의성 산운생태공원\\n경상북도 의성군',\n",
       " '의성 경덕왕릉\\n경상북도 의성군',\n",
       " '강구항\\n경상북도 영덕군']"
      ]
     },
     "execution_count": 222,
     "metadata": {},
     "output_type": "execute_result"
    }
   ],
   "source": [
    "item_list14"
   ]
  },
  {
   "cell_type": "code",
   "execution_count": 186,
   "id": "08452310",
   "metadata": {
    "collapsed": true
   },
   "outputs": [
    {
     "data": {
      "application/vnd.jupyter.widget-view+json": {
       "model_id": "426f28b231e3409786c2fd6532128044",
       "version_major": 2,
       "version_minor": 0
      },
      "text/plain": [
       "  0%|          | 0/10 [00:00<?, ?it/s]"
      ]
     },
     "metadata": {},
     "output_type": "display_data"
    },
    {
     "data": {
      "application/vnd.jupyter.widget-view+json": {
       "model_id": "0c101b813fb74485a1d5c9c33aa7d155",
       "version_major": 2,
       "version_minor": 0
      },
      "text/plain": [
       "  0%|          | 0/10 [00:00<?, ?it/s]"
      ]
     },
     "metadata": {},
     "output_type": "display_data"
    },
    {
     "data": {
      "application/vnd.jupyter.widget-view+json": {
       "model_id": "0eea3265f3724187a68b9516b6844386",
       "version_major": 2,
       "version_minor": 0
      },
      "text/plain": [
       "  0%|          | 0/10 [00:00<?, ?it/s]"
      ]
     },
     "metadata": {},
     "output_type": "display_data"
    },
    {
     "data": {
      "application/vnd.jupyter.widget-view+json": {
       "model_id": "c75cc5abd11c4efe9942fc3c2c98bb92",
       "version_major": 2,
       "version_minor": 0
      },
      "text/plain": [
       "  0%|          | 0/10 [00:00<?, ?it/s]"
      ]
     },
     "metadata": {},
     "output_type": "display_data"
    },
    {
     "data": {
      "application/vnd.jupyter.widget-view+json": {
       "model_id": "75423974e4f64d9f82c435b035b2930b",
       "version_major": 2,
       "version_minor": 0
      },
      "text/plain": [
       "  0%|          | 0/10 [00:00<?, ?it/s]"
      ]
     },
     "metadata": {},
     "output_type": "display_data"
    },
    {
     "data": {
      "application/vnd.jupyter.widget-view+json": {
       "model_id": "47f25f4b2c3e4f99bfd0679b8cb29cb5",
       "version_major": 2,
       "version_minor": 0
      },
      "text/plain": [
       "  0%|          | 0/10 [00:00<?, ?it/s]"
      ]
     },
     "metadata": {},
     "output_type": "display_data"
    },
    {
     "data": {
      "application/vnd.jupyter.widget-view+json": {
       "model_id": "6b973bdd6f2a4687bde6edd8c727f05e",
       "version_major": 2,
       "version_minor": 0
      },
      "text/plain": [
       "  0%|          | 0/10 [00:00<?, ?it/s]"
      ]
     },
     "metadata": {},
     "output_type": "display_data"
    },
    {
     "data": {
      "application/vnd.jupyter.widget-view+json": {
       "model_id": "d0ca5aa48bf24ac293dddfa38de73a08",
       "version_major": 2,
       "version_minor": 0
      },
      "text/plain": [
       "  0%|          | 0/10 [00:00<?, ?it/s]"
      ]
     },
     "metadata": {},
     "output_type": "display_data"
    },
    {
     "data": {
      "application/vnd.jupyter.widget-view+json": {
       "model_id": "6f14c68eb449420b85b2d3fb5546426d",
       "version_major": 2,
       "version_minor": 0
      },
      "text/plain": [
       "  0%|          | 0/10 [00:00<?, ?it/s]"
      ]
     },
     "metadata": {},
     "output_type": "display_data"
    },
    {
     "data": {
      "application/vnd.jupyter.widget-view+json": {
       "model_id": "ceee816ab11b452594abb29265276748",
       "version_major": 2,
       "version_minor": 0
      },
      "text/plain": [
       "  0%|          | 0/10 [00:00<?, ?it/s]"
      ]
     },
     "metadata": {},
     "output_type": "display_data"
    },
    {
     "name": "stdout",
     "output_type": "stream",
     "text": [
      "끝\n"
     ]
    }
   ],
   "source": [
    "#경남\n",
    "item_list15=[]\n",
    "for j in range(1,11):\n",
    "    for i in tqdm(range(1,11)):\n",
    "        xpath='//*[@id=\"tabCon2\"]/ul/li['+str(i)+']/div[1]'\n",
    "        item_list15.append(driver.find_element(By.XPATH, xpath).text)\n",
    "    xpath='//*[@id=\"tabCon2\"]/div[2]/a['+str(j+3)+']'\n",
    "    driver.find_element(By.XPATH, xpath).click()\n",
    "    time.sleep(1)\n",
    "print('끝')"
   ]
  },
  {
   "cell_type": "code",
   "execution_count": 187,
   "id": "64a65f63",
   "metadata": {
    "collapsed": true
   },
   "outputs": [
    {
     "data": {
      "application/vnd.jupyter.widget-view+json": {
       "model_id": "084f762485bf4e04a257b21a1a046eed",
       "version_major": 2,
       "version_minor": 0
      },
      "text/plain": [
       "  0%|          | 0/10 [00:00<?, ?it/s]"
      ]
     },
     "metadata": {},
     "output_type": "display_data"
    },
    {
     "data": {
      "application/vnd.jupyter.widget-view+json": {
       "model_id": "f9caecfe3ed14e45a6ec5469f58e417d",
       "version_major": 2,
       "version_minor": 0
      },
      "text/plain": [
       "  0%|          | 0/10 [00:00<?, ?it/s]"
      ]
     },
     "metadata": {},
     "output_type": "display_data"
    },
    {
     "data": {
      "application/vnd.jupyter.widget-view+json": {
       "model_id": "832535d19a5a49d1a83652049d1430f7",
       "version_major": 2,
       "version_minor": 0
      },
      "text/plain": [
       "  0%|          | 0/10 [00:00<?, ?it/s]"
      ]
     },
     "metadata": {},
     "output_type": "display_data"
    },
    {
     "data": {
      "application/vnd.jupyter.widget-view+json": {
       "model_id": "420ba883aa644e69b4a1d2b6c7a4f3a8",
       "version_major": 2,
       "version_minor": 0
      },
      "text/plain": [
       "  0%|          | 0/10 [00:00<?, ?it/s]"
      ]
     },
     "metadata": {},
     "output_type": "display_data"
    },
    {
     "data": {
      "application/vnd.jupyter.widget-view+json": {
       "model_id": "f76ff0835f09431aa97f7aee7b6e25a2",
       "version_major": 2,
       "version_minor": 0
      },
      "text/plain": [
       "  0%|          | 0/10 [00:00<?, ?it/s]"
      ]
     },
     "metadata": {},
     "output_type": "display_data"
    },
    {
     "data": {
      "application/vnd.jupyter.widget-view+json": {
       "model_id": "7fcd98baa14a416ba65706c8e7bf44d3",
       "version_major": 2,
       "version_minor": 0
      },
      "text/plain": [
       "  0%|          | 0/10 [00:00<?, ?it/s]"
      ]
     },
     "metadata": {},
     "output_type": "display_data"
    },
    {
     "data": {
      "application/vnd.jupyter.widget-view+json": {
       "model_id": "01261e1b379d4482aafa597f05c56b10",
       "version_major": 2,
       "version_minor": 0
      },
      "text/plain": [
       "  0%|          | 0/10 [00:00<?, ?it/s]"
      ]
     },
     "metadata": {},
     "output_type": "display_data"
    },
    {
     "data": {
      "application/vnd.jupyter.widget-view+json": {
       "model_id": "74bb8cfe63534030a338f03c9a5797a3",
       "version_major": 2,
       "version_minor": 0
      },
      "text/plain": [
       "  0%|          | 0/10 [00:00<?, ?it/s]"
      ]
     },
     "metadata": {},
     "output_type": "display_data"
    },
    {
     "data": {
      "application/vnd.jupyter.widget-view+json": {
       "model_id": "3f8fd618482c4dffb88f9703a86c915e",
       "version_major": 2,
       "version_minor": 0
      },
      "text/plain": [
       "  0%|          | 0/10 [00:00<?, ?it/s]"
      ]
     },
     "metadata": {},
     "output_type": "display_data"
    },
    {
     "data": {
      "application/vnd.jupyter.widget-view+json": {
       "model_id": "1dc372cf1df949a2a3659f77256416df",
       "version_major": 2,
       "version_minor": 0
      },
      "text/plain": [
       "  0%|          | 0/10 [00:00<?, ?it/s]"
      ]
     },
     "metadata": {},
     "output_type": "display_data"
    },
    {
     "name": "stdout",
     "output_type": "stream",
     "text": [
      "끝\n"
     ]
    }
   ],
   "source": [
    "for j in range(1,11):\n",
    "    for i in tqdm(range(1,11)):\n",
    "        xpath='//*[@id=\"tabCon2\"]/ul/li['+str(i)+']/div[1]'\n",
    "        item_list15.append(driver.find_element(By.XPATH, xpath).text)\n",
    "    xpath='//*[@id=\"tabCon2\"]/div[2]/a['+str(j+3)+']'\n",
    "    driver.find_element(By.XPATH, xpath).click()\n",
    "    time.sleep(1)\n",
    "print('끝')"
   ]
  },
  {
   "cell_type": "code",
   "execution_count": 188,
   "id": "1d66ea2b",
   "metadata": {
    "collapsed": true
   },
   "outputs": [
    {
     "data": {
      "application/vnd.jupyter.widget-view+json": {
       "model_id": "fa08d97702fb4fbcbb66154e9f6b1fba",
       "version_major": 2,
       "version_minor": 0
      },
      "text/plain": [
       "  0%|          | 0/10 [00:00<?, ?it/s]"
      ]
     },
     "metadata": {},
     "output_type": "display_data"
    },
    {
     "data": {
      "application/vnd.jupyter.widget-view+json": {
       "model_id": "ff44717ba5f143c098a1c96c5acc3739",
       "version_major": 2,
       "version_minor": 0
      },
      "text/plain": [
       "  0%|          | 0/10 [00:00<?, ?it/s]"
      ]
     },
     "metadata": {},
     "output_type": "display_data"
    },
    {
     "data": {
      "application/vnd.jupyter.widget-view+json": {
       "model_id": "ccfac0d0d6c14f5d94ef0f7d2bf8647d",
       "version_major": 2,
       "version_minor": 0
      },
      "text/plain": [
       "  0%|          | 0/10 [00:00<?, ?it/s]"
      ]
     },
     "metadata": {},
     "output_type": "display_data"
    },
    {
     "data": {
      "application/vnd.jupyter.widget-view+json": {
       "model_id": "43db4dbfe3a949798064b0698b15ab27",
       "version_major": 2,
       "version_minor": 0
      },
      "text/plain": [
       "  0%|          | 0/10 [00:00<?, ?it/s]"
      ]
     },
     "metadata": {},
     "output_type": "display_data"
    },
    {
     "data": {
      "application/vnd.jupyter.widget-view+json": {
       "model_id": "c68c1fe9e0ed413089c2a341d09977fb",
       "version_major": 2,
       "version_minor": 0
      },
      "text/plain": [
       "  0%|          | 0/10 [00:00<?, ?it/s]"
      ]
     },
     "metadata": {},
     "output_type": "display_data"
    },
    {
     "data": {
      "application/vnd.jupyter.widget-view+json": {
       "model_id": "96fc628e82f24a4988f9c518e371231b",
       "version_major": 2,
       "version_minor": 0
      },
      "text/plain": [
       "  0%|          | 0/10 [00:00<?, ?it/s]"
      ]
     },
     "metadata": {},
     "output_type": "display_data"
    },
    {
     "data": {
      "application/vnd.jupyter.widget-view+json": {
       "model_id": "132b5d45a87946f2ab9de96241b3ba08",
       "version_major": 2,
       "version_minor": 0
      },
      "text/plain": [
       "  0%|          | 0/10 [00:00<?, ?it/s]"
      ]
     },
     "metadata": {},
     "output_type": "display_data"
    },
    {
     "ename": "NoSuchElementException",
     "evalue": "Message: no such element: Unable to locate element: {\"method\":\"xpath\",\"selector\":\"//*[@id=\"tabCon2\"]/ul/li[6]/div[1]\"}\n  (Session info: chrome=111.0.5563.65)\nStacktrace:\nBacktrace:\n\t(No symbol) [0x0051DCE3]\n\t(No symbol) [0x004B39D1]\n\t(No symbol) [0x003C4DA8]\n\t(No symbol) [0x003F019F]\n\t(No symbol) [0x003F03AB]\n\t(No symbol) [0x0041EE62]\n\t(No symbol) [0x0040AF14]\n\t(No symbol) [0x0041D57C]\n\t(No symbol) [0x0040ACC6]\n\t(No symbol) [0x003E6F68]\n\t(No symbol) [0x003E80CD]\n\tGetHandleVerifier [0x00793832+2506274]\n\tGetHandleVerifier [0x007C9794+2727300]\n\tGetHandleVerifier [0x007CE36C+2746716]\n\tGetHandleVerifier [0x005C6690+617600]\n\t(No symbol) [0x004BC712]\n\t(No symbol) [0x004C1FF8]\n\t(No symbol) [0x004C20DB]\n\t(No symbol) [0x004CC63B]\n\tBaseThreadInitThunk [0x75887D69+25]\n\tRtlInitializeExceptionChain [0x773CB74B+107]\n\tRtlClearBits [0x773CB6CF+191]\n",
     "output_type": "error",
     "traceback": [
      "\u001b[1;31m---------------------------------------------------------------------------\u001b[0m",
      "\u001b[1;31mNoSuchElementException\u001b[0m                    Traceback (most recent call last)",
      "\u001b[1;32m~\\AppData\\Local\\Temp\\ipykernel_19340\\1576421537.py\u001b[0m in \u001b[0;36m<module>\u001b[1;34m\u001b[0m\n\u001b[0;32m      2\u001b[0m     \u001b[1;32mfor\u001b[0m \u001b[0mi\u001b[0m \u001b[1;32min\u001b[0m \u001b[0mtqdm\u001b[0m\u001b[1;33m(\u001b[0m\u001b[0mrange\u001b[0m\u001b[1;33m(\u001b[0m\u001b[1;36m1\u001b[0m\u001b[1;33m,\u001b[0m\u001b[1;36m11\u001b[0m\u001b[1;33m)\u001b[0m\u001b[1;33m)\u001b[0m\u001b[1;33m:\u001b[0m\u001b[1;33m\u001b[0m\u001b[1;33m\u001b[0m\u001b[0m\n\u001b[0;32m      3\u001b[0m         \u001b[0mxpath\u001b[0m\u001b[1;33m=\u001b[0m\u001b[1;34m'//*[@id=\"tabCon2\"]/ul/li['\u001b[0m\u001b[1;33m+\u001b[0m\u001b[0mstr\u001b[0m\u001b[1;33m(\u001b[0m\u001b[0mi\u001b[0m\u001b[1;33m)\u001b[0m\u001b[1;33m+\u001b[0m\u001b[1;34m']/div[1]'\u001b[0m\u001b[1;33m\u001b[0m\u001b[1;33m\u001b[0m\u001b[0m\n\u001b[1;32m----> 4\u001b[1;33m         \u001b[0mitem_list15\u001b[0m\u001b[1;33m.\u001b[0m\u001b[0mappend\u001b[0m\u001b[1;33m(\u001b[0m\u001b[0mdriver\u001b[0m\u001b[1;33m.\u001b[0m\u001b[0mfind_element\u001b[0m\u001b[1;33m(\u001b[0m\u001b[0mBy\u001b[0m\u001b[1;33m.\u001b[0m\u001b[0mXPATH\u001b[0m\u001b[1;33m,\u001b[0m \u001b[0mxpath\u001b[0m\u001b[1;33m)\u001b[0m\u001b[1;33m.\u001b[0m\u001b[0mtext\u001b[0m\u001b[1;33m)\u001b[0m\u001b[1;33m\u001b[0m\u001b[1;33m\u001b[0m\u001b[0m\n\u001b[0m\u001b[0;32m      5\u001b[0m     \u001b[0mxpath\u001b[0m\u001b[1;33m=\u001b[0m\u001b[1;34m'//*[@id=\"tabCon2\"]/div[2]/a['\u001b[0m\u001b[1;33m+\u001b[0m\u001b[0mstr\u001b[0m\u001b[1;33m(\u001b[0m\u001b[0mj\u001b[0m\u001b[1;33m+\u001b[0m\u001b[1;36m3\u001b[0m\u001b[1;33m)\u001b[0m\u001b[1;33m+\u001b[0m\u001b[1;34m']'\u001b[0m\u001b[1;33m\u001b[0m\u001b[1;33m\u001b[0m\u001b[0m\n\u001b[0;32m      6\u001b[0m     \u001b[0mdriver\u001b[0m\u001b[1;33m.\u001b[0m\u001b[0mfind_element\u001b[0m\u001b[1;33m(\u001b[0m\u001b[0mBy\u001b[0m\u001b[1;33m.\u001b[0m\u001b[0mXPATH\u001b[0m\u001b[1;33m,\u001b[0m \u001b[0mxpath\u001b[0m\u001b[1;33m)\u001b[0m\u001b[1;33m.\u001b[0m\u001b[0mclick\u001b[0m\u001b[1;33m(\u001b[0m\u001b[1;33m)\u001b[0m\u001b[1;33m\u001b[0m\u001b[1;33m\u001b[0m\u001b[0m\n",
      "\u001b[1;32m~\\AppData\\Roaming\\Python\\Python39\\site-packages\\selenium\\webdriver\\remote\\webdriver.py\u001b[0m in \u001b[0;36mfind_element\u001b[1;34m(self, by, value)\u001b[0m\n\u001b[0;32m    828\u001b[0m             \u001b[0mvalue\u001b[0m \u001b[1;33m=\u001b[0m \u001b[1;34mf'[name=\"{value}\"]'\u001b[0m\u001b[1;33m\u001b[0m\u001b[1;33m\u001b[0m\u001b[0m\n\u001b[0;32m    829\u001b[0m \u001b[1;33m\u001b[0m\u001b[0m\n\u001b[1;32m--> 830\u001b[1;33m         \u001b[1;32mreturn\u001b[0m \u001b[0mself\u001b[0m\u001b[1;33m.\u001b[0m\u001b[0mexecute\u001b[0m\u001b[1;33m(\u001b[0m\u001b[0mCommand\u001b[0m\u001b[1;33m.\u001b[0m\u001b[0mFIND_ELEMENT\u001b[0m\u001b[1;33m,\u001b[0m \u001b[1;33m{\u001b[0m\u001b[1;34m\"using\"\u001b[0m\u001b[1;33m:\u001b[0m \u001b[0mby\u001b[0m\u001b[1;33m,\u001b[0m \u001b[1;34m\"value\"\u001b[0m\u001b[1;33m:\u001b[0m \u001b[0mvalue\u001b[0m\u001b[1;33m}\u001b[0m\u001b[1;33m)\u001b[0m\u001b[1;33m[\u001b[0m\u001b[1;34m\"value\"\u001b[0m\u001b[1;33m]\u001b[0m\u001b[1;33m\u001b[0m\u001b[1;33m\u001b[0m\u001b[0m\n\u001b[0m\u001b[0;32m    831\u001b[0m \u001b[1;33m\u001b[0m\u001b[0m\n\u001b[0;32m    832\u001b[0m     \u001b[1;32mdef\u001b[0m \u001b[0mfind_elements\u001b[0m\u001b[1;33m(\u001b[0m\u001b[0mself\u001b[0m\u001b[1;33m,\u001b[0m \u001b[0mby\u001b[0m\u001b[1;33m=\u001b[0m\u001b[0mBy\u001b[0m\u001b[1;33m.\u001b[0m\u001b[0mID\u001b[0m\u001b[1;33m,\u001b[0m \u001b[0mvalue\u001b[0m\u001b[1;33m:\u001b[0m \u001b[0mOptional\u001b[0m\u001b[1;33m[\u001b[0m\u001b[0mstr\u001b[0m\u001b[1;33m]\u001b[0m \u001b[1;33m=\u001b[0m \u001b[1;32mNone\u001b[0m\u001b[1;33m)\u001b[0m \u001b[1;33m->\u001b[0m \u001b[0mList\u001b[0m\u001b[1;33m[\u001b[0m\u001b[0mWebElement\u001b[0m\u001b[1;33m]\u001b[0m\u001b[1;33m:\u001b[0m\u001b[1;33m\u001b[0m\u001b[1;33m\u001b[0m\u001b[0m\n",
      "\u001b[1;32m~\\AppData\\Roaming\\Python\\Python39\\site-packages\\selenium\\webdriver\\remote\\webdriver.py\u001b[0m in \u001b[0;36mexecute\u001b[1;34m(self, driver_command, params)\u001b[0m\n\u001b[0;32m    438\u001b[0m         \u001b[0mresponse\u001b[0m \u001b[1;33m=\u001b[0m \u001b[0mself\u001b[0m\u001b[1;33m.\u001b[0m\u001b[0mcommand_executor\u001b[0m\u001b[1;33m.\u001b[0m\u001b[0mexecute\u001b[0m\u001b[1;33m(\u001b[0m\u001b[0mdriver_command\u001b[0m\u001b[1;33m,\u001b[0m \u001b[0mparams\u001b[0m\u001b[1;33m)\u001b[0m\u001b[1;33m\u001b[0m\u001b[1;33m\u001b[0m\u001b[0m\n\u001b[0;32m    439\u001b[0m         \u001b[1;32mif\u001b[0m \u001b[0mresponse\u001b[0m\u001b[1;33m:\u001b[0m\u001b[1;33m\u001b[0m\u001b[1;33m\u001b[0m\u001b[0m\n\u001b[1;32m--> 440\u001b[1;33m             \u001b[0mself\u001b[0m\u001b[1;33m.\u001b[0m\u001b[0merror_handler\u001b[0m\u001b[1;33m.\u001b[0m\u001b[0mcheck_response\u001b[0m\u001b[1;33m(\u001b[0m\u001b[0mresponse\u001b[0m\u001b[1;33m)\u001b[0m\u001b[1;33m\u001b[0m\u001b[1;33m\u001b[0m\u001b[0m\n\u001b[0m\u001b[0;32m    441\u001b[0m             \u001b[0mresponse\u001b[0m\u001b[1;33m[\u001b[0m\u001b[1;34m\"value\"\u001b[0m\u001b[1;33m]\u001b[0m \u001b[1;33m=\u001b[0m \u001b[0mself\u001b[0m\u001b[1;33m.\u001b[0m\u001b[0m_unwrap_value\u001b[0m\u001b[1;33m(\u001b[0m\u001b[0mresponse\u001b[0m\u001b[1;33m.\u001b[0m\u001b[0mget\u001b[0m\u001b[1;33m(\u001b[0m\u001b[1;34m\"value\"\u001b[0m\u001b[1;33m,\u001b[0m \u001b[1;32mNone\u001b[0m\u001b[1;33m)\u001b[0m\u001b[1;33m)\u001b[0m\u001b[1;33m\u001b[0m\u001b[1;33m\u001b[0m\u001b[0m\n\u001b[0;32m    442\u001b[0m             \u001b[1;32mreturn\u001b[0m \u001b[0mresponse\u001b[0m\u001b[1;33m\u001b[0m\u001b[1;33m\u001b[0m\u001b[0m\n",
      "\u001b[1;32m~\\AppData\\Roaming\\Python\\Python39\\site-packages\\selenium\\webdriver\\remote\\errorhandler.py\u001b[0m in \u001b[0;36mcheck_response\u001b[1;34m(self, response)\u001b[0m\n\u001b[0;32m    243\u001b[0m                 \u001b[0malert_text\u001b[0m \u001b[1;33m=\u001b[0m \u001b[0mvalue\u001b[0m\u001b[1;33m[\u001b[0m\u001b[1;34m\"alert\"\u001b[0m\u001b[1;33m]\u001b[0m\u001b[1;33m.\u001b[0m\u001b[0mget\u001b[0m\u001b[1;33m(\u001b[0m\u001b[1;34m\"text\"\u001b[0m\u001b[1;33m)\u001b[0m\u001b[1;33m\u001b[0m\u001b[1;33m\u001b[0m\u001b[0m\n\u001b[0;32m    244\u001b[0m             \u001b[1;32mraise\u001b[0m \u001b[0mexception_class\u001b[0m\u001b[1;33m(\u001b[0m\u001b[0mmessage\u001b[0m\u001b[1;33m,\u001b[0m \u001b[0mscreen\u001b[0m\u001b[1;33m,\u001b[0m \u001b[0mstacktrace\u001b[0m\u001b[1;33m,\u001b[0m \u001b[0malert_text\u001b[0m\u001b[1;33m)\u001b[0m  \u001b[1;31m# type: ignore[call-arg]  # mypy is not smart enough here\u001b[0m\u001b[1;33m\u001b[0m\u001b[1;33m\u001b[0m\u001b[0m\n\u001b[1;32m--> 245\u001b[1;33m         \u001b[1;32mraise\u001b[0m \u001b[0mexception_class\u001b[0m\u001b[1;33m(\u001b[0m\u001b[0mmessage\u001b[0m\u001b[1;33m,\u001b[0m \u001b[0mscreen\u001b[0m\u001b[1;33m,\u001b[0m \u001b[0mstacktrace\u001b[0m\u001b[1;33m)\u001b[0m\u001b[1;33m\u001b[0m\u001b[1;33m\u001b[0m\u001b[0m\n\u001b[0m",
      "\u001b[1;31mNoSuchElementException\u001b[0m: Message: no such element: Unable to locate element: {\"method\":\"xpath\",\"selector\":\"//*[@id=\"tabCon2\"]/ul/li[6]/div[1]\"}\n  (Session info: chrome=111.0.5563.65)\nStacktrace:\nBacktrace:\n\t(No symbol) [0x0051DCE3]\n\t(No symbol) [0x004B39D1]\n\t(No symbol) [0x003C4DA8]\n\t(No symbol) [0x003F019F]\n\t(No symbol) [0x003F03AB]\n\t(No symbol) [0x0041EE62]\n\t(No symbol) [0x0040AF14]\n\t(No symbol) [0x0041D57C]\n\t(No symbol) [0x0040ACC6]\n\t(No symbol) [0x003E6F68]\n\t(No symbol) [0x003E80CD]\n\tGetHandleVerifier [0x00793832+2506274]\n\tGetHandleVerifier [0x007C9794+2727300]\n\tGetHandleVerifier [0x007CE36C+2746716]\n\tGetHandleVerifier [0x005C6690+617600]\n\t(No symbol) [0x004BC712]\n\t(No symbol) [0x004C1FF8]\n\t(No symbol) [0x004C20DB]\n\t(No symbol) [0x004CC63B]\n\tBaseThreadInitThunk [0x75887D69+25]\n\tRtlInitializeExceptionChain [0x773CB74B+107]\n\tRtlClearBits [0x773CB6CF+191]\n"
     ]
    }
   ],
   "source": [
    "for j in range(1,8):\n",
    "    for i in tqdm(range(1,11)):\n",
    "        xpath='//*[@id=\"tabCon2\"]/ul/li['+str(i)+']/div[1]'\n",
    "        item_list15.append(driver.find_element(By.XPATH, xpath).text)\n",
    "    xpath='//*[@id=\"tabCon2\"]/div[2]/a['+str(j+3)+']'\n",
    "    driver.find_element(By.XPATH, xpath).click()\n",
    "    time.sleep(1)\n",
    "print('끝')"
   ]
  },
  {
   "cell_type": "code",
   "execution_count": 223,
   "id": "19a2cc70",
   "metadata": {},
   "outputs": [
    {
     "data": {
      "text/plain": [
       "265"
      ]
     },
     "execution_count": 223,
     "metadata": {},
     "output_type": "execute_result"
    }
   ],
   "source": [
    "len(item_list15)"
   ]
  },
  {
   "cell_type": "code",
   "execution_count": 224,
   "id": "36fe6baf",
   "metadata": {},
   "outputs": [
    {
     "data": {
      "text/plain": [
       "['홍류동계곡\\n경상남도 합천군',\n",
       " '밀양 얼음골\\n경상남도 밀양시',\n",
       " '달천계곡(창원)\\n경상남도 창원시 의창구',\n",
       " '호박소계곡\\n경상남도 밀양시',\n",
       " '황매산(산청)\\n경상남도 산청군',\n",
       " '화왕산군립공원\\n경상남도 창녕군',\n",
       " '지리산국립공원(하동)\\n경상남도 하동군',\n",
       " '지리산국립공원(함양)\\n경상남도 함양군',\n",
       " '연화산도립공원\\n경상남도 고성군',\n",
       " '가야산국립공원(홍류동,청량동지구)\\n경상남도 합천군',\n",
       " '제황산공원\\n경상남도 창원시 진해구',\n",
       " '장복산조각공원\\n경상남도 창원시 진해구',\n",
       " '진양호\\n경상남도 진주시',\n",
       " '합천호\\n경상남도 합천군',\n",
       " '주남저수지(철새도래지)\\n경상남도 창원시 의창구',\n",
       " '매물도\\n경상남도 통영시',\n",
       " '상주은모래비치\\n경상남도 남해군',\n",
       " '죽림해수욕장\\n경상남도 거제시',\n",
       " '진해내수면환경생태공원\\n경상남도 창원시 진해구',\n",
       " '홍룡폭포\\n경상남도 양산시',\n",
       " '정암루(솥바위)\\n경상남도 의령군',\n",
       " '김해수로왕릉\\n경상남도 김해시',\n",
       " '통도사[유네스코세계문화유산]\\n경상남도 양산시',\n",
       " '칠불사(하동)\\n경상남도 하동군',\n",
       " '다솔사(경남)\\n경상남도 사천시',\n",
       " '해인사(합천)\\n경상남도 합천군',\n",
       " '표충사(밀양)\\n경상남도 밀양시',\n",
       " '청량사(합천)\\n경상남도 합천군',\n",
       " '당항포관광지\\n경상남도 고성군',\n",
       " '기회송림\\n경상남도 밀양시',\n",
       " '명사해수욕장\\n경상남도 거제시',\n",
       " '남일대해수욕장\\n경상남도 사천시',\n",
       " '창원 성산 패총\\n경상남도 창원시 성산구',\n",
       " '하동송림\\n경상남도 하동군',\n",
       " '상족암군립공원\\n경상남도 고성군',\n",
       " '대방진굴항\\n경상남도 사천시',\n",
       " '거제도해금강\\n경상남도 거제시',\n",
       " '촉석루\\n경상남도 진주시',\n",
       " '밀양 영남루\\n경상남도 밀양시',\n",
       " '사천선진리왜성\\n경상남도 사천시',\n",
       " '미륵도 관광특구\\n경상남도 통영시',\n",
       " '미륵산(통영)\\n경상남도 통영시',\n",
       " '삼성궁\\n경상남도 하동군',\n",
       " '산청전구형왕릉\\n경상남도 산청군',\n",
       " '지리산국립공원(산청)\\n경상남도 산청군',\n",
       " '황포해수욕장\\n경상남도 거제시',\n",
       " '외도보타니아\\n경상남도 거제시',\n",
       " '농소몽돌해변\\n경상남도 거제시',\n",
       " '여차해변 (여차몽돌해수욕장)\\n경상남도 거제시',\n",
       " '와현모래숲해변\\n경상남도 거제시',\n",
       " '통도환타지아\\n경상남도 양산시',\n",
       " '망운산\\n경상남도 남해군',\n",
       " '사량도지리산\\n경상남도 통영시',\n",
       " '진주성\\n경상남도 진주시',\n",
       " '사량도\\n경상남도 통영시',\n",
       " '창녕우포늪\\n경상남도 창녕군',\n",
       " '남해유배문학관\\n경상남도 남해군',\n",
       " '황계폭포\\n경상남도 합천군',\n",
       " '두곡, 월포해수욕장\\n경상남도 남해군',\n",
       " '달아공원\\n경상남도 통영시',\n",
       " '욕지도(유동어촌체험마을)\\n경상남도 통영시',\n",
       " '추도\\n경상남도 통영시',\n",
       " '덕동해수욕장\\n경상남도 통영시',\n",
       " '봉암해수욕장\\n경상남도 통영시',\n",
       " '김해 수로왕비릉\\n경상남도 김해시',\n",
       " '미륵도\\n경상남도 통영시',\n",
       " '고성 자란만\\n경상남도 고성군',\n",
       " '거제도\\n경상남도 거제시',\n",
       " '국립 남해편백자연휴양림\\n경상남도 남해군',\n",
       " '통영 한산도 이충무공 유적\\n경상남도 통영시',\n",
       " '용문사(남해)\\n경상남도 남해군',\n",
       " '월성계곡\\n경상남도 거창군',\n",
       " '김해 봉황동 유적\\n경상남도 김해시',\n",
       " '남가람문화거리\\n경상남도 진주시',\n",
       " '청곡사(진주)\\n경상남도 진주시',\n",
       " '죽도(통영)\\n경상남도 통영시',\n",
       " '비진도\\n경상남도 통영시',\n",
       " '한산도\\n경상남도 통영시',\n",
       " '우도(통영)\\n경상남도 통영시',\n",
       " '연화도(통영)\\n경상남도 통영시',\n",
       " '배내골\\n경상남도 양산시',\n",
       " '남망산조각공원\\n경상남도 통영시',\n",
       " '마금산원탕\\n경상남도 창원시 의창구',\n",
       " '성철대종사생가(겁외사)\\n경상남도 산청군',\n",
       " '미조항\\n경상남도 남해군',\n",
       " '수도사(의령)\\n경상남도 의령군',\n",
       " '유곡천\\n경상남도 의령군',\n",
       " '안민고개\\n경상남도 창원시 진해구',\n",
       " '옥포대첩기념공원\\n경상남도 거제시',\n",
       " '거제 학동리 동백나무 숲 및 팔색조 번식지\\n경상남도 거제시',\n",
       " '백천사(사천)\\n경상남도 사천시',\n",
       " '구곡산\\n경상남도 산청군',\n",
       " '사촌해수욕장\\n경상남도 남해군',\n",
       " '가천다랭이마을\\n경상남도 남해군',\n",
       " '용추자연휴양림\\n경상남도 함양군',\n",
       " '거제자연예술랜드\\n경상남도 거제시',\n",
       " '국립 3·15 민주묘지\\n경상남도 창원시 의창구',\n",
       " '거창수승대\\n경상남도 거창군',\n",
       " '최참판댁\\n경상남도 하동군',\n",
       " '학동흑진주몽돌해변\\n경상남도 거제시',\n",
       " '금산(남해)\\n경상남도 남해군',\n",
       " '노도(김만중 유허지)\\n경상남도 남해군',\n",
       " '충렬사와 거북선\\n경상남도 남해군',\n",
       " '거제지심도\\n경상남도 거제시',\n",
       " '입곡군립공원\\n경상남도 함안군',\n",
       " '거제도해수보양온천\\n경상남도 거제시',\n",
       " '가조백두산천지온천\\n경상남도 거창군',\n",
       " '덕포해수욕장\\n경상남도 거제시',\n",
       " '거제도포로수용소유적공원\\n경상남도 거제시',\n",
       " '경상남도수목원\\n경상남도 진주시',\n",
       " '오도재와 지리산조망공원\\n경상남도 함양군',\n",
       " '도장포어촌체험마을\\n경상남도 거제시',\n",
       " '창녕 석빙고\\n경상남도 창녕군',\n",
       " '창녕 교동과 송현동 고분군\\n경상남도 창녕군',\n",
       " '남해 냉천갯벌체험장\\n경상남도 남해군',\n",
       " '창원해양공원\\n경상남도 창원시 진해구',\n",
       " '남사예담촌\\n경상남도 산청군',\n",
       " '마산오동동아구찜거리\\n경상남도 창원시 의창구',\n",
       " '해오름예술촌\\n경상남도 남해군',\n",
       " '하동쌍계사\\n경상남도 하동군',\n",
       " '부재산방\\n경상남도 창원시 의창구',\n",
       " '사명대사 생가지\\n경상남도 밀양시',\n",
       " '여좌천(벚꽃명소)\\n경상남도 창원시 진해구',\n",
       " '함안 말이산 고분군\\n경상남도 함안군',\n",
       " '창녕 신라 진흥왕 척경비\\n경상남도 창녕군',\n",
       " '진양호공원(진양호전망대,동물원)\\n경상남도 진주시',\n",
       " '강주연못\\n경상남도 진주시',\n",
       " '적석산\\n경상남도 창원시 의창구',\n",
       " '고성 송학동 고분군\\n경상남도 고성군',\n",
       " '거창 동계 종택(정온선생고택)\\n경상남도 거창군',\n",
       " '신선대전망대\\n경상남도 거제시',\n",
       " '모상개해수욕장\\n경상남도 남해군',\n",
       " '항도몽돌해수욕장과 항도방파제\\n경상남도 남해군',\n",
       " '독일마을\\n경상남도 남해군',\n",
       " '남해 물건리 방조어부림\\n경상남도 남해군',\n",
       " '설리 해수욕장\\n경상남도 남해군',\n",
       " '남해 관음포 이충무공 유적\\n경상남도 남해군',\n",
       " '바람의언덕\\n경상남도 거제시',\n",
       " '만화방초\\n경상남도 고성군',\n",
       " '서이말 등대\\n경상남도 거제시',\n",
       " '국립김해박물관\\n경상남도 김해시',\n",
       " '대성동고분박물관\\n경상남도 김해시',\n",
       " '통영항\\n경상남도 통영시',\n",
       " '창원시립마산박물관\\n경상남도 창원시 마산합포구',\n",
       " '창원의집\\n경상남도 창원시 의창구',\n",
       " '토지주택박물관\\n경상남도 진주시',\n",
       " '밀양시립박물관\\n경상남도 밀양시',\n",
       " '창원시립마산문신미술관\\n경상남도 창원시 의창구',\n",
       " '국립진주박물관\\n경상남도 진주시',\n",
       " '비진도해수욕장\\n경상남도 통영시',\n",
       " '수포대\\n경상남도 거창군',\n",
       " '거창사건추모공원\\n경상남도 거창군',\n",
       " '함양 토종약초시장 (5, 10일)\\n경상남도 함양군',\n",
       " '인사동 골동품거리\\n경상남도 진주시',\n",
       " '평사리들판\\n경상남도 하동군',\n",
       " '하동화개장터\\n경상남도 하동군',\n",
       " '고성탈박물관\\n경상남도 고성군',\n",
       " '해금강테마박물관\\n경상남도 거제시',\n",
       " '통영 옻칠미술관\\n경상남도 통영시',\n",
       " '김해클레이아크\\n경상남도 김해시',\n",
       " '천적생태과학관\\n경상남도 거창군',\n",
       " '함벽루\\n경상남도 합천군',\n",
       " '성흥사 계곡\\n경상남도 창원시 진해구',\n",
       " '경상남도과학교육원\\n경상남도 진주시',\n",
       " '선진공원\\n경상남도 사천시',\n",
       " '팔용산돌탑\\n경상남도 창원시 의창구',\n",
       " '마산어시장\\n경상남도 창원시 의창구',\n",
       " '물안해수욕장\\n경상남도 거제시',\n",
       " '김영삼 전 대통령 생가\\n경상남도 거제시',\n",
       " '거제어촌민속전시관\\n경상남도 거제시',\n",
       " '거제포로수용소유적공원\\n경상남도 거제시',\n",
       " '허굴산\\n경상남도 합천군',\n",
       " '정양늪생태공원\\n경상남도 합천군',\n",
       " '이주홍어린이문학관\\n경상남도 합천군',\n",
       " '대장경테마파크\\n경상남도 합천군',\n",
       " '창원솔라타워\\n경상남도 창원시 진해구',\n",
       " '창원과학체험관\\n경상남도 창원시 의창구',\n",
       " '삼천포용궁수산시장\\n경상남도 사천시',\n",
       " '거제맹종죽테마공원\\n경상남도 거제시',\n",
       " '거창사과테마파크\\n경상남도 거창군',\n",
       " '고현리 공룡발자국화석\\n경상남도 창원시 의창구',\n",
       " '청마문학관\\n경상남도 통영시',\n",
       " '거제 알로에테마파크\\n경상남도 거제시',\n",
       " '여차 홍포전망대\\n경상남도 거제시',\n",
       " '연대도 해수욕장\\n경상남도 통영시',\n",
       " '가고파꼬부랑길벽화마을\\n경상남도 창원시 마산합포구',\n",
       " '거제씨월드\\n경상남도 거제시',\n",
       " '박재삼 문학관\\n경상남도 사천시',\n",
       " '남해 파독전시관\\n경상남도 남해군',\n",
       " '거창 황금원숭이마을\\n경상남도 거창군',\n",
       " '김해가야테마파크\\n경상남도 김해시',\n",
       " '칠천량해전공원전시관\\n경상남도 거제시',\n",
       " '신수도\\n경상남도 사천시',\n",
       " '만지도\\n경상남도 통영시',\n",
       " '대도\\n경상남도 하동군',\n",
       " '실리도\\n경상남도 창원시 마산합포구',\n",
       " '법기수원지\\n경상남도 양산시',\n",
       " '비토섬\\n경상남도 사천시',\n",
       " '통영박경리기념관\\n경상남도 통영시',\n",
       " '하동야생차박물관\\n경상남도 하동군',\n",
       " '봉하마을\\n경상남도 김해시',\n",
       " '진영 봉하마을과 노무현 대통령 생가\\n경상남도 김해시',\n",
       " '생초국제조각공원\\n경상남도 산청군',\n",
       " '산천재 남명매\\n경상남도 산청군',\n",
       " '창녕 영산 석빙고\\n경상남도 창녕군',\n",
       " '우도\\n경상남도 창원시 진해구',\n",
       " '사천항공우주박물관\\n경상남도 사천시',\n",
       " '합천영상테마파크\\n경상남도 합천군',\n",
       " '수도박물관\\n경상남도 김해시',\n",
       " '노을이 물드는 언덕\\n경상남도 거제시',\n",
       " '섬이정원\\n경상남도 남해군',\n",
       " '트윈터널\\n경상남도 밀양시',\n",
       " '얼음골축음기소리박물관(밀양)\\n경상남도 밀양시',\n",
       " '장사도 유람선\\n경상남도 거제시',\n",
       " '양양지(위양못)\\n경상남도 밀양시',\n",
       " '상상양떼목장 편백숲\\n경상남도 남해군',\n",
       " '공곶이\\n경상남도 거제시',\n",
       " '매미성\\n경상남도 거제시',\n",
       " '삼귀해안\\n경상남도 창원시 성산구',\n",
       " '십리벚꽃길\\n경상남도 하동군',\n",
       " '통영어드벤처타워\\n경상남도 통영시',\n",
       " '마산로봇랜드\\n경상남도 창원시 마산합포구',\n",
       " '달빛쌈지공원\\n경상남도 밀양시',\n",
       " '와인갤러리\\n경상남도 사천시',\n",
       " '산청동의보감촌\\n경상남도 산청군',\n",
       " '임항선 그린웨이\\n경상남도 창원시 마산합포구',\n",
       " '김해분청도자박물관\\n경상남도 김해시',\n",
       " '진해보타닉뮤지엄\\n경상남도 창원시 진해구',\n",
       " '사천바다케이블카\\n경상남도 사천시',\n",
       " '창원 장미공원\\n경상남도 창원시 성산구',\n",
       " '장의사(고성)\\n경상남도 고성군',\n",
       " '국립 지리산자연휴양림\\n경상남도 함양군',\n",
       " '지리산생태과학관\\n경상남도 하동군',\n",
       " '에덴밸리스키장(에덴밸리리조트)\\n경상남도 양산시',\n",
       " '법흥사(남해)\\n경상남도 남해군',\n",
       " '만어사\\n경상남도 밀양시',\n",
       " '대법사\\n경상남도 밀양시',\n",
       " '마산아트센터\\n경상남도 창원시 의창구',\n",
       " '백두대간생태교육장\\n경상남도 거창군',\n",
       " '보물섬전망대,스카이워크\\n경상남도 남해군',\n",
       " '우포늪생태관\\n경상남도 창녕군',\n",
       " '통영파라스파\\n경상남도 통영시',\n",
       " '이순신공원\\n경상남도 통영시',\n",
       " '통영 명품진주전시관\\n경상남도 통영시',\n",
       " '구조라해수욕장\\n경상남도 거제시',\n",
       " '장사도\\n경상남도 통영시',\n",
       " '소매물도\\n경상남도 통영시',\n",
       " '한려수도조망케이블카\\n경상남도 통영시',\n",
       " '남해 다초지(장평지)\\n경상남도 남해군',\n",
       " '홍룡사(양산)\\n경상남도 양산시',\n",
       " '숲옛마을(갈계)\\n경상남도 거창군',\n",
       " '장승포항\\n경상남도 거제시',\n",
       " '도심다원\\n경상남도 하동군',\n",
       " '창원시립진해박물관\\n경상남도 창원시 진해구',\n",
       " '산청 한의학박물관\\n경상남도 산청군',\n",
       " '동피랑마을\\n경상남도 통영시',\n",
       " '경화역벚꽃길\\n경상남도 창원시 진해구',\n",
       " '함안채미정\\n경상남도 함안군',\n",
       " '악양루\\n경상남도 함안군',\n",
       " '주남저수지 람사르문화관\\n경상남도 창원시 의창구',\n",
       " '한려해상국립공원(한려수도)\\n경상남도 거제시',\n",
       " '농산정\\n경상남도 합천군',\n",
       " '개평한옥마을\\n경상남도 함양군',\n",
       " '함목몽돌해변\\n경상남도 거제시',\n",
       " '엄홍길전시관\\n경상남도 고성군']"
      ]
     },
     "execution_count": 224,
     "metadata": {},
     "output_type": "execute_result"
    }
   ],
   "source": [
    "item_list15"
   ]
  },
  {
   "cell_type": "code",
   "execution_count": 191,
   "id": "8065a6db",
   "metadata": {
    "collapsed": true
   },
   "outputs": [
    {
     "data": {
      "application/vnd.jupyter.widget-view+json": {
       "model_id": "c08b1b4a184d4482bcbb248b2ac56806",
       "version_major": 2,
       "version_minor": 0
      },
      "text/plain": [
       "  0%|          | 0/10 [00:00<?, ?it/s]"
      ]
     },
     "metadata": {},
     "output_type": "display_data"
    },
    {
     "data": {
      "application/vnd.jupyter.widget-view+json": {
       "model_id": "8ee2ca11df484ac6af24adb630f8ad60",
       "version_major": 2,
       "version_minor": 0
      },
      "text/plain": [
       "  0%|          | 0/10 [00:00<?, ?it/s]"
      ]
     },
     "metadata": {},
     "output_type": "display_data"
    },
    {
     "data": {
      "application/vnd.jupyter.widget-view+json": {
       "model_id": "d03d4a4208644525aef0a0a1d21288f9",
       "version_major": 2,
       "version_minor": 0
      },
      "text/plain": [
       "  0%|          | 0/10 [00:00<?, ?it/s]"
      ]
     },
     "metadata": {},
     "output_type": "display_data"
    },
    {
     "data": {
      "application/vnd.jupyter.widget-view+json": {
       "model_id": "611f6642654d41a881df0aa62a939f04",
       "version_major": 2,
       "version_minor": 0
      },
      "text/plain": [
       "  0%|          | 0/10 [00:00<?, ?it/s]"
      ]
     },
     "metadata": {},
     "output_type": "display_data"
    },
    {
     "data": {
      "application/vnd.jupyter.widget-view+json": {
       "model_id": "fd4af0603a004d58b4e3990de227de34",
       "version_major": 2,
       "version_minor": 0
      },
      "text/plain": [
       "  0%|          | 0/10 [00:00<?, ?it/s]"
      ]
     },
     "metadata": {},
     "output_type": "display_data"
    },
    {
     "data": {
      "application/vnd.jupyter.widget-view+json": {
       "model_id": "3cb9d81ef70b499db7fb5e5b74671b49",
       "version_major": 2,
       "version_minor": 0
      },
      "text/plain": [
       "  0%|          | 0/10 [00:00<?, ?it/s]"
      ]
     },
     "metadata": {},
     "output_type": "display_data"
    },
    {
     "data": {
      "application/vnd.jupyter.widget-view+json": {
       "model_id": "8232fadcc5b24fbebf822a887be25964",
       "version_major": 2,
       "version_minor": 0
      },
      "text/plain": [
       "  0%|          | 0/10 [00:00<?, ?it/s]"
      ]
     },
     "metadata": {},
     "output_type": "display_data"
    },
    {
     "data": {
      "application/vnd.jupyter.widget-view+json": {
       "model_id": "ab9f91e134aa4cc986a36e4b83615785",
       "version_major": 2,
       "version_minor": 0
      },
      "text/plain": [
       "  0%|          | 0/10 [00:00<?, ?it/s]"
      ]
     },
     "metadata": {},
     "output_type": "display_data"
    },
    {
     "data": {
      "application/vnd.jupyter.widget-view+json": {
       "model_id": "7120dfb12c304d2380b32e83917722d9",
       "version_major": 2,
       "version_minor": 0
      },
      "text/plain": [
       "  0%|          | 0/10 [00:00<?, ?it/s]"
      ]
     },
     "metadata": {},
     "output_type": "display_data"
    },
    {
     "data": {
      "application/vnd.jupyter.widget-view+json": {
       "model_id": "fc532d31911d4860b87f22549f86e41f",
       "version_major": 2,
       "version_minor": 0
      },
      "text/plain": [
       "  0%|          | 0/10 [00:00<?, ?it/s]"
      ]
     },
     "metadata": {},
     "output_type": "display_data"
    },
    {
     "name": "stdout",
     "output_type": "stream",
     "text": [
      "끝\n"
     ]
    }
   ],
   "source": [
    "#제주\n",
    "item_list16=[]\n",
    "for j in range(1,11):\n",
    "    for i in tqdm(range(1,11)):\n",
    "        xpath='//*[@id=\"tabCon2\"]/ul/li['+str(i)+']/div[1]'\n",
    "        item_list16.append(driver.find_element(By.XPATH, xpath).text)\n",
    "    xpath='//*[@id=\"tabCon2\"]/div[2]/a['+str(j+3)+']'\n",
    "    driver.find_element(By.XPATH, xpath).click()\n",
    "    time.sleep(1)\n",
    "print('끝')"
   ]
  },
  {
   "cell_type": "code",
   "execution_count": 192,
   "id": "815e9ebf",
   "metadata": {
    "collapsed": true
   },
   "outputs": [
    {
     "data": {
      "application/vnd.jupyter.widget-view+json": {
       "model_id": "5989f63a677142fbbbbdf305e618b8d4",
       "version_major": 2,
       "version_minor": 0
      },
      "text/plain": [
       "  0%|          | 0/10 [00:00<?, ?it/s]"
      ]
     },
     "metadata": {},
     "output_type": "display_data"
    },
    {
     "data": {
      "application/vnd.jupyter.widget-view+json": {
       "model_id": "c3a1a3d1142a402db8fcd86d4309d720",
       "version_major": 2,
       "version_minor": 0
      },
      "text/plain": [
       "  0%|          | 0/10 [00:00<?, ?it/s]"
      ]
     },
     "metadata": {},
     "output_type": "display_data"
    },
    {
     "data": {
      "application/vnd.jupyter.widget-view+json": {
       "model_id": "47963edab7df46009e21efa9f5b9b4c3",
       "version_major": 2,
       "version_minor": 0
      },
      "text/plain": [
       "  0%|          | 0/10 [00:00<?, ?it/s]"
      ]
     },
     "metadata": {},
     "output_type": "display_data"
    },
    {
     "data": {
      "application/vnd.jupyter.widget-view+json": {
       "model_id": "5e3ad613a3244524bdf5aff3a114befa",
       "version_major": 2,
       "version_minor": 0
      },
      "text/plain": [
       "  0%|          | 0/10 [00:00<?, ?it/s]"
      ]
     },
     "metadata": {},
     "output_type": "display_data"
    },
    {
     "data": {
      "application/vnd.jupyter.widget-view+json": {
       "model_id": "818951098bf64c3a830c333ecdd4a8b1",
       "version_major": 2,
       "version_minor": 0
      },
      "text/plain": [
       "  0%|          | 0/10 [00:00<?, ?it/s]"
      ]
     },
     "metadata": {},
     "output_type": "display_data"
    },
    {
     "data": {
      "application/vnd.jupyter.widget-view+json": {
       "model_id": "37315295d50d45878c4576e3dc2090ae",
       "version_major": 2,
       "version_minor": 0
      },
      "text/plain": [
       "  0%|          | 0/10 [00:00<?, ?it/s]"
      ]
     },
     "metadata": {},
     "output_type": "display_data"
    },
    {
     "data": {
      "application/vnd.jupyter.widget-view+json": {
       "model_id": "79605ca19fa84d6f9a763c82ca88c821",
       "version_major": 2,
       "version_minor": 0
      },
      "text/plain": [
       "  0%|          | 0/10 [00:00<?, ?it/s]"
      ]
     },
     "metadata": {},
     "output_type": "display_data"
    },
    {
     "data": {
      "application/vnd.jupyter.widget-view+json": {
       "model_id": "3f1fbee80702480688d621c09c52ad92",
       "version_major": 2,
       "version_minor": 0
      },
      "text/plain": [
       "  0%|          | 0/10 [00:00<?, ?it/s]"
      ]
     },
     "metadata": {},
     "output_type": "display_data"
    },
    {
     "data": {
      "application/vnd.jupyter.widget-view+json": {
       "model_id": "a31a71c1d30544e99d51f7f822778c80",
       "version_major": 2,
       "version_minor": 0
      },
      "text/plain": [
       "  0%|          | 0/10 [00:00<?, ?it/s]"
      ]
     },
     "metadata": {},
     "output_type": "display_data"
    },
    {
     "data": {
      "application/vnd.jupyter.widget-view+json": {
       "model_id": "ff89f980b5ee4abca3ac5b33afa9c77f",
       "version_major": 2,
       "version_minor": 0
      },
      "text/plain": [
       "  0%|          | 0/10 [00:00<?, ?it/s]"
      ]
     },
     "metadata": {},
     "output_type": "display_data"
    },
    {
     "name": "stdout",
     "output_type": "stream",
     "text": [
      "끝\n"
     ]
    }
   ],
   "source": [
    "for j in range(1,11):\n",
    "    for i in tqdm(range(1,11)):\n",
    "        xpath='//*[@id=\"tabCon2\"]/ul/li['+str(i)+']/div[1]'\n",
    "        item_list16.append(driver.find_element(By.XPATH, xpath).text)\n",
    "    xpath='//*[@id=\"tabCon2\"]/div[2]/a['+str(j+3)+']'\n",
    "    driver.find_element(By.XPATH, xpath).click()\n",
    "    time.sleep(1)\n",
    "print('끝')"
   ]
  },
  {
   "cell_type": "code",
   "execution_count": 193,
   "id": "b84acf7b",
   "metadata": {
    "collapsed": true
   },
   "outputs": [
    {
     "data": {
      "application/vnd.jupyter.widget-view+json": {
       "model_id": "a8bda53634cd49f28f8b3ba554ace448",
       "version_major": 2,
       "version_minor": 0
      },
      "text/plain": [
       "  0%|          | 0/10 [00:00<?, ?it/s]"
      ]
     },
     "metadata": {},
     "output_type": "display_data"
    },
    {
     "name": "stdout",
     "output_type": "stream",
     "text": [
      "끝\n"
     ]
    }
   ],
   "source": [
    "for j in range(1,2):\n",
    "    for i in tqdm(range(1,11)):\n",
    "        xpath='//*[@id=\"tabCon2\"]/ul/li['+str(i)+']/div[1]'\n",
    "        item_list16.append(driver.find_element(By.XPATH, xpath).text)\n",
    "    xpath='//*[@id=\"tabCon2\"]/div[2]/a['+str(j+3)+']'\n",
    "    driver.find_element(By.XPATH, xpath).click()\n",
    "    time.sleep(1)\n",
    "print('끝')"
   ]
  },
  {
   "cell_type": "code",
   "execution_count": 225,
   "id": "bb60ceef",
   "metadata": {
    "scrolled": true
   },
   "outputs": [
    {
     "data": {
      "text/plain": [
       "210"
      ]
     },
     "execution_count": 225,
     "metadata": {},
     "output_type": "execute_result"
    }
   ],
   "source": [
    "len(item_list16)"
   ]
  },
  {
   "cell_type": "code",
   "execution_count": 226,
   "id": "e7fe112f",
   "metadata": {},
   "outputs": [
    {
     "data": {
      "text/plain": [
       "['성산일출봉[유네스코세계자연유산]\\n제주특별자치도 서귀포시',\n",
       " '생각하는 정원\\n제주특별자치도 제주시',\n",
       " '세계조가비박물관\\n제주특별자치도 서귀포시',\n",
       " '사라오름\\n제주특별자치도 서귀포시',\n",
       " '제주힐링명상센터 (무병장수테마파크)\\n제주특별자치도 제주시',\n",
       " '제주도 국가지질공원\\n제주특별자치도 제주시',\n",
       " '에코랜드테마파크\\n제주특별자치도 제주시',\n",
       " '믿거나 말거나 박물관\\n제주특별자치도 서귀포시',\n",
       " '서귀포매일올레시장\\n제주특별자치도 서귀포시',\n",
       " '제주동문재래시장\\n제주특별자치도 제주시',\n",
       " '이호테우해변\\n제주특별자치도 제주시',\n",
       " '신양 섭지코지해변\\n제주특별자치도 서귀포시',\n",
       " '가파도\\n제주특별자치도 서귀포시',\n",
       " '화순 금모래 해변\\n제주특별자치도 서귀포시',\n",
       " '돈내코(원앙폭포)\\n제주특별자치도 서귀포시',\n",
       " '안덕계곡\\n제주특별자치도 서귀포시',\n",
       " '천제연폭포\\n제주특별자치도 서귀포시',\n",
       " '천지연폭포(제주도국가지질공원)\\n제주특별자치도 서귀포시',\n",
       " '정방폭포\\n제주특별자치도 서귀포시',\n",
       " '한라산 성판악\\n제주특별자치도 제주시',\n",
       " '외돌개(제주)\\n제주특별자치도 서귀포시',\n",
       " '한라산 영실\\n제주특별자치도 서귀포시',\n",
       " '퍼시픽랜드\\n제주특별자치도 서귀포시',\n",
       " '혼인지\\n제주특별자치도 서귀포시',\n",
       " '여미지식물원\\n제주특별자치도 서귀포시',\n",
       " '관덕정(제주)\\n제주특별자치도 제주시',\n",
       " '산방굴사(제주)\\n제주특별자치도 서귀포시',\n",
       " '한림공원\\n제주특별자치도 제주시',\n",
       " '만장굴(제주도국가지질공원)\\n제주특별자치도 제주시',\n",
       " '중문해수욕장\\n제주특별자치도 서귀포시',\n",
       " '제주절물자연휴양림\\n제주특별자치도 제주시',\n",
       " '우도잠수함\\n제주특별자치도 서귀포시',\n",
       " '어승생\\n제주특별자치도 제주시',\n",
       " '주상절리대(대포동지삿개)\\n제주특별자치도 서귀포시',\n",
       " '엉또폭포\\n제주특별자치도 서귀포시',\n",
       " '김녕미로공원\\n제주특별자치도 제주시',\n",
       " '서귀포잠수함\\n제주특별자치도 서귀포시',\n",
       " '산굼부리\\n제주특별자치도 제주시',\n",
       " '비자림\\n제주특별자치도 제주시',\n",
       " '성읍민속마을\\n제주특별자치도 서귀포시',\n",
       " '금능석물원\\n제주특별자치도 제주시',\n",
       " '일출랜드\\n제주특별자치도 서귀포시',\n",
       " '섭지코지\\n제주특별자치도 서귀포시',\n",
       " '제주 삼성혈\\n제주특별자치도 제주시',\n",
       " '한라산(제주도국가지질공원)\\n제주특별자치도 제주시',\n",
       " '비양도\\n제주특별자치도 제주시',\n",
       " '서귀포 김정희 유배지\\n제주특별자치도 서귀포시',\n",
       " '한라수목원\\n제주특별자치도 제주시',\n",
       " '중문관광단지(대포해안,주상절리대)\\n제주특별자치도 서귀포시',\n",
       " '협재해변\\n제주특별자치도 제주시',\n",
       " '제주산방산탄산온천\\n제주특별자치도 서귀포시',\n",
       " '제주허브동산\\n제주특별자치도 서귀포시',\n",
       " '제주 서광다원\\n제주특별자치도 서귀포시',\n",
       " '제주 센트럴파크\\n제주특별자치도 제주시',\n",
       " '제주조각공원(포레스트 판타지아)\\n제주특별자치도 서귀포시',\n",
       " '명월대\\n제주특별자치도 제주시',\n",
       " '곽지해수욕장\\n제주특별자치도 제주시',\n",
       " '추자도\\n제주특별자치도 제주시',\n",
       " '약천사(제주)\\n제주특별자치도 서귀포시',\n",
       " '산방산(제주)\\n제주특별자치도 서귀포시',\n",
       " '마라도 등대\\n제주특별자치도 서귀포시',\n",
       " '서귀포유람선 뉴파라다이스호\\n제주특별자치도 서귀포시',\n",
       " '마라도가는 여객선\\n제주특별자치도 서귀포시',\n",
       " '남원 큰엉해안\\n제주특별자치도 서귀포시',\n",
       " '형제섬\\n제주특별자치도 서귀포시',\n",
       " '북촌 돌하르방공원\\n제주특별자치도 제주시',\n",
       " '제주워터월드\\n제주특별자치도 서귀포시',\n",
       " '제주목관아\\n제주특별자치도 제주시',\n",
       " '알뜨르비행장 및 일본군 비행기 격납고\\n제주특별자치도 서귀포시',\n",
       " '제주러브랜드\\n제주특별자치도 제주시',\n",
       " '제주도민속자연사박물관\\n제주특별자치도 제주시',\n",
       " '금오름\\n제주특별자치도 제주시',\n",
       " '쌍용굴(한림공원)\\n제주특별자치도 제주시',\n",
       " '협재굴(한림공원)\\n제주특별자치도 제주시',\n",
       " '쇠소깍\\n제주특별자치도 서귀포시',\n",
       " '소정방폭포\\n제주특별자치도 서귀포시',\n",
       " '삼양 검은모래해변\\n제주특별자치도 제주시',\n",
       " '김녕성세기해변 (김녕해수욕장)\\n제주특별자치도 제주시',\n",
       " '천지연 걸매생태공원\\n제주특별자치도 서귀포시',\n",
       " '석부작박물관\\n제주특별자치도 서귀포시',\n",
       " '제주서커스월드공연장\\n제주특별자치도 서귀포시',\n",
       " '제주민속촌\\n제주특별자치도 서귀포시',\n",
       " '국립제주박물관\\n제주특별자치도 제주시',\n",
       " '초콜릿박물관\\n제주특별자치도 서귀포시',\n",
       " '테디베어뮤지엄 제주\\n제주특별자치도 서귀포시',\n",
       " '제주항일기념관\\n제주특별자치도 제주시',\n",
       " '신영영화박물관 무비스타\\n제주특별자치도 서귀포시',\n",
       " '아프리카 박물관\\n제주특별자치도 서귀포시',\n",
       " '한국야구명예전당\\n제주특별자치도 서귀포시',\n",
       " '제주교육박물관\\n제주특별자치도 제주시',\n",
       " '아부오름\\n제주특별자치도 제주시',\n",
       " '메이즈랜드\\n제주특별자치도 제주시',\n",
       " '우도(해양도립공원)\\n제주특별자치도 제주시',\n",
       " '해녀박물관\\n제주특별자치도 제주시',\n",
       " '제주돌마을공원 수석전시관\\n제주특별자치도 제주시',\n",
       " '닥종이인형박물관\\n제주특별자치도 서귀포시',\n",
       " '건강과 성 박물관(제주)\\n제주특별자치도 서귀포시',\n",
       " '김영갑갤러리(두모악)\\n제주특별자치도 서귀포시',\n",
       " '하멜상선전시관\\n제주특별자치도 서귀포시',\n",
       " '제주평화박물관\\n제주특별자치도 제주시',\n",
       " '본태박물관\\n제주특별자치도 서귀포시',\n",
       " '제주아트센터\\n제주특별자치도 제주시',\n",
       " '제주 초콜릿랜드\\n제주특별자치도 서귀포시',\n",
       " '제주 노루생태관찰원\\n제주특별자치도 제주시',\n",
       " '제주해녀항일운동기념탑\\n제주특별자치도 제주시',\n",
       " '세화해변\\n제주특별자치도 제주시',\n",
       " 'SOS박물관\\n제주특별자치도 서귀포시',\n",
       " '그리스신화박물관\\n제주특별자치도 제주시',\n",
       " '제주돌문화공원\\n제주특별자치도 제주시',\n",
       " '금호리조트제주\\n제주특별자치도 서귀포시',\n",
       " '거린사슴\\n제주특별자치도 서귀포시',\n",
       " '갯거리오름(갯그르)\\n제주특별자치도 서귀포시',\n",
       " '개오리오름\\n제주특별자치도 제주시',\n",
       " '각시바우오름\\n제주특별자치도 서귀포시',\n",
       " '가시오름\\n제주특별자치도 서귀포시',\n",
       " '가마오름\\n제주특별자치도 제주시',\n",
       " '박물관은 살아있다(제주중문점)\\n제주특별자치도 서귀포시',\n",
       " '1100고지습지\\n제주특별자치도 제주시',\n",
       " '마린파크\\n제주특별자치도 서귀포시',\n",
       " '조랑말체험공원\\n제주특별자치도 서귀포시',\n",
       " '제주4·3평화공원\\n제주특별자치도 제주시',\n",
       " '두맹이골목\\n제주특별자치도 제주시',\n",
       " '동백동산\\n제주특별자치도 제주시',\n",
       " '엉알해안\\n제주특별자치도 제주시',\n",
       " '붉은오름자연휴양림\\n제주특별자치도 서귀포시',\n",
       " '천아오름\\n제주특별자치도 제주시',\n",
       " '캐릭파크\\n제주특별자치도 제주시',\n",
       " '펀테마파크\\n제주특별자치도 제주시',\n",
       " '선흘곶자왈 (제주도 국가지질공원)\\n제주특별자치도 제주시',\n",
       " '후곡악\\n제주특별자치도 서귀포시',\n",
       " '정물오름\\n제주특별자치도 제주시',\n",
       " '열안지오름(봉개동)\\n제주특별자치도 제주시',\n",
       " '하늬복이오름\\n제주특별자치도 서귀포시',\n",
       " '걸시오름\\n제주특별자치도 제주시',\n",
       " '거슨세미(세미오름, 샘오름)\\n제주특별자치도 제주시',\n",
       " '한대오름\\n제주특별자치도 제주시',\n",
       " '월정리해수욕장\\n제주특별자치도 제주시',\n",
       " '폭낭오름\\n제주특별자치도 제주시',\n",
       " '지미봉\\n제주특별자치도 제주시',\n",
       " '헬로키티아일랜드\\n제주특별자치도 서귀포시',\n",
       " '아쿠아플라넷 제주\\n제주특별자치도 서귀포시',\n",
       " '황우지해안\\n제주특별자치도 서귀포시',\n",
       " '하도어촌체험마을\\n제주특별자치도 제주시',\n",
       " '서귀포 가시리마을 (녹산로 유채꽃도로)\\n제주특별자치도 서귀포시',\n",
       " '웃세오름\\n제주특별자치도 제주시',\n",
       " '군산오름\\n제주특별자치도 서귀포시',\n",
       " '삼의양오름\\n제주특별자치도 제주시',\n",
       " '서건도\\n제주특별자치도 서귀포시',\n",
       " '도너리오름\\n제주특별자치도 서귀포시',\n",
       " '모구리오름\\n제주특별자치도 서귀포시',\n",
       " '제주공룡랜드\\n제주특별자치도 제주시',\n",
       " '제주불빛정원\\n제주특별자치도 제주시',\n",
       " '물영아리오름\\n제주특별자치도 서귀포시',\n",
       " '신산공원\\n제주특별자치도 제주시',\n",
       " '드라마월드\\n제주특별자치도 제주시',\n",
       " '번개과학체험관\\n제주특별자치도 서귀포시',\n",
       " '절부암\\n제주특별자치도 제주시',\n",
       " '수월봉과 차귀해안\\n제주특별자치도 제주시',\n",
       " '용머리해안\\n제주특별자치도 서귀포시',\n",
       " '용두암\\n제주특별자치도 제주시',\n",
       " '피규어뮤지엄 제주\\n제주특별자치도 서귀포시',\n",
       " '브릭캠퍼스 제주\\n제주특별자치도 제주시',\n",
       " '화조원\\n제주특별자치도 제주시',\n",
       " '제주다원 녹차미로공원\\n제주특별자치도 서귀포시',\n",
       " '종달리 해안도로\\n제주특별자치도 제주시',\n",
       " '주식회사 제이엠그랑블루요트\\n제주특별자치도 서귀포시',\n",
       " '광치기해변\\n제주특별자치도 서귀포시',\n",
       " '트랜스포머 오토봇 얼라이언스 (신화월드)\\n제주특별자치도 서귀포시',\n",
       " '서귀포 전기버스 시티투어\\n제주특별자치도 서귀포시',\n",
       " '제주샘주 공장\\n제주특별자치도 제주시',\n",
       " '불탑사(제주)\\n제주특별자치도 제주시',\n",
       " '신창풍차해안도로\\n제주특별자치도 제주시',\n",
       " '제주항공우주박물관\\n제주특별자치도 서귀포시',\n",
       " '서귀포치유의숲\\n제주특별자치도 서귀포시',\n",
       " '한라산 백록담\\n제주특별자치도 제주시',\n",
       " '사진놀이터\\n제주특별자치도 제주시',\n",
       " '도순다원\\n제주특별자치도 서귀포시',\n",
       " '서귀포하논분화구\\n제주특별자치도 서귀포시',\n",
       " '제주 벚꽃길 드라이브\\n제주특별자치도 제주시',\n",
       " '성이시돌목장\\n제주특별자치도 제주시',\n",
       " '세계자동차&피아노 박물관\\n제주특별자치도 서귀포시',\n",
       " '금능해수욕장\\n제주특별자치도 제주시',\n",
       " '다랑쉬오름(월랑봉)\\n제주특별자치도 제주시',\n",
       " '새별오름\\n제주특별자치도 제주시',\n",
       " '따라비오름\\n제주특별자치도 서귀포시',\n",
       " '용눈이오름\\n제주특별자치도 제주시',\n",
       " '제주유리박물관\\n제주특별자치도 서귀포시',\n",
       " '용천동굴 [유네스코 세계자연유산]\\n제주특별자치도 제주시',\n",
       " '월정사(제주)\\n제주특별자치도 제주시',\n",
       " '휴애리자연생활공원\\n제주특별자치도 서귀포시',\n",
       " '제주테지움\\n제주특별자치도 제주시',\n",
       " '더마파크\\n제주특별자치도 제주시',\n",
       " '제주유리의성\\n제주특별자치도 제주시',\n",
       " '제주마방목지\\n제주특별자치도 제주시',\n",
       " '거문오름 [세계자연유산]\\n제주특별자치도 제주시',\n",
       " '신풍신천바다목장\\n제주특별자치도 서귀포시',\n",
       " '제주도예촌\\n제주특별자치도 서귀포시',\n",
       " '검멀레해변\\n제주특별자치도 제주시',\n",
       " '선녀와나무꾼 테마공원\\n제주특별자치도 제주시',\n",
       " '제주현대미술관\\n제주특별자치도 제주시',\n",
       " '제주 보성시장\\n제주특별자치도 제주시',\n",
       " '서귀포천문과학문화관\\n제주특별자치도 서귀포시',\n",
       " '점보빌리지\\n제주특별자치도 서귀포시',\n",
       " '제주난타전용관\\n제주특별자치도 제주시',\n",
       " '조안베어뮤지엄\\n제주특별자치도 서귀포시',\n",
       " '한라생태숲\\n제주특별자치도 제주시',\n",
       " '이상한 나라의 앨리스\\n제주특별자치도 서귀포시',\n",
       " '다희연\\n제주특별자치도 제주시',\n",
       " '제주별빛누리공원\\n제주특별자치도 제주시',\n",
       " '카멜리아힐\\n제주특별자치도 서귀포시']"
      ]
     },
     "execution_count": 226,
     "metadata": {},
     "output_type": "execute_result"
    }
   ],
   "source": [
    "item_list16"
   ]
  },
  {
   "cell_type": "markdown",
   "id": "91fa093d",
   "metadata": {},
   "source": [
    "---"
   ]
  },
  {
   "cell_type": "markdown",
   "id": "2e255bb1",
   "metadata": {},
   "source": [
    "# 2. 데이터 합치기"
   ]
  },
  {
   "cell_type": "markdown",
   "id": "b84d6a0b",
   "metadata": {},
   "source": [
    "## 데이터 합치기"
   ]
  },
  {
   "cell_type": "code",
   "execution_count": 242,
   "id": "114d3e1e",
   "metadata": {},
   "outputs": [
    {
     "data": {
      "text/plain": [
       "['서울풍물시장전통문화체험관\\n서울특별시 동대문구',\n",
       " '양재시민의숲\\n서울특별시 서초구',\n",
       " '봉화산(서울)\\n서울특별시 중랑구',\n",
       " '파리공원\\n서울특별시 양천구',\n",
       " '한강시민공원 망원지구(망원한강공원)\\n서울특별시 마포구',\n",
       " '한강시민공원여의도지구(여의도한강공원)\\n서울특별시 영등포구',\n",
       " '한강시민공원뚝섬지구(뚝섬한강공원)\\n서울특별시 광진구',\n",
       " '서래마을\\n서울특별시 서초구',\n",
       " '이태원 앤틱 가구 거리\\n서울특별시 용산구',\n",
       " '와룡공원\\n서울특별시 종로구',\n",
       " '홍릉수목원\\n서울특별시 동대문구',\n",
       " '롯데월드\\n서울특별시 송파구',\n",
       " '서울어린이대공원\\n서울특별시 광진구',\n",
       " '도산공원\\n서울특별시 강남구',\n",
       " '경희궁\\n서울특별시 종로구',\n",
       " '수락산\\n서울특별시 노원구',\n",
       " '불암산\\n서울특별시 노원구',\n",
       " '관악산\\n서울특별시 관악구',\n",
       " '청계산\\n서울특별시 서초구',\n",
       " '서울트릭아이미술관\\n서울특별시 마포구',\n",
       " '서울선릉(성종과정현왕후)과정릉(중종)[유네스코세계문화유산]\\n서울특별시 강남구',\n",
       " '국립4.19민주묘지\\n서울특별시 강북구',\n",
       " '국립서울현충원\\n서울특별시 동작구',\n",
       " '서울암사동유적\\n서울특별시 강동구',\n",
       " '서울 방이동 고분군\\n서울특별시 송파구',\n",
       " '종묘\\n서울특별시 종로구',\n",
       " '덕수궁\\n서울특별시 중구',\n",
       " '경복궁\\n서울특별시 종로구',\n",
       " '봉원사(서울)\\n서울특별시 서대문구',\n",
       " '도선사(서울)\\n서울특별시 강북구',\n",
       " '남산골한옥마을\\n서울특별시 중구',\n",
       " '서서울호수공원\\n서울특별시 양천구',\n",
       " '북촌한옥마을\\n서울특별시 종로구',\n",
       " '남산서울타워\\n서울특별시 용산구',\n",
       " '대학로\\n서울특별시 종로구',\n",
       " '청와대앞길\\n서울특별시 종로구',\n",
       " '올림픽공원\\n서울특별시 송파구',\n",
       " '서울 헌릉(태종,원경왕후)과 인릉(순조,순원왕후) [유네스코 세계문화유산]\\n서울특별시 서초구',\n",
       " '새남터기념성당\\n서울특별시 용산구',\n",
       " '서울태릉(문정왕후)과강릉(인순왕후)[유네스코세계문화유산]\\n서울특별시 노원구',\n",
       " '서울정릉(신덕왕후)[유네스코세계문화유산]\\n서울특별시 성북구',\n",
       " '서울몽촌토성\\n서울특별시 송파구',\n",
       " '서울 석촌동 고분군\\n서울특별시 송파구',\n",
       " '천호공원\\n서울특별시 강동구',\n",
       " '길동생태공원\\n서울특별시 강동구',\n",
       " '북한산국립공원\\n서울특별시 은평구',\n",
       " '이태원관광특구\\n서울특별시 용산구',\n",
       " '성락원(서울)\\n서울특별시 성북구',\n",
       " '구암공원\\n서울특별시 강서구',\n",
       " '압구정로데오거리\\n서울특별시 강남구',\n",
       " '서대문독립공원\\n서울특별시 서대문구',\n",
       " '서울숲\\n서울특별시 성동구',\n",
       " '백련사(서울)\\n서울특별시 서대문구',\n",
       " '월드컵공원\\n서울특별시 마포구',\n",
       " '서울신림동민속순대타운\\n서울특별시 관악구',\n",
       " '여의도공원\\n서울특별시 영등포구',\n",
       " '보라매공원\\n서울특별시 동작구',\n",
       " '난지한강공원\\n서울특별시 마포구',\n",
       " '63스퀘어\\n서울특별시 영등포구',\n",
       " '창덕궁과후원[유네스코세계문화유산]\\n서울특별시 종로구',\n",
       " '노량진수산물도매시장\\n서울특별시 동작구',\n",
       " '광장시장\\n서울특별시 종로구',\n",
       " '남대문시장\\n서울특별시 중구',\n",
       " '평강성서유물박물관\\n서울특별시 구로구',\n",
       " '서대문자연사박물관\\n서울특별시 서대문구',\n",
       " '전쟁기념관\\n서울특별시 용산구',\n",
       " '서울역사박물관\\n서울특별시 종로구',\n",
       " '국립중앙박물관\\n서울특별시 용산구',\n",
       " '아차산\\n서울특별시 광진구',\n",
       " '남산케이블카\\n서울특별시 중구',\n",
       " '둘리뮤지엄\\n서울특별시 도봉구',\n",
       " '신영시장\\n서울특별시 양천구',\n",
       " '동대문역사문화공원\\n서울특별시 중구',\n",
       " '응봉산(서울)\\n서울특별시 성동구',\n",
       " '서울시립북서울미술관\\n서울특별시 노원구',\n",
       " '남산 야외식물원\\n서울특별시 용산구',\n",
       " '능인선원\\n서울특별시 강남구',\n",
       " '만해한용운심우장\\n서울특별시 성북구',\n",
       " '광진교8번가\\n서울특별시 강동구',\n",
       " '서울마리나 요트&클럽\\n서울특별시 영등포구',\n",
       " '홍대 벽화거리\\n서울특별시 마포구',\n",
       " '서울망원시장\\n서울특별시 마포구',\n",
       " '헬로우뮤지움\\n서울특별시 성동구',\n",
       " '동대문디자인플라자(DDP)\\n서울특별시 중구',\n",
       " '자양동양꼬치거리(중국음식문화거리)\\n서울특별시 광진구',\n",
       " '구룡산(서울)\\n서울특별시 서초구',\n",
       " '한국종합무역센터(코엑스)\\n서울특별시 강남구',\n",
       " '대림중앙시장\\n서울특별시 영등포구',\n",
       " '서촌마을\\n서울특별시 종로구',\n",
       " '동진시장\\n서울특별시 마포구',\n",
       " '서울식물원\\n서울특별시 강서구',\n",
       " '금천예술공장\\n서울특별시 금천구',\n",
       " '챔피언1250\\n서울특별시 용산구',\n",
       " '근현대사기념관\\n서울특별시 강북구',\n",
       " '피노파밀리아\\n서울특별시 노원구',\n",
       " '서울의릉(경종,선의왕후)[유네스코세계문화유산]\\n서울특별시 성북구',\n",
       " '문화역서울284\\n서울특별시 중구',\n",
       " '한강시민공원광나루지구(광나루한강공원)\\n서울특별시 강동구',\n",
       " '삼청동\\n서울특별시 종로구',\n",
       " '상수동 카페거리\\n서울특별시 마포구',\n",
       " '인사동\\n서울특별시 종로구',\n",
       " '명동\\n서울특별시 중구',\n",
       " '무중력지대양천\\n서울특별시 양천구',\n",
       " '식민지역사박물관\\n서울특별시 용산구',\n",
       " 'K-Taekwon school 태권도체험\\n서울특별시 강동구',\n",
       " '문화철도 959\\n서울특별시 구로구',\n",
       " '고척 스카이돔\\n서울특별시 구로구',\n",
       " '궁동저수지 생태공원\\n서울특별시 구로구',\n",
       " '국제음식문화거리(INTERNATIONALFOODSTREET)\\n서울특별시 구로구',\n",
       " '한방스파여용국\\n서울특별시 송파구',\n",
       " '공덕동 족발 골목\\n서울특별시 마포구',\n",
       " '아차산생태공원\\n서울특별시 광진구',\n",
       " '응암동 감자국 거리\\n서울특별시 은평구',\n",
       " '호압사(서울)\\n서울특별시 관악구',\n",
       " '황학동 벼룩시장 (도깨비시장 / 만물시장)\\n서울특별시 중구',\n",
       " '서울함공원\\n서울특별시 마포구',\n",
       " '선유도공원\\n서울특별시 영등포구',\n",
       " '하늘공원\\n서울특별시 마포구',\n",
       " '녹사평지하예술정원\\n서울특별시 용산구',\n",
       " '망우리공원\\n서울특별시 중랑구',\n",
       " '여의도샛강생태공원\\n서울특별시 영등포구',\n",
       " '강서습지생태공원\\n서울특별시 강서구',\n",
       " '백사실계곡\\n서울특별시 종로구',\n",
       " '홍대\\n서울특별시 마포구',\n",
       " '겸재정선미술관\\n서울특별시 강서구',\n",
       " '삼성산성지\\n서울특별시 관악구',\n",
       " '관악산공원야외식물원\\n서울특별시 관악구',\n",
       " '살곶이체육공원\\n서울특별시 성동구',\n",
       " '몽마르뜨공원\\n서울특별시 서초구',\n",
       " '영등포신길동홍어거리\\n서울특별시 영등포구',\n",
       " '신사동가로수길\\n서울특별시 강남구',\n",
       " '한강시민공원 잠실지구(잠실한강공원)\\n서울특별시 송파구',\n",
       " '한강시민공원잠원지구(잠원한강공원)\\n서울특별시 서초구',\n",
       " '세빛섬\\n서울특별시 서초구',\n",
       " '경동시장\\n서울특별시 동대문구',\n",
       " '오동근린공원\\n서울특별시 강북구',\n",
       " '양재천 생태공원\\n서울특별시 서초구',\n",
       " '북서울꿈의숲\\n서울특별시 강북구',\n",
       " '온수공원\\n서울특별시 구로구',\n",
       " '용마산\\n서울특별시 중랑구',\n",
       " '범어사(부산)\\n부산광역시 금정구',\n",
       " '부산송도해수욕장\\n부산광역시 서구',\n",
       " '용두산공원\\n부산광역시 중구',\n",
       " '부산어린이대공원\\n부산광역시 부산진구',\n",
       " '일광해수욕장\\n부산광역시 기장군',\n",
       " '해운대해수욕장\\n부산광역시 해운대구',\n",
       " '송정해수욕장\\n부산광역시 해운대구',\n",
       " '광안리해수욕장\\n부산광역시 수영구',\n",
       " '부산어촌민속관\\n부산광역시 북구',\n",
       " '서면1번가\\n부산광역시 부산진구',\n",
       " '대항어촌체험휴양마을\\n부산광역시 강서구',\n",
       " '황령산\\n부산광역시 부산진구',\n",
       " '선암사(부산)\\n부산광역시 부산진구',\n",
       " '수영사적공원\\n부산광역시 수영구',\n",
       " '부산차이나타운특구(상해문.상해거리)\\n부산광역시 동구',\n",
       " '삼광사\\n부산광역시 부산진구',\n",
       " '해동용궁사(부산)\\n부산광역시 기장군',\n",
       " '충렬사\\n부산광역시 동래구',\n",
       " '태종대(부산국가지질공원)\\n부산광역시 영도구',\n",
       " 'UN기념공원\\n부산광역시 남구',\n",
       " '부산진시장\\n부산광역시 동구',\n",
       " '동삼동패총전시관\\n부산광역시 영도구',\n",
       " '부산근대역사관\\n부산광역시 중구',\n",
       " '남천 해변시장\\n부산광역시 수영구',\n",
       " '부산해양자연사박물관\\n부산광역시 동래구',\n",
       " '청사포\\n부산광역시 해운대구',\n",
       " '송정 죽도공원\\n부산광역시 해운대구',\n",
       " '대변항\\n부산광역시 기장군',\n",
       " '금강식물원\\n부산광역시 금정구',\n",
       " '40계단문화관광테마거리\\n부산광역시 중구',\n",
       " '168계단\\n부산광역시 동구',\n",
       " '수리조선소길\\n부산광역시 영도구',\n",
       " '임랑해수욕장\\n부산광역시 기장군',\n",
       " '부평시장(깡통시장)\\n부산광역시 중구',\n",
       " '국립해양박물관\\n부산광역시 영도구',\n",
       " '우장춘기념관\\n부산광역시 동래구',\n",
       " '임시수도기념관\\n부산광역시 서구',\n",
       " '삼락생태공원\\n부산광역시 사상구',\n",
       " '국제시장\\n부산광역시 중구',\n",
       " '부산자갈치시장\\n부산광역시 중구',\n",
       " '국립일제강제동원역사관\\n부산광역시 남구',\n",
       " '절영해안산책로\\n부산광역시 영도구',\n",
       " '부산송도해상케이블카\\n부산광역시 서구',\n",
       " '화명생태공원\\n부산광역시 북구',\n",
       " '대저생태공원\\n부산광역시 강서구',\n",
       " '아홉산숲\\n부산광역시 기장군',\n",
       " '국립부산과학관\\n부산광역시 기장군',\n",
       " '부산감천문화마을\\n부산광역시 사하구',\n",
       " '이기대(부산국가지질공원)\\n부산광역시 남구',\n",
       " '유치환 우체통 전망대\\n부산광역시 동구',\n",
       " '다대포꿈의낙조분수\\n부산광역시 사하구',\n",
       " '마린시티\\n부산광역시 해운대구',\n",
       " '장산 (부산 국가지질공원)\\n부산광역시 해운대구',\n",
       " '몰운대 (부산 국가지질공원)\\n부산광역시 사하구',\n",
       " '국립 달음산자연휴양림\\n부산광역시 기장군',\n",
       " '흰여울문화마을\\n부산광역시 영도구',\n",
       " '장림포구\\n부산광역시 사하구',\n",
       " '초량이바구길\\n부산광역시 동구',\n",
       " '부산현대미술관\\n부산광역시 사하구',\n",
       " '정관박물관\\n부산광역시 기장군',\n",
       " '해운대동백섬\\n부산광역시 해운대구',\n",
       " '비슬산 군립공원\\n대구광역시 달성군',\n",
       " '파계사\\n대구광역시 동구',\n",
       " '동화사(대구)\\n대구광역시 동구',\n",
       " '대구앞산공원\\n대구광역시 남구',\n",
       " '대구두류공원\\n대구광역시 달서구',\n",
       " '동촌유원지\\n대구광역시 동구',\n",
       " '비슬산자연휴양림\\n대구광역시 달성군',\n",
       " '대구 오토바이골목\\n대구광역시 중구',\n",
       " '수성못유원지\\n대구광역시 수성구',\n",
       " '녹동서원\\n대구광역시 달성군',\n",
       " '봉무정\\n대구광역시 동구',\n",
       " '남평문씨본리세거지\\n대구광역시 달성군',\n",
       " '달성하목정\\n대구광역시 달성군',\n",
       " '대구서문시장&서문시장야시장\\n대구광역시 중구',\n",
       " '국립대구박물관\\n대구광역시 수성구',\n",
       " '도동서원 [유네스코 세계문화유산]\\n대구광역시 달성군',\n",
       " '현풍석빙고(상리석빙고)\\n대구광역시 달성군',\n",
       " '용연사(대구)\\n대구광역시 달성군',\n",
       " '이월드\\n대구광역시 달서구',\n",
       " '대구수목원\\n대구광역시 달서구',\n",
       " '마비정 벽화마을\\n대구광역시 달성군',\n",
       " '국립대구과학관\\n대구광역시 달성군',\n",
       " '중리동곱창골목\\n대구광역시 서구',\n",
       " '남산동 가톨릭타운(대구)\\n대구광역시 중구',\n",
       " '옹기종기행복마을\\n대구광역시 동구',\n",
       " '김광석길(김광석다시그리기길)\\n대구광역시 중구',\n",
       " '대구미술관\\n대구광역시 수성구',\n",
       " '달성 한일우호관\\n대구광역시 달성군',\n",
       " '대구 달성습지\\n대구광역시 달성군',\n",
       " '모명재\\n대구광역시 수성구',\n",
       " '공룡공원\\n대구광역시 남구',\n",
       " '앞산전망대(앞산케이블카)\\n대구광역시 남구',\n",
       " '이천동 99계단 벽화마을\\n대구광역시 남구',\n",
       " '고산골 (사진찍기 좋은 녹색명소)\\n대구광역시 남구',\n",
       " '반고개 무침회 골목\\n대구광역시 서구',\n",
       " '서부오미(味)가미(味)거리\\n대구광역시 서구',\n",
       " '와룡산(대구)\\n대구광역시 달서구',\n",
       " '대구근대골목(근대로의여행)\\n대구광역시 중구',\n",
       " '가창 찐빵 골목\\n대구광역시 달성군',\n",
       " '사문진주막촌\\n대구광역시 달성군',\n",
       " '국채보상운동기념공원\\n대구광역시 중구',\n",
       " '부인사(대구)\\n대구광역시 동구',\n",
       " '방천시장\\n대구광역시 중구',\n",
       " '앞산카페거리\\n대구광역시 남구',\n",
       " '동산청라언덕\\n대구광역시 중구',\n",
       " '옥연지송해공원\\n대구광역시 달성군',\n",
       " '수창청춘맨숀\\n대구광역시 중구',\n",
       " '동성로\\n대구광역시 중구',\n",
       " '대구하중도\\n대구광역시 북구',\n",
       " '아이니테마파크(대구스타디움점)\\n대구광역시 수성구',\n",
       " '대구평화시장\\n대구광역시 동구',\n",
       " '대구칠성시장\\n대구광역시 북구',\n",
       " '안지랑곱창골목\\n대구광역시 남구',\n",
       " '석모도미네랄온천\\n인천광역시 강화군',\n",
       " '인천나비공원\\n인천광역시 부평구',\n",
       " '용흥궁\\n인천광역시 강화군',\n",
       " '신시모도\\n인천광역시 옹진군',\n",
       " '소래포구\\n인천광역시 남동구',\n",
       " '교동향교\\n인천광역시 강화군',\n",
       " '사곶해변\\n인천광역시 옹진군',\n",
       " '애보박물관\\n인천광역시 남동구',\n",
       " '인천시립박물관컴팩스마트시티\\n인천광역시 연수구',\n",
       " '강화갯벌 및 저어새번식지\\n인천광역시 강화군',\n",
       " '고려궁지\\n인천광역시 강화군',\n",
       " '볼음도(저어새 생태마을)\\n인천광역시 강화군',\n",
       " '화도진지\\n인천광역시 동구',\n",
       " '이작도(풀등+갯티길)\\n인천광역시 옹진군',\n",
       " '무의도\\n인천광역시 중구',\n",
       " '신트리공원\\n인천광역시 부평구',\n",
       " '강화 고인돌 유적 [유네스코 세계문화유산]\\n인천광역시 강화군',\n",
       " '전등사(강화)\\n인천광역시 강화군',\n",
       " '보문사(강화)\\n인천광역시 강화군',\n",
       " '백령도\\n인천광역시 옹진군',\n",
       " '인천대공원\\n인천광역시 남동구',\n",
       " '대청도\\n인천광역시 옹진군',\n",
       " '장봉도\\n인천광역시 옹진군',\n",
       " '선재도(선재도 어촌체험마을)\\n인천광역시 옹진군',\n",
       " '석모도\\n인천광역시 강화군',\n",
       " '영흥도\\n인천광역시 옹진군',\n",
       " '월미도\\n인천광역시 중구',\n",
       " '연평도(대/소 연평도)\\n인천광역시 옹진군',\n",
       " '광성보\\n인천광역시 강화군',\n",
       " '강화덕진진\\n인천광역시 강화군',\n",
       " '왕산해수욕장\\n인천광역시 중구',\n",
       " '실미해수욕장\\n인천광역시 중구',\n",
       " '장봉도 진촌해변\\n인천광역시 옹진군',\n",
       " '팔미도등대\\n인천광역시 중구',\n",
       " '장경리해수욕장\\n인천광역시 옹진군',\n",
       " '용진진\\n인천광역시 강화군',\n",
       " '대한성공회 강화성당\\n인천광역시 강화군',\n",
       " '을왕리해수욕장\\n인천광역시 중구',\n",
       " '서어나무(소사나무)군락지\\n인천광역시 옹진군',\n",
       " '강화 초지진\\n인천광역시 강화군',\n",
       " '장곶돈대\\n인천광역시 강화군',\n",
       " '아암도해안공원\\n인천광역시 연수구',\n",
       " '강화풍물시장\\n인천광역시 강화군',\n",
       " '수도국산달동네박물관\\n인천광역시 동구',\n",
       " '심은미술관\\n인천광역시 강화군',\n",
       " '강화역사박물관\\n인천광역시 강화군',\n",
       " '후포항 선수포구\\n인천광역시 강화군',\n",
       " '인천도호부청사\\n인천광역시 미추홀구',\n",
       " '강화 화문석마을\\n인천광역시 강화군',\n",
       " '주문도\\n인천광역시 강화군',\n",
       " '석모도미네랄온천\\n인천광역시 강화군',\n",
       " '인천나비공원\\n인천광역시 부평구',\n",
       " '용흥궁\\n인천광역시 강화군',\n",
       " '신시모도\\n인천광역시 옹진군',\n",
       " '소래포구\\n인천광역시 남동구',\n",
       " '교동향교\\n인천광역시 강화군',\n",
       " '사곶해변\\n인천광역시 옹진군',\n",
       " '애보박물관\\n인천광역시 남동구',\n",
       " '인천시립박물관컴팩스마트시티\\n인천광역시 연수구',\n",
       " '강화갯벌 및 저어새번식지\\n인천광역시 강화군',\n",
       " '고려산\\n인천광역시 강화군',\n",
       " '수기해변\\n인천광역시 옹진군',\n",
       " '용유도 마시안해변\\n인천광역시 중구',\n",
       " '인천차이나타운\\n인천광역시 중구',\n",
       " '소리체험박물관\\n인천광역시 강화군',\n",
       " '세어도\\n인천광역시 서구',\n",
       " '강화 서도 중앙교회\\n인천광역시 강화군',\n",
       " '교동도 대룡시장\\n인천광역시 강화군',\n",
       " '석모도 수목원\\n인천광역시 강화군',\n",
       " '석모도 자연휴양림\\n인천광역시 강화군',\n",
       " '인천 푸른벗말\\n인천광역시 옹진군',\n",
       " '밧지름해변\\n인천광역시 옹진군',\n",
       " '서포리해변\\n인천광역시 옹진군',\n",
       " '팔미도 유람선\\n인천광역시 중구',\n",
       " '인천 화평동 세숫대야 냉면 거리\\n인천광역시 동구',\n",
       " '강화해수랜드\\n인천광역시 강화군',\n",
       " '강화도제적봉 평화전망대\\n인천광역시 강화군',\n",
       " '영흥도 십리포해변\\n인천광역시 옹진군',\n",
       " '백령도 콩돌해변\\n인천광역시 옹진군',\n",
       " '옹진 백령도 두무진\\n인천광역시 옹진군',\n",
       " '교동도(강화)\\n인천광역시 강화군',\n",
       " '강화 아르미애월드\\n인천광역시 강화군',\n",
       " '인천검단선사박물관\\n인천광역시 서구',\n",
       " '5·18기념공원\\n광주광역시 서구',\n",
       " '광주호호수생태원\\n광주광역시 북구',\n",
       " '무등산국립공원\\n광주광역시 동구',\n",
       " '광주패밀리랜드\\n광주광역시 북구',\n",
       " '환벽당 ·조대\\n광주광역시 북구',\n",
       " '오웬기념각\\n광주광역시 남구',\n",
       " '국립 5.18 민주묘지\\n광주광역시 북구',\n",
       " '광주호\\n광주광역시 북구',\n",
       " '사직공원(광주)\\n광주광역시 남구',\n",
       " '무등산 주상절리대\\n광주광역시 북구',\n",
       " '광주대인시장/대인예술시장\\n광주광역시 동구',\n",
       " '1913송정역시장\\n광주광역시 광산구',\n",
       " '남도향토음식박물관·호남문화자료전시관\\n광주광역시 북구',\n",
       " '국립광주과학관\\n광주광역시 북구',\n",
       " '광주-기아 챔피언스 필드\\n광주광역시 북구',\n",
       " '월봉서원\\n광주광역시 광산구',\n",
       " '전평제\\n광주광역시 서구',\n",
       " '오리요리의 거리\\n광주광역시 북구',\n",
       " '우제길미술관\\n광주광역시 동구',\n",
       " '국립광주박물관\\n광주광역시 북구',\n",
       " '양림동펭귄마을\\n광주광역시 남구',\n",
       " '지산유원지\\n광주광역시 동구',\n",
       " '양림역사문화마을\\n광주광역시 남구',\n",
       " '청춘발산마을\\n광주광역시 서구',\n",
       " '쌍암공원\\n광주광역시 광산구',\n",
       " '용진정사\\n광주광역시 광산구',\n",
       " '양동시장\\n광주광역시 서구',\n",
       " '구봉산(대전)\\n대전광역시 서구',\n",
       " '대전오월드\\n대전광역시 중구',\n",
       " '대청호\\n대전광역시 대덕구',\n",
       " '뿌리공원\\n대전광역시 중구',\n",
       " '국립대전현충원\\n대전광역시 유성구',\n",
       " '대전엑스포과학공원\\n대전광역시 유성구',\n",
       " '만인산푸른학습원\\n대전광역시 동구',\n",
       " '상소동산림욕장\\n대전광역시 동구',\n",
       " '식장산(식장산 문화공원)\\n대전광역시 동구',\n",
       " '대전선사박물관\\n대전광역시 유성구',\n",
       " '금강로하스대청공원\\n대전광역시 대덕구',\n",
       " '진잠향교\\n대전광역시 유성구',\n",
       " '단재 신채호선생생가지\\n대전광역시 중구',\n",
       " '사교루\\n대전광역시 유성구',\n",
       " '용화사(대전)\\n대전광역시 서구',\n",
       " '사우당\\n대전광역시 동구',\n",
       " '옥류각\\n대전광역시 대덕구',\n",
       " '국립중앙과학관\\n대전광역시 유성구',\n",
       " '장태산자연휴양림\\n대전광역시 서구',\n",
       " '자광사(대전)\\n대전광역시 유성구',\n",
       " '우암사적공원\\n대전광역시 동구',\n",
       " '무수천하마을\\n대전광역시 중구',\n",
       " '한밭수목원\\n대전광역시 서구',\n",
       " '장동산림욕장\\n대전광역시 대덕구',\n",
       " '심광사(대전)\\n대전광역시 동구',\n",
       " '테미오래\\n대전광역시 중구',\n",
       " '대동하늘공원\\n대전광역시 동구',\n",
       " '왕버드나무군락지\\n대전광역시 대덕구',\n",
       " '철도관사촌(솔랑시울길)\\n대전광역시 동구',\n",
       " '유성 족욕체험장\\n대전광역시 유성구',\n",
       " '베어트리파크\\n세종특별자치시 세종특별자치시',\n",
       " '청안사(세종)\\n세종특별자치시 세종특별자치시',\n",
       " '신광사(세종)\\n세종특별자치시 세종특별자치시',\n",
       " '밀마루전망대\\n세종특별자치시 세종특별자치시',\n",
       " '뒤웅박고을\\n세종특별자치시 세종특별자치시',\n",
       " '영평사\\n세종특별자치시 세종특별자치시',\n",
       " '금강자연휴양림(금강수목원,산림박물관)\\n세종특별자치시 세종특별자치시',\n",
       " '운주산성\\n세종특별자치시 세종특별자치시',\n",
       " '고복자연공원\\n세종특별자치시 세종특별자치시',\n",
       " '여주영릉(英陵)세종대왕)과영릉(寧陵)효종,인선왕후)[유네스코세계문화유산]\\n경기도 여주시',\n",
       " '행주산성\\n경기도 고양시 덕양구',\n",
       " '김포향교\\n경기도 김포시',\n",
       " '수원화성[유네스코세계문화유산]\\n경기도 수원시 팔달구',\n",
       " '고양서오릉[유네스코세계문화유산]\\n경기도 고양시 덕양구',\n",
       " '고양서삼릉(장경왕후)[유네스코세계문화유산]\\n경기도 고양시 덕양구',\n",
       " '남양주홍릉(고종과명성황후)과유릉(순종과순명,순정황후)[유네스코세계문화유산]\\n경기도 남양주시',\n",
       " '남양주 광릉(세조,정희왕후) [유네스코 세계문화유산]\\n경기도 남양주시',\n",
       " '구리동구릉[유네스코세계문화유산]\\n경기도 구리시',\n",
       " '김포문수산성\\n경기도 김포시',\n",
       " '제부도\\n경기도 화성시',\n",
       " '재인폭포 (한탄강 국가지질공원)\\n경기도 연천군',\n",
       " '명지계곡\\n경기도 가평군',\n",
       " '백운계곡 (한탄강 국가지질공원)\\n경기도 포천시',\n",
       " '명성산\\n경기도 포천시',\n",
       " '수리산도립공원\\n경기도 군포시',\n",
       " '애기봉(김포)\\n경기도 김포시',\n",
       " '감악산(파주)\\n경기도 양주시',\n",
       " '남한산성도립공원[유네스코세계문화유산]\\n경기도 광주시',\n",
       " '국립 유명산자연휴양림\\n경기도 가평군',\n",
       " '천진암성지\\n경기도 광주시',\n",
       " '연천 숭의전지\\n경기도 연천군',\n",
       " '용문사(용문산)\\n경기도 양평군',\n",
       " '용주사(화성)\\n경기도 화성시',\n",
       " '포천산정호수\\n경기도 포천시',\n",
       " '고모저수지\\n경기도 포천시',\n",
       " '한탄강관광지\\n경기도 연천군',\n",
       " '청평호반\\n경기도 가평군',\n",
       " '안양예술공원\\n경기도 안양시 만안구',\n",
       " '일영유원지\\n경기도 양주시',\n",
       " '여주영릉(英陵)세종대왕)과영릉(寧陵)효종,인선왕후)[유네스코세계문화유산]\\n경기도 여주시',\n",
       " '행주산성\\n경기도 고양시 덕양구',\n",
       " '김포향교\\n경기도 김포시',\n",
       " '수원화성[유네스코세계문화유산]\\n경기도 수원시 팔달구',\n",
       " '고양서오릉[유네스코세계문화유산]\\n경기도 고양시 덕양구',\n",
       " '고양서삼릉(장경왕후)[유네스코세계문화유산]\\n경기도 고양시 덕양구',\n",
       " '남양주홍릉(고종과명성황후)과유릉(순종과순명,순정황후)[유네스코세계문화유산]\\n경기도 남양주시',\n",
       " '남양주 광릉(세조,정희왕후) [유네스코 세계문화유산]\\n경기도 남양주시',\n",
       " '구리동구릉[유네스코세계문화유산]\\n경기도 구리시',\n",
       " '김포문수산성\\n경기도 김포시',\n",
       " '아침고요수목원\\n경기도 가평군',\n",
       " '인계예술공원\\n경기도 수원시 팔달구',\n",
       " '일동제일유황온천\\n경기도 포천시',\n",
       " '양주 회암사지\\n경기도 양주시',\n",
       " '양주 온릉(단경왕후) [유네스코 세계문화유산]\\n경기도 양주시',\n",
       " '김포장릉(인헌왕후)[유네스코세계문화유산]\\n경기도 김포시',\n",
       " '봉선사(경기)\\n경기도 남양주시',\n",
       " '오두산통일전망대\\n경기도 파주시',\n",
       " '판문점\\n경기도 파주시',\n",
       " '한국민속촌\\n경기도 용인시 기흥구',\n",
       " '수리사(경기)\\n경기도 군포시',\n",
       " '다산유적지(남양주)\\n경기도 남양주시',\n",
       " '명성황후 생가\\n경기도 여주시',\n",
       " '일동 용암유황천\\n경기도 포천시',\n",
       " '풍도\\n경기도 안산시 단원구',\n",
       " '서울랜드\\n경기도 과천시',\n",
       " '서울대공원\\n경기도 과천시',\n",
       " '백운호수\\n경기도 의왕시',\n",
       " '부천중앙공원\\n경기도 부천시',\n",
       " '문수산산림욕장\\n경기도 김포시',\n",
       " '설매재자연휴양림\\n경기도 양평군',\n",
       " '태풍전망대\\n경기도 연천군',\n",
       " '국화도\\n경기도 화성시',\n",
       " '망월사(경기)\\n경기도 의정부시',\n",
       " '삼막사\\n경기도 안양시 만안구',\n",
       " '제3땅굴\\n경기도 파주시',\n",
       " '한화리조트 산정호수 온천\\n경기도 포천시',\n",
       " '용문산관광지\\n경기도 양평군',\n",
       " '오산독산성과세마대지\\n경기도 오산시',\n",
       " '대부도\\n경기도 안산시 단원구',\n",
       " '김포 덕포진\\n경기도 김포시',\n",
       " '서현동먹거리촌\\n경기도 성남시 분당구',\n",
       " '봉국사(성남)\\n경기도 성남시 수정구',\n",
       " '유명산계곡\\n경기도 가평군',\n",
       " '사나사 계곡\\n경기도 양평군',\n",
       " '옥구공원\\n경기도 시흥시',\n",
       " '일산호수공원\\n경기도 고양시 일산동구',\n",
       " '안산식물원\\n경기도 안산시 상록구',\n",
       " '진위천유원지\\n경기도 평택시',\n",
       " '국립산음자연휴양림\\n경기도 양평군',\n",
       " '평택호관광단지\\n경기도 평택시',\n",
       " '미리내 성지\\n경기도 안성시',\n",
       " '파주임진각\\n경기도 파주시',\n",
       " '도라산역\\n경기도 파주시',\n",
       " '하니랜드\\n경기도 파주시',\n",
       " '소요산국민관광지\\n경기도 동두천시',\n",
       " '국립수목원(광릉숲)\\n경기도 남양주시',\n",
       " '화성 융릉(장조,헌경왕후)과 건릉(정조,효의왕후) [유네스코 세계문화유산]\\n경기도 화성시',\n",
       " '1.21 무장공비 침투로\\n경기도 연천군',\n",
       " '김포 수안산성\\n경기도 김포시',\n",
       " '세종천문대\\n경기도 여주시',\n",
       " '포천허브아일랜드\\n경기도 포천시',\n",
       " '중미산자연휴양림\\n경기도 양평군',\n",
       " '파주이이유적\\n경기도 파주시',\n",
       " '중원폭포\\n경기도 양평군',\n",
       " '반구정과 황희선생유적지\\n경기도 파주시',\n",
       " '파주 삼릉 [유네스코 세계문화유산]\\n경기도 파주시',\n",
       " '와우정사(용인)\\n경기도 용인시 처인구',\n",
       " '벽계구곡\\n경기도 양평군',\n",
       " '화석정\\n경기도 파주시',\n",
       " '이천 산수유마을\\n경기도 이천시',\n",
       " '중미산 천문대\\n경기도 양평군',\n",
       " '김포국제조각공원\\n경기도 김포시',\n",
       " '대성리 국민관광지\\n경기도 가평군',\n",
       " '청평자연휴양림\\n경기도 가평군',\n",
       " '한택식물원\\n경기도 용인시 처인구',\n",
       " '축령산자연휴양림\\n경기도 남양주시',\n",
       " '명지산군립공원\\n경기도 가평군',\n",
       " '에버랜드\\n경기도 용인시 처인구',\n",
       " '여주 고달사지\\n경기도 여주시',\n",
       " '고려 공양왕릉\\n경기도 고양시 덕양구',\n",
       " '원당종마목장(렛츠런팜원당)\\n경기도 고양시 덕양구',\n",
       " '오이도\\n경기도 시흥시',\n",
       " '안산갈대습지공원\\n경기도 안산시 상록구',\n",
       " '시화호\\n경기도 안산시 단원구',\n",
       " '광교산\\n경기도 수원시 장안구',\n",
       " '열두개울\\n경기도 포천시',\n",
       " '율동공원\\n경기도 성남시 분당구',\n",
       " '율암온천숯가마테마파크\\n경기도 화성시',\n",
       " '너리굴 문화마을\\n경기도 안성시',\n",
       " '누에섬등대전망대\\n경기도 안산시 단원구',\n",
       " '이천부래미마을\\n경기도 이천시',\n",
       " '죽주산성\\n경기도 안성시',\n",
       " '고삼호수\\n경기도 안성시',\n",
       " '양평 민물고기 생태학습관\\n경기도 양평군',\n",
       " '두물머리애벌레생태학교\\n경기도 양평군',\n",
       " '양평들꽃수목원\\n경기도 양평군',\n",
       " '아라크노피아 생태수목원·주필거미박물관\\n경기도 남양주시',\n",
       " '헤이리예술마을\\n경기도 파주시',\n",
       " '태산패밀리파크\\n경기도 김포시',\n",
       " '누리천문대\\n경기도 군포시',\n",
       " '여주참숯마을\\n경기도 여주시',\n",
       " '연천호로고루\\n경기도 연천군',\n",
       " '자연과별천문대\\n경기도 가평군',\n",
       " '벽초지문화수목원\\n경기도 파주시',\n",
       " '우농타조농장\\n경기도 파주시',\n",
       " '연천 경순왕릉\\n경기도 연천군',\n",
       " '열쇠전망대\\n경기도 연천군',\n",
       " '전곡선사박물관\\n경기도 연천군',\n",
       " '이천 자채방아마을\\n경기도 이천시',\n",
       " '프로방스마을\\n경기도 파주시',\n",
       " '경기영어마을 파주캠프\\n경기도 파주시',\n",
       " '나혜석거리\\n경기도 수원시 팔달구',\n",
       " '제부도해안산책로(제비꼬리길)\\n경기도 화성시',\n",
       " '일산 어린이천문대\\n경기도 고양시 일산동구',\n",
       " '경기도립물향기수목원\\n경기도 오산시',\n",
       " '신륵사(여주)\\n경기도 여주시',\n",
       " '풀향기 허브나라\\n경기도 양평군',\n",
       " '양평두물머리\\n경기도 양평군',\n",
       " '테르메덴\\n경기도 이천시',\n",
       " '목아박물관\\n경기도 여주시',\n",
       " '어비계곡\\n경기도 가평군',\n",
       " '용추폭포\\n경기도 가평군',\n",
       " '구리타워\\n경기도 구리시',\n",
       " '수종사\\n경기도 남양주시',\n",
       " '화성공룡알화석지\\n경기도 화성시',\n",
       " '화성 백미리마을\\n경기도 화성시',\n",
       " '바람새마을\\n경기도 평택시',\n",
       " '파주 장단콩마을\\n경기도 파주시',\n",
       " '큰숲 안양워터랜드\\n경기도 안양시 만안구',\n",
       " '청암민속박물관\\n경기도 양주시',\n",
       " '안성 남사당 공연장\\n경기도 안성시',\n",
       " '부천자연생태공원\\n경기도 부천시',\n",
       " '덕포진교육박물관\\n경기도 김포시',\n",
       " '안성맞춤박물관\\n경기도 안성시',\n",
       " '경기도자박물관\\n경기도 광주시',\n",
       " '명성황후 기념관\\n경기도 여주시',\n",
       " '경기도박물관\\n경기도 용인시 기흥구',\n",
       " '중남미문화원\\n경기도 고양시 덕양구',\n",
       " '김포문화원\\n경기도 김포시',\n",
       " '한향림 현대도자미술관\\n경기도 파주시',\n",
       " '가평현암농경유물박물관\\n경기도 가평군',\n",
       " '지도박물관\\n경기도 수원시 영통구',\n",
       " '조명박물관\\n경기도 양주시',\n",
       " '한국항공대학교 항공우주박물관\\n경기도 고양시 덕양구',\n",
       " '영집 궁시박물관\\n경기도 파주시',\n",
       " '박물관 얼굴\\n경기도 광주시',\n",
       " '세계민속악기박물관\\n경기도 파주시',\n",
       " '부천활박물관\\n경기도 부천시',\n",
       " '다도박물관\\n경기도 김포시',\n",
       " '신북리조트스프링폴\\n경기도 포천시',\n",
       " '군남홍수조절지 두루미테마파크\\n경기도 연천군',\n",
       " '오산중앙시장\\n경기도 오산시',\n",
       " '안양중앙시장\\n경기도 안양시 만안구',\n",
       " '지산 포레스트 리조트 스키장\\n경기도 이천시',\n",
       " '양지파인리조트눈썰매장\\n경기도 용인시 처인구',\n",
       " '산들소리수목원\\n경기도 남양주시',\n",
       " '베어스타운스키장\\n경기도 포천시',\n",
       " '더 파크 아프리카뮤지엄\\n경기도 포천시',\n",
       " '여주박물관\\n경기도 여주시',\n",
       " '피싱파크 진산각\\n경기도 김포시',\n",
       " '광명전통시장\\n경기도 광명시',\n",
       " '통진두레문화센터\\n경기도 김포시',\n",
       " '자재암(경기)\\n경기도 동두천시',\n",
       " '통진향교\\n경기도 김포시',\n",
       " '하우현성당\\n경기도 의왕시',\n",
       " '설봉공원\\n경기도 이천시',\n",
       " '삼성산산림욕장\\n경기도 안양시 만안구',\n",
       " '안양중앙공원\\n경기도 안양시 동안구',\n",
       " '안성허브마을\\n경기도 안성시',\n",
       " '배다골테마파크\\n경기도 고양시 덕양구',\n",
       " '심학산산림공원\\n경기도 파주시',\n",
       " '평택국제중앙시장\\n경기도 평택시',\n",
       " '한국잡월드\\n경기도 성남시 분당구',\n",
       " '광주 곤지암도자공원\\n경기도 광주시',\n",
       " '경기 남양주 조안 [슬로시티]\\n경기도 남양주시',\n",
       " '유리섬박물관\\n경기도 안산시 단원구',\n",
       " '의왕조류생태과학관\\n경기도 의왕시',\n",
       " '원마운트스노우파크\\n경기도 고양시 일산동구',\n",
       " '돼지박물관(돼지보러오면돼지)\\n경기도 이천시',\n",
       " '일산동물의왕국\\n경기도 고양시 일산서구',\n",
       " '부천동물테마파크하이주\\n경기도 부천시',\n",
       " '대광사(성남)\\n경기도 성남시 분당구',\n",
       " '대포서원(김포)\\n경기도 김포시',\n",
       " '문헌서원\\n경기도 오산시',\n",
       " '해우재\\n경기도 수원시 장안구',\n",
       " '헤이리 커피박물관\\n경기도 파주시',\n",
       " '추사박물관\\n경기도 과천시',\n",
       " '피노지움\\n경기도 파주시',\n",
       " '아쿠아플라넷일산\\n경기도 고양시 일산동구',\n",
       " '심곡서원\\n경기도 용인시 수지구',\n",
       " '구리시민한강공원(코스모스공원)\\n경기도 구리시',\n",
       " '김포대명항\\n경기도 김포시',\n",
       " '안산다문화특구\\n경기도 안산시 단원구',\n",
       " '광명업사이클아트센터\\n경기도 광명시',\n",
       " '수원시립아이파크미술관\\n경기도 수원시 팔달구',\n",
       " '포천어메이징파크\\n경기도 포천시',\n",
       " '웃다리문화촌\\n경기도 평택시',\n",
       " '에델바이스스위스테마파크\\n경기도 가평군',\n",
       " '경인아라뱃길\\n경기도 김포시',\n",
       " '약암홍염천\\n경기도 김포시',\n",
       " '인터렉티브아트뮤지엄\\n경기도 가평군',\n",
       " '추억의 청춘뮤지엄\\n경기도 양평군',\n",
       " '리틀빅아이자유숲놀이터\\n경기도 양주시',\n",
       " '수원광교박물관\\n경기도 수원시 영통구',\n",
       " '형도\\n경기도 화성시',\n",
       " '캠프 그리브스\\n경기도 파주시',\n",
       " '판교박물관\\n경기도 성남시 분당구',\n",
       " '현대어린이책미술관\\n경기도 성남시 분당구',\n",
       " '편백숲힐링토피아\\n경기도 성남시 수정구',\n",
       " '포천아트밸리\\n경기도 포천시',\n",
       " '주렁주렁(롯데빅마켓킨텍스점)\\n경기도 고양시 일산서구',\n",
       " '화담숲\\n경기도 광주시',\n",
       " '스포츠몬스터하남\\n경기도 하남시',\n",
       " '잣향기푸른숲\\n경기도 가평군',\n",
       " '김포독립운동기념관\\n경기도 김포시',\n",
       " '금강정사\\n경기도 광명시',\n",
       " '팔달산\\n경기도 수원시 팔달구',\n",
       " '김포인삼쌀맥주갤러리\\n경기도 김포시',\n",
       " '김포함상공원\\n경기도 김포시',\n",
       " '와동 생태곤충 체험관\\n경기도 안산시 단원구',\n",
       " '평강식물원\\n경기도 포천시',\n",
       " '파주 장릉(인조,인열왕후) [유네스코 세계문화유산]\\n경기도 파주시',\n",
       " '남양주 사릉(정순왕후) [유네스코 세계문화유산]\\n경기도 남양주시',\n",
       " '송암스페이스센터\\n경기도 양주시',\n",
       " '연천역 급수탑\\n경기도 연천군',\n",
       " '내동마을 연꽃단지\\n경기도 용인시 처인구',\n",
       " '출판도시 활판인쇄박물관\\n경기도 파주시',\n",
       " '경기북부어린이박물관\\n경기도 동두천시',\n",
       " '나를 찾는 정원 (R401 Discovery Park)\\n경기도 양평군',\n",
       " '임진강 황포돛배\\n경기도 파주시',\n",
       " '국립양평치유의숲\\n경기도 양평군',\n",
       " '은하초코기사단\\n경기도 용인시 처인구',\n",
       " '정토사(성남)\\n경기도 성남시 수정구',\n",
       " '보름산미술관(김포)\\n경기도 김포시',\n",
       " '퍼스트가든\\n경기도 파주시',\n",
       " '도라전망대\\n경기도 파주시',\n",
       " '우음도\\n경기도 화성시',\n",
       " '덕평공룡수목원\\n경기도 이천시',\n",
       " '화성우리꽃식물원\\n경기도 화성시',\n",
       " '시흥오이도박물관\\n경기도 시흥시',\n",
       " 'CICA 미술관\\n경기도 김포시',\n",
       " 'GRC 국제 무선모형 자동차 트랙\\n경기도 김포시',\n",
       " '은대리 판상절리와 습곡구조 (한탄강 국가지질공원)\\n경기도 연천군',\n",
       " '중대물빛공원\\n경기도 광주시',\n",
       " '의정부제일시장\\n경기도 의정부시',\n",
       " '계류리 예술창고\\n경기도 포천시',\n",
       " '멍우리 협곡 (한탄강 국가지질공원)\\n경기도 포천시',\n",
       " '포천아우라지배개용암(한탄강국가지질공원)\\n경기도 포천시',\n",
       " '허브빌리지\\n경기도 연천군',\n",
       " '망경암\\n경기도 성남시 수정구',\n",
       " '금정사(김포)\\n경기도 김포시',\n",
       " '국녕사(경기)\\n경기도 고양시 덕양구',\n",
       " '한탄강주상절리길\\n경기도 포천시',\n",
       " '용인 대장금 파크\\n경기도 용인시 처인구',\n",
       " '대부바다향기테마파크\\n경기도 안산시 단원구',\n",
       " '김포 사색의 길\\n경기도 김포시',\n",
       " '김포한강야생조류생태공원\\n경기도 김포시',\n",
       " '신해철거리\\n경기도 성남시 중원구',\n",
       " '광명동굴(가학광산)\\n경기도 광명시',\n",
       " '율봄식물원\\n경기도 광주시',\n",
       " '수원사(수원)\\n경기도 수원시 팔달구',\n",
       " '한과문화박물관 한가원\\n경기도 포천시',\n",
       " '용문산자연휴양림\\n경기도 양평군',\n",
       " '국립 운악산자연휴양림\\n경기도 포천시',\n",
       " '세미원\\n경기도 양평군',\n",
       " '부천식물원\\n경기도 부천시',\n",
       " '용화사(김포)\\n경기도 김포시',\n",
       " '봉녕사(수원)\\n경기도 수원시 팔달구',\n",
       " '망해암\\n경기도 안양시 동안구',\n",
       " '오이도음식문화거리\\n경기도 시흥시',\n",
       " '대부도방아머리먹거리타운\\n경기도 안산시 단원구',\n",
       " '평촌먹거리촌\\n경기도 안양시 동안구',\n",
       " '쁘띠프랑스\\n경기도 가평군',\n",
       " '호명호수공원\\n경기도 가평군',\n",
       " '경인아라뱃길유람선 현대크루즈호\\n경기도 김포시',\n",
       " '웅진플레이도시 워터도시\\n경기도 부천시',\n",
       " '하남이성산성\\n경기도 하남시',\n",
       " '선인장다육식물연구소(구선인장연구소)\\n경기도 고양시 일산서구',\n",
       " '은행식물원(은행자연관찰원)\\n경기도 성남시 중원구',\n",
       " '파주 나비나라박물관\\n경기도 파주시',\n",
       " '포천 이동갈비마을\\n경기도 포천시',\n",
       " '의정부부대찌개거리\\n경기도 의정부시',\n",
       " '옥천리 냉면마을\\n경기도 양평군',\n",
       " '천서리 막국수촌\\n경기도 여주시',\n",
       " '분원리 붕어찜마을\\n경기도 광주시',\n",
       " '까치울먹거리촌(작동먹거리촌)\\n경기도 부천시',\n",
       " '단대동닭죽촌\\n경기도 성남시 수정구',\n",
       " '파주 맛고을 음식문화거리\\n경기도 파주시',\n",
       " '제부도 모세거리\\n경기도 화성시',\n",
       " '국립과천과학관\\n경기도 과천시',\n",
       " '안산 어촌민속박물관\\n경기도 안산시 단원구',\n",
       " '곤지암리조트\\n경기도 광주시',\n",
       " '수원박물관\\n경기도 수원시 영통구',\n",
       " '장흥자생수목원\\n경기도 양주시',\n",
       " '경안천 습지생태공원\\n경기도 광주시',\n",
       " '연천 나룻배마을\\n경기도 연천군',\n",
       " '동주염전\\n경기도 안산시 단원구',\n",
       " '발안식염온천\\n경기도 화성시',\n",
       " '화성베어팜\\n경기도 화성시',\n",
       " '우저서원\\n경기도 김포시',\n",
       " '걸포중앙공원\\n경기도 김포시',\n",
       " '양평 황순원문학촌 소나기마을\\n경기도 양평군',\n",
       " '평화랜드\\n경기도 파주시',\n",
       " '월화원\\n경기도 수원시 팔달구',\n",
       " '검단산\\n경기도 하남시',\n",
       " '마장호수\\n경기도 파주시',\n",
       " '일영허브랜드\\n경기도 양주시',\n",
       " '재미있는 추억 박물관\\n경기도 파주시',\n",
       " '연꽃테마파크\\n경기도 시흥시',\n",
       " '광주산두른마을[농촌전통테마]\\n경기도 광주시',\n",
       " '화도하수처리장피아노폭포\\n경기도 남양주시',\n",
       " '자라섬오토캠핑장\\n경기도 가평군',\n",
       " '관곡지\\n경기도 시흥시',\n",
       " '시흥갯골생태공원\\n경기도 시흥시',\n",
       " '상동호수공원\\n경기도 부천시',\n",
       " '도당공원\\n경기도 부천시',\n",
       " '대원공원\\n경기도 성남시 중원구',\n",
       " '한재당\\n경기도 김포시',\n",
       " '월곶면민만세운동유적비\\n경기도 김포시',\n",
       " '진주목장 낙농체험\\n경기도 화성시',\n",
       " '팔당호\\n경기도 광주시',\n",
       " '용인자연휴양림\\n경기도 용인시 처인구',\n",
       " '오대산국립공원\\n강원도 평창군',\n",
       " '태백산국립공원\\n강원도 태백시',\n",
       " '치악산국립공원\\n강원도 원주시',\n",
       " '설악산국립공원(내설악)\\n강원도 인제군',\n",
       " '국립 삼봉자연휴양림\\n강원도 홍천군',\n",
       " '국립 대관령자연휴양림\\n강원도 강릉시',\n",
       " '국립 용대자연휴양림\\n강원도 인제군',\n",
       " '국립청태산자연휴양림\\n강원도 횡성군',\n",
       " '광치자연휴양림\\n강원도 양구군',\n",
       " '알펜시아 오션700\\n강원도 평창군',\n",
       " '무릉계곡\\n강원도 동해시',\n",
       " '십이선녀탕(탕수동계곡)\\n강원도 인제군',\n",
       " '어라연 (강원고생대 국가지질공원)\\n강원도 영월군',\n",
       " '순담계곡\\n강원도 철원군',\n",
       " '직탕폭포 (한탄강 국가지질공원)\\n강원도 철원군',\n",
       " '삼부연폭포 (한탄강 국가지질공원)\\n강원도 철원군',\n",
       " '한계령\\n강원도 양양군',\n",
       " '민둥산\\n강원도 정선군',\n",
       " '강촌유원지\\n강원도 춘천시',\n",
       " '삼악산(춘천)\\n강원도 춘천시',\n",
       " '장호해수욕장(장호항, 장호해변)\\n강원도 삼척시',\n",
       " '어달해변\\n강원도 동해시',\n",
       " '속초해변\\n강원도 속초시',\n",
       " '낙산해수욕장\\n강원도 양양군',\n",
       " '남애해변(남애1, 3리)\\n강원도 양양군',\n",
       " '주문진해변\\n강원도 강릉시',\n",
       " '사천해변(사천해수욕장)\\n강원도 강릉시',\n",
       " '남항진해변(남항진해수욕장)\\n강원도 강릉시',\n",
       " '아야진해변\\n강원도 고성군',\n",
       " '지경리해변\\n강원도 양양군',\n",
       " '청평사(춘천)\\n강원도 춘천시',\n",
       " '법흥사(영월)\\n강원도 영월군',\n",
       " '청초호\\n강원도 속초시',\n",
       " '춘천호\\n강원도 춘천시',\n",
       " '황지연못\\n강원도 태백시',\n",
       " '마곡유원지\\n강원도 홍천군',\n",
       " '모곡밤벌유원지\\n강원도 홍천군',\n",
       " '고씨굴(강원고생대국가지질공원)\\n강원도 영월군',\n",
       " '죽도해변(양양)\\n강원도 양양군',\n",
       " '망상해변\\n강원도 동해시',\n",
       " '파로호(화천)\\n강원도 화천군',\n",
       " '삼척 죽서루\\n강원도 삼척시',\n",
       " '영월 장릉(단종) [유네스코 세계문화유산]\\n강원도 영월군',\n",
       " '강릉경포대\\n강원도 강릉시',\n",
       " '강릉오죽헌\\n강원도 강릉시',\n",
       " '청령포(강원고생대국가지질공원)\\n강원도 영월군',\n",
       " '고석정국민관광지\\n강원도 철원군',\n",
       " '아우라지\\n강원도 정선군',\n",
       " '양양낙산사\\n강원도 양양군',\n",
       " '백담사\\n강원도 인제군',\n",
       " '국립 방태산자연휴양림\\n강원도 인제군',\n",
       " '궁촌해변(궁촌해수욕장)\\n강원도 삼척시',\n",
       " '간현관광지\\n강원도 원주시',\n",
       " '파로호(양구)\\n강원도 양구군',\n",
       " '두타연(강원평화지역국가지질공원)\\n강원도 양구군',\n",
       " '속초관광수산시장\\n강원도 속초시',\n",
       " '을지전망대\\n강원도 양구군',\n",
       " '설악 흔들바위\\n강원도 속초시',\n",
       " '고성 왕곡마을\\n강원도 고성군',\n",
       " '소양호(춘천)\\n강원도 춘천시',\n",
       " '가진해변\\n강원도 고성군',\n",
       " '초도해변\\n강원도 고성군',\n",
       " '명파해변\\n강원도 고성군',\n",
       " '주천강자연휴양림\\n강원도 횡성군',\n",
       " '남애항\\n강원도 양양군',\n",
       " '용연동굴 (강원고생대 국가지질공원)\\n강원도 태백시',\n",
       " '대이리 동굴지대\\n강원도 삼척시',\n",
       " '용평리조트\\n강원도 평창군',\n",
       " '설악워터피아\\n강원도 속초시',\n",
       " '봉수대해변\\n강원도 고성군',\n",
       " '철원 철새도래지 (철원평야)\\n강원도 철원군',\n",
       " '강원도립화목원\\n강원도 춘천시',\n",
       " '원주 법천사지\\n강원도 원주시',\n",
       " '동강(정선)\\n강원도 정선군',\n",
       " '대관령황태덕장마을\\n강원도 평창군',\n",
       " '양양 송천떡마을\\n강원도 양양군',\n",
       " '강릉 통일공원\\n강원도 강릉시',\n",
       " '이효석문화마을\\n강원도 평창군',\n",
       " '검룡소 (강원고생대 국가지질공원)\\n강원도 태백시',\n",
       " '청간해변\\n강원도 고성군',\n",
       " '허브나라농원\\n강원도 평창군',\n",
       " '초곡해수욕장\\n강원도 삼척시',\n",
       " '원평해변(원평해수욕장)\\n강원도 삼척시',\n",
       " '증산해변(증산 해수욕장)\\n강원도 삼척시',\n",
       " '안목해변\\n강원도 강릉시',\n",
       " '엘리시안 강촌\\n강원도 춘천시',\n",
       " '공지천(황금비늘테마거리)\\n강원도 춘천시',\n",
       " '설악산국립공원\\n강원도 속초시',\n",
       " '송지호해안서낭바위(강원평화지역국가지질공원)\\n강원도 고성군',\n",
       " '집다리골자연휴양림\\n강원도 춘천시',\n",
       " '남이섬\\n강원도 춘천시',\n",
       " '화천 비목공원\\n강원도 화천군',\n",
       " '강릉 구라미온천\\n강원도 강릉시',\n",
       " '김유정문학촌\\n강원도 춘천시',\n",
       " '오대산 소금강계곡\\n강원도 강릉시',\n",
       " '미시령계곡\\n강원도 인제군',\n",
       " '수입천(하천)\\n강원도 양구군',\n",
       " '송지호 해수욕장\\n강원도 고성군',\n",
       " '맹방해변\\n강원도 삼척시',\n",
       " '국립 미천골자연휴양림\\n강원도 양양군',\n",
       " '대암산 용늪 (강원평화지역 국가지질공원)\\n강원도 양구군',\n",
       " '삼척 해신당공원\\n강원도 삼척시',\n",
       " '속초 설악해맞이공원\\n강원도 속초시',\n",
       " '박경리문학공원\\n강원도 원주시',\n",
       " '옥계해변\\n강원도 강릉시',\n",
       " '고성통일전망타워\\n강원도 고성군',\n",
       " '척산온천지구\\n강원도 속초시',\n",
       " '안흥찐빵마을\\n강원도 횡성군',\n",
       " '치악산자연휴양림\\n강원도 원주시',\n",
       " '홍천 아로마 허브동산\\n강원도 홍천군',\n",
       " '공지천 조각공원\\n강원도 춘천시',\n",
       " '학사평 콩꽃마을 순두부촌\\n강원도 속초시',\n",
       " '추암촛대바위\\n강원도 동해시',\n",
       " '장호항\\n강원도 삼척시',\n",
       " '경포해변\\n강원도 강릉시',\n",
       " '정동진해변\\n강원도 강릉시',\n",
       " '문암1리해변 (자작도)\\n강원도 고성군',\n",
       " '영진해변\\n강원도 강릉시',\n",
       " '사근진해변(사근진해수욕장)\\n강원도 강릉시',\n",
       " '모래시계공원\\n강원도 강릉시',\n",
       " '하조대 무인등대\\n강원도 양양군',\n",
       " '묵호항\\n강원도 동해시',\n",
       " '소돌아들바위공원\\n강원도 강릉시',\n",
       " '소양강처녀상\\n강원도 춘천시',\n",
       " '설악 파인리조트 가든스파\\n강원도 속초시',\n",
       " '팔석정\\n강원도 평창군',\n",
       " '대관령양떼목장\\n강원도 평창군',\n",
       " '홍천비발디파크\\n강원도 홍천군',\n",
       " '태백고원자연휴양림\\n강원도 태백시',\n",
       " '섬강(섬강유원지)\\n강원도 횡성군',\n",
       " '박수근미술관\\n강원도 양구군',\n",
       " '영월곤충박물관\\n강원도 영월군',\n",
       " '평창무이예술관\\n강원도 평창군',\n",
       " '화진포 해양박물관\\n강원도 고성군',\n",
       " '조선민화박물관\\n강원도 영월군',\n",
       " '대관령박물관\\n강원도 강릉시',\n",
       " '구봉산전망대카페거리\\n강원도 춘천시',\n",
       " '용소막성당\\n강원도 원주시',\n",
       " '원주원성성남리성황림\\n강원도 원주시',\n",
       " '대포항\\n강원도 속초시',\n",
       " '주문진항\\n강원도 강릉시',\n",
       " '이승복기념관\\n강원도 평창군',\n",
       " '춘천막국수체험박물관\\n강원도 춘천시',\n",
       " '아라리인형의집\\n강원도 정선군',\n",
       " '양구통일관\\n강원도 양구군',\n",
       " '강원종합박물관\\n강원도 삼척시',\n",
       " '강원경찰박물관\\n강원도 춘천시',\n",
       " '모형항공기박물관\\n강원도 춘천시',\n",
       " '정선향토박물관\\n강원도 정선군',\n",
       " '인제산촌민속박물관\\n강원도 인제군',\n",
       " '알펜시아리조트\\n강원도 평창군',\n",
       " '백룡동굴(강원고생대국가지질공원)\\n강원도 평창군',\n",
       " '강릉 동부시장\\n강원도 강릉시',\n",
       " '강릉중앙시장\\n강원도 강릉시',\n",
       " '원주중앙시장\\n강원도 원주시',\n",
       " '삼척 도계전두시장\\n강원도 삼척시',\n",
       " '오크밸리스키장\\n강원도 원주시',\n",
       " '용평리조트 스키장\\n강원도 평창군',\n",
       " '휘닉스파크(워터파크)\\n강원도 평창군',\n",
       " '웰리힐리파크\\n강원도 횡성군',\n",
       " '태백 상장동 벽화마을\\n강원도 태백시',\n",
       " '금대봉야생화 군락지\\n강원도 태백시',\n",
       " '365세이프타운\\n강원도 태백시',\n",
       " '평화의댐(화천)\\n강원도 화천군',\n",
       " '홍천테마파크(구, 예술촌)\\n강원도 홍천군',\n",
       " '팔봉산관광지\\n강원도 홍천군',\n",
       " '제이드가든수목원\\n강원도 춘천시',\n",
       " '로하스파크&와카푸카\\n강원도 평창군',\n",
       " '하이원리조트\\n강원도 정선군',\n",
       " '태백 고생대자연사박물관\\n강원도 태백시',\n",
       " '삼척 맹방유채꽃 마을\\n강원도 삼척시',\n",
       " '호안다구박물관\\n강원도 영월군',\n",
       " '구은사\\n강원도 철원군',\n",
       " '대관령 하늘목장\\n강원도 평창군',\n",
       " '강촌레일파크\\n강원도 춘천시',\n",
       " '인도미술박물관\\n강원도 영월군',\n",
       " '외옹치해변\\n강원도 속초시',\n",
       " '홍천은행나무숲\\n강원도 홍천군',\n",
       " '강원 영월 김삿갓 [슬로시티]\\n강원도 영월군',\n",
       " '원대리자작나무숲(속삭이는자작나무숲)\\n강원도 인제군',\n",
       " '소금산\\n강원도 원주시',\n",
       " '유현문화관광지\\n강원도 횡성군',\n",
       " '어답산관광지\\n강원도 횡성군',\n",
       " '동해무릉건강숲\\n강원도 동해시',\n",
       " '원주허브팜\\n강원도 원주시',\n",
       " 'DMZ생태평화공원\\n강원도 철원군',\n",
       " '파로호 안보전시관\\n강원도 화천군',\n",
       " '소이산 생태숲 녹색길\\n강원도 철원군',\n",
       " '인제스피디움리조트 서킷\\n강원도 인제군',\n",
       " '수로부인헌화공원(남화산해맞이공원)\\n강원도 삼척시',\n",
       " '강릉시립미술관\\n강원도 강릉시',\n",
       " '행구수변공원\\n강원도 원주시',\n",
       " '한지공예관\\n강원도 원주시',\n",
       " '조엄기념관\\n강원도 원주시',\n",
       " '옻칠기공예관\\n강원도 원주시',\n",
       " '곤충마을박물관\\n강원도 원주시',\n",
       " '박사마을\\n강원도 춘천시',\n",
       " '강촌환경생태연못\\n강원도 춘천시',\n",
       " '강촌랜드\\n강원도 춘천시',\n",
       " '소양강스카이워크\\n강원도 춘천시',\n",
       " '통일공원함정전시관\\n강원도 강릉시',\n",
       " '자연아놀자 체험학습박물관\\n강원도 강릉시',\n",
       " '옥계항\\n강원도 강릉시',\n",
       " '안반데기 마을\\n강원도 강릉시',\n",
       " '심곡항\\n강원도 강릉시',\n",
       " '수상한마법학교\\n강원도 강릉시',\n",
       " '사천항\\n강원도 강릉시',\n",
       " '매월당김시습기념관\\n강원도 강릉시',\n",
       " '경포가시연습지\\n강원도 강릉시',\n",
       " '강릉안목해맞이공원\\n강원도 강릉시',\n",
       " '갈남항\\n강원도 삼척시',\n",
       " '수산항\\n강원도 양양군',\n",
       " '물치해변\\n강원도 양양군',\n",
       " '범패사\\n강원도 태백시',\n",
       " '만덕사\\n강원도 태백시',\n",
       " '한섬해변\\n강원도 동해시',\n",
       " '하평해변\\n강원도 동해시',\n",
       " '삼화사 템플스테이\\n강원도 동해시',\n",
       " '감추해변\\n강원도 동해시',\n",
       " '가원습지 생태자연공원\\n강원도 동해시',\n",
       " '영월음향역사박물관\\n강원도 영월군',\n",
       " '영월미디어기자박물관\\n강원도 영월군',\n",
       " '영월동강생태공원\\n강원도 영월군',\n",
       " '술샘박물관\\n강원도 영월군',\n",
       " '만봉불화박물관\\n강원도 영월군',\n",
       " '올챙이추억전시관\\n강원도 횡성군',\n",
       " '강원도자연환경연구공원\\n강원도 홍천군',\n",
       " '월천리 솔섬\\n강원도 삼척시',\n",
       " '중광정해변\\n강원도 양양군',\n",
       " '정암해변\\n강원도 양양군',\n",
       " '초도항\\n강원도 고성군',\n",
       " '천진항\\n강원도 고성군',\n",
       " '자작도해변\\n강원도 고성군',\n",
       " '아야진항\\n강원도 고성군',\n",
       " '봉포항\\n강원도 고성군',\n",
       " '거진등대해맞이공원\\n강원도 고성군',\n",
       " '쾌연재도자미술관\\n강원도 영월군',\n",
       " '초등교육박물관\\n강원도 영월군',\n",
       " '제이큐브미술관\\n강원도 영월군',\n",
       " '영월종교미술박물관\\n강원도 영월군',\n",
       " '강릉커피거리\\n강원도 강릉시',\n",
       " '아라리촌\\n강원도 정선군',\n",
       " '고생대 화석산지\\n강원도 태백시',\n",
       " '철원토성및석조물\\n강원도 철원군',\n",
       " ...]"
      ]
     },
     "execution_count": 242,
     "metadata": {},
     "output_type": "execute_result"
    }
   ],
   "source": [
    "total_data=item_list1+item_list2+item_list3+item_list4+item_list5+item_list6+item_list7+item_list8+item_list9+item_list10+item_list11+item_list12+item_list13+item_list14+item_list15+item_list16+item_list17\n",
    "total_data"
   ]
  },
  {
   "cell_type": "markdown",
   "id": "10d0c864",
   "metadata": {},
   "source": [
    "## 새로운 데이터프레임 생성하기"
   ]
  },
  {
   "cell_type": "code",
   "execution_count": 245,
   "id": "a0cef56b",
   "metadata": {
    "scrolled": false
   },
   "outputs": [
    {
     "data": {
      "text/html": [
       "<div>\n",
       "<style scoped>\n",
       "    .dataframe tbody tr th:only-of-type {\n",
       "        vertical-align: middle;\n",
       "    }\n",
       "\n",
       "    .dataframe tbody tr th {\n",
       "        vertical-align: top;\n",
       "    }\n",
       "\n",
       "    .dataframe thead th {\n",
       "        text-align: right;\n",
       "    }\n",
       "</style>\n",
       "<table border=\"1\" class=\"dataframe\">\n",
       "  <thead>\n",
       "    <tr style=\"text-align: right;\">\n",
       "      <th></th>\n",
       "      <th>0</th>\n",
       "    </tr>\n",
       "  </thead>\n",
       "  <tbody>\n",
       "    <tr>\n",
       "      <th>0</th>\n",
       "      <td>서울풍물시장전통문화체험관\\n서울특별시 동대문구</td>\n",
       "    </tr>\n",
       "    <tr>\n",
       "      <th>1</th>\n",
       "      <td>양재시민의숲\\n서울특별시 서초구</td>\n",
       "    </tr>\n",
       "    <tr>\n",
       "      <th>2</th>\n",
       "      <td>봉화산(서울)\\n서울특별시 중랑구</td>\n",
       "    </tr>\n",
       "    <tr>\n",
       "      <th>3</th>\n",
       "      <td>파리공원\\n서울특별시 양천구</td>\n",
       "    </tr>\n",
       "    <tr>\n",
       "      <th>4</th>\n",
       "      <td>한강시민공원 망원지구(망원한강공원)\\n서울특별시 마포구</td>\n",
       "    </tr>\n",
       "    <tr>\n",
       "      <th>...</th>\n",
       "      <td>...</td>\n",
       "    </tr>\n",
       "    <tr>\n",
       "      <th>2492</th>\n",
       "      <td>드라마하우스\\n울산광역시 울주군</td>\n",
       "    </tr>\n",
       "    <tr>\n",
       "      <th>2493</th>\n",
       "      <td>회야댐 생태공원\\n울산광역시 울주군</td>\n",
       "    </tr>\n",
       "    <tr>\n",
       "      <th>2494</th>\n",
       "      <td>태화강동굴피아\\n울산광역시 남구</td>\n",
       "    </tr>\n",
       "    <tr>\n",
       "      <th>2495</th>\n",
       "      <td>국립대운산치유의숲\\n울산광역시 울주군</td>\n",
       "    </tr>\n",
       "    <tr>\n",
       "      <th>2496</th>\n",
       "      <td>함월루\\n울산광역시 중구</td>\n",
       "    </tr>\n",
       "  </tbody>\n",
       "</table>\n",
       "<p>2497 rows × 1 columns</p>\n",
       "</div>"
      ],
      "text/plain": [
       "                                   0\n",
       "0          서울풍물시장전통문화체험관\\n서울특별시 동대문구\n",
       "1                  양재시민의숲\\n서울특별시 서초구\n",
       "2                 봉화산(서울)\\n서울특별시 중랑구\n",
       "3                    파리공원\\n서울특별시 양천구\n",
       "4     한강시민공원 망원지구(망원한강공원)\\n서울특별시 마포구\n",
       "...                              ...\n",
       "2492               드라마하우스\\n울산광역시 울주군\n",
       "2493             회야댐 생태공원\\n울산광역시 울주군\n",
       "2494               태화강동굴피아\\n울산광역시 남구\n",
       "2495            국립대운산치유의숲\\n울산광역시 울주군\n",
       "2496                   함월루\\n울산광역시 중구\n",
       "\n",
       "[2497 rows x 1 columns]"
      ]
     },
     "execution_count": 245,
     "metadata": {},
     "output_type": "execute_result"
    }
   ],
   "source": [
    "df=pd.DataFrame(data=total_data) \n",
    "df"
   ]
  },
  {
   "cell_type": "markdown",
   "id": "57603711",
   "metadata": {},
   "source": [
    "## 하나의 열을 여러 개의 열로 나누기"
   ]
  },
  {
   "cell_type": "code",
   "execution_count": 248,
   "id": "352f66b7",
   "metadata": {},
   "outputs": [
    {
     "data": {
      "text/plain": [
       "0            [서울풍물시장전통문화체험관, 서울특별시 동대문구]\n",
       "1                    [양재시민의숲, 서울특별시 서초구]\n",
       "2                   [봉화산(서울), 서울특별시 중랑구]\n",
       "3                      [파리공원, 서울특별시 양천구]\n",
       "4       [한강시민공원 망원지구(망원한강공원), 서울특별시 마포구]\n",
       "                      ...               \n",
       "2492                 [드라마하우스, 울산광역시 울주군]\n",
       "2493               [회야댐 생태공원, 울산광역시 울주군]\n",
       "2494                 [태화강동굴피아, 울산광역시 남구]\n",
       "2495              [국립대운산치유의숲, 울산광역시 울주군]\n",
       "2496                     [함월루, 울산광역시 중구]\n",
       "Name: 0, Length: 2497, dtype: object"
      ]
     },
     "execution_count": 248,
     "metadata": {},
     "output_type": "execute_result"
    }
   ],
   "source": [
    "# '\\n'으로 문자열 나누기\n",
    "place_str=df.iloc[:,0].str.split('\\n')\n",
    "place_str"
   ]
  },
  {
   "cell_type": "code",
   "execution_count": 249,
   "id": "c7504474",
   "metadata": {},
   "outputs": [
    {
     "data": {
      "text/html": [
       "<div>\n",
       "<style scoped>\n",
       "    .dataframe tbody tr th:only-of-type {\n",
       "        vertical-align: middle;\n",
       "    }\n",
       "\n",
       "    .dataframe tbody tr th {\n",
       "        vertical-align: top;\n",
       "    }\n",
       "\n",
       "    .dataframe thead th {\n",
       "        text-align: right;\n",
       "    }\n",
       "</style>\n",
       "<table border=\"1\" class=\"dataframe\">\n",
       "  <thead>\n",
       "    <tr style=\"text-align: right;\">\n",
       "      <th></th>\n",
       "      <th>0</th>\n",
       "      <th>관광명소</th>\n",
       "      <th>시군구</th>\n",
       "    </tr>\n",
       "  </thead>\n",
       "  <tbody>\n",
       "    <tr>\n",
       "      <th>0</th>\n",
       "      <td>서울풍물시장전통문화체험관\\n서울특별시 동대문구</td>\n",
       "      <td>서울풍물시장전통문화체험관</td>\n",
       "      <td>서울특별시 동대문구</td>\n",
       "    </tr>\n",
       "    <tr>\n",
       "      <th>1</th>\n",
       "      <td>양재시민의숲\\n서울특별시 서초구</td>\n",
       "      <td>양재시민의숲</td>\n",
       "      <td>서울특별시 서초구</td>\n",
       "    </tr>\n",
       "    <tr>\n",
       "      <th>2</th>\n",
       "      <td>봉화산(서울)\\n서울특별시 중랑구</td>\n",
       "      <td>봉화산(서울)</td>\n",
       "      <td>서울특별시 중랑구</td>\n",
       "    </tr>\n",
       "    <tr>\n",
       "      <th>3</th>\n",
       "      <td>파리공원\\n서울특별시 양천구</td>\n",
       "      <td>파리공원</td>\n",
       "      <td>서울특별시 양천구</td>\n",
       "    </tr>\n",
       "    <tr>\n",
       "      <th>4</th>\n",
       "      <td>한강시민공원 망원지구(망원한강공원)\\n서울특별시 마포구</td>\n",
       "      <td>한강시민공원 망원지구(망원한강공원)</td>\n",
       "      <td>서울특별시 마포구</td>\n",
       "    </tr>\n",
       "    <tr>\n",
       "      <th>...</th>\n",
       "      <td>...</td>\n",
       "      <td>...</td>\n",
       "      <td>...</td>\n",
       "    </tr>\n",
       "    <tr>\n",
       "      <th>2492</th>\n",
       "      <td>드라마하우스\\n울산광역시 울주군</td>\n",
       "      <td>드라마하우스</td>\n",
       "      <td>울산광역시 울주군</td>\n",
       "    </tr>\n",
       "    <tr>\n",
       "      <th>2493</th>\n",
       "      <td>회야댐 생태공원\\n울산광역시 울주군</td>\n",
       "      <td>회야댐 생태공원</td>\n",
       "      <td>울산광역시 울주군</td>\n",
       "    </tr>\n",
       "    <tr>\n",
       "      <th>2494</th>\n",
       "      <td>태화강동굴피아\\n울산광역시 남구</td>\n",
       "      <td>태화강동굴피아</td>\n",
       "      <td>울산광역시 남구</td>\n",
       "    </tr>\n",
       "    <tr>\n",
       "      <th>2495</th>\n",
       "      <td>국립대운산치유의숲\\n울산광역시 울주군</td>\n",
       "      <td>국립대운산치유의숲</td>\n",
       "      <td>울산광역시 울주군</td>\n",
       "    </tr>\n",
       "    <tr>\n",
       "      <th>2496</th>\n",
       "      <td>함월루\\n울산광역시 중구</td>\n",
       "      <td>함월루</td>\n",
       "      <td>울산광역시 중구</td>\n",
       "    </tr>\n",
       "  </tbody>\n",
       "</table>\n",
       "<p>2497 rows × 3 columns</p>\n",
       "</div>"
      ],
      "text/plain": [
       "                                   0                 관광명소         시군구\n",
       "0          서울풍물시장전통문화체험관\\n서울특별시 동대문구        서울풍물시장전통문화체험관  서울특별시 동대문구\n",
       "1                  양재시민의숲\\n서울특별시 서초구               양재시민의숲   서울특별시 서초구\n",
       "2                 봉화산(서울)\\n서울특별시 중랑구              봉화산(서울)   서울특별시 중랑구\n",
       "3                    파리공원\\n서울특별시 양천구                 파리공원   서울특별시 양천구\n",
       "4     한강시민공원 망원지구(망원한강공원)\\n서울특별시 마포구  한강시민공원 망원지구(망원한강공원)   서울특별시 마포구\n",
       "...                              ...                  ...         ...\n",
       "2492               드라마하우스\\n울산광역시 울주군               드라마하우스   울산광역시 울주군\n",
       "2493             회야댐 생태공원\\n울산광역시 울주군             회야댐 생태공원   울산광역시 울주군\n",
       "2494               태화강동굴피아\\n울산광역시 남구              태화강동굴피아    울산광역시 남구\n",
       "2495            국립대운산치유의숲\\n울산광역시 울주군            국립대운산치유의숲   울산광역시 울주군\n",
       "2496                   함월루\\n울산광역시 중구                  함월루    울산광역시 중구\n",
       "\n",
       "[2497 rows x 3 columns]"
      ]
     },
     "execution_count": 249,
     "metadata": {},
     "output_type": "execute_result"
    }
   ],
   "source": [
    "# 문자열을 나눈 것의 첫번째를 '관광명소'컬럼으로, 두번째를 '시군구'컴럼으로 생성\n",
    "name=place_str.str.get(0)\n",
    "sigungu=place_str.str.get(1)\n",
    "\n",
    "df['관광명소'],df['시군구']=(name,sigungu)\n",
    "df"
   ]
  },
  {
   "cell_type": "code",
   "execution_count": 252,
   "id": "ea9edbb5",
   "metadata": {},
   "outputs": [
    {
     "data": {
      "text/html": [
       "<div>\n",
       "<style scoped>\n",
       "    .dataframe tbody tr th:only-of-type {\n",
       "        vertical-align: middle;\n",
       "    }\n",
       "\n",
       "    .dataframe tbody tr th {\n",
       "        vertical-align: top;\n",
       "    }\n",
       "\n",
       "    .dataframe thead th {\n",
       "        text-align: right;\n",
       "    }\n",
       "</style>\n",
       "<table border=\"1\" class=\"dataframe\">\n",
       "  <thead>\n",
       "    <tr style=\"text-align: right;\">\n",
       "      <th></th>\n",
       "      <th>관광명소</th>\n",
       "      <th>시군구</th>\n",
       "    </tr>\n",
       "  </thead>\n",
       "  <tbody>\n",
       "    <tr>\n",
       "      <th>0</th>\n",
       "      <td>서울풍물시장전통문화체험관</td>\n",
       "      <td>서울특별시 동대문구</td>\n",
       "    </tr>\n",
       "    <tr>\n",
       "      <th>1</th>\n",
       "      <td>양재시민의숲</td>\n",
       "      <td>서울특별시 서초구</td>\n",
       "    </tr>\n",
       "    <tr>\n",
       "      <th>2</th>\n",
       "      <td>봉화산(서울)</td>\n",
       "      <td>서울특별시 중랑구</td>\n",
       "    </tr>\n",
       "    <tr>\n",
       "      <th>3</th>\n",
       "      <td>파리공원</td>\n",
       "      <td>서울특별시 양천구</td>\n",
       "    </tr>\n",
       "    <tr>\n",
       "      <th>4</th>\n",
       "      <td>한강시민공원 망원지구(망원한강공원)</td>\n",
       "      <td>서울특별시 마포구</td>\n",
       "    </tr>\n",
       "    <tr>\n",
       "      <th>...</th>\n",
       "      <td>...</td>\n",
       "      <td>...</td>\n",
       "    </tr>\n",
       "    <tr>\n",
       "      <th>2492</th>\n",
       "      <td>드라마하우스</td>\n",
       "      <td>울산광역시 울주군</td>\n",
       "    </tr>\n",
       "    <tr>\n",
       "      <th>2493</th>\n",
       "      <td>회야댐 생태공원</td>\n",
       "      <td>울산광역시 울주군</td>\n",
       "    </tr>\n",
       "    <tr>\n",
       "      <th>2494</th>\n",
       "      <td>태화강동굴피아</td>\n",
       "      <td>울산광역시 남구</td>\n",
       "    </tr>\n",
       "    <tr>\n",
       "      <th>2495</th>\n",
       "      <td>국립대운산치유의숲</td>\n",
       "      <td>울산광역시 울주군</td>\n",
       "    </tr>\n",
       "    <tr>\n",
       "      <th>2496</th>\n",
       "      <td>함월루</td>\n",
       "      <td>울산광역시 중구</td>\n",
       "    </tr>\n",
       "  </tbody>\n",
       "</table>\n",
       "<p>2497 rows × 2 columns</p>\n",
       "</div>"
      ],
      "text/plain": [
       "                     관광명소         시군구\n",
       "0           서울풍물시장전통문화체험관  서울특별시 동대문구\n",
       "1                  양재시민의숲   서울특별시 서초구\n",
       "2                 봉화산(서울)   서울특별시 중랑구\n",
       "3                    파리공원   서울특별시 양천구\n",
       "4     한강시민공원 망원지구(망원한강공원)   서울특별시 마포구\n",
       "...                   ...         ...\n",
       "2492               드라마하우스   울산광역시 울주군\n",
       "2493             회야댐 생태공원   울산광역시 울주군\n",
       "2494              태화강동굴피아    울산광역시 남구\n",
       "2495            국립대운산치유의숲   울산광역시 울주군\n",
       "2496                  함월루    울산광역시 중구\n",
       "\n",
       "[2497 rows x 2 columns]"
      ]
     },
     "execution_count": 252,
     "metadata": {},
     "output_type": "execute_result"
    }
   ],
   "source": [
    "# 필요없는 컬럼 삭제하기\n",
    "df=df.drop(0,axis=1)\n",
    "df"
   ]
  },
  {
   "cell_type": "code",
   "execution_count": 4,
   "id": "08e657c1",
   "metadata": {},
   "outputs": [],
   "source": [
    "df.drop('Unnamed: 0', axis=1, inplace=True)"
   ]
  },
  {
   "cell_type": "code",
   "execution_count": 5,
   "id": "c3bc0904",
   "metadata": {},
   "outputs": [
    {
     "data": {
      "text/html": [
       "<div>\n",
       "<style scoped>\n",
       "    .dataframe tbody tr th:only-of-type {\n",
       "        vertical-align: middle;\n",
       "    }\n",
       "\n",
       "    .dataframe tbody tr th {\n",
       "        vertical-align: top;\n",
       "    }\n",
       "\n",
       "    .dataframe thead th {\n",
       "        text-align: right;\n",
       "    }\n",
       "</style>\n",
       "<table border=\"1\" class=\"dataframe\">\n",
       "  <thead>\n",
       "    <tr style=\"text-align: right;\">\n",
       "      <th></th>\n",
       "      <th>관광명소</th>\n",
       "      <th>시군구</th>\n",
       "    </tr>\n",
       "  </thead>\n",
       "  <tbody>\n",
       "    <tr>\n",
       "      <th>0</th>\n",
       "      <td>서울풍물시장전통문화체험관</td>\n",
       "      <td>서울특별시 동대문구</td>\n",
       "    </tr>\n",
       "    <tr>\n",
       "      <th>1</th>\n",
       "      <td>양재시민의숲</td>\n",
       "      <td>서울특별시 서초구</td>\n",
       "    </tr>\n",
       "    <tr>\n",
       "      <th>2</th>\n",
       "      <td>봉화산(서울)</td>\n",
       "      <td>서울특별시 중랑구</td>\n",
       "    </tr>\n",
       "    <tr>\n",
       "      <th>3</th>\n",
       "      <td>파리공원</td>\n",
       "      <td>서울특별시 양천구</td>\n",
       "    </tr>\n",
       "    <tr>\n",
       "      <th>4</th>\n",
       "      <td>한강시민공원 망원지구(망원한강공원)</td>\n",
       "      <td>서울특별시 마포구</td>\n",
       "    </tr>\n",
       "    <tr>\n",
       "      <th>...</th>\n",
       "      <td>...</td>\n",
       "      <td>...</td>\n",
       "    </tr>\n",
       "    <tr>\n",
       "      <th>2492</th>\n",
       "      <td>드라마하우스</td>\n",
       "      <td>울산광역시 울주군</td>\n",
       "    </tr>\n",
       "    <tr>\n",
       "      <th>2493</th>\n",
       "      <td>회야댐 생태공원</td>\n",
       "      <td>울산광역시 울주군</td>\n",
       "    </tr>\n",
       "    <tr>\n",
       "      <th>2494</th>\n",
       "      <td>태화강동굴피아</td>\n",
       "      <td>울산광역시 남구</td>\n",
       "    </tr>\n",
       "    <tr>\n",
       "      <th>2495</th>\n",
       "      <td>국립대운산치유의숲</td>\n",
       "      <td>울산광역시 울주군</td>\n",
       "    </tr>\n",
       "    <tr>\n",
       "      <th>2496</th>\n",
       "      <td>함월루</td>\n",
       "      <td>울산광역시 중구</td>\n",
       "    </tr>\n",
       "  </tbody>\n",
       "</table>\n",
       "<p>2497 rows × 2 columns</p>\n",
       "</div>"
      ],
      "text/plain": [
       "                     관광명소         시군구\n",
       "0           서울풍물시장전통문화체험관  서울특별시 동대문구\n",
       "1                  양재시민의숲   서울특별시 서초구\n",
       "2                 봉화산(서울)   서울특별시 중랑구\n",
       "3                    파리공원   서울특별시 양천구\n",
       "4     한강시민공원 망원지구(망원한강공원)   서울특별시 마포구\n",
       "...                   ...         ...\n",
       "2492               드라마하우스   울산광역시 울주군\n",
       "2493             회야댐 생태공원   울산광역시 울주군\n",
       "2494              태화강동굴피아    울산광역시 남구\n",
       "2495            국립대운산치유의숲   울산광역시 울주군\n",
       "2496                  함월루    울산광역시 중구\n",
       "\n",
       "[2497 rows x 2 columns]"
      ]
     },
     "execution_count": 5,
     "metadata": {},
     "output_type": "execute_result"
    }
   ],
   "source": [
    "df"
   ]
  },
  {
   "cell_type": "markdown",
   "id": "01a6bf19",
   "metadata": {},
   "source": [
    "# 3. 데이터프레임 저장하기 "
   ]
  },
  {
   "cell_type": "code",
   "execution_count": 56,
   "id": "bda503b1",
   "metadata": {},
   "outputs": [],
   "source": [
    "df.to_csv('전국관광명소.csv')"
   ]
  },
  {
   "cell_type": "markdown",
   "id": "db51d446",
   "metadata": {},
   "source": [
    "---"
   ]
  }
 ],
 "metadata": {
  "kernelspec": {
   "display_name": "Python 3 (ipykernel)",
   "language": "python",
   "name": "python3"
  },
  "language_info": {
   "codemirror_mode": {
    "name": "ipython",
    "version": 3
   },
   "file_extension": ".py",
   "mimetype": "text/x-python",
   "name": "python",
   "nbconvert_exporter": "python",
   "pygments_lexer": "ipython3",
   "version": "3.9.13"
  }
 },
 "nbformat": 4,
 "nbformat_minor": 5
}
